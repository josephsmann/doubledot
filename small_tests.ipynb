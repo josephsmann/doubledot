{
 "cells": [
  {
   "attachments": {},
   "cell_type": "markdown",
   "metadata": {},
   "source": [
    "# Smaller Cleaner Testing Book\n",
    "\n",
    "> lets see how this goes"
   ]
  },
  {
   "cell_type": "code",
   "execution_count": 1,
   "metadata": {
    "vscode": {
     "languageId": "python"
    }
   },
   "outputs": [],
   "source": [
    "#| default_exp dd_test"
   ]
  },
  {
   "attachments": {},
   "cell_type": "markdown",
   "metadata": {},
   "source": [
    "Ideally, all code blocks here should be three lines long, at most."
   ]
  },
  {
   "cell_type": "code",
   "execution_count": 2,
   "metadata": {
    "vscode": {
     "languageId": "python"
    }
   },
   "outputs": [],
   "source": [
    "%load_ext autoreload\n",
    "%autoreload 2"
   ]
  },
  {
   "cell_type": "code",
   "execution_count": 3,
   "metadata": {
    "vscode": {
     "languageId": "python"
    }
   },
   "outputs": [
    {
     "name": "stdout",
     "output_type": "stream",
     "text": [
      "Directory 'atms_download' already exists.\n",
      "File '/Users/josephmann/Documents/Github/doubledot/atms_download/atms_contacts.json' deleted successfully.\n",
      "Writing to file:  /Users/josephmann/Documents/Github/doubledot/atms_download/atms_contacts.json\n",
      "max_offset:  2000\n",
      "offset:  0\n",
      "num rows already loaded:  0\n",
      "num_rows_for_next_batch:  3\n",
      "max remaining rows:  3\n",
      "http://crm-api-telus.atmsplus.com/api/contacts?offset=0&count=3\n"
     ]
    }
   ],
   "source": [
    "#| exporti\n",
    "import doubledot.ATMS_api as atms\n",
    "import doubledot.crema_sf as SF\n",
    "import jmespath as jp\n",
    "import json\n",
    "import pandas as pd\n",
    "from nbdev.showdoc import *"
   ]
  },
  {
   "attachments": {},
   "cell_type": "markdown",
   "metadata": {},
   "source": [
    "## Get ATMS Objects"
   ]
  },
  {
   "cell_type": "code",
   "execution_count": null,
   "metadata": {
    "vscode": {
     "languageId": "python"
    }
   },
   "outputs": [],
   "source": [
    "atms = atms.ATMS_api()"
   ]
  },
  {
   "cell_type": "code",
   "execution_count": null,
   "metadata": {
    "vscode": {
     "languageId": "python"
    }
   },
   "outputs": [
    {
     "name": "stdout",
     "output_type": "stream",
     "text": [
      "Writing to file:  atms_memberships.json\n",
      "max_offset:  60000\n",
      "offset:  59000\n",
      "offset:  59000\n",
      "http://crm-api-telus.atmsplus.com/api/memberships?offset=59000&count=1000\n"
     ]
    }
   ],
   "source": [
    "# get memberships data\n",
    "atms.write_obj_to_file('memberships',initial_offset=59_000, max_offset=60_000)"
   ]
  },
  {
   "cell_type": "code",
   "execution_count": null,
   "metadata": {
    "vscode": {
     "languageId": "python"
    }
   },
   "outputs": [
    {
     "name": "stdout",
     "output_type": "stream",
     "text": [
      "Writing to file:  atms_contacts.json\n",
      "max_offset:  451000\n",
      "offset:  450000\n",
      "offset:  450000\n",
      "http://crm-api-telus.atmsplus.com/api/contacts?offset=450000&count=1000\n"
     ]
    }
   ],
   "source": [
    "atms.write_obj_to_file('contacts', initial_offset=450_000, max_offset=451_000)"
   ]
  },
  {
   "cell_type": "code",
   "execution_count": null,
   "metadata": {
    "vscode": {
     "languageId": "python"
    }
   },
   "outputs": [
    {
     "name": "stdout",
     "output_type": "stream",
     "text": [
      "Writing to file:  atms_items.json\n",
      "max_offset:  2000\n",
      "offset:  0\n",
      "offset:  0\n",
      "http://crm-api-telus.atmsplus.com/api/items?offset=0&count=1000\n",
      "offset:  1000\n",
      "http://crm-api-telus.atmsplus.com/api/items?offset=1000&count=1000\n"
     ]
    }
   ],
   "source": [
    "atms.write_obj_to_file('items')\n"
   ]
  },
  {
   "cell_type": "code",
   "execution_count": null,
   "metadata": {
    "vscode": {
     "languageId": "python"
    }
   },
   "outputs": [],
   "source": [
    "\n",
    "# atms.write_obj_to_file('sales', initial_offset=450_000, max_offset=451_000)"
   ]
  },
  {
   "cell_type": "code",
   "execution_count": null,
   "metadata": {
    "vscode": {
     "languageId": "python"
    }
   },
   "outputs": [
    {
     "name": "stderr",
     "output_type": "stream",
     "text": [
      "/Users/josephmann/anaconda3/envs/vantix/lib/python3.11/site-packages/nbdev/export.py:54: UserWarning: Notebook '/Users/josephmann/Documents/Github/doubledot/small_tests.ipynb' uses `#|export` without `#|default_exp` cell.\n",
      "Note nbdev2 no longer supports nbdev1 syntax. Run `nbdev_migrate` to upgrade.\n",
      "See https://nbdev.fast.ai/getting_started.html for more information.\n",
      "  warn(f\"Notebook '{nbname}' uses `#|export` without `#|default_exp` cell.\\n\"\n"
     ]
    }
   ],
   "source": [
    "#| hide\n",
    "import nbdev; nbdev.nbdev_export()"
   ]
  },
  {
   "cell_type": "code",
   "execution_count": null,
   "metadata": {
    "vscode": {
     "languageId": "python"
    }
   },
   "outputs": [],
   "source": []
  }
 ],
 "metadata": {
  "kernelspec": {
   "display_name": "vantix",
   "language": "python",
   "name": "python3"
  }
 },
 "nbformat": 4,
 "nbformat_minor": 2
}
