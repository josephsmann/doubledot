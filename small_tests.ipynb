{
 "cells": [
  {
   "attachments": {},
   "cell_type": "markdown",
   "metadata": {},
   "source": [
    "# Smaller Cleaner Testing Book\n",
    "\n",
    "> lets see how this goes"
   ]
  },
  {
   "cell_type": "code",
   "execution_count": 62,
   "metadata": {},
   "outputs": [],
   "source": [
    "#| default_exp dd_test"
   ]
  },
  {
   "attachments": {},
   "cell_type": "markdown",
   "metadata": {},
   "source": [
    "Ideally, all code blocks here should be three lines long, at most."
   ]
  },
  {
   "cell_type": "code",
   "execution_count": 63,
   "metadata": {},
   "outputs": [
    {
     "name": "stdout",
     "output_type": "stream",
     "text": [
      "The autoreload extension is already loaded. To reload it, use:\n",
      "  %reload_ext autoreload\n"
     ]
    }
   ],
   "source": [
    "%load_ext autoreload\n",
    "%autoreload 2"
   ]
  },
  {
   "cell_type": "code",
   "execution_count": 64,
   "metadata": {},
   "outputs": [],
   "source": [
    "#| exporti\n",
    "import doubledot.ATMS_api as van\n",
    "import doubledot.crema_sf as SF\n",
    "import jmespath as jp\n",
    "import json\n",
    "import pandas as pd\n",
    "from nbdev.showdoc import *\n",
    "from fastcore.test import test_eq"
   ]
  },
  {
   "attachments": {},
   "cell_type": "markdown",
   "metadata": {},
   "source": [
    "## Get ATMS Objects"
   ]
  },
  {
   "cell_type": "code",
   "execution_count": 65,
   "metadata": {},
   "outputs": [
    {
     "name": "stdout",
     "output_type": "stream",
     "text": [
      "Directory 'atms_download' already exists.\n"
     ]
    }
   ],
   "source": [
    "atms = van.ATMS_api()"
   ]
  },
  {
   "cell_type": "code",
   "execution_count": 77,
   "metadata": {},
   "outputs": [
    {
     "name": "stdout",
     "output_type": "stream",
     "text": [
      "Writing to file:  /Users/josephmann/Documents/Github/doubledot/atms_download/atms_memberships.json\n",
      "offset:  1000\n",
      "num rows already loaded:  0\n",
      "num_rows_for_next_batch:  500\n",
      "max remaining rows:  500\n",
      "http://crm-api-telus.atmsplus.com/api/memberships?offset=1000&count=500\n"
     ]
    }
   ],
   "source": [
    "# get memberships data\n",
    "atms.write_obj_to_file('memberships',initial_offset=1_000, max_rows=500)"
   ]
  },
  {
   "cell_type": "code",
   "execution_count": 78,
   "metadata": {},
   "outputs": [
    {
     "name": "stdout",
     "output_type": "stream",
     "text": [
      "Writing to file:  /Users/josephmann/Documents/Github/doubledot/atms_download/atms_contacts.json\n",
      "offset:  450000\n",
      "num rows already loaded:  0\n",
      "num_rows_for_next_batch:  500\n",
      "max remaining rows:  500\n",
      "http://crm-api-telus.atmsplus.com/api/contacts?offset=450000&count=500\n"
     ]
    }
   ],
   "source": [
    "atms.write_obj_to_file('contacts', initial_offset=450_000, max_rows=500)"
   ]
  },
  {
   "cell_type": "code",
   "execution_count": 79,
   "metadata": {},
   "outputs": [
    {
     "name": "stdout",
     "output_type": "stream",
     "text": [
      "Writing to file:  /Users/josephmann/Documents/Github/doubledot/atms_download/atms_items.json\n",
      "offset:  0\n",
      "num rows already loaded:  0\n",
      "num_rows_for_next_batch:  500\n",
      "max remaining rows:  500\n",
      "http://crm-api-telus.atmsplus.com/api/items?offset=0&count=500\n"
     ]
    }
   ],
   "source": [
    "atms.write_obj_to_file('items', max_rows=500)\n"
   ]
  },
  {
   "cell_type": "code",
   "execution_count": 80,
   "metadata": {},
   "outputs": [],
   "source": [
    "\n",
    "# atms.write_obj_to_file('sales', initial_offset=450_000, max_offset=451_000)"
   ]
  },
  {
   "attachments": {},
   "cell_type": "markdown",
   "metadata": {},
   "source": [
    "## Load ATMS dictionary"
   ]
  },
  {
   "cell_type": "code",
   "execution_count": 81,
   "metadata": {},
   "outputs": [
    {
     "name": "stdout",
     "output_type": "stream",
     "text": [
      "Cleaning file:  /Users/josephmann/Documents/Github/doubledot/atms_download/atms_contacts.json\n",
      "creating file:  /Users/josephmann/Documents/Github/doubledot/atms_download/atms_transformed_contacts.json\n",
      "Finished cleaning atms_contacts.json -> /Users/josephmann/Documents/Github/doubledot/atms_download/atms_transformed_contacts.json\n"
     ]
    }
   ],
   "source": [
    "atms.clean_data_file('contacts')"
   ]
  },
  {
   "cell_type": "code",
   "execution_count": 82,
   "metadata": {},
   "outputs": [
    {
     "name": "stdout",
     "output_type": "stream",
     "text": [
      "Attempting to load:  /Users/josephmann/Documents/Github/doubledot/atms_download/atms_transformed_contacts.json\n"
     ]
    }
   ],
   "source": [
    "\n",
    "atms.load_data_file_to_dict('contacts')"
   ]
  },
  {
   "cell_type": "code",
   "execution_count": 85,
   "metadata": {},
   "outputs": [
    {
     "name": "stdout",
     "output_type": "stream",
     "text": [
      "Attempting to load:  /Users/josephmann/Documents/Github/doubledot/atms_download/atms_transformed_memberships.json\n"
     ]
    }
   ],
   "source": [
    "atms.load_data_file_to_dict('memberships')\n"
   ]
  },
  {
   "cell_type": "code",
   "execution_count": 86,
   "metadata": {},
   "outputs": [
    {
     "name": "stdout",
     "output_type": "stream",
     "text": [
      "['/Users/josephmann/Documents/Github/doubledot/atms_download/atms_contacts.json', '/Users/josephmann/Documents/Github/doubledot/atms_download/atms_transformed_contacts.json']\n",
      "File '/Users/josephmann/Documents/Github/doubledot/atms_download/atms_contacts.json' deleted successfully.\n",
      "File '/Users/josephmann/Documents/Github/doubledot/atms_download/atms_transformed_contacts.json' deleted successfully.\n"
     ]
    }
   ],
   "source": [
    "atms.clean_data_dir('contacts')"
   ]
  },
  {
   "cell_type": "code",
   "execution_count": 84,
   "metadata": {},
   "outputs": [],
   "source": [
    "# atms.clean_data_dir()\n",
    "# test_eq(atms.obj_d.keys(), ['contacts', 'memberships'])"
   ]
  },
  {
   "cell_type": "code",
   "execution_count": 74,
   "metadata": {},
   "outputs": [],
   "source": [
    "#| hide\n",
    "import nbdev; nbdev.nbdev_export()"
   ]
  },
  {
   "cell_type": "code",
   "execution_count": null,
   "metadata": {},
   "outputs": [],
   "source": []
  }
 ],
 "metadata": {
  "kernelspec": {
   "display_name": "vantix",
   "language": "python",
   "name": "python3"
  },
  "language_info": {
   "codemirror_mode": {
    "name": "ipython",
    "version": 3
   },
   "file_extension": ".py",
   "mimetype": "text/x-python",
   "name": "python",
   "nbconvert_exporter": "python",
   "pygments_lexer": "ipython3",
   "version": "3.11.3"
  }
 },
 "nbformat": 4,
 "nbformat_minor": 2
}
