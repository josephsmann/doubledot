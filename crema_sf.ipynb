{
 "cells": [
  {
   "attachments": {},
   "cell_type": "markdown",
   "metadata": {},
   "source": [
    "# doubledot.Salesforce\n",
    "> Salesforce class for transfering data from Vantix to Salesforce"
   ]
  },
  {
   "cell_type": "code",
   "execution_count": null,
   "metadata": {},
   "outputs": [],
   "source": [
    "#| default_exp crema_sf"
   ]
  },
  {
   "cell_type": "code",
   "execution_count": null,
   "metadata": {},
   "outputs": [
    {
     "name": "stdout",
     "output_type": "stream",
     "text": [
      "The autoreload extension is already loaded. To reload it, use:\n",
      "  %reload_ext autoreload\n"
     ]
    }
   ],
   "source": [
    "%load_ext autoreload\n",
    "%autoreload 2"
   ]
  },
  {
   "cell_type": "code",
   "execution_count": null,
   "metadata": {},
   "outputs": [],
   "source": [
    "#| exporti \n",
    "from nbdev.showdoc import *\n",
    "import requests\n",
    "import json\n",
    "import jmespath as jp\n",
    "import re\n",
    "from time import sleep\n",
    "from fastcore.basics import patch\n",
    "import fileinput\n",
    "import pandas as pd\n",
    "import os\n",
    "from doubledot import ATMS_api"
   ]
  },
  {
   "cell_type": "code",
   "execution_count": null,
   "metadata": {},
   "outputs": [
    {
     "data": {
      "text/markdown": [
       "---\n",
       "\n",
       "[source](https://github.com/josephsmann/doubledot/blob/master/doubledot/crema_sf.py#L63){target=\"_blank\" style=\"float:right; font-size:smaller\"}\n",
       "\n",
       "### Salesforce.sf_access_token\n",
       "\n",
       ">      Salesforce.sf_access_token ()\n",
       "\n",
       "a @property\n",
       "retrieve token for Salesforce - verifies that token is still valid and attempts to get a new one from Salesforce site if not"
      ],
      "text/plain": [
       "---\n",
       "\n",
       "[source](https://github.com/josephsmann/doubledot/blob/master/doubledot/crema_sf.py#L63){target=\"_blank\" style=\"float:right; font-size:smaller\"}\n",
       "\n",
       "### Salesforce.sf_access_token\n",
       "\n",
       ">      Salesforce.sf_access_token ()\n",
       "\n",
       "a @property\n",
       "retrieve token for Salesforce - verifies that token is still valid and attempts to get a new one from Salesforce site if not"
      ]
     },
     "execution_count": null,
     "metadata": {},
     "output_type": "execute_result"
    }
   ],
   "source": [
    "#| export\n",
    "## Module for Salesforce API\n",
    "\n",
    "class Salesforce:\n",
    "    \"\"\"Class for Salesforce API\"\"\"\n",
    "    class_download_dir = os.path.join(os.getcwd(),'sf_download')\n",
    "\n",
    "    def __init__(self):\n",
    "        # set up access token \n",
    "        self._sf_access_token = self.get_token_with_REST()\n",
    "        self.bulk_job_id = None\n",
    "        self.atms = None\n",
    "\n",
    "        # create unique download directory per instance\n",
    "        if not os.path.exists(Salesforce.class_download_dir):\n",
    "            os.makedirs(Salesforce.class_download_dir)\n",
    "            print(f\"Directory 'atms_download' created successfully.\")\n",
    "        else:\n",
    "            print(f\"Directory 'atms_download' already exists.\")\n",
    "\n",
    "    def get_token_with_REST(self ):\n",
    "        \"\"\"retieve the access token from Salesforce\n",
    "\n",
    "        Returns:\n",
    "            string: the access token \n",
    "        \"\"\"\n",
    "        with open('secrets.json') as f:\n",
    "            secrets = json.load(f)\n",
    "        \n",
    "        DOMAIN = secrets['instance']\n",
    "        payload = {\n",
    "            'grant_type': 'password',\n",
    "            'client_id': secrets['client_id'],\n",
    "            'client_secret': secrets['client_secret'],\n",
    "            'username': secrets['username'],\n",
    "            'password': secrets['password'] + secrets['security_token']\n",
    "        }\n",
    "        oauth_url = f'{DOMAIN}/services/oauth2/token'\n",
    "\n",
    "        auth_response = requests.post(oauth_url, data=payload)\n",
    "        return auth_response.json().get('access_token') ######## <<<<<<<<<<<<<<<< .       \n",
    "\n",
    "\n",
    "    @property\n",
    "    def sf_access_token(\n",
    "        self \n",
    "     ) -> str : #the access toke\n",
    "        \"\"\"a @property\n",
    "        retrieve token for Salesforce - verifies that token is still valid and attempts to get a new one from Salesforce site if not\n",
    "        \"\"\"\n",
    "        if not(self.test_token()):\n",
    "            self._sf_access_token = self.get_token_with_REST()\n",
    "            # check to see if getting token worked\n",
    "            assert (self.sf_access_token), \"Fetching new token didn't fix problem\"\n",
    "        return self._sf_access_token\n",
    "    \n",
    "    @staticmethod\n",
    "    def list_files():\n",
    "        return os.listdir(Salesforce.class_download_dir)\n",
    "\n",
    "show_doc(Salesforce.sf_access_token)\n",
    "   "
   ]
  },
  {
   "cell_type": "code",
   "execution_count": null,
   "metadata": {},
   "outputs": [],
   "source": [
    "#| export\n",
    "@patch\n",
    "def get_token_with_REST(self: Salesforce):\n",
    "    \"\"\"retieve the access token from Salesforce\n",
    "\n",
    "    Returns:\n",
    "        string: the access token \n",
    "    \"\"\"\n",
    "    with open('secrets.json') as f:\n",
    "        secrets = json.load(f)\n",
    "    \n",
    "    DOMAIN = secrets['instance']\n",
    "    payload = {\n",
    "        'grant_type': 'password',\n",
    "        'client_id': secrets['client_id'],\n",
    "        'client_secret': secrets['client_secret'],\n",
    "        'username': secrets['username'],\n",
    "        'password': secrets['password'] + secrets['security_token']\n",
    "    }\n",
    "    oauth_url = f'{DOMAIN}/services/oauth2/token'\n",
    "\n",
    "    auth_response = requests.post(oauth_url, data=payload)\n",
    "    return auth_response.json().get('access_token') ######## <<<<<<<<<<<<<<<< .       \n",
    "\n"
   ]
  },
  {
   "cell_type": "code",
   "execution_count": null,
   "metadata": {},
   "outputs": [],
   "source": [
    "#| export\n",
    "@patch\n",
    "def test_token(self: Salesforce):\n",
    "    \"\"\"Verify that token is still valid. If it isn't, it attempts to get a new one.\n",
    "\n",
    "    Returns:\n",
    "        boolean: true if token is valid, false otherwise\n",
    "    \"\"\"\n",
    "    sf_headers = { 'Authorization': f\"Bearer {self._sf_access_token}\", 'Content-Type': 'application/json' }\n",
    "    end_point =\"https://cremaconsulting-dev-ed.develop.my.salesforce.com\"\n",
    "    service = \"/services/data/v57.0/\"\n",
    "    r = requests.request(\"GET\", end_point+service+f\"limits\", headers=sf_headers, data={})\n",
    "    valid_token = r.status_code == 200\n",
    "    if not(valid_token): print(r.status_code, type(r.status_code))\n",
    "    return valid_token\n",
    "    \n"
   ]
  },
  {
   "cell_type": "code",
   "execution_count": null,
   "metadata": {},
   "outputs": [],
   "source": [
    "#| export\n",
    "@patch\n",
    "def create_job(self: Salesforce, \n",
    "                sf_object: str ='Contact', # the Salesforce object were going to operate on. \n",
    "                operation: str ='insert', # the database operation to use. Can be \"insert\",\"upsert\" or \"delete\"\n",
    "                external_id: str = 'External_Id__c' # when using \"upsert\", this field is used to identify the record\n",
    "                )-> requests.Response :\n",
    "    \"\"\"Get job_id from Salesforce Bulk API\n",
    "\n",
    "    \"\"\"\n",
    "    # Args: \n",
    "    #     sf_object (str, optional): the Salesforce object were going to operate on. Defaults to 'Contact'.\n",
    "    #     operation (str, optional): ∆. Defaults to 'insert'.\n",
    "    #     external_id (str, optional): the external id field for upsert operations. Defaults to 'External_Id__c'.\n",
    "    #     sf_object (str, optional): the Salesforce object were going to operate on. Defaults to 'Contact'.\n",
    "    #     operation (str, optional): the operation that will be used against the object. Defaults to 'insert'.\n",
    "    #     external_id (str, optional): the external id field for upsert operations. Defaults to 'External_Id__c'.\n",
    "    #     contentType (str, optional): the content type of the file. Defaults to 'CSV', 'JSON' also accepted.\n",
    "    # Returns: \n",
    "    #     response: a response object containg the job_id. For more information on the response object see https://www.w3schools.com/python/ref_requests_response.asp\n",
    "    #     a response object see https://www.w3schools.com/python/ref_requests_response.asp\n",
    "        \n",
    "    # Salesforce API docs: https://developer.salesforce.com/docs/atlas.en-us.api_asynch.meta/api_asynch/create_job.htm    \n",
    "    print(f\"Creating job for {sf_object} with operation {operation}\") \n",
    "    url = \"https://cremaconsulting-dev-ed.develop.my.salesforce.com/services/data/v57.0/jobs/ingest\"\n",
    "\n",
    "    # https://developer.salesforce.com/docs/atlas.en-us.api_asynch.meta/api_asynch/datafiles_prepare_csv.htm\n",
    "    ## we can set columnDelimiter to `,^,|,;,<tab>, and the default <comma>\n",
    "    # sets the object to Contact, the content type to CSV, and the operation to insert\n",
    "    payload_d = {\n",
    "        \"object\": sf_object,\n",
    "        \"contentType\": \"CSV\",\n",
    "        # set columnDelimiter to TAB instead of comma for ease of dealing with commas in address fields\n",
    "        #https://developer.salesforce.com/docs/atlas.en-us.api_asynch.meta/api_asynch/create_job.htm\n",
    "        \"columnDelimiter\": \"TAB\", \n",
    "        \"operation\": operation\n",
    "    }\n",
    "    \n",
    "    # as per https://developer.salesforce.com/docs/atlas.en-us.api_asynch.meta/api_asynch/walkthrough_upsert.htm\n",
    "    if operation=='upsert':\n",
    "        payload_d['externalIdFieldName']=external_id\n",
    "    print(operation, payload_d)        \n",
    "    payload = json.dumps(payload_d)\n",
    "    \n",
    "    headers = {\n",
    "    'Content-Type': 'application/json',\n",
    "    'Authorization': f'Bearer {self.sf_access_token}'\n",
    "    }\n",
    "\n",
    "    response = requests.request(\"POST\", url, headers=headers, data=payload)\n",
    "    print(response.text)\n",
    "    self.bulk_job_id = response.json()['id']\n",
    "    return response \n"
   ]
  },
  {
   "cell_type": "code",
   "execution_count": null,
   "metadata": {},
   "outputs": [],
   "source": [
    "#| export\n",
    "@patch\n",
    "def upload_csv(self : Salesforce, \n",
    "                obj_s: str = \"\", # Salesforce object to upload \n",
    "                num_rows: int = 100, # the number of rows to upload \n",
    "                ) -> requests.Response:\n",
    "    \"\"\"Using the job_id from the previous step, upload the csv file to the job\n",
    "\n",
    "    Args:\n",
    "        file (filepointer): file pointer to the csv filek\n",
    "    \"\"\"\n",
    "    # if not(file):\n",
    "    #     # throw error\n",
    "    #     assert False, \"File not found\"\n",
    "\n",
    "    print(f\"Uploading {num_rows if num_rows else 'all'} rows to job {self.bulk_job_id} of object {obj_s}\")\n",
    "\n",
    "    if len(obj_s)==0: # no object provided\n",
    "        assert False, \"obj_s must not be empty\"\n",
    "    # if not(self.atms):\n",
    "    #     # throw error\n",
    "    #     assert False, \"Salesforce.atms must be assigned\"\n",
    "    \n",
    "            \n",
    "    # file_path_s = os.path.join(self.atms.download_dir , f\"atms_transformed_{obj_s}.csv\")\n",
    "    file_path_s = os.path.join(Salesforce.class_download_dir , f\"{obj_s}.csv\")\n",
    "\n",
    "    url = f\"https://cremaconsulting-dev-ed.develop.my.salesforce.com/services/data/v57.0/jobs/ingest/{self.bulk_job_id}/batches\"\n",
    "\n",
    "    # replace all occurrences of '\\2019' with \\'\n",
    "    # we may have done this in ATMS already, but just in case\n",
    "    try:\n",
    "        for line in fileinput.input(files=file_path_s, inplace=True):\n",
    "            line = line.replace('\\u2019', \"'\")\n",
    "            print(line, end='')\n",
    "\n",
    "        # _df : pd.Dataframe = pd.read_csv(file_path_s, sep='\\t')\n",
    "        \n",
    "        # if num_rows == 0:\n",
    "        #     num_rows = len(_df)\n",
    "        # else:\n",
    "        #     num_rows = min(num_rows, len(_df))\n",
    "        # payload : dict = _df[- num_rows:].to_dict()\n",
    "        with open(file_path_s,'r') as payload:\n",
    "            headers = {\n",
    "            'Content-Type': 'text/csv',\n",
    "            'Authorization': f'Bearer {self.sf_access_token}'\n",
    "            }\n",
    "            response = requests.request(\"PUT\", url, headers=headers, data=payload)\n",
    "    except FileNotFoundError:\n",
    "        print(\"File not found error in Saleforce.upload_csv: \", file_path_s)\n",
    "        return None\n",
    "    \n",
    "    return response\n",
    "   "
   ]
  },
  {
   "cell_type": "code",
   "execution_count": null,
   "metadata": {},
   "outputs": [],
   "source": [
    "#| export \n",
    "@patch\n",
    "def close_job(self: Salesforce):\n",
    "    # close the job (from Postman)\n",
    "    url = f\"https://cremaconsulting-dev-ed.develop.my.salesforce.com/services/data/v57.0/jobs/ingest/{self.bulk_job_id}\"\n",
    "\n",
    "    payload = json.dumps({\n",
    "        \"state\": \"UploadComplete\"\n",
    "    })\n",
    "    headers = {\n",
    "    'Content-Type': 'application/json',\n",
    "    'Authorization': f'Bearer {self.sf_access_token}'\n",
    "    }\n",
    "\n",
    "    response = requests.request(\"PATCH\", url, headers=headers, data=payload)\n",
    "\n",
    "    print(response.text)\n",
    "    return response.json()\n",
    "     "
   ]
  },
  {
   "cell_type": "code",
   "execution_count": null,
   "metadata": {},
   "outputs": [],
   "source": [
    "#| export       \n",
    "# get job status (from Postman)\n",
    "@patch\n",
    "def job_status(self: Salesforce):\n",
    "    url = f\"https://cremaconsulting-dev-ed.develop.my.salesforce.com/services/data/v57.0/jobs/ingest/{self.bulk_job_id}\"\n",
    "\n",
    "    payload = {}\n",
    "    headers = {\n",
    "    'Authorization': f'Bearer {self.sf_access_token}'\n",
    "    }\n",
    "    response = requests.request(\"GET\", url, headers=headers, data=payload)\n",
    "    return response.json()\n",
    "\n"
   ]
  },
  {
   "cell_type": "code",
   "execution_count": null,
   "metadata": {},
   "outputs": [],
   "source": [
    "#| export\n",
    "@patch\n",
    "def successful_results(self : Salesforce):\n",
    "    url = f\"https://cremaconsulting-dev-ed.develop.my.salesforce.com/services/data/v57.0/jobs/ingest/{self.bulk_job_id}/successfulResults\"\n",
    "\n",
    "    payload = {}\n",
    "    headers = {\n",
    "        'Authorization': f'Bearer {self.sf_access_token}'\n",
    "    }\n",
    "\n",
    "    response = requests.request(\"GET\", url, headers=headers, data=payload)\n",
    "    \n",
    "    return response\n"
   ]
  },
  {
   "cell_type": "code",
   "execution_count": null,
   "metadata": {},
   "outputs": [],
   "source": [
    "#| export\n",
    "@patch\n",
    "def failed_results(self: Salesforce):\n",
    "    url = f\"https://cremaconsulting-dev-ed.develop.my.salesforce.com/services/data/v57.0/jobs/ingest/{self.bulk_job_id}/failedResults\"\n",
    "\n",
    "    payload = {}\n",
    "    headers = {\n",
    "        'Authorization': f'Bearer {self.sf_access_token}'\n",
    "    }\n",
    "\n",
    "    response = requests.request(\"GET\", url, headers=headers, data=payload)\n",
    "\n",
    "    # \n",
    "    return response\n"
   ]
  },
  {
   "cell_type": "code",
   "execution_count": null,
   "metadata": {},
   "outputs": [],
   "source": [
    "#| export\n",
    "@patch\n",
    "def get_sf_object_ids(self: Salesforce, \n",
    "                      object: str = 'Contact' # REST endpoint for data object\n",
    "                      ):\n",
    "    \"\"\"Get Safesforce IDs for a the specified object\n",
    "\n",
    "    \"\"\"\n",
    "    print(f\"Retrieving Object Ids for {object} from Salesforce\")\n",
    "    sf_headers = { 'Authorization': f\"Bearer {self.sf_access_token}\", 'Content-Type': 'application/json' }\n",
    "    end_point =\"https://cremaconsulting-dev-ed.develop.my.salesforce.com\"\n",
    "    service = \"/services/data/v57.0/\"\n",
    "    r = requests.request(\"GET\", end_point+service+f\"query/?q=SELECT+Id+FROM+{object}\", headers=sf_headers, data={})\n",
    "    assert isinstance(r.json(), dict), f\"response: {r.json()}, header: {sf_headers}\"\n",
    "    object_ids = [d.get('Id') for d in r.json()['records']]\n",
    "    while r.json()['done'] == False:\n",
    "        new_url = end_point+r.json()['nextRecordsUrl']\n",
    "        print(new_url)\n",
    "        r = requests.request(\"GET\", new_url, headers=sf_headers, data={})\n",
    "        print((r.json()))\n",
    "        fresh_object_ids = [d.get('Id') for d in r.json()['records']]\n",
    "        print(len(fresh_object_ids))   \n",
    "        object_ids+=fresh_object_ids\n",
    "        \n",
    "    print('total number of objects = ',len(object_ids))\n",
    "    return object_ids\n"
   ]
  },
  {
   "cell_type": "code",
   "execution_count": null,
   "metadata": {},
   "outputs": [],
   "source": [
    "#| export\n",
    "@patch\n",
    "def delete_sf_objects(self: Salesforce, \n",
    "                      obj_s: str = 'Contact'\n",
    "                      ):\n",
    "    \"\"\"Delete Salesforce objects\"\"\"\n",
    "    object_ids = self.get_sf_object_ids(obj_s)\n",
    "    file_path_s = os.path.join(Salesforce.class_download_dir , f\"{obj_s}.csv\")\n",
    "    print(f\"In Salesforce.delete_sf_objects: Deleting {len(object_ids)} {obj_s} objects using {file_path_s}\")\n",
    "    with open(file_path_s, 'w') as f:\n",
    "        f.write('Id\\n')\n",
    "        for id in object_ids:\n",
    "            f.write(id+'\\n')\n",
    "    self.create_job( obj_s, 'delete')\n",
    "    self.upload_csv(obj_s, num_rows=0) # upload all rows\n",
    "    sleep(2)\n",
    "    self.close_job()\n",
    "    sleep(10)\n",
    "    self.successful_results()\n",
    "        \n"
   ]
  },
  {
   "cell_type": "code",
   "execution_count": null,
   "metadata": {},
   "outputs": [],
   "source": [
    "#| export\n",
    "@patch\n",
    "def test_sf_object_load_and_delete(self: Salesforce, \n",
    "        sf_object_s : str = None, # Salesforce API endpoint\n",
    "        input_file_s: str = None, # local file name\n",
    "        remove_sf_objs: bool = False # remove the data just added to Salesforce\n",
    "        ):\n",
    "    \"\"\"Test loading a Salesforce object with data from a local file\"\"\"\n",
    "    assert sf_object_s\n",
    "    assert input_file_s\n",
    "\n",
    "    # sf.create_job('MembershipMembers__c', contentType='CSV')\n",
    "    self.create_job(sf_object_s, contentType='CSV')\n",
    "    print(\"Salesforce job id: \", self.bulk_job_id)\n",
    "\n",
    "    #replace \n",
    "    # culprit is \\u2019 - it cannot be encoded in latin-1 codec\n",
    "    self.upload_csv(input_file_s)\n",
    "    \n",
    "        \n",
    "\n",
    "    self.close_job()\n",
    "    self.failed_results()\n",
    "    self.successful_results()\n",
    "    self.job_status()\n",
    "\n",
    "    if remove_sf_objs:\n",
    "        self.delete_sf_objects('membershipTerm__c')"
   ]
  },
  {
   "cell_type": "code",
   "execution_count": null,
   "metadata": {},
   "outputs": [],
   "source": [
    "#| export\n",
    "\n",
    "\n",
    "mem_s = \"[].{membershipId__c: membershipId, \\\n",
    "    memberSince__c: memberSince, \\\n",
    "    updateDate__c: updateDate}\"\n",
    "\n",
    "memTerm_s = \"[:50].membershipTerms[].{membershipTermId__c: membershipTermId,\\\n",
    "membershipKey__r_1_membershipId__c:membershipKey,\\\n",
    "effectiveDate__c:effectiveDate,\\\n",
    "expiryDate__c:expiryDate,\\\n",
    "membershipType__c:membershipType,\\\n",
    "upgradeFromTermKey__c:upgradeFromTermKey,\\\n",
    "giftMembership__c:giftMembership,\\\n",
    "refunded__c:refunded,\\\n",
    "saleDetailKey__c:saleDetailKey,\\\n",
    "itemKey__c:itemKey}\"\n",
    "\n",
    "memMembers_s = \"[].membershipTerms[].membershipMembers[].{membershipMemberId__c:membershipMemberId,\\\n",
    "membershipTermKey__r_1_membershipTermId__c:membershipTermKey,\\\n",
    "cardNumber__c:cardNumber,\\\n",
    "membershipNumber__c:membershipNumber,\\\n",
    "cardStatus__c:cardStatus,\\\n",
    "contactKey__c:contactKey,\\\n",
    "displayName__c:displayName}\"\n",
    "\n",
    "@patch\n",
    "def process_memberships(self: Salesforce ):\n",
    "    \"\"\"Unpack memberships data from atms object and write to membership, membership_terms, and membership_members csv files.\"\"\"\n",
    "\n",
    "    mem_d = { 'memberships': {'fname':'Membership__c.csv', 'jmespath': mem_s},\n",
    "               'membership_terms': {'fname':'MembershipTerm.csv','jmespath': memTerm_s},\n",
    "               'membership_members': {'fname': 'MembershipMember.csv', 'jmespath': memMembers_s}\n",
    "                }\n",
    "            \n",
    "\n",
    "    if not ('memberships' in self.atms.obj_d):\n",
    "        self.atms.load_data_file_to_dict('memberships')\n",
    "        assert 'memberships' in self.atms.obj_d, f\"memberships not in atms.obj_d {self.atms.obj_d.keys()}\"\n",
    "    \n",
    "    atms_d = self.atms.obj_d['memberships']\n",
    "\n",
    "    for key, v_pair in mem_d.items():\n",
    "        file_path_s = os.path.join(Salesforce.class_download_dir, v_pair['fname'])\n",
    "        dict_l = jp.search(v_pair['jmespath'], atms_d)\n",
    "        with open(file_path_s, 'w') as f:\n",
    "            # hack to create header with a dot in it, jmespath won't do it\n",
    "            f.write('\\t'.join([s.replace('_1_','.') for s in dict_l[0].keys()]) + '\\n') # header\n",
    "            for d in dict_l:\n",
    "                #changed this to not write None for empty values, eg \"\" for null and false (a default value)\n",
    "                f.write('\\t'.join([str(v) if v else \"\" for v in d.values()]) + '\\n')\n",
    "    "
   ]
  },
  {
   "cell_type": "code",
   "execution_count": null,
   "metadata": {},
   "outputs": [],
   "source": [
    "#| export\n",
    "search_s = \"[].{LastName: organizationName,\\\n",
    "    MailingPostalCode: addresses[0].postalZipCode,\\\n",
    "    MailingCity: addresses[0].city,\\\n",
    "    MailingStreet: addresses[0].line1, \\\n",
    "    MailingCountry: addresses[0].country, \\\n",
    "    Phone: phones[?phoneType == 'Business'].phoneNumber | [0],\\\n",
    "    Email: emails[0].address[0],\\\n",
    "    External_Id__c: contactId}\"\n",
    "\n",
    "import re\n",
    "\n",
    "def escape_quotes(text):\n",
    "    # Escape single quotes\n",
    "    # text = re.sub(r\"\\'\", r\"\\\\'\", text)\n",
    "    text = re.sub(r\"\\'\", r\"_\", text)\n",
    "    # Escape double quotes\n",
    "    text = re.sub(r'\\\"', r'_', text)\n",
    "    # text = re.sub(r',', r'*', text) ## shouldn't be necessary with tab delimiter\n",
    "    # text = re.sub(r'\\\"', r'\\\\\"', text)\n",
    "    return text.strip()\n",
    "\n",
    "@patch\n",
    "def process_contacts(self: Salesforce ):\n",
    "    \"\"\" unpack contacts data from atms object and write to contacts csv file.\"\"\"\n",
    "    if not ('contacts' in self.atms.obj_d):\n",
    "        self.atms.load_data_file_to_dict('contacts')\n",
    "        assert 'contacts' in self.atms.obj_d, f\"contacts not in atms.obj_d {self.atms.obj_d.keys()}\"\n",
    "    \n",
    "    file_path_s = os.path.join(Salesforce.class_download_dir, 'Contact.csv')\n",
    "    dict_l = jp.search(search_s, self.atms.obj_d['contacts'])\n",
    "\n",
    "    columnDelimiter = '\\t'\n",
    "    with open(file_path_s, 'w') as f:\n",
    "        header = columnDelimiter.join(dict_l[0].keys())\n",
    "        f.write(header+'\\n')\n",
    "        for item in dict_l:\n",
    "            l = [escape_quotes(str(v)) if v else \" \" for v in item.values()]\n",
    "            f.write(columnDelimiter.join(l)+'\\n')"
   ]
  },
  {
   "cell_type": "code",
   "execution_count": null,
   "metadata": {},
   "outputs": [
    {
     "name": "stdout",
     "output_type": "stream",
     "text": [
      "Directory 'atms_download' already exists.\n"
     ]
    },
    {
     "data": {
      "text/plain": [
       "'00D8Y000001RMKv!AQwAQMO5wbpk2GWBzavd6yTB6IPfp7woqoTC45gd8SCjLXmQOku1WctiO3z3OQ7Z68_tmrYiAwk6PywIi70DfscCwCSyro.L'"
      ]
     },
     "execution_count": null,
     "metadata": {},
     "output_type": "execute_result"
    }
   ],
   "source": [
    "sf = Salesforce()\n",
    "sf._sf_access_token"
   ]
  },
  {
   "cell_type": "code",
   "execution_count": null,
   "metadata": {},
   "outputs": [
    {
     "name": "stdout",
     "output_type": "stream",
     "text": [
      "Directory 'atms_download' already exists.\n",
      "my id is w3st4dl6\n",
      "download dir is:  /Users/josephmann/Documents/Github/doubledot/atms_download/w3st4dl6\n",
      "resp_d = self.get_telus_data(memberships,offset=0, count= 1000, since_date=)\n",
      "resp_d = self.get_telus_data(memberships,offset=1000, count= 1000, since_date=)\n",
      "cleaning_data_file - download dir is:  /Users/josephmann/Documents/Github/doubledot/atms_download/w3st4dl6\n",
      "creating file:  /Users/josephmann/Documents/Github/doubledot/atms_download/w3st4dl6/atms_transformed_memberships.json\n",
      "Finished cleaning atms_memberships.json -> /Users/josephmann/Documents/Github/doubledot/atms_download/w3st4dl6/atms_transformed_memberships.json\n",
      "ATMS_api - Attempting to load:  /Users/josephmann/Documents/Github/doubledot/atms_download/w3st4dl6/atms_transformed_memberships.json  into dict\n"
     ]
    }
   ],
   "source": [
    "atms = ATMS_api()\n",
    "sf.atms = atms\n",
    "atms.retrieve_and_clean('memberships')"
   ]
  },
  {
   "cell_type": "code",
   "execution_count": null,
   "metadata": {},
   "outputs": [],
   "source": [
    "#| export\n",
    "a = 3"
   ]
  },
  {
   "cell_type": "code",
   "execution_count": null,
   "metadata": {},
   "outputs": [
    {
     "name": "stdout",
     "output_type": "stream",
     "text": [
      "download dir is:  /Users/josephmann/Documents/Github/doubledot/atms_download/w3st4dl6\n",
      "resp_d = self.get_telus_data(contacts,offset=0, count= 5, since_date=)\n",
      "cleaning_data_file - download dir is:  /Users/josephmann/Documents/Github/doubledot/atms_download/w3st4dl6\n",
      "creating file:  /Users/josephmann/Documents/Github/doubledot/atms_download/w3st4dl6/atms_transformed_contacts.json\n",
      "Finished cleaning atms_contacts.json -> /Users/josephmann/Documents/Github/doubledot/atms_download/w3st4dl6/atms_transformed_contacts.json\n",
      "ATMS_api - Attempting to load:  /Users/josephmann/Documents/Github/doubledot/atms_download/w3st4dl6/atms_transformed_contacts.json  into dict\n"
     ]
    },
    {
     "data": {
      "text/html": [
       "<div>\n",
       "<style scoped>\n",
       "    .dataframe tbody tr th:only-of-type {\n",
       "        vertical-align: middle;\n",
       "    }\n",
       "\n",
       "    .dataframe tbody tr th {\n",
       "        vertical-align: top;\n",
       "    }\n",
       "\n",
       "    .dataframe thead th {\n",
       "        text-align: right;\n",
       "    }\n",
       "</style>\n",
       "<table border=\"1\" class=\"dataframe\">\n",
       "  <thead>\n",
       "    <tr style=\"text-align: right;\">\n",
       "      <th></th>\n",
       "      <th>LastName</th>\n",
       "      <th>MailingPostalCode</th>\n",
       "      <th>MailingCity</th>\n",
       "      <th>MailingStreet</th>\n",
       "      <th>MailingCountry</th>\n",
       "      <th>Phone</th>\n",
       "      <th>Email</th>\n",
       "      <th>External_Id__c</th>\n",
       "    </tr>\n",
       "  </thead>\n",
       "  <tbody>\n",
       "    <tr>\n",
       "      <th>0</th>\n",
       "      <td>J E Lapointe School</td>\n",
       "      <td>T4X 1K2</td>\n",
       "      <td>Beaumont</td>\n",
       "      <td>4801 55 Avenue</td>\n",
       "      <td>Canada</td>\n",
       "      <td>7809295988</td>\n",
       "      <td>pam.jenkins@blackgold.ca</td>\n",
       "      <td>83</td>\n",
       "    </tr>\n",
       "    <tr>\n",
       "      <th>1</th>\n",
       "      <td>New Humble Centre School</td>\n",
       "      <td>T0C 0V0</td>\n",
       "      <td>Calmar</td>\n",
       "      <td>PO Box 780</td>\n",
       "      <td></td>\n",
       "      <td>7809853211</td>\n",
       "      <td></td>\n",
       "      <td>84</td>\n",
       "    </tr>\n",
       "    <tr>\n",
       "      <th>2</th>\n",
       "      <td>New Sarepta Community High School</td>\n",
       "      <td>T0B 3M0</td>\n",
       "      <td>New Sarepta</td>\n",
       "      <td>PO Box 10</td>\n",
       "      <td>Canada</td>\n",
       "      <td>7809413924</td>\n",
       "      <td></td>\n",
       "      <td>85</td>\n",
       "    </tr>\n",
       "    <tr>\n",
       "      <th>3</th>\n",
       "      <td>New Sarepta Elementary School</td>\n",
       "      <td>T0B 3M0</td>\n",
       "      <td>New Sarepta</td>\n",
       "      <td>5051-2 Street S</td>\n",
       "      <td>Canada</td>\n",
       "      <td>7809413927</td>\n",
       "      <td>tobey.morris@gshare.blackgold.ca</td>\n",
       "      <td>86</td>\n",
       "    </tr>\n",
       "    <tr>\n",
       "      <th>4</th>\n",
       "      <td>Thorsby Elementary School</td>\n",
       "      <td>T0C 2P0</td>\n",
       "      <td>Thorsby</td>\n",
       "      <td>PO Box 240</td>\n",
       "      <td>Canada</td>\n",
       "      <td>7807893776</td>\n",
       "      <td>Raylene.jubinville@blackgold.ca</td>\n",
       "      <td>87</td>\n",
       "    </tr>\n",
       "  </tbody>\n",
       "</table>\n",
       "</div>"
      ],
      "text/plain": [
       "                            LastName MailingPostalCode  MailingCity   \n",
       "0                J E Lapointe School           T4X 1K2     Beaumont  \\\n",
       "1           New Humble Centre School           T0C 0V0       Calmar   \n",
       "2  New Sarepta Community High School           T0B 3M0  New Sarepta   \n",
       "3      New Sarepta Elementary School           T0B 3M0  New Sarepta   \n",
       "4          Thorsby Elementary School           T0C 2P0      Thorsby   \n",
       "\n",
       "     MailingStreet MailingCountry       Phone   \n",
       "0   4801 55 Avenue         Canada  7809295988  \\\n",
       "1       PO Box 780                 7809853211   \n",
       "2        PO Box 10         Canada  7809413924   \n",
       "3  5051-2 Street S         Canada  7809413927   \n",
       "4       PO Box 240         Canada  7807893776   \n",
       "\n",
       "                              Email  External_Id__c  \n",
       "0          pam.jenkins@blackgold.ca              83  \n",
       "1                                                84  \n",
       "2                                                85  \n",
       "3  tobey.morris@gshare.blackgold.ca              86  \n",
       "4   Raylene.jubinville@blackgold.ca              87  "
      ]
     },
     "metadata": {},
     "output_type": "display_data"
    },
    {
     "name": "stdout",
     "output_type": "stream",
     "text": [
      "Creating job for Contact with operation insert\n",
      "insert {'object': 'Contact', 'contentType': 'CSV', 'columnDelimiter': 'TAB', 'operation': 'insert'}\n",
      "{\"id\":\"7508Y00000mVFuhQAG\",\"operation\":\"insert\",\"object\":\"Contact\",\"createdById\":\"0058Y00000CIEn9QAH\",\"createdDate\":\"2023-05-10T06:28:28.000+0000\",\"systemModstamp\":\"2023-05-10T06:28:28.000+0000\",\"state\":\"Open\",\"concurrencyMode\":\"Parallel\",\"contentType\":\"CSV\",\"apiVersion\":57.0,\"contentUrl\":\"services/data/v57.0/jobs/ingest/7508Y00000mVFuhQAG/batches\",\"lineEnding\":\"LF\",\"columnDelimiter\":\"TAB\"}\n"
     ]
    },
    {
     "data": {
      "text/plain": [
       "<Response [200]>"
      ]
     },
     "execution_count": null,
     "metadata": {},
     "output_type": "execute_result"
    }
   ],
   "source": [
    "atms.retrieve_and_clean('contacts', max_rows=5 )\n",
    "sf.process_contacts()\n",
    "display( pd.read_csv('sf_download/contacts.csv', sep='\\t') )\n",
    "sf.create_job(sf_object='Contact', operation='insert')\n"
   ]
  },
  {
   "cell_type": "code",
   "execution_count": null,
   "metadata": {},
   "outputs": [
    {
     "name": "stdout",
     "output_type": "stream",
     "text": [
      "LastName\tMailingPostalCode\tMailingCity\tMailingStreet\tMailingCountry\tPhone\tEmail\tExternal_Id__c\n",
      "J E Lapointe School\tT4X 1K2\tBeaumont\t4801 55 Avenue\tCanada\t7809295988\tpam.jenkins@blackgold.ca\t83\n",
      "New Humble Centre School\tT0C 0V0\tCalmar\tPO Box 780\t \t7809853211\t \t84\n",
      "New Sarepta Community High School\tT0B 3M0\tNew Sarepta\tPO Box 10\tCanada\t7809413924\t \t85\n",
      "New Sarepta Elementary School\tT0B 3M0\tNew Sarepta\t5051-2 Street S\tCanada\t7809413927\ttobey.morris@gshare.blackgold.ca\t86\n",
      "Thorsby Elementary School\tT0C 2P0\tThorsby\tPO Box 240\tCanada\t7807893776\tRaylene.jubinville@blackgold.ca\t87\n"
     ]
    }
   ],
   "source": [
    "!cat sf_download/contacts.csv"
   ]
  },
  {
   "cell_type": "code",
   "execution_count": null,
   "metadata": {},
   "outputs": [
    {
     "name": "stdout",
     "output_type": "stream",
     "text": [
      "Uploading 100 rows to job 7508Y00000mVFuhQAG of object Contact\n"
     ]
    },
    {
     "data": {
      "text/plain": [
       "<Response [201]>"
      ]
     },
     "execution_count": null,
     "metadata": {},
     "output_type": "execute_result"
    }
   ],
   "source": [
    "sf.upload_csv('Contact')"
   ]
  },
  {
   "cell_type": "code",
   "execution_count": null,
   "metadata": {},
   "outputs": [
    {
     "name": "stdout",
     "output_type": "stream",
     "text": [
      "{\"id\":\"7508Y00000mVFuhQAG\",\"operation\":\"insert\",\"object\":\"Contact\",\"createdById\":\"0058Y00000CIEn9QAH\",\"createdDate\":\"2023-05-10T06:28:28.000+0000\",\"systemModstamp\":\"2023-05-10T06:28:28.000+0000\",\"state\":\"UploadComplete\",\"concurrencyMode\":\"Parallel\",\"contentType\":\"CSV\",\"apiVersion\":57.0}\n"
     ]
    },
    {
     "data": {
      "text/plain": [
       "{'id': '7508Y00000mVFuhQAG',\n",
       " 'operation': 'insert',\n",
       " 'object': 'Contact',\n",
       " 'createdById': '0058Y00000CIEn9QAH',\n",
       " 'createdDate': '2023-05-10T06:28:28.000+0000',\n",
       " 'systemModstamp': '2023-05-10T06:28:28.000+0000',\n",
       " 'state': 'UploadComplete',\n",
       " 'concurrencyMode': 'Parallel',\n",
       " 'contentType': 'CSV',\n",
       " 'apiVersion': 57.0}"
      ]
     },
     "execution_count": null,
     "metadata": {},
     "output_type": "execute_result"
    }
   ],
   "source": [
    "sf.close_job()"
   ]
  },
  {
   "cell_type": "code",
   "execution_count": null,
   "metadata": {},
   "outputs": [
    {
     "data": {
      "text/plain": [
       "{'id': '7508Y00000mVFuhQAG',\n",
       " 'operation': 'insert',\n",
       " 'object': 'Contact',\n",
       " 'createdById': '0058Y00000CIEn9QAH',\n",
       " 'createdDate': '2023-05-10T06:28:28.000+0000',\n",
       " 'systemModstamp': '2023-05-10T06:28:34.000+0000',\n",
       " 'state': 'UploadComplete',\n",
       " 'concurrencyMode': 'Parallel',\n",
       " 'contentType': 'CSV',\n",
       " 'apiVersion': 57.0,\n",
       " 'jobType': 'V2Ingest',\n",
       " 'lineEnding': 'LF',\n",
       " 'columnDelimiter': 'TAB',\n",
       " 'numberRecordsProcessed': 0,\n",
       " 'numberRecordsFailed': 0,\n",
       " 'retries': 0,\n",
       " 'totalProcessingTime': 0,\n",
       " 'apiActiveProcessingTime': 0,\n",
       " 'apexProcessingTime': 0}"
      ]
     },
     "execution_count": null,
     "metadata": {},
     "output_type": "execute_result"
    }
   ],
   "source": [
    "sf.job_status()"
   ]
  },
  {
   "cell_type": "code",
   "execution_count": null,
   "metadata": {},
   "outputs": [
    {
     "name": "stdout",
     "output_type": "stream",
     "text": [
      "<Response [200]>\n",
      "\"sf__Id\"\t\"sf__Created\"\tLastName\tMailingPostalCode\tMailingCity\tMailingStreet\tMailingCountry\tPhone\tEmail\tExternal_Id__c\n",
      "\"0038Y00003eRh5YQAS\"\t\"true\"\t\"New Humble Centre School\"\t\"T0C 0V0\"\t\"Calmar\"\t\"PO Box 780\"\t\" \"\t\"7809853211\"\t\" \"\t\"84\"\n",
      "\"0038Y00003eRh5ZQAS\"\t\"true\"\t\"New Sarepta Community High School\"\t\"T0B 3M0\"\t\"New Sarepta\"\t\"PO Box 10\"\t\"Canada\"\t\"7809413924\"\t\" \"\t\"85\"\n",
      "\n"
     ]
    }
   ],
   "source": [
    "r = sf.successful_results()\n",
    "print(r)\n",
    "print(r.text)"
   ]
  },
  {
   "cell_type": "code",
   "execution_count": null,
   "metadata": {},
   "outputs": [
    {
     "name": "stdout",
     "output_type": "stream",
     "text": [
      "<Response [200]>\n",
      "\"sf__Id\"\t\"sf__Error\"\tLastName\tMailingPostalCode\tMailingCity\tMailingStreet\tMailingCountry\tPhone\tEmail\tExternal_Id__c\n",
      "\"\"\t\"DUPLICATES_DETECTED:Use one of these records?:--\"\t\"J E Lapointe School\"\t\"T4X 1K2\"\t\"Beaumont\"\t\"4801 55 Avenue\"\t\"Canada\"\t\"7809295988\"\t\"pam.jenkins@blackgold.ca\"\t\"83\"\n",
      "\"\"\t\"DUPLICATES_DETECTED:Use one of these records?:--\"\t\"New Sarepta Elementary School\"\t\"T0B 3M0\"\t\"New Sarepta\"\t\"5051-2 Street S\"\t\"Canada\"\t\"7809413927\"\t\"tobey.morris@gshare.blackgold.ca\"\t\"86\"\n",
      "\"\"\t\"DUPLICATES_DETECTED:Use one of these records?:--\"\t\"Thorsby Elementary School\"\t\"T0C 2P0\"\t\"Thorsby\"\t\"PO Box 240\"\t\"Canada\"\t\"7807893776\"\t\"Raylene.jubinville@blackgold.ca\"\t\"87\"\n",
      "\n"
     ]
    },
    {
     "ename": "JSONDecodeError",
     "evalue": "Extra data: line 1 column 10 (char 9)",
     "output_type": "error",
     "traceback": [
      "\u001b[0;31m---------------------------------------------------------------------------\u001b[0m",
      "\u001b[0;31mJSONDecodeError\u001b[0m                           Traceback (most recent call last)",
      "File \u001b[0;32m~/anaconda3/envs/vantix/lib/python3.11/site-packages/requests/models.py:971\u001b[0m, in \u001b[0;36mResponse.json\u001b[0;34m(self, **kwargs)\u001b[0m\n\u001b[1;32m    970\u001b[0m \u001b[39mtry\u001b[39;00m:\n\u001b[0;32m--> 971\u001b[0m     \u001b[39mreturn\u001b[39;00m complexjson\u001b[39m.\u001b[39;49mloads(\u001b[39mself\u001b[39;49m\u001b[39m.\u001b[39;49mtext, \u001b[39m*\u001b[39;49m\u001b[39m*\u001b[39;49mkwargs)\n\u001b[1;32m    972\u001b[0m \u001b[39mexcept\u001b[39;00m JSONDecodeError \u001b[39mas\u001b[39;00m e:\n\u001b[1;32m    973\u001b[0m     \u001b[39m# Catch JSON-related errors and raise as requests.JSONDecodeError\u001b[39;00m\n\u001b[1;32m    974\u001b[0m     \u001b[39m# This aliases json.JSONDecodeError and simplejson.JSONDecodeError\u001b[39;00m\n",
      "File \u001b[0;32m~/anaconda3/envs/vantix/lib/python3.11/json/__init__.py:346\u001b[0m, in \u001b[0;36mloads\u001b[0;34m(s, cls, object_hook, parse_float, parse_int, parse_constant, object_pairs_hook, **kw)\u001b[0m\n\u001b[1;32m    343\u001b[0m \u001b[39mif\u001b[39;00m (\u001b[39mcls\u001b[39m \u001b[39mis\u001b[39;00m \u001b[39mNone\u001b[39;00m \u001b[39mand\u001b[39;00m object_hook \u001b[39mis\u001b[39;00m \u001b[39mNone\u001b[39;00m \u001b[39mand\u001b[39;00m\n\u001b[1;32m    344\u001b[0m         parse_int \u001b[39mis\u001b[39;00m \u001b[39mNone\u001b[39;00m \u001b[39mand\u001b[39;00m parse_float \u001b[39mis\u001b[39;00m \u001b[39mNone\u001b[39;00m \u001b[39mand\u001b[39;00m\n\u001b[1;32m    345\u001b[0m         parse_constant \u001b[39mis\u001b[39;00m \u001b[39mNone\u001b[39;00m \u001b[39mand\u001b[39;00m object_pairs_hook \u001b[39mis\u001b[39;00m \u001b[39mNone\u001b[39;00m \u001b[39mand\u001b[39;00m \u001b[39mnot\u001b[39;00m kw):\n\u001b[0;32m--> 346\u001b[0m     \u001b[39mreturn\u001b[39;00m _default_decoder\u001b[39m.\u001b[39;49mdecode(s)\n\u001b[1;32m    347\u001b[0m \u001b[39mif\u001b[39;00m \u001b[39mcls\u001b[39m \u001b[39mis\u001b[39;00m \u001b[39mNone\u001b[39;00m:\n",
      "File \u001b[0;32m~/anaconda3/envs/vantix/lib/python3.11/json/decoder.py:340\u001b[0m, in \u001b[0;36mJSONDecoder.decode\u001b[0;34m(self, s, _w)\u001b[0m\n\u001b[1;32m    339\u001b[0m \u001b[39mif\u001b[39;00m end \u001b[39m!=\u001b[39m \u001b[39mlen\u001b[39m(s):\n\u001b[0;32m--> 340\u001b[0m     \u001b[39mraise\u001b[39;00m JSONDecodeError(\u001b[39m\"\u001b[39m\u001b[39mExtra data\u001b[39m\u001b[39m\"\u001b[39m, s, end)\n\u001b[1;32m    341\u001b[0m \u001b[39mreturn\u001b[39;00m obj\n",
      "\u001b[0;31mJSONDecodeError\u001b[0m: Extra data: line 1 column 10 (char 9)",
      "\nDuring handling of the above exception, another exception occurred:\n",
      "\u001b[0;31mJSONDecodeError\u001b[0m                           Traceback (most recent call last)",
      "Cell \u001b[0;32mIn[143], line 4\u001b[0m\n\u001b[1;32m      2\u001b[0m \u001b[39mprint\u001b[39m(r)\n\u001b[1;32m      3\u001b[0m \u001b[39mprint\u001b[39m(r\u001b[39m.\u001b[39mtext)\n\u001b[0;32m----> 4\u001b[0m \u001b[39mprint\u001b[39m(r\u001b[39m.\u001b[39;49mjson())\n",
      "File \u001b[0;32m~/anaconda3/envs/vantix/lib/python3.11/site-packages/requests/models.py:975\u001b[0m, in \u001b[0;36mResponse.json\u001b[0;34m(self, **kwargs)\u001b[0m\n\u001b[1;32m    971\u001b[0m     \u001b[39mreturn\u001b[39;00m complexjson\u001b[39m.\u001b[39mloads(\u001b[39mself\u001b[39m\u001b[39m.\u001b[39mtext, \u001b[39m*\u001b[39m\u001b[39m*\u001b[39mkwargs)\n\u001b[1;32m    972\u001b[0m \u001b[39mexcept\u001b[39;00m JSONDecodeError \u001b[39mas\u001b[39;00m e:\n\u001b[1;32m    973\u001b[0m     \u001b[39m# Catch JSON-related errors and raise as requests.JSONDecodeError\u001b[39;00m\n\u001b[1;32m    974\u001b[0m     \u001b[39m# This aliases json.JSONDecodeError and simplejson.JSONDecodeError\u001b[39;00m\n\u001b[0;32m--> 975\u001b[0m     \u001b[39mraise\u001b[39;00m RequestsJSONDecodeError(e\u001b[39m.\u001b[39mmsg, e\u001b[39m.\u001b[39mdoc, e\u001b[39m.\u001b[39mpos)\n",
      "\u001b[0;31mJSONDecodeError\u001b[0m: Extra data: line 1 column 10 (char 9)"
     ]
    }
   ],
   "source": [
    "r = sf.failed_results()\n",
    "print(r)\n",
    "print(r.text)\n",
    "# print(r.json())"
   ]
  },
  {
   "cell_type": "code",
   "execution_count": null,
   "metadata": {},
   "outputs": [
    {
     "name": "stdout",
     "output_type": "stream",
     "text": [
      "Retrieving Object Ids for Contact from Salesforce\n",
      "total number of objects =  24\n"
     ]
    },
    {
     "data": {
      "text/plain": [
       "['0038Y00003bx8WPQAY',\n",
       " '0038Y00003bx8WQQAY',\n",
       " '0038Y00003bx8WRQAY',\n",
       " '0038Y00003bx8WUQAY',\n",
       " '0038Y00003bx8WVQAY',\n",
       " '0038Y00003bx8WWQAY',\n",
       " '0038Y00003bx8WXQAY',\n",
       " '0038Y00003bx8WYQAY',\n",
       " '0038Y00003bx8WZQAY',\n",
       " '0038Y00003bx8WaQAI',\n",
       " '0038Y00003bx8WcQAI',\n",
       " '0038Y00003bx8WdQAI',\n",
       " '0038Y00003bx8WeQAI',\n",
       " '0038Y00003bx8WfQAI',\n",
       " '0038Y00003bx8WgQAI',\n",
       " '0038Y00003eRh5MQAS',\n",
       " '0038Y00003eRh5NQAS',\n",
       " '0038Y00003eRh5OQAS',\n",
       " '0038Y00003eRh5PQAS',\n",
       " '0038Y00003eRh5QQAS',\n",
       " '0038Y00003eRh5TQAS',\n",
       " '0038Y00003eRh5UQAS',\n",
       " '0038Y00003eRh5YQAS',\n",
       " '0038Y00003eRh5ZQAS']"
      ]
     },
     "execution_count": null,
     "metadata": {},
     "output_type": "execute_result"
    }
   ],
   "source": [
    "sf.get_sf_object_ids('Contact')"
   ]
  },
  {
   "cell_type": "code",
   "execution_count": null,
   "metadata": {},
   "outputs": [
    {
     "name": "stdout",
     "output_type": "stream",
     "text": [
      "Retrieving Object Ids for Contact from Salesforce\n",
      "total number of objects =  24\n",
      "In Salesforce.delete_sf_objects: Deleting 24 Contact objects using /Users/josephmann/Documents/Github/doubledot/sf_download/Contact.csv\n",
      "Creating job for Contact with operation delete\n",
      "delete {'object': 'Contact', 'contentType': 'CSV', 'columnDelimiter': 'TAB', 'operation': 'delete'}\n",
      "{\"id\":\"7508Y00000mVFzIQAW\",\"operation\":\"delete\",\"object\":\"Contact\",\"createdById\":\"0058Y00000CIEn9QAH\",\"createdDate\":\"2023-05-10T06:36:17.000+0000\",\"systemModstamp\":\"2023-05-10T06:36:17.000+0000\",\"state\":\"Open\",\"concurrencyMode\":\"Parallel\",\"contentType\":\"CSV\",\"apiVersion\":57.0,\"contentUrl\":\"services/data/v57.0/jobs/ingest/7508Y00000mVFzIQAW/batches\",\"lineEnding\":\"LF\",\"columnDelimiter\":\"TAB\"}\n",
      "Uploading all rows to job 7508Y00000mVFzIQAW of object Contact\n",
      "{\"id\":\"7508Y00000mVFzIQAW\",\"operation\":\"delete\",\"object\":\"Contact\",\"createdById\":\"0058Y00000CIEn9QAH\",\"createdDate\":\"2023-05-10T06:36:17.000+0000\",\"systemModstamp\":\"2023-05-10T06:36:17.000+0000\",\"state\":\"UploadComplete\",\"concurrencyMode\":\"Parallel\",\"contentType\":\"CSV\",\"apiVersion\":57.0}\n"
     ]
    }
   ],
   "source": [
    "sf.delete_sf_objects('Contact')"
   ]
  },
  {
   "cell_type": "code",
   "execution_count": null,
   "metadata": {},
   "outputs": [
    {
     "name": "stdout",
     "output_type": "stream",
     "text": [
      "Retrieving Object Ids for Contact from Salesforce\n",
      "total number of objects =  15\n"
     ]
    },
    {
     "data": {
      "text/plain": [
       "['0038Y00003bx8WPQAY',\n",
       " '0038Y00003bx8WQQAY',\n",
       " '0038Y00003bx8WRQAY',\n",
       " '0038Y00003bx8WUQAY',\n",
       " '0038Y00003bx8WVQAY',\n",
       " '0038Y00003bx8WWQAY',\n",
       " '0038Y00003bx8WXQAY',\n",
       " '0038Y00003bx8WYQAY',\n",
       " '0038Y00003bx8WZQAY',\n",
       " '0038Y00003bx8WaQAI',\n",
       " '0038Y00003bx8WcQAI',\n",
       " '0038Y00003bx8WdQAI',\n",
       " '0038Y00003bx8WeQAI',\n",
       " '0038Y00003bx8WfQAI',\n",
       " '0038Y00003bx8WgQAI']"
      ]
     },
     "execution_count": null,
     "metadata": {},
     "output_type": "execute_result"
    }
   ],
   "source": [
    "sf.get_sf_object_ids('Contact')"
   ]
  },
  {
   "cell_type": "code",
   "execution_count": null,
   "metadata": {},
   "outputs": [
    {
     "name": "stdout",
     "output_type": "stream",
     "text": [
      "\"sf__Id\"\t\"sf__Created\"\tId\n",
      "\"0038Y00003eRh5MQAS\"\t\"false\"\t\"0038Y00003eRh5MQAS\"\n",
      "\"0038Y00003eRh5NQAS\"\t\"false\"\t\"0038Y00003eRh5NQAS\"\n",
      "\"0038Y00003eRh5OQAS\"\t\"false\"\t\"0038Y00003eRh5OQAS\"\n",
      "\"0038Y00003eRh5PQAS\"\t\"false\"\t\"0038Y00003eRh5PQAS\"\n",
      "\"0038Y00003eRh5QQAS\"\t\"false\"\t\"0038Y00003eRh5QQAS\"\n",
      "\"0038Y00003eRh5TQAS\"\t\"false\"\t\"0038Y00003eRh5TQAS\"\n",
      "\"0038Y00003eRh5UQAS\"\t\"false\"\t\"0038Y00003eRh5UQAS\"\n",
      "\"0038Y00003eRh5YQAS\"\t\"false\"\t\"0038Y00003eRh5YQAS\"\n",
      "\"0038Y00003eRh5ZQAS\"\t\"false\"\t\"0038Y00003eRh5ZQAS\"\n",
      "\n"
     ]
    },
    {
     "ename": "JSONDecodeError",
     "evalue": "Extra data: line 1 column 10 (char 9)",
     "output_type": "error",
     "traceback": [
      "\u001b[0;31m---------------------------------------------------------------------------\u001b[0m",
      "\u001b[0;31mJSONDecodeError\u001b[0m                           Traceback (most recent call last)",
      "File \u001b[0;32m~/anaconda3/envs/vantix/lib/python3.11/site-packages/requests/models.py:971\u001b[0m, in \u001b[0;36mResponse.json\u001b[0;34m(self, **kwargs)\u001b[0m\n\u001b[1;32m    970\u001b[0m \u001b[39mtry\u001b[39;00m:\n\u001b[0;32m--> 971\u001b[0m     \u001b[39mreturn\u001b[39;00m complexjson\u001b[39m.\u001b[39;49mloads(\u001b[39mself\u001b[39;49m\u001b[39m.\u001b[39;49mtext, \u001b[39m*\u001b[39;49m\u001b[39m*\u001b[39;49mkwargs)\n\u001b[1;32m    972\u001b[0m \u001b[39mexcept\u001b[39;00m JSONDecodeError \u001b[39mas\u001b[39;00m e:\n\u001b[1;32m    973\u001b[0m     \u001b[39m# Catch JSON-related errors and raise as requests.JSONDecodeError\u001b[39;00m\n\u001b[1;32m    974\u001b[0m     \u001b[39m# This aliases json.JSONDecodeError and simplejson.JSONDecodeError\u001b[39;00m\n",
      "File \u001b[0;32m~/anaconda3/envs/vantix/lib/python3.11/json/__init__.py:346\u001b[0m, in \u001b[0;36mloads\u001b[0;34m(s, cls, object_hook, parse_float, parse_int, parse_constant, object_pairs_hook, **kw)\u001b[0m\n\u001b[1;32m    343\u001b[0m \u001b[39mif\u001b[39;00m (\u001b[39mcls\u001b[39m \u001b[39mis\u001b[39;00m \u001b[39mNone\u001b[39;00m \u001b[39mand\u001b[39;00m object_hook \u001b[39mis\u001b[39;00m \u001b[39mNone\u001b[39;00m \u001b[39mand\u001b[39;00m\n\u001b[1;32m    344\u001b[0m         parse_int \u001b[39mis\u001b[39;00m \u001b[39mNone\u001b[39;00m \u001b[39mand\u001b[39;00m parse_float \u001b[39mis\u001b[39;00m \u001b[39mNone\u001b[39;00m \u001b[39mand\u001b[39;00m\n\u001b[1;32m    345\u001b[0m         parse_constant \u001b[39mis\u001b[39;00m \u001b[39mNone\u001b[39;00m \u001b[39mand\u001b[39;00m object_pairs_hook \u001b[39mis\u001b[39;00m \u001b[39mNone\u001b[39;00m \u001b[39mand\u001b[39;00m \u001b[39mnot\u001b[39;00m kw):\n\u001b[0;32m--> 346\u001b[0m     \u001b[39mreturn\u001b[39;00m _default_decoder\u001b[39m.\u001b[39;49mdecode(s)\n\u001b[1;32m    347\u001b[0m \u001b[39mif\u001b[39;00m \u001b[39mcls\u001b[39m \u001b[39mis\u001b[39;00m \u001b[39mNone\u001b[39;00m:\n",
      "File \u001b[0;32m~/anaconda3/envs/vantix/lib/python3.11/json/decoder.py:340\u001b[0m, in \u001b[0;36mJSONDecoder.decode\u001b[0;34m(self, s, _w)\u001b[0m\n\u001b[1;32m    339\u001b[0m \u001b[39mif\u001b[39;00m end \u001b[39m!=\u001b[39m \u001b[39mlen\u001b[39m(s):\n\u001b[0;32m--> 340\u001b[0m     \u001b[39mraise\u001b[39;00m JSONDecodeError(\u001b[39m\"\u001b[39m\u001b[39mExtra data\u001b[39m\u001b[39m\"\u001b[39m, s, end)\n\u001b[1;32m    341\u001b[0m \u001b[39mreturn\u001b[39;00m obj\n",
      "\u001b[0;31mJSONDecodeError\u001b[0m: Extra data: line 1 column 10 (char 9)",
      "\nDuring handling of the above exception, another exception occurred:\n",
      "\u001b[0;31mJSONDecodeError\u001b[0m                           Traceback (most recent call last)",
      "Cell \u001b[0;32mIn[149], line 3\u001b[0m\n\u001b[1;32m      1\u001b[0m r \u001b[39m=\u001b[39m sf\u001b[39m.\u001b[39msuccessful_results()\n\u001b[1;32m      2\u001b[0m \u001b[39mprint\u001b[39m(r\u001b[39m.\u001b[39mtext)\n\u001b[0;32m----> 3\u001b[0m pd\u001b[39m.\u001b[39mDataFrame(r\u001b[39m.\u001b[39;49mjson()[\u001b[39m'\u001b[39m\u001b[39mresults\u001b[39m\u001b[39m'\u001b[39m])\n",
      "File \u001b[0;32m~/anaconda3/envs/vantix/lib/python3.11/site-packages/requests/models.py:975\u001b[0m, in \u001b[0;36mResponse.json\u001b[0;34m(self, **kwargs)\u001b[0m\n\u001b[1;32m    971\u001b[0m     \u001b[39mreturn\u001b[39;00m complexjson\u001b[39m.\u001b[39mloads(\u001b[39mself\u001b[39m\u001b[39m.\u001b[39mtext, \u001b[39m*\u001b[39m\u001b[39m*\u001b[39mkwargs)\n\u001b[1;32m    972\u001b[0m \u001b[39mexcept\u001b[39;00m JSONDecodeError \u001b[39mas\u001b[39;00m e:\n\u001b[1;32m    973\u001b[0m     \u001b[39m# Catch JSON-related errors and raise as requests.JSONDecodeError\u001b[39;00m\n\u001b[1;32m    974\u001b[0m     \u001b[39m# This aliases json.JSONDecodeError and simplejson.JSONDecodeError\u001b[39;00m\n\u001b[0;32m--> 975\u001b[0m     \u001b[39mraise\u001b[39;00m RequestsJSONDecodeError(e\u001b[39m.\u001b[39mmsg, e\u001b[39m.\u001b[39mdoc, e\u001b[39m.\u001b[39mpos)\n",
      "\u001b[0;31mJSONDecodeError\u001b[0m: Extra data: line 1 column 10 (char 9)"
     ]
    }
   ],
   "source": [
    "r = sf.successful_results()\n",
    "print(r.text)\n",
    "\n"
   ]
  },
  {
   "cell_type": "code",
   "execution_count": null,
   "metadata": {},
   "outputs": [
    {
     "name": "stdout",
     "output_type": "stream",
     "text": [
      "Retrieving Object Ids for Membership__c from Salesforce\n",
      "total number of objects =  0\n"
     ]
    },
    {
     "data": {
      "text/plain": [
       "[]"
      ]
     },
     "execution_count": null,
     "metadata": {},
     "output_type": "execute_result"
    }
   ],
   "source": [
    "sf.get_sf_object_ids('Membership__c')"
   ]
  },
  {
   "cell_type": "code",
   "execution_count": null,
   "metadata": {},
   "outputs": [
    {
     "name": "stdout",
     "output_type": "stream",
     "text": [
      "Retrieving Object Ids for MembershipTerm__c from Salesforce\n",
      "total number of objects =  0\n"
     ]
    },
    {
     "data": {
      "text/plain": [
       "[]"
      ]
     },
     "execution_count": null,
     "metadata": {},
     "output_type": "execute_result"
    }
   ],
   "source": [
    "sf.get_sf_object_ids('MembershipTerm__c')"
   ]
  },
  {
   "cell_type": "code",
   "execution_count": null,
   "metadata": {},
   "outputs": [
    {
     "name": "stdout",
     "output_type": "stream",
     "text": [
      "Retrieving Object Ids for Membership__c from Salesforce\n",
      "https://cremaconsulting-dev-ed.develop.my.salesforce.com/services/data/v57.0/query/0r88Y1h0EONu6wyQYB-2000\n",
      "{'totalSize': 3000, 'done': True, 'records': [{'attributes': {'type': 'Membership__c', 'url': '/services/data/v57.0/sobjects/Membership__c/a028Y00001Eu0mnQAB'}, 'Id': 'a028Y00001Eu0mnQAB'}, {'attributes': {'type': 'Membership__c', 'url': '/services/data/v57.0/sobjects/Membership__c/a028Y00001Eu0moQAB'}, 'Id': 'a028Y00001Eu0moQAB'}, {'attributes': {'type': 'Membership__c', 'url': '/services/data/v57.0/sobjects/Membership__c/a028Y00001Eu0mpQAB'}, 'Id': 'a028Y00001Eu0mpQAB'}, {'attributes': {'type': 'Membership__c', 'url': '/services/data/v57.0/sobjects/Membership__c/a028Y00001Eu0mqQAB'}, 'Id': 'a028Y00001Eu0mqQAB'}, {'attributes': {'type': 'Membership__c', 'url': '/services/data/v57.0/sobjects/Membership__c/a028Y00001Eu0mrQAB'}, 'Id': 'a028Y00001Eu0mrQAB'}, {'attributes': {'type': 'Membership__c', 'url': '/services/data/v57.0/sobjects/Membership__c/a028Y00001Eu0msQAB'}, 'Id': 'a028Y00001Eu0msQAB'}, {'attributes': {'type': 'Membership__c', 'url': '/services/data/v57.0/sobjects/Membership__c/a028Y00001Eu0mtQAB'}, 'Id': 'a028Y00001Eu0mtQAB'}, {'attributes': {'type': 'Membership__c', 'url': '/services/data/v57.0/sobjects/Membership__c/a028Y00001Eu0muQAB'}, 'Id': 'a028Y00001Eu0muQAB'}, {'attributes': {'type': 'Membership__c', 'url': '/services/data/v57.0/sobjects/Membership__c/a028Y00001Eu0mvQAB'}, 'Id': 'a028Y00001Eu0mvQAB'}, {'attributes': {'type': 'Membership__c', 'url': '/services/data/v57.0/sobjects/Membership__c/a028Y00001Eu0mwQAB'}, 'Id': 'a028Y00001Eu0mwQAB'}, {'attributes': {'type': 'Membership__c', 'url': '/services/data/v57.0/sobjects/Membership__c/a028Y00001Eu0mxQAB'}, 'Id': 'a028Y00001Eu0mxQAB'}, {'attributes': {'type': 'Membership__c', 'url': '/services/data/v57.0/sobjects/Membership__c/a028Y00001Eu0myQAB'}, 'Id': 'a028Y00001Eu0myQAB'}, {'attributes': {'type': 'Membership__c', 'url': '/services/data/v57.0/sobjects/Membership__c/a028Y00001Eu0mzQAB'}, 'Id': 'a028Y00001Eu0mzQAB'}, {'attributes': {'type': 'Membership__c', 'url': '/services/data/v57.0/sobjects/Membership__c/a028Y00001Eu0n0QAB'}, 'Id': 'a028Y00001Eu0n0QAB'}, {'attributes': {'type': 'Membership__c', 'url': '/services/data/v57.0/sobjects/Membership__c/a028Y00001Eu0n1QAB'}, 'Id': 'a028Y00001Eu0n1QAB'}, {'attributes': {'type': 'Membership__c', 'url': '/services/data/v57.0/sobjects/Membership__c/a028Y00001Eu0n2QAB'}, 'Id': 'a028Y00001Eu0n2QAB'}, {'attributes': {'type': 'Membership__c', 'url': '/services/data/v57.0/sobjects/Membership__c/a028Y00001Eu0n3QAB'}, 'Id': 'a028Y00001Eu0n3QAB'}, {'attributes': {'type': 'Membership__c', 'url': '/services/data/v57.0/sobjects/Membership__c/a028Y00001Eu0n4QAB'}, 'Id': 'a028Y00001Eu0n4QAB'}, {'attributes': {'type': 'Membership__c', 'url': '/services/data/v57.0/sobjects/Membership__c/a028Y00001Eu0n5QAB'}, 'Id': 'a028Y00001Eu0n5QAB'}, {'attributes': {'type': 'Membership__c', 'url': '/services/data/v57.0/sobjects/Membership__c/a028Y00001Eu0n6QAB'}, 'Id': 'a028Y00001Eu0n6QAB'}, {'attributes': {'type': 'Membership__c', 'url': '/services/data/v57.0/sobjects/Membership__c/a028Y00001Eu0n7QAB'}, 'Id': 'a028Y00001Eu0n7QAB'}, {'attributes': {'type': 'Membership__c', 'url': '/services/data/v57.0/sobjects/Membership__c/a028Y00001Eu0n8QAB'}, 'Id': 'a028Y00001Eu0n8QAB'}, {'attributes': {'type': 'Membership__c', 'url': '/services/data/v57.0/sobjects/Membership__c/a028Y00001Eu0n9QAB'}, 'Id': 'a028Y00001Eu0n9QAB'}, {'attributes': {'type': 'Membership__c', 'url': '/services/data/v57.0/sobjects/Membership__c/a028Y00001Eu0nAQAR'}, 'Id': 'a028Y00001Eu0nAQAR'}, {'attributes': {'type': 'Membership__c', 'url': '/services/data/v57.0/sobjects/Membership__c/a028Y00001Eu0nBQAR'}, 'Id': 'a028Y00001Eu0nBQAR'}, {'attributes': {'type': 'Membership__c', 'url': '/services/data/v57.0/sobjects/Membership__c/a028Y00001Eu0nCQAR'}, 'Id': 'a028Y00001Eu0nCQAR'}, {'attributes': {'type': 'Membership__c', 'url': '/services/data/v57.0/sobjects/Membership__c/a028Y00001Eu0nDQAR'}, 'Id': 'a028Y00001Eu0nDQAR'}, {'attributes': {'type': 'Membership__c', 'url': '/services/data/v57.0/sobjects/Membership__c/a028Y00001Eu0nEQAR'}, 'Id': 'a028Y00001Eu0nEQAR'}, {'attributes': {'type': 'Membership__c', 'url': '/services/data/v57.0/sobjects/Membership__c/a028Y00001Eu0nFQAR'}, 'Id': 'a028Y00001Eu0nFQAR'}, {'attributes': {'type': 'Membership__c', 'url': '/services/data/v57.0/sobjects/Membership__c/a028Y00001Eu0nGQAR'}, 'Id': 'a028Y00001Eu0nGQAR'}, {'attributes': {'type': 'Membership__c', 'url': '/services/data/v57.0/sobjects/Membership__c/a028Y00001Eu0nHQAR'}, 'Id': 'a028Y00001Eu0nHQAR'}, {'attributes': {'type': 'Membership__c', 'url': '/services/data/v57.0/sobjects/Membership__c/a028Y00001Eu0nIQAR'}, 'Id': 'a028Y00001Eu0nIQAR'}, {'attributes': {'type': 'Membership__c', 'url': '/services/data/v57.0/sobjects/Membership__c/a028Y00001Eu0nJQAR'}, 'Id': 'a028Y00001Eu0nJQAR'}, {'attributes': {'type': 'Membership__c', 'url': '/services/data/v57.0/sobjects/Membership__c/a028Y00001Eu0nKQAR'}, 'Id': 'a028Y00001Eu0nKQAR'}, {'attributes': {'type': 'Membership__c', 'url': '/services/data/v57.0/sobjects/Membership__c/a028Y00001Eu0nLQAR'}, 'Id': 'a028Y00001Eu0nLQAR'}, {'attributes': {'type': 'Membership__c', 'url': '/services/data/v57.0/sobjects/Membership__c/a028Y00001Eu0nMQAR'}, 'Id': 'a028Y00001Eu0nMQAR'}, {'attributes': {'type': 'Membership__c', 'url': '/services/data/v57.0/sobjects/Membership__c/a028Y00001Eu0nNQAR'}, 'Id': 'a028Y00001Eu0nNQAR'}, {'attributes': {'type': 'Membership__c', 'url': '/services/data/v57.0/sobjects/Membership__c/a028Y00001Eu0nOQAR'}, 'Id': 'a028Y00001Eu0nOQAR'}, {'attributes': {'type': 'Membership__c', 'url': '/services/data/v57.0/sobjects/Membership__c/a028Y00001Eu0nPQAR'}, 'Id': 'a028Y00001Eu0nPQAR'}, {'attributes': {'type': 'Membership__c', 'url': '/services/data/v57.0/sobjects/Membership__c/a028Y00001Eu0nQQAR'}, 'Id': 'a028Y00001Eu0nQQAR'}, {'attributes': {'type': 'Membership__c', 'url': '/services/data/v57.0/sobjects/Membership__c/a028Y00001Eu0nRQAR'}, 'Id': 'a028Y00001Eu0nRQAR'}, {'attributes': {'type': 'Membership__c', 'url': '/services/data/v57.0/sobjects/Membership__c/a028Y00001Eu0nSQAR'}, 'Id': 'a028Y00001Eu0nSQAR'}, {'attributes': {'type': 'Membership__c', 'url': '/services/data/v57.0/sobjects/Membership__c/a028Y00001Eu0nTQAR'}, 'Id': 'a028Y00001Eu0nTQAR'}, {'attributes': {'type': 'Membership__c', 'url': '/services/data/v57.0/sobjects/Membership__c/a028Y00001Eu0nUQAR'}, 'Id': 'a028Y00001Eu0nUQAR'}, {'attributes': {'type': 'Membership__c', 'url': '/services/data/v57.0/sobjects/Membership__c/a028Y00001Eu0nVQAR'}, 'Id': 'a028Y00001Eu0nVQAR'}, {'attributes': {'type': 'Membership__c', 'url': '/services/data/v57.0/sobjects/Membership__c/a028Y00001Eu0nWQAR'}, 'Id': 'a028Y00001Eu0nWQAR'}, {'attributes': {'type': 'Membership__c', 'url': '/services/data/v57.0/sobjects/Membership__c/a028Y00001Eu0nXQAR'}, 'Id': 'a028Y00001Eu0nXQAR'}, {'attributes': {'type': 'Membership__c', 'url': '/services/data/v57.0/sobjects/Membership__c/a028Y00001Eu0nYQAR'}, 'Id': 'a028Y00001Eu0nYQAR'}, {'attributes': {'type': 'Membership__c', 'url': '/services/data/v57.0/sobjects/Membership__c/a028Y00001Eu0nZQAR'}, 'Id': 'a028Y00001Eu0nZQAR'}, {'attributes': {'type': 'Membership__c', 'url': '/services/data/v57.0/sobjects/Membership__c/a028Y00001Eu0naQAB'}, 'Id': 'a028Y00001Eu0naQAB'}, {'attributes': {'type': 'Membership__c', 'url': '/services/data/v57.0/sobjects/Membership__c/a028Y00001Eu0nbQAB'}, 'Id': 'a028Y00001Eu0nbQAB'}, {'attributes': {'type': 'Membership__c', 'url': '/services/data/v57.0/sobjects/Membership__c/a028Y00001Eu0ncQAB'}, 'Id': 'a028Y00001Eu0ncQAB'}, {'attributes': {'type': 'Membership__c', 'url': '/services/data/v57.0/sobjects/Membership__c/a028Y00001Eu0ndQAB'}, 'Id': 'a028Y00001Eu0ndQAB'}, {'attributes': {'type': 'Membership__c', 'url': '/services/data/v57.0/sobjects/Membership__c/a028Y00001Eu0neQAB'}, 'Id': 'a028Y00001Eu0neQAB'}, {'attributes': {'type': 'Membership__c', 'url': '/services/data/v57.0/sobjects/Membership__c/a028Y00001Eu0nfQAB'}, 'Id': 'a028Y00001Eu0nfQAB'}, {'attributes': {'type': 'Membership__c', 'url': '/services/data/v57.0/sobjects/Membership__c/a028Y00001Eu0ngQAB'}, 'Id': 'a028Y00001Eu0ngQAB'}, {'attributes': {'type': 'Membership__c', 'url': '/services/data/v57.0/sobjects/Membership__c/a028Y00001Eu0nhQAB'}, 'Id': 'a028Y00001Eu0nhQAB'}, {'attributes': {'type': 'Membership__c', 'url': '/services/data/v57.0/sobjects/Membership__c/a028Y00001Eu0niQAB'}, 'Id': 'a028Y00001Eu0niQAB'}, {'attributes': {'type': 'Membership__c', 'url': '/services/data/v57.0/sobjects/Membership__c/a028Y00001Eu0njQAB'}, 'Id': 'a028Y00001Eu0njQAB'}, {'attributes': {'type': 'Membership__c', 'url': '/services/data/v57.0/sobjects/Membership__c/a028Y00001Eu0nkQAB'}, 'Id': 'a028Y00001Eu0nkQAB'}, {'attributes': {'type': 'Membership__c', 'url': '/services/data/v57.0/sobjects/Membership__c/a028Y00001Eu0nlQAB'}, 'Id': 'a028Y00001Eu0nlQAB'}, {'attributes': {'type': 'Membership__c', 'url': '/services/data/v57.0/sobjects/Membership__c/a028Y00001Eu0nmQAB'}, 'Id': 'a028Y00001Eu0nmQAB'}, {'attributes': {'type': 'Membership__c', 'url': '/services/data/v57.0/sobjects/Membership__c/a028Y00001Eu0nnQAB'}, 'Id': 'a028Y00001Eu0nnQAB'}, {'attributes': {'type': 'Membership__c', 'url': '/services/data/v57.0/sobjects/Membership__c/a028Y00001Eu0noQAB'}, 'Id': 'a028Y00001Eu0noQAB'}, {'attributes': {'type': 'Membership__c', 'url': '/services/data/v57.0/sobjects/Membership__c/a028Y00001Eu0npQAB'}, 'Id': 'a028Y00001Eu0npQAB'}, {'attributes': {'type': 'Membership__c', 'url': '/services/data/v57.0/sobjects/Membership__c/a028Y00001Eu0nqQAB'}, 'Id': 'a028Y00001Eu0nqQAB'}, {'attributes': {'type': 'Membership__c', 'url': '/services/data/v57.0/sobjects/Membership__c/a028Y00001Eu0nrQAB'}, 'Id': 'a028Y00001Eu0nrQAB'}, {'attributes': {'type': 'Membership__c', 'url': '/services/data/v57.0/sobjects/Membership__c/a028Y00001Eu0nsQAB'}, 'Id': 'a028Y00001Eu0nsQAB'}, {'attributes': {'type': 'Membership__c', 'url': '/services/data/v57.0/sobjects/Membership__c/a028Y00001Eu0ntQAB'}, 'Id': 'a028Y00001Eu0ntQAB'}, {'attributes': {'type': 'Membership__c', 'url': '/services/data/v57.0/sobjects/Membership__c/a028Y00001Eu0nuQAB'}, 'Id': 'a028Y00001Eu0nuQAB'}, {'attributes': {'type': 'Membership__c', 'url': '/services/data/v57.0/sobjects/Membership__c/a028Y00001Eu0nvQAB'}, 'Id': 'a028Y00001Eu0nvQAB'}, {'attributes': {'type': 'Membership__c', 'url': '/services/data/v57.0/sobjects/Membership__c/a028Y00001Eu0nwQAB'}, 'Id': 'a028Y00001Eu0nwQAB'}, {'attributes': {'type': 'Membership__c', 'url': '/services/data/v57.0/sobjects/Membership__c/a028Y00001Eu0nxQAB'}, 'Id': 'a028Y00001Eu0nxQAB'}, {'attributes': {'type': 'Membership__c', 'url': '/services/data/v57.0/sobjects/Membership__c/a028Y00001Eu0nyQAB'}, 'Id': 'a028Y00001Eu0nyQAB'}, {'attributes': {'type': 'Membership__c', 'url': '/services/data/v57.0/sobjects/Membership__c/a028Y00001Eu0nzQAB'}, 'Id': 'a028Y00001Eu0nzQAB'}, {'attributes': {'type': 'Membership__c', 'url': '/services/data/v57.0/sobjects/Membership__c/a028Y00001Eu0o0QAB'}, 'Id': 'a028Y00001Eu0o0QAB'}, {'attributes': {'type': 'Membership__c', 'url': '/services/data/v57.0/sobjects/Membership__c/a028Y00001Eu0o1QAB'}, 'Id': 'a028Y00001Eu0o1QAB'}, {'attributes': {'type': 'Membership__c', 'url': '/services/data/v57.0/sobjects/Membership__c/a028Y00001Eu0o2QAB'}, 'Id': 'a028Y00001Eu0o2QAB'}, {'attributes': {'type': 'Membership__c', 'url': '/services/data/v57.0/sobjects/Membership__c/a028Y00001Eu0o3QAB'}, 'Id': 'a028Y00001Eu0o3QAB'}, {'attributes': {'type': 'Membership__c', 'url': '/services/data/v57.0/sobjects/Membership__c/a028Y00001Eu0o4QAB'}, 'Id': 'a028Y00001Eu0o4QAB'}, {'attributes': {'type': 'Membership__c', 'url': '/services/data/v57.0/sobjects/Membership__c/a028Y00001Eu0o5QAB'}, 'Id': 'a028Y00001Eu0o5QAB'}, {'attributes': {'type': 'Membership__c', 'url': '/services/data/v57.0/sobjects/Membership__c/a028Y00001Eu0o6QAB'}, 'Id': 'a028Y00001Eu0o6QAB'}, {'attributes': {'type': 'Membership__c', 'url': '/services/data/v57.0/sobjects/Membership__c/a028Y00001Eu0o7QAB'}, 'Id': 'a028Y00001Eu0o7QAB'}, {'attributes': {'type': 'Membership__c', 'url': '/services/data/v57.0/sobjects/Membership__c/a028Y00001Eu0o8QAB'}, 'Id': 'a028Y00001Eu0o8QAB'}, {'attributes': {'type': 'Membership__c', 'url': '/services/data/v57.0/sobjects/Membership__c/a028Y00001Eu0o9QAB'}, 'Id': 'a028Y00001Eu0o9QAB'}, {'attributes': {'type': 'Membership__c', 'url': '/services/data/v57.0/sobjects/Membership__c/a028Y00001Eu0oAQAR'}, 'Id': 'a028Y00001Eu0oAQAR'}, {'attributes': {'type': 'Membership__c', 'url': '/services/data/v57.0/sobjects/Membership__c/a028Y00001Eu0oBQAR'}, 'Id': 'a028Y00001Eu0oBQAR'}, {'attributes': {'type': 'Membership__c', 'url': '/services/data/v57.0/sobjects/Membership__c/a028Y00001Eu0oCQAR'}, 'Id': 'a028Y00001Eu0oCQAR'}, {'attributes': {'type': 'Membership__c', 'url': '/services/data/v57.0/sobjects/Membership__c/a028Y00001Eu0oDQAR'}, 'Id': 'a028Y00001Eu0oDQAR'}, {'attributes': {'type': 'Membership__c', 'url': '/services/data/v57.0/sobjects/Membership__c/a028Y00001Eu0oEQAR'}, 'Id': 'a028Y00001Eu0oEQAR'}, {'attributes': {'type': 'Membership__c', 'url': '/services/data/v57.0/sobjects/Membership__c/a028Y00001Eu0oFQAR'}, 'Id': 'a028Y00001Eu0oFQAR'}, {'attributes': {'type': 'Membership__c', 'url': '/services/data/v57.0/sobjects/Membership__c/a028Y00001Eu0oGQAR'}, 'Id': 'a028Y00001Eu0oGQAR'}, {'attributes': {'type': 'Membership__c', 'url': '/services/data/v57.0/sobjects/Membership__c/a028Y00001Eu0oHQAR'}, 'Id': 'a028Y00001Eu0oHQAR'}, {'attributes': {'type': 'Membership__c', 'url': '/services/data/v57.0/sobjects/Membership__c/a028Y00001Eu0oIQAR'}, 'Id': 'a028Y00001Eu0oIQAR'}, {'attributes': {'type': 'Membership__c', 'url': '/services/data/v57.0/sobjects/Membership__c/a028Y00001Eu0oJQAR'}, 'Id': 'a028Y00001Eu0oJQAR'}, {'attributes': {'type': 'Membership__c', 'url': '/services/data/v57.0/sobjects/Membership__c/a028Y00001Eu0oKQAR'}, 'Id': 'a028Y00001Eu0oKQAR'}, {'attributes': {'type': 'Membership__c', 'url': '/services/data/v57.0/sobjects/Membership__c/a028Y00001Eu0oLQAR'}, 'Id': 'a028Y00001Eu0oLQAR'}, {'attributes': {'type': 'Membership__c', 'url': '/services/data/v57.0/sobjects/Membership__c/a028Y00001Eu0oMQAR'}, 'Id': 'a028Y00001Eu0oMQAR'}, {'attributes': {'type': 'Membership__c', 'url': '/services/data/v57.0/sobjects/Membership__c/a028Y00001Eu0oNQAR'}, 'Id': 'a028Y00001Eu0oNQAR'}, {'attributes': {'type': 'Membership__c', 'url': '/services/data/v57.0/sobjects/Membership__c/a028Y00001Eu0oOQAR'}, 'Id': 'a028Y00001Eu0oOQAR'}, {'attributes': {'type': 'Membership__c', 'url': '/services/data/v57.0/sobjects/Membership__c/a028Y00001Eu0oPQAR'}, 'Id': 'a028Y00001Eu0oPQAR'}, {'attributes': {'type': 'Membership__c', 'url': '/services/data/v57.0/sobjects/Membership__c/a028Y00001Eu0oQQAR'}, 'Id': 'a028Y00001Eu0oQQAR'}, {'attributes': {'type': 'Membership__c', 'url': '/services/data/v57.0/sobjects/Membership__c/a028Y00001Eu0oRQAR'}, 'Id': 'a028Y00001Eu0oRQAR'}, {'attributes': {'type': 'Membership__c', 'url': '/services/data/v57.0/sobjects/Membership__c/a028Y00001Eu0oSQAR'}, 'Id': 'a028Y00001Eu0oSQAR'}, {'attributes': {'type': 'Membership__c', 'url': '/services/data/v57.0/sobjects/Membership__c/a028Y00001Eu0oTQAR'}, 'Id': 'a028Y00001Eu0oTQAR'}, {'attributes': {'type': 'Membership__c', 'url': '/services/data/v57.0/sobjects/Membership__c/a028Y00001Eu0oUQAR'}, 'Id': 'a028Y00001Eu0oUQAR'}, {'attributes': {'type': 'Membership__c', 'url': '/services/data/v57.0/sobjects/Membership__c/a028Y00001Eu0oVQAR'}, 'Id': 'a028Y00001Eu0oVQAR'}, {'attributes': {'type': 'Membership__c', 'url': '/services/data/v57.0/sobjects/Membership__c/a028Y00001Eu0oWQAR'}, 'Id': 'a028Y00001Eu0oWQAR'}, {'attributes': {'type': 'Membership__c', 'url': '/services/data/v57.0/sobjects/Membership__c/a028Y00001Eu0oXQAR'}, 'Id': 'a028Y00001Eu0oXQAR'}, {'attributes': {'type': 'Membership__c', 'url': '/services/data/v57.0/sobjects/Membership__c/a028Y00001Eu0oYQAR'}, 'Id': 'a028Y00001Eu0oYQAR'}, {'attributes': {'type': 'Membership__c', 'url': '/services/data/v57.0/sobjects/Membership__c/a028Y00001Eu0oZQAR'}, 'Id': 'a028Y00001Eu0oZQAR'}, {'attributes': {'type': 'Membership__c', 'url': '/services/data/v57.0/sobjects/Membership__c/a028Y00001Eu0oaQAB'}, 'Id': 'a028Y00001Eu0oaQAB'}, {'attributes': {'type': 'Membership__c', 'url': '/services/data/v57.0/sobjects/Membership__c/a028Y00001Eu0obQAB'}, 'Id': 'a028Y00001Eu0obQAB'}, {'attributes': {'type': 'Membership__c', 'url': '/services/data/v57.0/sobjects/Membership__c/a028Y00001Eu0ocQAB'}, 'Id': 'a028Y00001Eu0ocQAB'}, {'attributes': {'type': 'Membership__c', 'url': '/services/data/v57.0/sobjects/Membership__c/a028Y00001Eu0odQAB'}, 'Id': 'a028Y00001Eu0odQAB'}, {'attributes': {'type': 'Membership__c', 'url': '/services/data/v57.0/sobjects/Membership__c/a028Y00001Eu0oeQAB'}, 'Id': 'a028Y00001Eu0oeQAB'}, {'attributes': {'type': 'Membership__c', 'url': '/services/data/v57.0/sobjects/Membership__c/a028Y00001Eu0ofQAB'}, 'Id': 'a028Y00001Eu0ofQAB'}, {'attributes': {'type': 'Membership__c', 'url': '/services/data/v57.0/sobjects/Membership__c/a028Y00001Eu0ogQAB'}, 'Id': 'a028Y00001Eu0ogQAB'}, {'attributes': {'type': 'Membership__c', 'url': '/services/data/v57.0/sobjects/Membership__c/a028Y00001Eu0ohQAB'}, 'Id': 'a028Y00001Eu0ohQAB'}, {'attributes': {'type': 'Membership__c', 'url': '/services/data/v57.0/sobjects/Membership__c/a028Y00001Eu0oiQAB'}, 'Id': 'a028Y00001Eu0oiQAB'}, {'attributes': {'type': 'Membership__c', 'url': '/services/data/v57.0/sobjects/Membership__c/a028Y00001Eu0ojQAB'}, 'Id': 'a028Y00001Eu0ojQAB'}, {'attributes': {'type': 'Membership__c', 'url': '/services/data/v57.0/sobjects/Membership__c/a028Y00001Eu0okQAB'}, 'Id': 'a028Y00001Eu0okQAB'}, {'attributes': {'type': 'Membership__c', 'url': '/services/data/v57.0/sobjects/Membership__c/a028Y00001Eu0olQAB'}, 'Id': 'a028Y00001Eu0olQAB'}, {'attributes': {'type': 'Membership__c', 'url': '/services/data/v57.0/sobjects/Membership__c/a028Y00001Eu0omQAB'}, 'Id': 'a028Y00001Eu0omQAB'}, {'attributes': {'type': 'Membership__c', 'url': '/services/data/v57.0/sobjects/Membership__c/a028Y00001Eu0onQAB'}, 'Id': 'a028Y00001Eu0onQAB'}, {'attributes': {'type': 'Membership__c', 'url': '/services/data/v57.0/sobjects/Membership__c/a028Y00001Eu0ooQAB'}, 'Id': 'a028Y00001Eu0ooQAB'}, {'attributes': {'type': 'Membership__c', 'url': '/services/data/v57.0/sobjects/Membership__c/a028Y00001Eu0opQAB'}, 'Id': 'a028Y00001Eu0opQAB'}, {'attributes': {'type': 'Membership__c', 'url': '/services/data/v57.0/sobjects/Membership__c/a028Y00001Eu0oqQAB'}, 'Id': 'a028Y00001Eu0oqQAB'}, {'attributes': {'type': 'Membership__c', 'url': '/services/data/v57.0/sobjects/Membership__c/a028Y00001Eu0orQAB'}, 'Id': 'a028Y00001Eu0orQAB'}, {'attributes': {'type': 'Membership__c', 'url': '/services/data/v57.0/sobjects/Membership__c/a028Y00001Eu0osQAB'}, 'Id': 'a028Y00001Eu0osQAB'}, {'attributes': {'type': 'Membership__c', 'url': '/services/data/v57.0/sobjects/Membership__c/a028Y00001Eu0otQAB'}, 'Id': 'a028Y00001Eu0otQAB'}, {'attributes': {'type': 'Membership__c', 'url': '/services/data/v57.0/sobjects/Membership__c/a028Y00001Eu0ouQAB'}, 'Id': 'a028Y00001Eu0ouQAB'}, {'attributes': {'type': 'Membership__c', 'url': '/services/data/v57.0/sobjects/Membership__c/a028Y00001Eu0ovQAB'}, 'Id': 'a028Y00001Eu0ovQAB'}, {'attributes': {'type': 'Membership__c', 'url': '/services/data/v57.0/sobjects/Membership__c/a028Y00001Eu0owQAB'}, 'Id': 'a028Y00001Eu0owQAB'}, {'attributes': {'type': 'Membership__c', 'url': '/services/data/v57.0/sobjects/Membership__c/a028Y00001Eu0oxQAB'}, 'Id': 'a028Y00001Eu0oxQAB'}, {'attributes': {'type': 'Membership__c', 'url': '/services/data/v57.0/sobjects/Membership__c/a028Y00001Eu0oyQAB'}, 'Id': 'a028Y00001Eu0oyQAB'}, {'attributes': {'type': 'Membership__c', 'url': '/services/data/v57.0/sobjects/Membership__c/a028Y00001Eu0ozQAB'}, 'Id': 'a028Y00001Eu0ozQAB'}, {'attributes': {'type': 'Membership__c', 'url': '/services/data/v57.0/sobjects/Membership__c/a028Y00001Eu0p0QAB'}, 'Id': 'a028Y00001Eu0p0QAB'}, {'attributes': {'type': 'Membership__c', 'url': '/services/data/v57.0/sobjects/Membership__c/a028Y00001Eu0p1QAB'}, 'Id': 'a028Y00001Eu0p1QAB'}, {'attributes': {'type': 'Membership__c', 'url': '/services/data/v57.0/sobjects/Membership__c/a028Y00001Eu0p2QAB'}, 'Id': 'a028Y00001Eu0p2QAB'}, {'attributes': {'type': 'Membership__c', 'url': '/services/data/v57.0/sobjects/Membership__c/a028Y00001Eu0p3QAB'}, 'Id': 'a028Y00001Eu0p3QAB'}, {'attributes': {'type': 'Membership__c', 'url': '/services/data/v57.0/sobjects/Membership__c/a028Y00001Eu0p4QAB'}, 'Id': 'a028Y00001Eu0p4QAB'}, {'attributes': {'type': 'Membership__c', 'url': '/services/data/v57.0/sobjects/Membership__c/a028Y00001Eu0p5QAB'}, 'Id': 'a028Y00001Eu0p5QAB'}, {'attributes': {'type': 'Membership__c', 'url': '/services/data/v57.0/sobjects/Membership__c/a028Y00001Eu0p6QAB'}, 'Id': 'a028Y00001Eu0p6QAB'}, {'attributes': {'type': 'Membership__c', 'url': '/services/data/v57.0/sobjects/Membership__c/a028Y00001Eu0p7QAB'}, 'Id': 'a028Y00001Eu0p7QAB'}, {'attributes': {'type': 'Membership__c', 'url': '/services/data/v57.0/sobjects/Membership__c/a028Y00001Eu0p8QAB'}, 'Id': 'a028Y00001Eu0p8QAB'}, {'attributes': {'type': 'Membership__c', 'url': '/services/data/v57.0/sobjects/Membership__c/a028Y00001Eu0p9QAB'}, 'Id': 'a028Y00001Eu0p9QAB'}, {'attributes': {'type': 'Membership__c', 'url': '/services/data/v57.0/sobjects/Membership__c/a028Y00001Eu0pAQAR'}, 'Id': 'a028Y00001Eu0pAQAR'}, {'attributes': {'type': 'Membership__c', 'url': '/services/data/v57.0/sobjects/Membership__c/a028Y00001Eu0pBQAR'}, 'Id': 'a028Y00001Eu0pBQAR'}, {'attributes': {'type': 'Membership__c', 'url': '/services/data/v57.0/sobjects/Membership__c/a028Y00001Eu0pCQAR'}, 'Id': 'a028Y00001Eu0pCQAR'}, {'attributes': {'type': 'Membership__c', 'url': '/services/data/v57.0/sobjects/Membership__c/a028Y00001Eu0pDQAR'}, 'Id': 'a028Y00001Eu0pDQAR'}, {'attributes': {'type': 'Membership__c', 'url': '/services/data/v57.0/sobjects/Membership__c/a028Y00001Eu0pEQAR'}, 'Id': 'a028Y00001Eu0pEQAR'}, {'attributes': {'type': 'Membership__c', 'url': '/services/data/v57.0/sobjects/Membership__c/a028Y00001Eu0pFQAR'}, 'Id': 'a028Y00001Eu0pFQAR'}, {'attributes': {'type': 'Membership__c', 'url': '/services/data/v57.0/sobjects/Membership__c/a028Y00001Eu0pGQAR'}, 'Id': 'a028Y00001Eu0pGQAR'}, {'attributes': {'type': 'Membership__c', 'url': '/services/data/v57.0/sobjects/Membership__c/a028Y00001Eu0pHQAR'}, 'Id': 'a028Y00001Eu0pHQAR'}, {'attributes': {'type': 'Membership__c', 'url': '/services/data/v57.0/sobjects/Membership__c/a028Y00001Eu0pIQAR'}, 'Id': 'a028Y00001Eu0pIQAR'}, {'attributes': {'type': 'Membership__c', 'url': '/services/data/v57.0/sobjects/Membership__c/a028Y00001Eu0pJQAR'}, 'Id': 'a028Y00001Eu0pJQAR'}, {'attributes': {'type': 'Membership__c', 'url': '/services/data/v57.0/sobjects/Membership__c/a028Y00001Eu0pKQAR'}, 'Id': 'a028Y00001Eu0pKQAR'}, {'attributes': {'type': 'Membership__c', 'url': '/services/data/v57.0/sobjects/Membership__c/a028Y00001Eu0pLQAR'}, 'Id': 'a028Y00001Eu0pLQAR'}, {'attributes': {'type': 'Membership__c', 'url': '/services/data/v57.0/sobjects/Membership__c/a028Y00001Eu0pMQAR'}, 'Id': 'a028Y00001Eu0pMQAR'}, {'attributes': {'type': 'Membership__c', 'url': '/services/data/v57.0/sobjects/Membership__c/a028Y00001Eu0pNQAR'}, 'Id': 'a028Y00001Eu0pNQAR'}, {'attributes': {'type': 'Membership__c', 'url': '/services/data/v57.0/sobjects/Membership__c/a028Y00001Eu0pOQAR'}, 'Id': 'a028Y00001Eu0pOQAR'}, {'attributes': {'type': 'Membership__c', 'url': '/services/data/v57.0/sobjects/Membership__c/a028Y00001Eu0pPQAR'}, 'Id': 'a028Y00001Eu0pPQAR'}, {'attributes': {'type': 'Membership__c', 'url': '/services/data/v57.0/sobjects/Membership__c/a028Y00001Eu0pQQAR'}, 'Id': 'a028Y00001Eu0pQQAR'}, {'attributes': {'type': 'Membership__c', 'url': '/services/data/v57.0/sobjects/Membership__c/a028Y00001Eu0pRQAR'}, 'Id': 'a028Y00001Eu0pRQAR'}, {'attributes': {'type': 'Membership__c', 'url': '/services/data/v57.0/sobjects/Membership__c/a028Y00001Eu0pSQAR'}, 'Id': 'a028Y00001Eu0pSQAR'}, {'attributes': {'type': 'Membership__c', 'url': '/services/data/v57.0/sobjects/Membership__c/a028Y00001Eu0pTQAR'}, 'Id': 'a028Y00001Eu0pTQAR'}, {'attributes': {'type': 'Membership__c', 'url': '/services/data/v57.0/sobjects/Membership__c/a028Y00001Eu0pUQAR'}, 'Id': 'a028Y00001Eu0pUQAR'}, {'attributes': {'type': 'Membership__c', 'url': '/services/data/v57.0/sobjects/Membership__c/a028Y00001Eu0pVQAR'}, 'Id': 'a028Y00001Eu0pVQAR'}, {'attributes': {'type': 'Membership__c', 'url': '/services/data/v57.0/sobjects/Membership__c/a028Y00001Eu0pWQAR'}, 'Id': 'a028Y00001Eu0pWQAR'}, {'attributes': {'type': 'Membership__c', 'url': '/services/data/v57.0/sobjects/Membership__c/a028Y00001Eu0pXQAR'}, 'Id': 'a028Y00001Eu0pXQAR'}, {'attributes': {'type': 'Membership__c', 'url': '/services/data/v57.0/sobjects/Membership__c/a028Y00001Eu0pYQAR'}, 'Id': 'a028Y00001Eu0pYQAR'}, {'attributes': {'type': 'Membership__c', 'url': '/services/data/v57.0/sobjects/Membership__c/a028Y00001Eu0pZQAR'}, 'Id': 'a028Y00001Eu0pZQAR'}, {'attributes': {'type': 'Membership__c', 'url': '/services/data/v57.0/sobjects/Membership__c/a028Y00001Eu0paQAB'}, 'Id': 'a028Y00001Eu0paQAB'}, {'attributes': {'type': 'Membership__c', 'url': '/services/data/v57.0/sobjects/Membership__c/a028Y00001Eu0pbQAB'}, 'Id': 'a028Y00001Eu0pbQAB'}, {'attributes': {'type': 'Membership__c', 'url': '/services/data/v57.0/sobjects/Membership__c/a028Y00001Eu0pcQAB'}, 'Id': 'a028Y00001Eu0pcQAB'}, {'attributes': {'type': 'Membership__c', 'url': '/services/data/v57.0/sobjects/Membership__c/a028Y00001Eu0pdQAB'}, 'Id': 'a028Y00001Eu0pdQAB'}, {'attributes': {'type': 'Membership__c', 'url': '/services/data/v57.0/sobjects/Membership__c/a028Y00001Eu0peQAB'}, 'Id': 'a028Y00001Eu0peQAB'}, {'attributes': {'type': 'Membership__c', 'url': '/services/data/v57.0/sobjects/Membership__c/a028Y00001Eu0pfQAB'}, 'Id': 'a028Y00001Eu0pfQAB'}, {'attributes': {'type': 'Membership__c', 'url': '/services/data/v57.0/sobjects/Membership__c/a028Y00001Eu0pgQAB'}, 'Id': 'a028Y00001Eu0pgQAB'}, {'attributes': {'type': 'Membership__c', 'url': '/services/data/v57.0/sobjects/Membership__c/a028Y00001Eu0phQAB'}, 'Id': 'a028Y00001Eu0phQAB'}, {'attributes': {'type': 'Membership__c', 'url': '/services/data/v57.0/sobjects/Membership__c/a028Y00001Eu0piQAB'}, 'Id': 'a028Y00001Eu0piQAB'}, {'attributes': {'type': 'Membership__c', 'url': '/services/data/v57.0/sobjects/Membership__c/a028Y00001Eu0pjQAB'}, 'Id': 'a028Y00001Eu0pjQAB'}, {'attributes': {'type': 'Membership__c', 'url': '/services/data/v57.0/sobjects/Membership__c/a028Y00001Eu0pkQAB'}, 'Id': 'a028Y00001Eu0pkQAB'}, {'attributes': {'type': 'Membership__c', 'url': '/services/data/v57.0/sobjects/Membership__c/a028Y00001Eu0plQAB'}, 'Id': 'a028Y00001Eu0plQAB'}, {'attributes': {'type': 'Membership__c', 'url': '/services/data/v57.0/sobjects/Membership__c/a028Y00001Eu0pmQAB'}, 'Id': 'a028Y00001Eu0pmQAB'}, {'attributes': {'type': 'Membership__c', 'url': '/services/data/v57.0/sobjects/Membership__c/a028Y00001Eu0pnQAB'}, 'Id': 'a028Y00001Eu0pnQAB'}, {'attributes': {'type': 'Membership__c', 'url': '/services/data/v57.0/sobjects/Membership__c/a028Y00001Eu0poQAB'}, 'Id': 'a028Y00001Eu0poQAB'}, {'attributes': {'type': 'Membership__c', 'url': '/services/data/v57.0/sobjects/Membership__c/a028Y00001Eu0ppQAB'}, 'Id': 'a028Y00001Eu0ppQAB'}, {'attributes': {'type': 'Membership__c', 'url': '/services/data/v57.0/sobjects/Membership__c/a028Y00001Eu0pqQAB'}, 'Id': 'a028Y00001Eu0pqQAB'}, {'attributes': {'type': 'Membership__c', 'url': '/services/data/v57.0/sobjects/Membership__c/a028Y00001Eu0prQAB'}, 'Id': 'a028Y00001Eu0prQAB'}, {'attributes': {'type': 'Membership__c', 'url': '/services/data/v57.0/sobjects/Membership__c/a028Y00001Eu0psQAB'}, 'Id': 'a028Y00001Eu0psQAB'}, {'attributes': {'type': 'Membership__c', 'url': '/services/data/v57.0/sobjects/Membership__c/a028Y00001Eu0ptQAB'}, 'Id': 'a028Y00001Eu0ptQAB'}, {'attributes': {'type': 'Membership__c', 'url': '/services/data/v57.0/sobjects/Membership__c/a028Y00001Eu0puQAB'}, 'Id': 'a028Y00001Eu0puQAB'}, {'attributes': {'type': 'Membership__c', 'url': '/services/data/v57.0/sobjects/Membership__c/a028Y00001Eu0pvQAB'}, 'Id': 'a028Y00001Eu0pvQAB'}, {'attributes': {'type': 'Membership__c', 'url': '/services/data/v57.0/sobjects/Membership__c/a028Y00001Eu0pwQAB'}, 'Id': 'a028Y00001Eu0pwQAB'}, {'attributes': {'type': 'Membership__c', 'url': '/services/data/v57.0/sobjects/Membership__c/a028Y00001Eu0pxQAB'}, 'Id': 'a028Y00001Eu0pxQAB'}, {'attributes': {'type': 'Membership__c', 'url': '/services/data/v57.0/sobjects/Membership__c/a028Y00001Eu0pyQAB'}, 'Id': 'a028Y00001Eu0pyQAB'}, {'attributes': {'type': 'Membership__c', 'url': '/services/data/v57.0/sobjects/Membership__c/a028Y00001Eu0pzQAB'}, 'Id': 'a028Y00001Eu0pzQAB'}, {'attributes': {'type': 'Membership__c', 'url': '/services/data/v57.0/sobjects/Membership__c/a028Y00001Eu0q0QAB'}, 'Id': 'a028Y00001Eu0q0QAB'}, {'attributes': {'type': 'Membership__c', 'url': '/services/data/v57.0/sobjects/Membership__c/a028Y00001Eu0q1QAB'}, 'Id': 'a028Y00001Eu0q1QAB'}, {'attributes': {'type': 'Membership__c', 'url': '/services/data/v57.0/sobjects/Membership__c/a028Y00001Eu0q2QAB'}, 'Id': 'a028Y00001Eu0q2QAB'}, {'attributes': {'type': 'Membership__c', 'url': '/services/data/v57.0/sobjects/Membership__c/a028Y00001Eu0q3QAB'}, 'Id': 'a028Y00001Eu0q3QAB'}, {'attributes': {'type': 'Membership__c', 'url': '/services/data/v57.0/sobjects/Membership__c/a028Y00001Eu0q4QAB'}, 'Id': 'a028Y00001Eu0q4QAB'}, {'attributes': {'type': 'Membership__c', 'url': '/services/data/v57.0/sobjects/Membership__c/a028Y00001Eu0q5QAB'}, 'Id': 'a028Y00001Eu0q5QAB'}, {'attributes': {'type': 'Membership__c', 'url': '/services/data/v57.0/sobjects/Membership__c/a028Y00001Eu0q6QAB'}, 'Id': 'a028Y00001Eu0q6QAB'}, {'attributes': {'type': 'Membership__c', 'url': '/services/data/v57.0/sobjects/Membership__c/a028Y00001Eu0q7QAB'}, 'Id': 'a028Y00001Eu0q7QAB'}, {'attributes': {'type': 'Membership__c', 'url': '/services/data/v57.0/sobjects/Membership__c/a028Y00001Eu0q8QAB'}, 'Id': 'a028Y00001Eu0q8QAB'}, {'attributes': {'type': 'Membership__c', 'url': '/services/data/v57.0/sobjects/Membership__c/a028Y00001Eu0q9QAB'}, 'Id': 'a028Y00001Eu0q9QAB'}, {'attributes': {'type': 'Membership__c', 'url': '/services/data/v57.0/sobjects/Membership__c/a028Y00001Eu0qAQAR'}, 'Id': 'a028Y00001Eu0qAQAR'}, {'attributes': {'type': 'Membership__c', 'url': '/services/data/v57.0/sobjects/Membership__c/a028Y00001Eu0qBQAR'}, 'Id': 'a028Y00001Eu0qBQAR'}, {'attributes': {'type': 'Membership__c', 'url': '/services/data/v57.0/sobjects/Membership__c/a028Y00001Eu0qCQAR'}, 'Id': 'a028Y00001Eu0qCQAR'}, {'attributes': {'type': 'Membership__c', 'url': '/services/data/v57.0/sobjects/Membership__c/a028Y00001Eu0qDQAR'}, 'Id': 'a028Y00001Eu0qDQAR'}, {'attributes': {'type': 'Membership__c', 'url': '/services/data/v57.0/sobjects/Membership__c/a028Y00001Eu0qEQAR'}, 'Id': 'a028Y00001Eu0qEQAR'}, {'attributes': {'type': 'Membership__c', 'url': '/services/data/v57.0/sobjects/Membership__c/a028Y00001Eu0qFQAR'}, 'Id': 'a028Y00001Eu0qFQAR'}, {'attributes': {'type': 'Membership__c', 'url': '/services/data/v57.0/sobjects/Membership__c/a028Y00001Eu0qGQAR'}, 'Id': 'a028Y00001Eu0qGQAR'}, {'attributes': {'type': 'Membership__c', 'url': '/services/data/v57.0/sobjects/Membership__c/a028Y00001Eu0qHQAR'}, 'Id': 'a028Y00001Eu0qHQAR'}, {'attributes': {'type': 'Membership__c', 'url': '/services/data/v57.0/sobjects/Membership__c/a028Y00001Eu0qIQAR'}, 'Id': 'a028Y00001Eu0qIQAR'}, {'attributes': {'type': 'Membership__c', 'url': '/services/data/v57.0/sobjects/Membership__c/a028Y00001Eu0qJQAR'}, 'Id': 'a028Y00001Eu0qJQAR'}, {'attributes': {'type': 'Membership__c', 'url': '/services/data/v57.0/sobjects/Membership__c/a028Y00001Eu0qKQAR'}, 'Id': 'a028Y00001Eu0qKQAR'}, {'attributes': {'type': 'Membership__c', 'url': '/services/data/v57.0/sobjects/Membership__c/a028Y00001Eu0qLQAR'}, 'Id': 'a028Y00001Eu0qLQAR'}, {'attributes': {'type': 'Membership__c', 'url': '/services/data/v57.0/sobjects/Membership__c/a028Y00001Eu0qMQAR'}, 'Id': 'a028Y00001Eu0qMQAR'}, {'attributes': {'type': 'Membership__c', 'url': '/services/data/v57.0/sobjects/Membership__c/a028Y00001Eu0qNQAR'}, 'Id': 'a028Y00001Eu0qNQAR'}, {'attributes': {'type': 'Membership__c', 'url': '/services/data/v57.0/sobjects/Membership__c/a028Y00001Eu0qOQAR'}, 'Id': 'a028Y00001Eu0qOQAR'}, {'attributes': {'type': 'Membership__c', 'url': '/services/data/v57.0/sobjects/Membership__c/a028Y00001Eu0qPQAR'}, 'Id': 'a028Y00001Eu0qPQAR'}, {'attributes': {'type': 'Membership__c', 'url': '/services/data/v57.0/sobjects/Membership__c/a028Y00001Eu0qQQAR'}, 'Id': 'a028Y00001Eu0qQQAR'}, {'attributes': {'type': 'Membership__c', 'url': '/services/data/v57.0/sobjects/Membership__c/a028Y00001Eu0qRQAR'}, 'Id': 'a028Y00001Eu0qRQAR'}, {'attributes': {'type': 'Membership__c', 'url': '/services/data/v57.0/sobjects/Membership__c/a028Y00001Eu0qSQAR'}, 'Id': 'a028Y00001Eu0qSQAR'}, {'attributes': {'type': 'Membership__c', 'url': '/services/data/v57.0/sobjects/Membership__c/a028Y00001Eu0qTQAR'}, 'Id': 'a028Y00001Eu0qTQAR'}, {'attributes': {'type': 'Membership__c', 'url': '/services/data/v57.0/sobjects/Membership__c/a028Y00001Eu0qUQAR'}, 'Id': 'a028Y00001Eu0qUQAR'}, {'attributes': {'type': 'Membership__c', 'url': '/services/data/v57.0/sobjects/Membership__c/a028Y00001Eu0qVQAR'}, 'Id': 'a028Y00001Eu0qVQAR'}, {'attributes': {'type': 'Membership__c', 'url': '/services/data/v57.0/sobjects/Membership__c/a028Y00001Eu0qWQAR'}, 'Id': 'a028Y00001Eu0qWQAR'}, {'attributes': {'type': 'Membership__c', 'url': '/services/data/v57.0/sobjects/Membership__c/a028Y00001Eu0qXQAR'}, 'Id': 'a028Y00001Eu0qXQAR'}, {'attributes': {'type': 'Membership__c', 'url': '/services/data/v57.0/sobjects/Membership__c/a028Y00001Eu0qYQAR'}, 'Id': 'a028Y00001Eu0qYQAR'}, {'attributes': {'type': 'Membership__c', 'url': '/services/data/v57.0/sobjects/Membership__c/a028Y00001Eu0qZQAR'}, 'Id': 'a028Y00001Eu0qZQAR'}, {'attributes': {'type': 'Membership__c', 'url': '/services/data/v57.0/sobjects/Membership__c/a028Y00001Eu0qaQAB'}, 'Id': 'a028Y00001Eu0qaQAB'}, {'attributes': {'type': 'Membership__c', 'url': '/services/data/v57.0/sobjects/Membership__c/a028Y00001Eu0qbQAB'}, 'Id': 'a028Y00001Eu0qbQAB'}, {'attributes': {'type': 'Membership__c', 'url': '/services/data/v57.0/sobjects/Membership__c/a028Y00001Eu0qcQAB'}, 'Id': 'a028Y00001Eu0qcQAB'}, {'attributes': {'type': 'Membership__c', 'url': '/services/data/v57.0/sobjects/Membership__c/a028Y00001Eu0qdQAB'}, 'Id': 'a028Y00001Eu0qdQAB'}, {'attributes': {'type': 'Membership__c', 'url': '/services/data/v57.0/sobjects/Membership__c/a028Y00001Eu0qeQAB'}, 'Id': 'a028Y00001Eu0qeQAB'}, {'attributes': {'type': 'Membership__c', 'url': '/services/data/v57.0/sobjects/Membership__c/a028Y00001Eu0qfQAB'}, 'Id': 'a028Y00001Eu0qfQAB'}, {'attributes': {'type': 'Membership__c', 'url': '/services/data/v57.0/sobjects/Membership__c/a028Y00001Eu0qgQAB'}, 'Id': 'a028Y00001Eu0qgQAB'}, {'attributes': {'type': 'Membership__c', 'url': '/services/data/v57.0/sobjects/Membership__c/a028Y00001Eu0qhQAB'}, 'Id': 'a028Y00001Eu0qhQAB'}, {'attributes': {'type': 'Membership__c', 'url': '/services/data/v57.0/sobjects/Membership__c/a028Y00001Eu0qiQAB'}, 'Id': 'a028Y00001Eu0qiQAB'}, {'attributes': {'type': 'Membership__c', 'url': '/services/data/v57.0/sobjects/Membership__c/a028Y00001Eu0qjQAB'}, 'Id': 'a028Y00001Eu0qjQAB'}, {'attributes': {'type': 'Membership__c', 'url': '/services/data/v57.0/sobjects/Membership__c/a028Y00001Eu0qkQAB'}, 'Id': 'a028Y00001Eu0qkQAB'}, {'attributes': {'type': 'Membership__c', 'url': '/services/data/v57.0/sobjects/Membership__c/a028Y00001Eu0qlQAB'}, 'Id': 'a028Y00001Eu0qlQAB'}, {'attributes': {'type': 'Membership__c', 'url': '/services/data/v57.0/sobjects/Membership__c/a028Y00001Eu0qmQAB'}, 'Id': 'a028Y00001Eu0qmQAB'}, {'attributes': {'type': 'Membership__c', 'url': '/services/data/v57.0/sobjects/Membership__c/a028Y00001Eu0qnQAB'}, 'Id': 'a028Y00001Eu0qnQAB'}, {'attributes': {'type': 'Membership__c', 'url': '/services/data/v57.0/sobjects/Membership__c/a028Y00001Eu0qoQAB'}, 'Id': 'a028Y00001Eu0qoQAB'}, {'attributes': {'type': 'Membership__c', 'url': '/services/data/v57.0/sobjects/Membership__c/a028Y00001Eu0qpQAB'}, 'Id': 'a028Y00001Eu0qpQAB'}, {'attributes': {'type': 'Membership__c', 'url': '/services/data/v57.0/sobjects/Membership__c/a028Y00001Eu0qqQAB'}, 'Id': 'a028Y00001Eu0qqQAB'}, {'attributes': {'type': 'Membership__c', 'url': '/services/data/v57.0/sobjects/Membership__c/a028Y00001Eu0qrQAB'}, 'Id': 'a028Y00001Eu0qrQAB'}, {'attributes': {'type': 'Membership__c', 'url': '/services/data/v57.0/sobjects/Membership__c/a028Y00001Eu0qsQAB'}, 'Id': 'a028Y00001Eu0qsQAB'}, {'attributes': {'type': 'Membership__c', 'url': '/services/data/v57.0/sobjects/Membership__c/a028Y00001Eu0qtQAB'}, 'Id': 'a028Y00001Eu0qtQAB'}, {'attributes': {'type': 'Membership__c', 'url': '/services/data/v57.0/sobjects/Membership__c/a028Y00001Eu0quQAB'}, 'Id': 'a028Y00001Eu0quQAB'}, {'attributes': {'type': 'Membership__c', 'url': '/services/data/v57.0/sobjects/Membership__c/a028Y00001Eu0qvQAB'}, 'Id': 'a028Y00001Eu0qvQAB'}, {'attributes': {'type': 'Membership__c', 'url': '/services/data/v57.0/sobjects/Membership__c/a028Y00001Eu0qwQAB'}, 'Id': 'a028Y00001Eu0qwQAB'}, {'attributes': {'type': 'Membership__c', 'url': '/services/data/v57.0/sobjects/Membership__c/a028Y00001Eu0qxQAB'}, 'Id': 'a028Y00001Eu0qxQAB'}, {'attributes': {'type': 'Membership__c', 'url': '/services/data/v57.0/sobjects/Membership__c/a028Y00001Eu0qyQAB'}, 'Id': 'a028Y00001Eu0qyQAB'}, {'attributes': {'type': 'Membership__c', 'url': '/services/data/v57.0/sobjects/Membership__c/a028Y00001Eu0qzQAB'}, 'Id': 'a028Y00001Eu0qzQAB'}, {'attributes': {'type': 'Membership__c', 'url': '/services/data/v57.0/sobjects/Membership__c/a028Y00001Eu0r0QAB'}, 'Id': 'a028Y00001Eu0r0QAB'}, {'attributes': {'type': 'Membership__c', 'url': '/services/data/v57.0/sobjects/Membership__c/a028Y00001Eu0r1QAB'}, 'Id': 'a028Y00001Eu0r1QAB'}, {'attributes': {'type': 'Membership__c', 'url': '/services/data/v57.0/sobjects/Membership__c/a028Y00001Eu0r2QAB'}, 'Id': 'a028Y00001Eu0r2QAB'}, {'attributes': {'type': 'Membership__c', 'url': '/services/data/v57.0/sobjects/Membership__c/a028Y00001Eu0r3QAB'}, 'Id': 'a028Y00001Eu0r3QAB'}, {'attributes': {'type': 'Membership__c', 'url': '/services/data/v57.0/sobjects/Membership__c/a028Y00001Eu0r4QAB'}, 'Id': 'a028Y00001Eu0r4QAB'}, {'attributes': {'type': 'Membership__c', 'url': '/services/data/v57.0/sobjects/Membership__c/a028Y00001Eu0r5QAB'}, 'Id': 'a028Y00001Eu0r5QAB'}, {'attributes': {'type': 'Membership__c', 'url': '/services/data/v57.0/sobjects/Membership__c/a028Y00001Eu0r6QAB'}, 'Id': 'a028Y00001Eu0r6QAB'}, {'attributes': {'type': 'Membership__c', 'url': '/services/data/v57.0/sobjects/Membership__c/a028Y00001Eu0r7QAB'}, 'Id': 'a028Y00001Eu0r7QAB'}, {'attributes': {'type': 'Membership__c', 'url': '/services/data/v57.0/sobjects/Membership__c/a028Y00001Eu0r8QAB'}, 'Id': 'a028Y00001Eu0r8QAB'}, {'attributes': {'type': 'Membership__c', 'url': '/services/data/v57.0/sobjects/Membership__c/a028Y00001Eu0r9QAB'}, 'Id': 'a028Y00001Eu0r9QAB'}, {'attributes': {'type': 'Membership__c', 'url': '/services/data/v57.0/sobjects/Membership__c/a028Y00001Eu0rAQAR'}, 'Id': 'a028Y00001Eu0rAQAR'}, {'attributes': {'type': 'Membership__c', 'url': '/services/data/v57.0/sobjects/Membership__c/a028Y00001Eu0rBQAR'}, 'Id': 'a028Y00001Eu0rBQAR'}, {'attributes': {'type': 'Membership__c', 'url': '/services/data/v57.0/sobjects/Membership__c/a028Y00001Eu0rCQAR'}, 'Id': 'a028Y00001Eu0rCQAR'}, {'attributes': {'type': 'Membership__c', 'url': '/services/data/v57.0/sobjects/Membership__c/a028Y00001Eu0rDQAR'}, 'Id': 'a028Y00001Eu0rDQAR'}, {'attributes': {'type': 'Membership__c', 'url': '/services/data/v57.0/sobjects/Membership__c/a028Y00001Eu0rEQAR'}, 'Id': 'a028Y00001Eu0rEQAR'}, {'attributes': {'type': 'Membership__c', 'url': '/services/data/v57.0/sobjects/Membership__c/a028Y00001Eu0rFQAR'}, 'Id': 'a028Y00001Eu0rFQAR'}, {'attributes': {'type': 'Membership__c', 'url': '/services/data/v57.0/sobjects/Membership__c/a028Y00001Eu0rGQAR'}, 'Id': 'a028Y00001Eu0rGQAR'}, {'attributes': {'type': 'Membership__c', 'url': '/services/data/v57.0/sobjects/Membership__c/a028Y00001Eu0rHQAR'}, 'Id': 'a028Y00001Eu0rHQAR'}, {'attributes': {'type': 'Membership__c', 'url': '/services/data/v57.0/sobjects/Membership__c/a028Y00001Eu0rIQAR'}, 'Id': 'a028Y00001Eu0rIQAR'}, {'attributes': {'type': 'Membership__c', 'url': '/services/data/v57.0/sobjects/Membership__c/a028Y00001Eu0rJQAR'}, 'Id': 'a028Y00001Eu0rJQAR'}, {'attributes': {'type': 'Membership__c', 'url': '/services/data/v57.0/sobjects/Membership__c/a028Y00001Eu0rKQAR'}, 'Id': 'a028Y00001Eu0rKQAR'}, {'attributes': {'type': 'Membership__c', 'url': '/services/data/v57.0/sobjects/Membership__c/a028Y00001Eu0rLQAR'}, 'Id': 'a028Y00001Eu0rLQAR'}, {'attributes': {'type': 'Membership__c', 'url': '/services/data/v57.0/sobjects/Membership__c/a028Y00001Eu0rMQAR'}, 'Id': 'a028Y00001Eu0rMQAR'}, {'attributes': {'type': 'Membership__c', 'url': '/services/data/v57.0/sobjects/Membership__c/a028Y00001Eu0rNQAR'}, 'Id': 'a028Y00001Eu0rNQAR'}, {'attributes': {'type': 'Membership__c', 'url': '/services/data/v57.0/sobjects/Membership__c/a028Y00001Eu0rOQAR'}, 'Id': 'a028Y00001Eu0rOQAR'}, {'attributes': {'type': 'Membership__c', 'url': '/services/data/v57.0/sobjects/Membership__c/a028Y00001Eu0rPQAR'}, 'Id': 'a028Y00001Eu0rPQAR'}, {'attributes': {'type': 'Membership__c', 'url': '/services/data/v57.0/sobjects/Membership__c/a028Y00001Eu0rQQAR'}, 'Id': 'a028Y00001Eu0rQQAR'}, {'attributes': {'type': 'Membership__c', 'url': '/services/data/v57.0/sobjects/Membership__c/a028Y00001Eu0rRQAR'}, 'Id': 'a028Y00001Eu0rRQAR'}, {'attributes': {'type': 'Membership__c', 'url': '/services/data/v57.0/sobjects/Membership__c/a028Y00001Eu0rSQAR'}, 'Id': 'a028Y00001Eu0rSQAR'}, {'attributes': {'type': 'Membership__c', 'url': '/services/data/v57.0/sobjects/Membership__c/a028Y00001Eu0rTQAR'}, 'Id': 'a028Y00001Eu0rTQAR'}, {'attributes': {'type': 'Membership__c', 'url': '/services/data/v57.0/sobjects/Membership__c/a028Y00001Eu0rUQAR'}, 'Id': 'a028Y00001Eu0rUQAR'}, {'attributes': {'type': 'Membership__c', 'url': '/services/data/v57.0/sobjects/Membership__c/a028Y00001Eu0rVQAR'}, 'Id': 'a028Y00001Eu0rVQAR'}, {'attributes': {'type': 'Membership__c', 'url': '/services/data/v57.0/sobjects/Membership__c/a028Y00001Eu0rWQAR'}, 'Id': 'a028Y00001Eu0rWQAR'}, {'attributes': {'type': 'Membership__c', 'url': '/services/data/v57.0/sobjects/Membership__c/a028Y00001Eu0rXQAR'}, 'Id': 'a028Y00001Eu0rXQAR'}, {'attributes': {'type': 'Membership__c', 'url': '/services/data/v57.0/sobjects/Membership__c/a028Y00001Eu0rYQAR'}, 'Id': 'a028Y00001Eu0rYQAR'}, {'attributes': {'type': 'Membership__c', 'url': '/services/data/v57.0/sobjects/Membership__c/a028Y00001Eu0rZQAR'}, 'Id': 'a028Y00001Eu0rZQAR'}, {'attributes': {'type': 'Membership__c', 'url': '/services/data/v57.0/sobjects/Membership__c/a028Y00001Eu0raQAB'}, 'Id': 'a028Y00001Eu0raQAB'}, {'attributes': {'type': 'Membership__c', 'url': '/services/data/v57.0/sobjects/Membership__c/a028Y00001Eu0rbQAB'}, 'Id': 'a028Y00001Eu0rbQAB'}, {'attributes': {'type': 'Membership__c', 'url': '/services/data/v57.0/sobjects/Membership__c/a028Y00001Eu0rcQAB'}, 'Id': 'a028Y00001Eu0rcQAB'}, {'attributes': {'type': 'Membership__c', 'url': '/services/data/v57.0/sobjects/Membership__c/a028Y00001Eu0rdQAB'}, 'Id': 'a028Y00001Eu0rdQAB'}, {'attributes': {'type': 'Membership__c', 'url': '/services/data/v57.0/sobjects/Membership__c/a028Y00001Eu0reQAB'}, 'Id': 'a028Y00001Eu0reQAB'}, {'attributes': {'type': 'Membership__c', 'url': '/services/data/v57.0/sobjects/Membership__c/a028Y00001Eu0rfQAB'}, 'Id': 'a028Y00001Eu0rfQAB'}, {'attributes': {'type': 'Membership__c', 'url': '/services/data/v57.0/sobjects/Membership__c/a028Y00001Eu0rgQAB'}, 'Id': 'a028Y00001Eu0rgQAB'}, {'attributes': {'type': 'Membership__c', 'url': '/services/data/v57.0/sobjects/Membership__c/a028Y00001Eu0rhQAB'}, 'Id': 'a028Y00001Eu0rhQAB'}, {'attributes': {'type': 'Membership__c', 'url': '/services/data/v57.0/sobjects/Membership__c/a028Y00001Eu0riQAB'}, 'Id': 'a028Y00001Eu0riQAB'}, {'attributes': {'type': 'Membership__c', 'url': '/services/data/v57.0/sobjects/Membership__c/a028Y00001Eu0rjQAB'}, 'Id': 'a028Y00001Eu0rjQAB'}, {'attributes': {'type': 'Membership__c', 'url': '/services/data/v57.0/sobjects/Membership__c/a028Y00001Eu0rkQAB'}, 'Id': 'a028Y00001Eu0rkQAB'}, {'attributes': {'type': 'Membership__c', 'url': '/services/data/v57.0/sobjects/Membership__c/a028Y00001Eu0rlQAB'}, 'Id': 'a028Y00001Eu0rlQAB'}, {'attributes': {'type': 'Membership__c', 'url': '/services/data/v57.0/sobjects/Membership__c/a028Y00001Eu0rmQAB'}, 'Id': 'a028Y00001Eu0rmQAB'}, {'attributes': {'type': 'Membership__c', 'url': '/services/data/v57.0/sobjects/Membership__c/a028Y00001Eu0rnQAB'}, 'Id': 'a028Y00001Eu0rnQAB'}, {'attributes': {'type': 'Membership__c', 'url': '/services/data/v57.0/sobjects/Membership__c/a028Y00001Eu0roQAB'}, 'Id': 'a028Y00001Eu0roQAB'}, {'attributes': {'type': 'Membership__c', 'url': '/services/data/v57.0/sobjects/Membership__c/a028Y00001Eu0rpQAB'}, 'Id': 'a028Y00001Eu0rpQAB'}, {'attributes': {'type': 'Membership__c', 'url': '/services/data/v57.0/sobjects/Membership__c/a028Y00001Eu0rqQAB'}, 'Id': 'a028Y00001Eu0rqQAB'}, {'attributes': {'type': 'Membership__c', 'url': '/services/data/v57.0/sobjects/Membership__c/a028Y00001Eu0rrQAB'}, 'Id': 'a028Y00001Eu0rrQAB'}, {'attributes': {'type': 'Membership__c', 'url': '/services/data/v57.0/sobjects/Membership__c/a028Y00001Eu0rsQAB'}, 'Id': 'a028Y00001Eu0rsQAB'}, {'attributes': {'type': 'Membership__c', 'url': '/services/data/v57.0/sobjects/Membership__c/a028Y00001Eu0rtQAB'}, 'Id': 'a028Y00001Eu0rtQAB'}, {'attributes': {'type': 'Membership__c', 'url': '/services/data/v57.0/sobjects/Membership__c/a028Y00001Eu0ruQAB'}, 'Id': 'a028Y00001Eu0ruQAB'}, {'attributes': {'type': 'Membership__c', 'url': '/services/data/v57.0/sobjects/Membership__c/a028Y00001Eu0rvQAB'}, 'Id': 'a028Y00001Eu0rvQAB'}, {'attributes': {'type': 'Membership__c', 'url': '/services/data/v57.0/sobjects/Membership__c/a028Y00001Eu0rwQAB'}, 'Id': 'a028Y00001Eu0rwQAB'}, {'attributes': {'type': 'Membership__c', 'url': '/services/data/v57.0/sobjects/Membership__c/a028Y00001Eu0rxQAB'}, 'Id': 'a028Y00001Eu0rxQAB'}, {'attributes': {'type': 'Membership__c', 'url': '/services/data/v57.0/sobjects/Membership__c/a028Y00001Eu0ryQAB'}, 'Id': 'a028Y00001Eu0ryQAB'}, {'attributes': {'type': 'Membership__c', 'url': '/services/data/v57.0/sobjects/Membership__c/a028Y00001Eu0rzQAB'}, 'Id': 'a028Y00001Eu0rzQAB'}, {'attributes': {'type': 'Membership__c', 'url': '/services/data/v57.0/sobjects/Membership__c/a028Y00001Eu0s0QAB'}, 'Id': 'a028Y00001Eu0s0QAB'}, {'attributes': {'type': 'Membership__c', 'url': '/services/data/v57.0/sobjects/Membership__c/a028Y00001Eu0s1QAB'}, 'Id': 'a028Y00001Eu0s1QAB'}, {'attributes': {'type': 'Membership__c', 'url': '/services/data/v57.0/sobjects/Membership__c/a028Y00001Eu0s2QAB'}, 'Id': 'a028Y00001Eu0s2QAB'}, {'attributes': {'type': 'Membership__c', 'url': '/services/data/v57.0/sobjects/Membership__c/a028Y00001Eu0s3QAB'}, 'Id': 'a028Y00001Eu0s3QAB'}, {'attributes': {'type': 'Membership__c', 'url': '/services/data/v57.0/sobjects/Membership__c/a028Y00001Eu0s4QAB'}, 'Id': 'a028Y00001Eu0s4QAB'}, {'attributes': {'type': 'Membership__c', 'url': '/services/data/v57.0/sobjects/Membership__c/a028Y00001Eu0s5QAB'}, 'Id': 'a028Y00001Eu0s5QAB'}, {'attributes': {'type': 'Membership__c', 'url': '/services/data/v57.0/sobjects/Membership__c/a028Y00001Eu0s6QAB'}, 'Id': 'a028Y00001Eu0s6QAB'}, {'attributes': {'type': 'Membership__c', 'url': '/services/data/v57.0/sobjects/Membership__c/a028Y00001Eu0s7QAB'}, 'Id': 'a028Y00001Eu0s7QAB'}, {'attributes': {'type': 'Membership__c', 'url': '/services/data/v57.0/sobjects/Membership__c/a028Y00001Eu0s8QAB'}, 'Id': 'a028Y00001Eu0s8QAB'}, {'attributes': {'type': 'Membership__c', 'url': '/services/data/v57.0/sobjects/Membership__c/a028Y00001Eu0s9QAB'}, 'Id': 'a028Y00001Eu0s9QAB'}, {'attributes': {'type': 'Membership__c', 'url': '/services/data/v57.0/sobjects/Membership__c/a028Y00001Eu0sAQAR'}, 'Id': 'a028Y00001Eu0sAQAR'}, {'attributes': {'type': 'Membership__c', 'url': '/services/data/v57.0/sobjects/Membership__c/a028Y00001Eu0sBQAR'}, 'Id': 'a028Y00001Eu0sBQAR'}, {'attributes': {'type': 'Membership__c', 'url': '/services/data/v57.0/sobjects/Membership__c/a028Y00001Eu0sCQAR'}, 'Id': 'a028Y00001Eu0sCQAR'}, {'attributes': {'type': 'Membership__c', 'url': '/services/data/v57.0/sobjects/Membership__c/a028Y00001Eu0sDQAR'}, 'Id': 'a028Y00001Eu0sDQAR'}, {'attributes': {'type': 'Membership__c', 'url': '/services/data/v57.0/sobjects/Membership__c/a028Y00001Eu0sEQAR'}, 'Id': 'a028Y00001Eu0sEQAR'}, {'attributes': {'type': 'Membership__c', 'url': '/services/data/v57.0/sobjects/Membership__c/a028Y00001Eu0sFQAR'}, 'Id': 'a028Y00001Eu0sFQAR'}, {'attributes': {'type': 'Membership__c', 'url': '/services/data/v57.0/sobjects/Membership__c/a028Y00001Eu0sGQAR'}, 'Id': 'a028Y00001Eu0sGQAR'}, {'attributes': {'type': 'Membership__c', 'url': '/services/data/v57.0/sobjects/Membership__c/a028Y00001Eu0sHQAR'}, 'Id': 'a028Y00001Eu0sHQAR'}, {'attributes': {'type': 'Membership__c', 'url': '/services/data/v57.0/sobjects/Membership__c/a028Y00001Eu0sIQAR'}, 'Id': 'a028Y00001Eu0sIQAR'}, {'attributes': {'type': 'Membership__c', 'url': '/services/data/v57.0/sobjects/Membership__c/a028Y00001Eu0sJQAR'}, 'Id': 'a028Y00001Eu0sJQAR'}, {'attributes': {'type': 'Membership__c', 'url': '/services/data/v57.0/sobjects/Membership__c/a028Y00001Eu0sKQAR'}, 'Id': 'a028Y00001Eu0sKQAR'}, {'attributes': {'type': 'Membership__c', 'url': '/services/data/v57.0/sobjects/Membership__c/a028Y00001Eu0sLQAR'}, 'Id': 'a028Y00001Eu0sLQAR'}, {'attributes': {'type': 'Membership__c', 'url': '/services/data/v57.0/sobjects/Membership__c/a028Y00001Eu0sMQAR'}, 'Id': 'a028Y00001Eu0sMQAR'}, {'attributes': {'type': 'Membership__c', 'url': '/services/data/v57.0/sobjects/Membership__c/a028Y00001Eu0sNQAR'}, 'Id': 'a028Y00001Eu0sNQAR'}, {'attributes': {'type': 'Membership__c', 'url': '/services/data/v57.0/sobjects/Membership__c/a028Y00001Eu0sOQAR'}, 'Id': 'a028Y00001Eu0sOQAR'}, {'attributes': {'type': 'Membership__c', 'url': '/services/data/v57.0/sobjects/Membership__c/a028Y00001Eu0sPQAR'}, 'Id': 'a028Y00001Eu0sPQAR'}, {'attributes': {'type': 'Membership__c', 'url': '/services/data/v57.0/sobjects/Membership__c/a028Y00001Eu0sQQAR'}, 'Id': 'a028Y00001Eu0sQQAR'}, {'attributes': {'type': 'Membership__c', 'url': '/services/data/v57.0/sobjects/Membership__c/a028Y00001Eu0sRQAR'}, 'Id': 'a028Y00001Eu0sRQAR'}, {'attributes': {'type': 'Membership__c', 'url': '/services/data/v57.0/sobjects/Membership__c/a028Y00001Eu0sSQAR'}, 'Id': 'a028Y00001Eu0sSQAR'}, {'attributes': {'type': 'Membership__c', 'url': '/services/data/v57.0/sobjects/Membership__c/a028Y00001Eu0sTQAR'}, 'Id': 'a028Y00001Eu0sTQAR'}, {'attributes': {'type': 'Membership__c', 'url': '/services/data/v57.0/sobjects/Membership__c/a028Y00001Eu0sUQAR'}, 'Id': 'a028Y00001Eu0sUQAR'}, {'attributes': {'type': 'Membership__c', 'url': '/services/data/v57.0/sobjects/Membership__c/a028Y00001Eu0sVQAR'}, 'Id': 'a028Y00001Eu0sVQAR'}, {'attributes': {'type': 'Membership__c', 'url': '/services/data/v57.0/sobjects/Membership__c/a028Y00001Eu0sWQAR'}, 'Id': 'a028Y00001Eu0sWQAR'}, {'attributes': {'type': 'Membership__c', 'url': '/services/data/v57.0/sobjects/Membership__c/a028Y00001Eu0sXQAR'}, 'Id': 'a028Y00001Eu0sXQAR'}, {'attributes': {'type': 'Membership__c', 'url': '/services/data/v57.0/sobjects/Membership__c/a028Y00001Eu0sYQAR'}, 'Id': 'a028Y00001Eu0sYQAR'}, {'attributes': {'type': 'Membership__c', 'url': '/services/data/v57.0/sobjects/Membership__c/a028Y00001Eu0sZQAR'}, 'Id': 'a028Y00001Eu0sZQAR'}, {'attributes': {'type': 'Membership__c', 'url': '/services/data/v57.0/sobjects/Membership__c/a028Y00001Eu0saQAB'}, 'Id': 'a028Y00001Eu0saQAB'}, {'attributes': {'type': 'Membership__c', 'url': '/services/data/v57.0/sobjects/Membership__c/a028Y00001Eu0sbQAB'}, 'Id': 'a028Y00001Eu0sbQAB'}, {'attributes': {'type': 'Membership__c', 'url': '/services/data/v57.0/sobjects/Membership__c/a028Y00001Eu0scQAB'}, 'Id': 'a028Y00001Eu0scQAB'}, {'attributes': {'type': 'Membership__c', 'url': '/services/data/v57.0/sobjects/Membership__c/a028Y00001Eu0sdQAB'}, 'Id': 'a028Y00001Eu0sdQAB'}, {'attributes': {'type': 'Membership__c', 'url': '/services/data/v57.0/sobjects/Membership__c/a028Y00001Eu0seQAB'}, 'Id': 'a028Y00001Eu0seQAB'}, {'attributes': {'type': 'Membership__c', 'url': '/services/data/v57.0/sobjects/Membership__c/a028Y00001Eu0sfQAB'}, 'Id': 'a028Y00001Eu0sfQAB'}, {'attributes': {'type': 'Membership__c', 'url': '/services/data/v57.0/sobjects/Membership__c/a028Y00001Eu0sgQAB'}, 'Id': 'a028Y00001Eu0sgQAB'}, {'attributes': {'type': 'Membership__c', 'url': '/services/data/v57.0/sobjects/Membership__c/a028Y00001Eu0shQAB'}, 'Id': 'a028Y00001Eu0shQAB'}, {'attributes': {'type': 'Membership__c', 'url': '/services/data/v57.0/sobjects/Membership__c/a028Y00001Eu0siQAB'}, 'Id': 'a028Y00001Eu0siQAB'}, {'attributes': {'type': 'Membership__c', 'url': '/services/data/v57.0/sobjects/Membership__c/a028Y00001Eu0sjQAB'}, 'Id': 'a028Y00001Eu0sjQAB'}, {'attributes': {'type': 'Membership__c', 'url': '/services/data/v57.0/sobjects/Membership__c/a028Y00001Eu0skQAB'}, 'Id': 'a028Y00001Eu0skQAB'}, {'attributes': {'type': 'Membership__c', 'url': '/services/data/v57.0/sobjects/Membership__c/a028Y00001Eu0slQAB'}, 'Id': 'a028Y00001Eu0slQAB'}, {'attributes': {'type': 'Membership__c', 'url': '/services/data/v57.0/sobjects/Membership__c/a028Y00001Eu0smQAB'}, 'Id': 'a028Y00001Eu0smQAB'}, {'attributes': {'type': 'Membership__c', 'url': '/services/data/v57.0/sobjects/Membership__c/a028Y00001Eu0snQAB'}, 'Id': 'a028Y00001Eu0snQAB'}, {'attributes': {'type': 'Membership__c', 'url': '/services/data/v57.0/sobjects/Membership__c/a028Y00001Eu0soQAB'}, 'Id': 'a028Y00001Eu0soQAB'}, {'attributes': {'type': 'Membership__c', 'url': '/services/data/v57.0/sobjects/Membership__c/a028Y00001Eu0spQAB'}, 'Id': 'a028Y00001Eu0spQAB'}, {'attributes': {'type': 'Membership__c', 'url': '/services/data/v57.0/sobjects/Membership__c/a028Y00001Eu0sqQAB'}, 'Id': 'a028Y00001Eu0sqQAB'}, {'attributes': {'type': 'Membership__c', 'url': '/services/data/v57.0/sobjects/Membership__c/a028Y00001Eu0srQAB'}, 'Id': 'a028Y00001Eu0srQAB'}, {'attributes': {'type': 'Membership__c', 'url': '/services/data/v57.0/sobjects/Membership__c/a028Y00001Eu0ssQAB'}, 'Id': 'a028Y00001Eu0ssQAB'}, {'attributes': {'type': 'Membership__c', 'url': '/services/data/v57.0/sobjects/Membership__c/a028Y00001Eu0stQAB'}, 'Id': 'a028Y00001Eu0stQAB'}, {'attributes': {'type': 'Membership__c', 'url': '/services/data/v57.0/sobjects/Membership__c/a028Y00001Eu0suQAB'}, 'Id': 'a028Y00001Eu0suQAB'}, {'attributes': {'type': 'Membership__c', 'url': '/services/data/v57.0/sobjects/Membership__c/a028Y00001Eu0svQAB'}, 'Id': 'a028Y00001Eu0svQAB'}, {'attributes': {'type': 'Membership__c', 'url': '/services/data/v57.0/sobjects/Membership__c/a028Y00001Eu0swQAB'}, 'Id': 'a028Y00001Eu0swQAB'}, {'attributes': {'type': 'Membership__c', 'url': '/services/data/v57.0/sobjects/Membership__c/a028Y00001Eu0sxQAB'}, 'Id': 'a028Y00001Eu0sxQAB'}, {'attributes': {'type': 'Membership__c', 'url': '/services/data/v57.0/sobjects/Membership__c/a028Y00001Eu0syQAB'}, 'Id': 'a028Y00001Eu0syQAB'}, {'attributes': {'type': 'Membership__c', 'url': '/services/data/v57.0/sobjects/Membership__c/a028Y00001Eu0szQAB'}, 'Id': 'a028Y00001Eu0szQAB'}, {'attributes': {'type': 'Membership__c', 'url': '/services/data/v57.0/sobjects/Membership__c/a028Y00001Eu0t0QAB'}, 'Id': 'a028Y00001Eu0t0QAB'}, {'attributes': {'type': 'Membership__c', 'url': '/services/data/v57.0/sobjects/Membership__c/a028Y00001Eu0t1QAB'}, 'Id': 'a028Y00001Eu0t1QAB'}, {'attributes': {'type': 'Membership__c', 'url': '/services/data/v57.0/sobjects/Membership__c/a028Y00001Eu0t2QAB'}, 'Id': 'a028Y00001Eu0t2QAB'}, {'attributes': {'type': 'Membership__c', 'url': '/services/data/v57.0/sobjects/Membership__c/a028Y00001Eu0t3QAB'}, 'Id': 'a028Y00001Eu0t3QAB'}, {'attributes': {'type': 'Membership__c', 'url': '/services/data/v57.0/sobjects/Membership__c/a028Y00001Eu0t4QAB'}, 'Id': 'a028Y00001Eu0t4QAB'}, {'attributes': {'type': 'Membership__c', 'url': '/services/data/v57.0/sobjects/Membership__c/a028Y00001Eu0t5QAB'}, 'Id': 'a028Y00001Eu0t5QAB'}, {'attributes': {'type': 'Membership__c', 'url': '/services/data/v57.0/sobjects/Membership__c/a028Y00001Eu0t6QAB'}, 'Id': 'a028Y00001Eu0t6QAB'}, {'attributes': {'type': 'Membership__c', 'url': '/services/data/v57.0/sobjects/Membership__c/a028Y00001Eu0t7QAB'}, 'Id': 'a028Y00001Eu0t7QAB'}, {'attributes': {'type': 'Membership__c', 'url': '/services/data/v57.0/sobjects/Membership__c/a028Y00001Eu0t8QAB'}, 'Id': 'a028Y00001Eu0t8QAB'}, {'attributes': {'type': 'Membership__c', 'url': '/services/data/v57.0/sobjects/Membership__c/a028Y00001Eu0t9QAB'}, 'Id': 'a028Y00001Eu0t9QAB'}, {'attributes': {'type': 'Membership__c', 'url': '/services/data/v57.0/sobjects/Membership__c/a028Y00001Eu0tAQAR'}, 'Id': 'a028Y00001Eu0tAQAR'}, {'attributes': {'type': 'Membership__c', 'url': '/services/data/v57.0/sobjects/Membership__c/a028Y00001Eu0tBQAR'}, 'Id': 'a028Y00001Eu0tBQAR'}, {'attributes': {'type': 'Membership__c', 'url': '/services/data/v57.0/sobjects/Membership__c/a028Y00001Eu0tCQAR'}, 'Id': 'a028Y00001Eu0tCQAR'}, {'attributes': {'type': 'Membership__c', 'url': '/services/data/v57.0/sobjects/Membership__c/a028Y00001Eu0tDQAR'}, 'Id': 'a028Y00001Eu0tDQAR'}, {'attributes': {'type': 'Membership__c', 'url': '/services/data/v57.0/sobjects/Membership__c/a028Y00001Eu0tEQAR'}, 'Id': 'a028Y00001Eu0tEQAR'}, {'attributes': {'type': 'Membership__c', 'url': '/services/data/v57.0/sobjects/Membership__c/a028Y00001Eu0tFQAR'}, 'Id': 'a028Y00001Eu0tFQAR'}, {'attributes': {'type': 'Membership__c', 'url': '/services/data/v57.0/sobjects/Membership__c/a028Y00001Eu0tGQAR'}, 'Id': 'a028Y00001Eu0tGQAR'}, {'attributes': {'type': 'Membership__c', 'url': '/services/data/v57.0/sobjects/Membership__c/a028Y00001Eu0tHQAR'}, 'Id': 'a028Y00001Eu0tHQAR'}, {'attributes': {'type': 'Membership__c', 'url': '/services/data/v57.0/sobjects/Membership__c/a028Y00001Eu0tIQAR'}, 'Id': 'a028Y00001Eu0tIQAR'}, {'attributes': {'type': 'Membership__c', 'url': '/services/data/v57.0/sobjects/Membership__c/a028Y00001Eu0tJQAR'}, 'Id': 'a028Y00001Eu0tJQAR'}, {'attributes': {'type': 'Membership__c', 'url': '/services/data/v57.0/sobjects/Membership__c/a028Y00001Eu0tKQAR'}, 'Id': 'a028Y00001Eu0tKQAR'}, {'attributes': {'type': 'Membership__c', 'url': '/services/data/v57.0/sobjects/Membership__c/a028Y00001Eu0tLQAR'}, 'Id': 'a028Y00001Eu0tLQAR'}, {'attributes': {'type': 'Membership__c', 'url': '/services/data/v57.0/sobjects/Membership__c/a028Y00001Eu0tMQAR'}, 'Id': 'a028Y00001Eu0tMQAR'}, {'attributes': {'type': 'Membership__c', 'url': '/services/data/v57.0/sobjects/Membership__c/a028Y00001Eu0tNQAR'}, 'Id': 'a028Y00001Eu0tNQAR'}, {'attributes': {'type': 'Membership__c', 'url': '/services/data/v57.0/sobjects/Membership__c/a028Y00001Eu0tOQAR'}, 'Id': 'a028Y00001Eu0tOQAR'}, {'attributes': {'type': 'Membership__c', 'url': '/services/data/v57.0/sobjects/Membership__c/a028Y00001Eu0tPQAR'}, 'Id': 'a028Y00001Eu0tPQAR'}, {'attributes': {'type': 'Membership__c', 'url': '/services/data/v57.0/sobjects/Membership__c/a028Y00001Eu0tQQAR'}, 'Id': 'a028Y00001Eu0tQQAR'}, {'attributes': {'type': 'Membership__c', 'url': '/services/data/v57.0/sobjects/Membership__c/a028Y00001Eu0tRQAR'}, 'Id': 'a028Y00001Eu0tRQAR'}, {'attributes': {'type': 'Membership__c', 'url': '/services/data/v57.0/sobjects/Membership__c/a028Y00001Eu0tSQAR'}, 'Id': 'a028Y00001Eu0tSQAR'}, {'attributes': {'type': 'Membership__c', 'url': '/services/data/v57.0/sobjects/Membership__c/a028Y00001Eu0tTQAR'}, 'Id': 'a028Y00001Eu0tTQAR'}, {'attributes': {'type': 'Membership__c', 'url': '/services/data/v57.0/sobjects/Membership__c/a028Y00001Eu0tUQAR'}, 'Id': 'a028Y00001Eu0tUQAR'}, {'attributes': {'type': 'Membership__c', 'url': '/services/data/v57.0/sobjects/Membership__c/a028Y00001Eu0tVQAR'}, 'Id': 'a028Y00001Eu0tVQAR'}, {'attributes': {'type': 'Membership__c', 'url': '/services/data/v57.0/sobjects/Membership__c/a028Y00001Eu0tWQAR'}, 'Id': 'a028Y00001Eu0tWQAR'}, {'attributes': {'type': 'Membership__c', 'url': '/services/data/v57.0/sobjects/Membership__c/a028Y00001Eu0tXQAR'}, 'Id': 'a028Y00001Eu0tXQAR'}, {'attributes': {'type': 'Membership__c', 'url': '/services/data/v57.0/sobjects/Membership__c/a028Y00001Eu0tYQAR'}, 'Id': 'a028Y00001Eu0tYQAR'}, {'attributes': {'type': 'Membership__c', 'url': '/services/data/v57.0/sobjects/Membership__c/a028Y00001Eu0tZQAR'}, 'Id': 'a028Y00001Eu0tZQAR'}, {'attributes': {'type': 'Membership__c', 'url': '/services/data/v57.0/sobjects/Membership__c/a028Y00001Eu0taQAB'}, 'Id': 'a028Y00001Eu0taQAB'}, {'attributes': {'type': 'Membership__c', 'url': '/services/data/v57.0/sobjects/Membership__c/a028Y00001Eu0tbQAB'}, 'Id': 'a028Y00001Eu0tbQAB'}, {'attributes': {'type': 'Membership__c', 'url': '/services/data/v57.0/sobjects/Membership__c/a028Y00001Eu0tcQAB'}, 'Id': 'a028Y00001Eu0tcQAB'}, {'attributes': {'type': 'Membership__c', 'url': '/services/data/v57.0/sobjects/Membership__c/a028Y00001Eu0tdQAB'}, 'Id': 'a028Y00001Eu0tdQAB'}, {'attributes': {'type': 'Membership__c', 'url': '/services/data/v57.0/sobjects/Membership__c/a028Y00001Eu0teQAB'}, 'Id': 'a028Y00001Eu0teQAB'}, {'attributes': {'type': 'Membership__c', 'url': '/services/data/v57.0/sobjects/Membership__c/a028Y00001Eu0tfQAB'}, 'Id': 'a028Y00001Eu0tfQAB'}, {'attributes': {'type': 'Membership__c', 'url': '/services/data/v57.0/sobjects/Membership__c/a028Y00001Eu0tgQAB'}, 'Id': 'a028Y00001Eu0tgQAB'}, {'attributes': {'type': 'Membership__c', 'url': '/services/data/v57.0/sobjects/Membership__c/a028Y00001Eu0thQAB'}, 'Id': 'a028Y00001Eu0thQAB'}, {'attributes': {'type': 'Membership__c', 'url': '/services/data/v57.0/sobjects/Membership__c/a028Y00001Eu0tiQAB'}, 'Id': 'a028Y00001Eu0tiQAB'}, {'attributes': {'type': 'Membership__c', 'url': '/services/data/v57.0/sobjects/Membership__c/a028Y00001Eu0tjQAB'}, 'Id': 'a028Y00001Eu0tjQAB'}, {'attributes': {'type': 'Membership__c', 'url': '/services/data/v57.0/sobjects/Membership__c/a028Y00001Eu0tkQAB'}, 'Id': 'a028Y00001Eu0tkQAB'}, {'attributes': {'type': 'Membership__c', 'url': '/services/data/v57.0/sobjects/Membership__c/a028Y00001Eu0tlQAB'}, 'Id': 'a028Y00001Eu0tlQAB'}, {'attributes': {'type': 'Membership__c', 'url': '/services/data/v57.0/sobjects/Membership__c/a028Y00001Eu0tmQAB'}, 'Id': 'a028Y00001Eu0tmQAB'}, {'attributes': {'type': 'Membership__c', 'url': '/services/data/v57.0/sobjects/Membership__c/a028Y00001Eu0tnQAB'}, 'Id': 'a028Y00001Eu0tnQAB'}, {'attributes': {'type': 'Membership__c', 'url': '/services/data/v57.0/sobjects/Membership__c/a028Y00001Eu0toQAB'}, 'Id': 'a028Y00001Eu0toQAB'}, {'attributes': {'type': 'Membership__c', 'url': '/services/data/v57.0/sobjects/Membership__c/a028Y00001Eu0tpQAB'}, 'Id': 'a028Y00001Eu0tpQAB'}, {'attributes': {'type': 'Membership__c', 'url': '/services/data/v57.0/sobjects/Membership__c/a028Y00001Eu0tqQAB'}, 'Id': 'a028Y00001Eu0tqQAB'}, {'attributes': {'type': 'Membership__c', 'url': '/services/data/v57.0/sobjects/Membership__c/a028Y00001Eu0trQAB'}, 'Id': 'a028Y00001Eu0trQAB'}, {'attributes': {'type': 'Membership__c', 'url': '/services/data/v57.0/sobjects/Membership__c/a028Y00001Eu0tsQAB'}, 'Id': 'a028Y00001Eu0tsQAB'}, {'attributes': {'type': 'Membership__c', 'url': '/services/data/v57.0/sobjects/Membership__c/a028Y00001Eu0ttQAB'}, 'Id': 'a028Y00001Eu0ttQAB'}, {'attributes': {'type': 'Membership__c', 'url': '/services/data/v57.0/sobjects/Membership__c/a028Y00001Eu0tuQAB'}, 'Id': 'a028Y00001Eu0tuQAB'}, {'attributes': {'type': 'Membership__c', 'url': '/services/data/v57.0/sobjects/Membership__c/a028Y00001Eu0tvQAB'}, 'Id': 'a028Y00001Eu0tvQAB'}, {'attributes': {'type': 'Membership__c', 'url': '/services/data/v57.0/sobjects/Membership__c/a028Y00001Eu0twQAB'}, 'Id': 'a028Y00001Eu0twQAB'}, {'attributes': {'type': 'Membership__c', 'url': '/services/data/v57.0/sobjects/Membership__c/a028Y00001Eu0txQAB'}, 'Id': 'a028Y00001Eu0txQAB'}, {'attributes': {'type': 'Membership__c', 'url': '/services/data/v57.0/sobjects/Membership__c/a028Y00001Eu0tyQAB'}, 'Id': 'a028Y00001Eu0tyQAB'}, {'attributes': {'type': 'Membership__c', 'url': '/services/data/v57.0/sobjects/Membership__c/a028Y00001Eu0tzQAB'}, 'Id': 'a028Y00001Eu0tzQAB'}, {'attributes': {'type': 'Membership__c', 'url': '/services/data/v57.0/sobjects/Membership__c/a028Y00001Eu0u0QAB'}, 'Id': 'a028Y00001Eu0u0QAB'}, {'attributes': {'type': 'Membership__c', 'url': '/services/data/v57.0/sobjects/Membership__c/a028Y00001Eu0u1QAB'}, 'Id': 'a028Y00001Eu0u1QAB'}, {'attributes': {'type': 'Membership__c', 'url': '/services/data/v57.0/sobjects/Membership__c/a028Y00001Eu0u2QAB'}, 'Id': 'a028Y00001Eu0u2QAB'}, {'attributes': {'type': 'Membership__c', 'url': '/services/data/v57.0/sobjects/Membership__c/a028Y00001Eu0u3QAB'}, 'Id': 'a028Y00001Eu0u3QAB'}, {'attributes': {'type': 'Membership__c', 'url': '/services/data/v57.0/sobjects/Membership__c/a028Y00001Eu0u4QAB'}, 'Id': 'a028Y00001Eu0u4QAB'}, {'attributes': {'type': 'Membership__c', 'url': '/services/data/v57.0/sobjects/Membership__c/a028Y00001Eu0u5QAB'}, 'Id': 'a028Y00001Eu0u5QAB'}, {'attributes': {'type': 'Membership__c', 'url': '/services/data/v57.0/sobjects/Membership__c/a028Y00001Eu0u6QAB'}, 'Id': 'a028Y00001Eu0u6QAB'}, {'attributes': {'type': 'Membership__c', 'url': '/services/data/v57.0/sobjects/Membership__c/a028Y00001Eu0u7QAB'}, 'Id': 'a028Y00001Eu0u7QAB'}, {'attributes': {'type': 'Membership__c', 'url': '/services/data/v57.0/sobjects/Membership__c/a028Y00001Eu0u8QAB'}, 'Id': 'a028Y00001Eu0u8QAB'}, {'attributes': {'type': 'Membership__c', 'url': '/services/data/v57.0/sobjects/Membership__c/a028Y00001Eu0u9QAB'}, 'Id': 'a028Y00001Eu0u9QAB'}, {'attributes': {'type': 'Membership__c', 'url': '/services/data/v57.0/sobjects/Membership__c/a028Y00001Eu0uAQAR'}, 'Id': 'a028Y00001Eu0uAQAR'}, {'attributes': {'type': 'Membership__c', 'url': '/services/data/v57.0/sobjects/Membership__c/a028Y00001Eu0uBQAR'}, 'Id': 'a028Y00001Eu0uBQAR'}, {'attributes': {'type': 'Membership__c', 'url': '/services/data/v57.0/sobjects/Membership__c/a028Y00001Eu0uCQAR'}, 'Id': 'a028Y00001Eu0uCQAR'}, {'attributes': {'type': 'Membership__c', 'url': '/services/data/v57.0/sobjects/Membership__c/a028Y00001Eu0uDQAR'}, 'Id': 'a028Y00001Eu0uDQAR'}, {'attributes': {'type': 'Membership__c', 'url': '/services/data/v57.0/sobjects/Membership__c/a028Y00001Eu0uEQAR'}, 'Id': 'a028Y00001Eu0uEQAR'}, {'attributes': {'type': 'Membership__c', 'url': '/services/data/v57.0/sobjects/Membership__c/a028Y00001Eu0uFQAR'}, 'Id': 'a028Y00001Eu0uFQAR'}, {'attributes': {'type': 'Membership__c', 'url': '/services/data/v57.0/sobjects/Membership__c/a028Y00001Eu0uGQAR'}, 'Id': 'a028Y00001Eu0uGQAR'}, {'attributes': {'type': 'Membership__c', 'url': '/services/data/v57.0/sobjects/Membership__c/a028Y00001Eu0uHQAR'}, 'Id': 'a028Y00001Eu0uHQAR'}, {'attributes': {'type': 'Membership__c', 'url': '/services/data/v57.0/sobjects/Membership__c/a028Y00001Eu0uIQAR'}, 'Id': 'a028Y00001Eu0uIQAR'}, {'attributes': {'type': 'Membership__c', 'url': '/services/data/v57.0/sobjects/Membership__c/a028Y00001Eu0uJQAR'}, 'Id': 'a028Y00001Eu0uJQAR'}, {'attributes': {'type': 'Membership__c', 'url': '/services/data/v57.0/sobjects/Membership__c/a028Y00001Eu0uKQAR'}, 'Id': 'a028Y00001Eu0uKQAR'}, {'attributes': {'type': 'Membership__c', 'url': '/services/data/v57.0/sobjects/Membership__c/a028Y00001Eu0uLQAR'}, 'Id': 'a028Y00001Eu0uLQAR'}, {'attributes': {'type': 'Membership__c', 'url': '/services/data/v57.0/sobjects/Membership__c/a028Y00001Eu0uMQAR'}, 'Id': 'a028Y00001Eu0uMQAR'}, {'attributes': {'type': 'Membership__c', 'url': '/services/data/v57.0/sobjects/Membership__c/a028Y00001Eu0uNQAR'}, 'Id': 'a028Y00001Eu0uNQAR'}, {'attributes': {'type': 'Membership__c', 'url': '/services/data/v57.0/sobjects/Membership__c/a028Y00001Eu0uOQAR'}, 'Id': 'a028Y00001Eu0uOQAR'}, {'attributes': {'type': 'Membership__c', 'url': '/services/data/v57.0/sobjects/Membership__c/a028Y00001Eu0uPQAR'}, 'Id': 'a028Y00001Eu0uPQAR'}, {'attributes': {'type': 'Membership__c', 'url': '/services/data/v57.0/sobjects/Membership__c/a028Y00001Eu0uQQAR'}, 'Id': 'a028Y00001Eu0uQQAR'}, {'attributes': {'type': 'Membership__c', 'url': '/services/data/v57.0/sobjects/Membership__c/a028Y00001Eu0uRQAR'}, 'Id': 'a028Y00001Eu0uRQAR'}, {'attributes': {'type': 'Membership__c', 'url': '/services/data/v57.0/sobjects/Membership__c/a028Y00001Eu0uSQAR'}, 'Id': 'a028Y00001Eu0uSQAR'}, {'attributes': {'type': 'Membership__c', 'url': '/services/data/v57.0/sobjects/Membership__c/a028Y00001Eu0uTQAR'}, 'Id': 'a028Y00001Eu0uTQAR'}, {'attributes': {'type': 'Membership__c', 'url': '/services/data/v57.0/sobjects/Membership__c/a028Y00001Eu0uUQAR'}, 'Id': 'a028Y00001Eu0uUQAR'}, {'attributes': {'type': 'Membership__c', 'url': '/services/data/v57.0/sobjects/Membership__c/a028Y00001Eu0uVQAR'}, 'Id': 'a028Y00001Eu0uVQAR'}, {'attributes': {'type': 'Membership__c', 'url': '/services/data/v57.0/sobjects/Membership__c/a028Y00001Eu0uWQAR'}, 'Id': 'a028Y00001Eu0uWQAR'}, {'attributes': {'type': 'Membership__c', 'url': '/services/data/v57.0/sobjects/Membership__c/a028Y00001Eu0uXQAR'}, 'Id': 'a028Y00001Eu0uXQAR'}, {'attributes': {'type': 'Membership__c', 'url': '/services/data/v57.0/sobjects/Membership__c/a028Y00001Eu0uYQAR'}, 'Id': 'a028Y00001Eu0uYQAR'}, {'attributes': {'type': 'Membership__c', 'url': '/services/data/v57.0/sobjects/Membership__c/a028Y00001Eu0uZQAR'}, 'Id': 'a028Y00001Eu0uZQAR'}, {'attributes': {'type': 'Membership__c', 'url': '/services/data/v57.0/sobjects/Membership__c/a028Y00001Eu0uaQAB'}, 'Id': 'a028Y00001Eu0uaQAB'}, {'attributes': {'type': 'Membership__c', 'url': '/services/data/v57.0/sobjects/Membership__c/a028Y00001Eu0ubQAB'}, 'Id': 'a028Y00001Eu0ubQAB'}, {'attributes': {'type': 'Membership__c', 'url': '/services/data/v57.0/sobjects/Membership__c/a028Y00001Eu0ucQAB'}, 'Id': 'a028Y00001Eu0ucQAB'}, {'attributes': {'type': 'Membership__c', 'url': '/services/data/v57.0/sobjects/Membership__c/a028Y00001Eu0udQAB'}, 'Id': 'a028Y00001Eu0udQAB'}, {'attributes': {'type': 'Membership__c', 'url': '/services/data/v57.0/sobjects/Membership__c/a028Y00001Eu0ueQAB'}, 'Id': 'a028Y00001Eu0ueQAB'}, {'attributes': {'type': 'Membership__c', 'url': '/services/data/v57.0/sobjects/Membership__c/a028Y00001Eu0ufQAB'}, 'Id': 'a028Y00001Eu0ufQAB'}, {'attributes': {'type': 'Membership__c', 'url': '/services/data/v57.0/sobjects/Membership__c/a028Y00001Eu0ugQAB'}, 'Id': 'a028Y00001Eu0ugQAB'}, {'attributes': {'type': 'Membership__c', 'url': '/services/data/v57.0/sobjects/Membership__c/a028Y00001Eu0uhQAB'}, 'Id': 'a028Y00001Eu0uhQAB'}, {'attributes': {'type': 'Membership__c', 'url': '/services/data/v57.0/sobjects/Membership__c/a028Y00001Eu0uiQAB'}, 'Id': 'a028Y00001Eu0uiQAB'}, {'attributes': {'type': 'Membership__c', 'url': '/services/data/v57.0/sobjects/Membership__c/a028Y00001Eu0ujQAB'}, 'Id': 'a028Y00001Eu0ujQAB'}, {'attributes': {'type': 'Membership__c', 'url': '/services/data/v57.0/sobjects/Membership__c/a028Y00001Eu0ukQAB'}, 'Id': 'a028Y00001Eu0ukQAB'}, {'attributes': {'type': 'Membership__c', 'url': '/services/data/v57.0/sobjects/Membership__c/a028Y00001Eu0ulQAB'}, 'Id': 'a028Y00001Eu0ulQAB'}, {'attributes': {'type': 'Membership__c', 'url': '/services/data/v57.0/sobjects/Membership__c/a028Y00001Eu0umQAB'}, 'Id': 'a028Y00001Eu0umQAB'}, {'attributes': {'type': 'Membership__c', 'url': '/services/data/v57.0/sobjects/Membership__c/a028Y00001Eu0unQAB'}, 'Id': 'a028Y00001Eu0unQAB'}, {'attributes': {'type': 'Membership__c', 'url': '/services/data/v57.0/sobjects/Membership__c/a028Y00001Eu0uoQAB'}, 'Id': 'a028Y00001Eu0uoQAB'}, {'attributes': {'type': 'Membership__c', 'url': '/services/data/v57.0/sobjects/Membership__c/a028Y00001Eu0upQAB'}, 'Id': 'a028Y00001Eu0upQAB'}, {'attributes': {'type': 'Membership__c', 'url': '/services/data/v57.0/sobjects/Membership__c/a028Y00001Eu0uqQAB'}, 'Id': 'a028Y00001Eu0uqQAB'}, {'attributes': {'type': 'Membership__c', 'url': '/services/data/v57.0/sobjects/Membership__c/a028Y00001Eu0urQAB'}, 'Id': 'a028Y00001Eu0urQAB'}, {'attributes': {'type': 'Membership__c', 'url': '/services/data/v57.0/sobjects/Membership__c/a028Y00001Eu0usQAB'}, 'Id': 'a028Y00001Eu0usQAB'}, {'attributes': {'type': 'Membership__c', 'url': '/services/data/v57.0/sobjects/Membership__c/a028Y00001Eu0utQAB'}, 'Id': 'a028Y00001Eu0utQAB'}, {'attributes': {'type': 'Membership__c', 'url': '/services/data/v57.0/sobjects/Membership__c/a028Y00001Eu0uuQAB'}, 'Id': 'a028Y00001Eu0uuQAB'}, {'attributes': {'type': 'Membership__c', 'url': '/services/data/v57.0/sobjects/Membership__c/a028Y00001Eu0uvQAB'}, 'Id': 'a028Y00001Eu0uvQAB'}, {'attributes': {'type': 'Membership__c', 'url': '/services/data/v57.0/sobjects/Membership__c/a028Y00001Eu0uwQAB'}, 'Id': 'a028Y00001Eu0uwQAB'}, {'attributes': {'type': 'Membership__c', 'url': '/services/data/v57.0/sobjects/Membership__c/a028Y00001Eu0uxQAB'}, 'Id': 'a028Y00001Eu0uxQAB'}, {'attributes': {'type': 'Membership__c', 'url': '/services/data/v57.0/sobjects/Membership__c/a028Y00001Eu0uyQAB'}, 'Id': 'a028Y00001Eu0uyQAB'}, {'attributes': {'type': 'Membership__c', 'url': '/services/data/v57.0/sobjects/Membership__c/a028Y00001Eu0uzQAB'}, 'Id': 'a028Y00001Eu0uzQAB'}, {'attributes': {'type': 'Membership__c', 'url': '/services/data/v57.0/sobjects/Membership__c/a028Y00001Eu0v0QAB'}, 'Id': 'a028Y00001Eu0v0QAB'}, {'attributes': {'type': 'Membership__c', 'url': '/services/data/v57.0/sobjects/Membership__c/a028Y00001Eu0v1QAB'}, 'Id': 'a028Y00001Eu0v1QAB'}, {'attributes': {'type': 'Membership__c', 'url': '/services/data/v57.0/sobjects/Membership__c/a028Y00001Eu0v2QAB'}, 'Id': 'a028Y00001Eu0v2QAB'}, {'attributes': {'type': 'Membership__c', 'url': '/services/data/v57.0/sobjects/Membership__c/a028Y00001Eu0v3QAB'}, 'Id': 'a028Y00001Eu0v3QAB'}, {'attributes': {'type': 'Membership__c', 'url': '/services/data/v57.0/sobjects/Membership__c/a028Y00001Eu0v4QAB'}, 'Id': 'a028Y00001Eu0v4QAB'}, {'attributes': {'type': 'Membership__c', 'url': '/services/data/v57.0/sobjects/Membership__c/a028Y00001Eu0v5QAB'}, 'Id': 'a028Y00001Eu0v5QAB'}, {'attributes': {'type': 'Membership__c', 'url': '/services/data/v57.0/sobjects/Membership__c/a028Y00001Eu0v6QAB'}, 'Id': 'a028Y00001Eu0v6QAB'}, {'attributes': {'type': 'Membership__c', 'url': '/services/data/v57.0/sobjects/Membership__c/a028Y00001Eu0v7QAB'}, 'Id': 'a028Y00001Eu0v7QAB'}, {'attributes': {'type': 'Membership__c', 'url': '/services/data/v57.0/sobjects/Membership__c/a028Y00001Eu0v8QAB'}, 'Id': 'a028Y00001Eu0v8QAB'}, {'attributes': {'type': 'Membership__c', 'url': '/services/data/v57.0/sobjects/Membership__c/a028Y00001Eu0v9QAB'}, 'Id': 'a028Y00001Eu0v9QAB'}, {'attributes': {'type': 'Membership__c', 'url': '/services/data/v57.0/sobjects/Membership__c/a028Y00001Eu0vAQAR'}, 'Id': 'a028Y00001Eu0vAQAR'}, {'attributes': {'type': 'Membership__c', 'url': '/services/data/v57.0/sobjects/Membership__c/a028Y00001Eu0vBQAR'}, 'Id': 'a028Y00001Eu0vBQAR'}, {'attributes': {'type': 'Membership__c', 'url': '/services/data/v57.0/sobjects/Membership__c/a028Y00001Eu0vCQAR'}, 'Id': 'a028Y00001Eu0vCQAR'}, {'attributes': {'type': 'Membership__c', 'url': '/services/data/v57.0/sobjects/Membership__c/a028Y00001Eu0vDQAR'}, 'Id': 'a028Y00001Eu0vDQAR'}, {'attributes': {'type': 'Membership__c', 'url': '/services/data/v57.0/sobjects/Membership__c/a028Y00001Eu0vEQAR'}, 'Id': 'a028Y00001Eu0vEQAR'}, {'attributes': {'type': 'Membership__c', 'url': '/services/data/v57.0/sobjects/Membership__c/a028Y00001Eu0vFQAR'}, 'Id': 'a028Y00001Eu0vFQAR'}, {'attributes': {'type': 'Membership__c', 'url': '/services/data/v57.0/sobjects/Membership__c/a028Y00001Eu0vGQAR'}, 'Id': 'a028Y00001Eu0vGQAR'}, {'attributes': {'type': 'Membership__c', 'url': '/services/data/v57.0/sobjects/Membership__c/a028Y00001Eu0vHQAR'}, 'Id': 'a028Y00001Eu0vHQAR'}, {'attributes': {'type': 'Membership__c', 'url': '/services/data/v57.0/sobjects/Membership__c/a028Y00001Eu0vIQAR'}, 'Id': 'a028Y00001Eu0vIQAR'}, {'attributes': {'type': 'Membership__c', 'url': '/services/data/v57.0/sobjects/Membership__c/a028Y00001Eu0vJQAR'}, 'Id': 'a028Y00001Eu0vJQAR'}, {'attributes': {'type': 'Membership__c', 'url': '/services/data/v57.0/sobjects/Membership__c/a028Y00001Eu0vKQAR'}, 'Id': 'a028Y00001Eu0vKQAR'}, {'attributes': {'type': 'Membership__c', 'url': '/services/data/v57.0/sobjects/Membership__c/a028Y00001Eu0vLQAR'}, 'Id': 'a028Y00001Eu0vLQAR'}, {'attributes': {'type': 'Membership__c', 'url': '/services/data/v57.0/sobjects/Membership__c/a028Y00001Eu0vMQAR'}, 'Id': 'a028Y00001Eu0vMQAR'}, {'attributes': {'type': 'Membership__c', 'url': '/services/data/v57.0/sobjects/Membership__c/a028Y00001Eu0vNQAR'}, 'Id': 'a028Y00001Eu0vNQAR'}, {'attributes': {'type': 'Membership__c', 'url': '/services/data/v57.0/sobjects/Membership__c/a028Y00001Eu0vOQAR'}, 'Id': 'a028Y00001Eu0vOQAR'}, {'attributes': {'type': 'Membership__c', 'url': '/services/data/v57.0/sobjects/Membership__c/a028Y00001Eu0vPQAR'}, 'Id': 'a028Y00001Eu0vPQAR'}, {'attributes': {'type': 'Membership__c', 'url': '/services/data/v57.0/sobjects/Membership__c/a028Y00001Eu0vQQAR'}, 'Id': 'a028Y00001Eu0vQQAR'}, {'attributes': {'type': 'Membership__c', 'url': '/services/data/v57.0/sobjects/Membership__c/a028Y00001Eu0vRQAR'}, 'Id': 'a028Y00001Eu0vRQAR'}, {'attributes': {'type': 'Membership__c', 'url': '/services/data/v57.0/sobjects/Membership__c/a028Y00001Eu0vSQAR'}, 'Id': 'a028Y00001Eu0vSQAR'}, {'attributes': {'type': 'Membership__c', 'url': '/services/data/v57.0/sobjects/Membership__c/a028Y00001Eu0vTQAR'}, 'Id': 'a028Y00001Eu0vTQAR'}, {'attributes': {'type': 'Membership__c', 'url': '/services/data/v57.0/sobjects/Membership__c/a028Y00001Eu0vUQAR'}, 'Id': 'a028Y00001Eu0vUQAR'}, {'attributes': {'type': 'Membership__c', 'url': '/services/data/v57.0/sobjects/Membership__c/a028Y00001Eu0vVQAR'}, 'Id': 'a028Y00001Eu0vVQAR'}, {'attributes': {'type': 'Membership__c', 'url': '/services/data/v57.0/sobjects/Membership__c/a028Y00001Eu0vWQAR'}, 'Id': 'a028Y00001Eu0vWQAR'}, {'attributes': {'type': 'Membership__c', 'url': '/services/data/v57.0/sobjects/Membership__c/a028Y00001Eu0vXQAR'}, 'Id': 'a028Y00001Eu0vXQAR'}, {'attributes': {'type': 'Membership__c', 'url': '/services/data/v57.0/sobjects/Membership__c/a028Y00001Eu0vYQAR'}, 'Id': 'a028Y00001Eu0vYQAR'}, {'attributes': {'type': 'Membership__c', 'url': '/services/data/v57.0/sobjects/Membership__c/a028Y00001Eu0vZQAR'}, 'Id': 'a028Y00001Eu0vZQAR'}, {'attributes': {'type': 'Membership__c', 'url': '/services/data/v57.0/sobjects/Membership__c/a028Y00001Eu0vaQAB'}, 'Id': 'a028Y00001Eu0vaQAB'}, {'attributes': {'type': 'Membership__c', 'url': '/services/data/v57.0/sobjects/Membership__c/a028Y00001Eu0vbQAB'}, 'Id': 'a028Y00001Eu0vbQAB'}, {'attributes': {'type': 'Membership__c', 'url': '/services/data/v57.0/sobjects/Membership__c/a028Y00001Eu0vcQAB'}, 'Id': 'a028Y00001Eu0vcQAB'}, {'attributes': {'type': 'Membership__c', 'url': '/services/data/v57.0/sobjects/Membership__c/a028Y00001Eu0vdQAB'}, 'Id': 'a028Y00001Eu0vdQAB'}, {'attributes': {'type': 'Membership__c', 'url': '/services/data/v57.0/sobjects/Membership__c/a028Y00001Eu0veQAB'}, 'Id': 'a028Y00001Eu0veQAB'}, {'attributes': {'type': 'Membership__c', 'url': '/services/data/v57.0/sobjects/Membership__c/a028Y00001Eu0vfQAB'}, 'Id': 'a028Y00001Eu0vfQAB'}, {'attributes': {'type': 'Membership__c', 'url': '/services/data/v57.0/sobjects/Membership__c/a028Y00001Eu0vgQAB'}, 'Id': 'a028Y00001Eu0vgQAB'}, {'attributes': {'type': 'Membership__c', 'url': '/services/data/v57.0/sobjects/Membership__c/a028Y00001Eu0vhQAB'}, 'Id': 'a028Y00001Eu0vhQAB'}, {'attributes': {'type': 'Membership__c', 'url': '/services/data/v57.0/sobjects/Membership__c/a028Y00001Eu0viQAB'}, 'Id': 'a028Y00001Eu0viQAB'}, {'attributes': {'type': 'Membership__c', 'url': '/services/data/v57.0/sobjects/Membership__c/a028Y00001Eu0vjQAB'}, 'Id': 'a028Y00001Eu0vjQAB'}, {'attributes': {'type': 'Membership__c', 'url': '/services/data/v57.0/sobjects/Membership__c/a028Y00001Eu0vkQAB'}, 'Id': 'a028Y00001Eu0vkQAB'}, {'attributes': {'type': 'Membership__c', 'url': '/services/data/v57.0/sobjects/Membership__c/a028Y00001Eu0vlQAB'}, 'Id': 'a028Y00001Eu0vlQAB'}, {'attributes': {'type': 'Membership__c', 'url': '/services/data/v57.0/sobjects/Membership__c/a028Y00001Eu0vmQAB'}, 'Id': 'a028Y00001Eu0vmQAB'}, {'attributes': {'type': 'Membership__c', 'url': '/services/data/v57.0/sobjects/Membership__c/a028Y00001Eu0vnQAB'}, 'Id': 'a028Y00001Eu0vnQAB'}, {'attributes': {'type': 'Membership__c', 'url': '/services/data/v57.0/sobjects/Membership__c/a028Y00001Eu0voQAB'}, 'Id': 'a028Y00001Eu0voQAB'}, {'attributes': {'type': 'Membership__c', 'url': '/services/data/v57.0/sobjects/Membership__c/a028Y00001Eu0vpQAB'}, 'Id': 'a028Y00001Eu0vpQAB'}, {'attributes': {'type': 'Membership__c', 'url': '/services/data/v57.0/sobjects/Membership__c/a028Y00001Eu0vqQAB'}, 'Id': 'a028Y00001Eu0vqQAB'}, {'attributes': {'type': 'Membership__c', 'url': '/services/data/v57.0/sobjects/Membership__c/a028Y00001Eu0vrQAB'}, 'Id': 'a028Y00001Eu0vrQAB'}, {'attributes': {'type': 'Membership__c', 'url': '/services/data/v57.0/sobjects/Membership__c/a028Y00001Eu0vsQAB'}, 'Id': 'a028Y00001Eu0vsQAB'}, {'attributes': {'type': 'Membership__c', 'url': '/services/data/v57.0/sobjects/Membership__c/a028Y00001Eu0vtQAB'}, 'Id': 'a028Y00001Eu0vtQAB'}, {'attributes': {'type': 'Membership__c', 'url': '/services/data/v57.0/sobjects/Membership__c/a028Y00001Eu0vuQAB'}, 'Id': 'a028Y00001Eu0vuQAB'}, {'attributes': {'type': 'Membership__c', 'url': '/services/data/v57.0/sobjects/Membership__c/a028Y00001Eu0vvQAB'}, 'Id': 'a028Y00001Eu0vvQAB'}, {'attributes': {'type': 'Membership__c', 'url': '/services/data/v57.0/sobjects/Membership__c/a028Y00001Eu0vwQAB'}, 'Id': 'a028Y00001Eu0vwQAB'}, {'attributes': {'type': 'Membership__c', 'url': '/services/data/v57.0/sobjects/Membership__c/a028Y00001Eu0vxQAB'}, 'Id': 'a028Y00001Eu0vxQAB'}, {'attributes': {'type': 'Membership__c', 'url': '/services/data/v57.0/sobjects/Membership__c/a028Y00001Eu0vyQAB'}, 'Id': 'a028Y00001Eu0vyQAB'}, {'attributes': {'type': 'Membership__c', 'url': '/services/data/v57.0/sobjects/Membership__c/a028Y00001Eu0vzQAB'}, 'Id': 'a028Y00001Eu0vzQAB'}, {'attributes': {'type': 'Membership__c', 'url': '/services/data/v57.0/sobjects/Membership__c/a028Y00001Eu0w0QAB'}, 'Id': 'a028Y00001Eu0w0QAB'}, {'attributes': {'type': 'Membership__c', 'url': '/services/data/v57.0/sobjects/Membership__c/a028Y00001Eu0w1QAB'}, 'Id': 'a028Y00001Eu0w1QAB'}, {'attributes': {'type': 'Membership__c', 'url': '/services/data/v57.0/sobjects/Membership__c/a028Y00001Eu0w2QAB'}, 'Id': 'a028Y00001Eu0w2QAB'}, {'attributes': {'type': 'Membership__c', 'url': '/services/data/v57.0/sobjects/Membership__c/a028Y00001Eu0w3QAB'}, 'Id': 'a028Y00001Eu0w3QAB'}, {'attributes': {'type': 'Membership__c', 'url': '/services/data/v57.0/sobjects/Membership__c/a028Y00001Eu0w4QAB'}, 'Id': 'a028Y00001Eu0w4QAB'}, {'attributes': {'type': 'Membership__c', 'url': '/services/data/v57.0/sobjects/Membership__c/a028Y00001Eu0w5QAB'}, 'Id': 'a028Y00001Eu0w5QAB'}, {'attributes': {'type': 'Membership__c', 'url': '/services/data/v57.0/sobjects/Membership__c/a028Y00001Eu0w6QAB'}, 'Id': 'a028Y00001Eu0w6QAB'}, {'attributes': {'type': 'Membership__c', 'url': '/services/data/v57.0/sobjects/Membership__c/a028Y00001Eu0w7QAB'}, 'Id': 'a028Y00001Eu0w7QAB'}, {'attributes': {'type': 'Membership__c', 'url': '/services/data/v57.0/sobjects/Membership__c/a028Y00001Eu0w8QAB'}, 'Id': 'a028Y00001Eu0w8QAB'}, {'attributes': {'type': 'Membership__c', 'url': '/services/data/v57.0/sobjects/Membership__c/a028Y00001Eu0w9QAB'}, 'Id': 'a028Y00001Eu0w9QAB'}, {'attributes': {'type': 'Membership__c', 'url': '/services/data/v57.0/sobjects/Membership__c/a028Y00001Eu0wAQAR'}, 'Id': 'a028Y00001Eu0wAQAR'}, {'attributes': {'type': 'Membership__c', 'url': '/services/data/v57.0/sobjects/Membership__c/a028Y00001Eu0wBQAR'}, 'Id': 'a028Y00001Eu0wBQAR'}, {'attributes': {'type': 'Membership__c', 'url': '/services/data/v57.0/sobjects/Membership__c/a028Y00001Eu0wCQAR'}, 'Id': 'a028Y00001Eu0wCQAR'}, {'attributes': {'type': 'Membership__c', 'url': '/services/data/v57.0/sobjects/Membership__c/a028Y00001Eu0wDQAR'}, 'Id': 'a028Y00001Eu0wDQAR'}, {'attributes': {'type': 'Membership__c', 'url': '/services/data/v57.0/sobjects/Membership__c/a028Y00001Eu0wEQAR'}, 'Id': 'a028Y00001Eu0wEQAR'}, {'attributes': {'type': 'Membership__c', 'url': '/services/data/v57.0/sobjects/Membership__c/a028Y00001Eu0wFQAR'}, 'Id': 'a028Y00001Eu0wFQAR'}, {'attributes': {'type': 'Membership__c', 'url': '/services/data/v57.0/sobjects/Membership__c/a028Y00001Eu0wGQAR'}, 'Id': 'a028Y00001Eu0wGQAR'}, {'attributes': {'type': 'Membership__c', 'url': '/services/data/v57.0/sobjects/Membership__c/a028Y00001Eu0wHQAR'}, 'Id': 'a028Y00001Eu0wHQAR'}, {'attributes': {'type': 'Membership__c', 'url': '/services/data/v57.0/sobjects/Membership__c/a028Y00001Eu0wIQAR'}, 'Id': 'a028Y00001Eu0wIQAR'}, {'attributes': {'type': 'Membership__c', 'url': '/services/data/v57.0/sobjects/Membership__c/a028Y00001Eu0wJQAR'}, 'Id': 'a028Y00001Eu0wJQAR'}, {'attributes': {'type': 'Membership__c', 'url': '/services/data/v57.0/sobjects/Membership__c/a028Y00001Eu0wKQAR'}, 'Id': 'a028Y00001Eu0wKQAR'}, {'attributes': {'type': 'Membership__c', 'url': '/services/data/v57.0/sobjects/Membership__c/a028Y00001Eu0wLQAR'}, 'Id': 'a028Y00001Eu0wLQAR'}, {'attributes': {'type': 'Membership__c', 'url': '/services/data/v57.0/sobjects/Membership__c/a028Y00001Eu0wMQAR'}, 'Id': 'a028Y00001Eu0wMQAR'}, {'attributes': {'type': 'Membership__c', 'url': '/services/data/v57.0/sobjects/Membership__c/a028Y00001Eu0wNQAR'}, 'Id': 'a028Y00001Eu0wNQAR'}, {'attributes': {'type': 'Membership__c', 'url': '/services/data/v57.0/sobjects/Membership__c/a028Y00001Eu0wOQAR'}, 'Id': 'a028Y00001Eu0wOQAR'}, {'attributes': {'type': 'Membership__c', 'url': '/services/data/v57.0/sobjects/Membership__c/a028Y00001Eu0wPQAR'}, 'Id': 'a028Y00001Eu0wPQAR'}, {'attributes': {'type': 'Membership__c', 'url': '/services/data/v57.0/sobjects/Membership__c/a028Y00001Eu0wQQAR'}, 'Id': 'a028Y00001Eu0wQQAR'}, {'attributes': {'type': 'Membership__c', 'url': '/services/data/v57.0/sobjects/Membership__c/a028Y00001Eu0wRQAR'}, 'Id': 'a028Y00001Eu0wRQAR'}, {'attributes': {'type': 'Membership__c', 'url': '/services/data/v57.0/sobjects/Membership__c/a028Y00001Eu0wSQAR'}, 'Id': 'a028Y00001Eu0wSQAR'}, {'attributes': {'type': 'Membership__c', 'url': '/services/data/v57.0/sobjects/Membership__c/a028Y00001Eu0wTQAR'}, 'Id': 'a028Y00001Eu0wTQAR'}, {'attributes': {'type': 'Membership__c', 'url': '/services/data/v57.0/sobjects/Membership__c/a028Y00001Eu0wUQAR'}, 'Id': 'a028Y00001Eu0wUQAR'}, {'attributes': {'type': 'Membership__c', 'url': '/services/data/v57.0/sobjects/Membership__c/a028Y00001Eu0wVQAR'}, 'Id': 'a028Y00001Eu0wVQAR'}, {'attributes': {'type': 'Membership__c', 'url': '/services/data/v57.0/sobjects/Membership__c/a028Y00001Eu0wWQAR'}, 'Id': 'a028Y00001Eu0wWQAR'}, {'attributes': {'type': 'Membership__c', 'url': '/services/data/v57.0/sobjects/Membership__c/a028Y00001Eu0wXQAR'}, 'Id': 'a028Y00001Eu0wXQAR'}, {'attributes': {'type': 'Membership__c', 'url': '/services/data/v57.0/sobjects/Membership__c/a028Y00001Eu0wYQAR'}, 'Id': 'a028Y00001Eu0wYQAR'}, {'attributes': {'type': 'Membership__c', 'url': '/services/data/v57.0/sobjects/Membership__c/a028Y00001Eu0wZQAR'}, 'Id': 'a028Y00001Eu0wZQAR'}, {'attributes': {'type': 'Membership__c', 'url': '/services/data/v57.0/sobjects/Membership__c/a028Y00001Eu0waQAB'}, 'Id': 'a028Y00001Eu0waQAB'}, {'attributes': {'type': 'Membership__c', 'url': '/services/data/v57.0/sobjects/Membership__c/a028Y00001Eu0wbQAB'}, 'Id': 'a028Y00001Eu0wbQAB'}, {'attributes': {'type': 'Membership__c', 'url': '/services/data/v57.0/sobjects/Membership__c/a028Y00001Eu0wcQAB'}, 'Id': 'a028Y00001Eu0wcQAB'}, {'attributes': {'type': 'Membership__c', 'url': '/services/data/v57.0/sobjects/Membership__c/a028Y00001Eu0wdQAB'}, 'Id': 'a028Y00001Eu0wdQAB'}, {'attributes': {'type': 'Membership__c', 'url': '/services/data/v57.0/sobjects/Membership__c/a028Y00001Eu0weQAB'}, 'Id': 'a028Y00001Eu0weQAB'}, {'attributes': {'type': 'Membership__c', 'url': '/services/data/v57.0/sobjects/Membership__c/a028Y00001Eu0wfQAB'}, 'Id': 'a028Y00001Eu0wfQAB'}, {'attributes': {'type': 'Membership__c', 'url': '/services/data/v57.0/sobjects/Membership__c/a028Y00001Eu0wgQAB'}, 'Id': 'a028Y00001Eu0wgQAB'}, {'attributes': {'type': 'Membership__c', 'url': '/services/data/v57.0/sobjects/Membership__c/a028Y00001Eu0whQAB'}, 'Id': 'a028Y00001Eu0whQAB'}, {'attributes': {'type': 'Membership__c', 'url': '/services/data/v57.0/sobjects/Membership__c/a028Y00001Eu0wiQAB'}, 'Id': 'a028Y00001Eu0wiQAB'}, {'attributes': {'type': 'Membership__c', 'url': '/services/data/v57.0/sobjects/Membership__c/a028Y00001Eu0wjQAB'}, 'Id': 'a028Y00001Eu0wjQAB'}, {'attributes': {'type': 'Membership__c', 'url': '/services/data/v57.0/sobjects/Membership__c/a028Y00001Eu0wkQAB'}, 'Id': 'a028Y00001Eu0wkQAB'}, {'attributes': {'type': 'Membership__c', 'url': '/services/data/v57.0/sobjects/Membership__c/a028Y00001Eu0wlQAB'}, 'Id': 'a028Y00001Eu0wlQAB'}, {'attributes': {'type': 'Membership__c', 'url': '/services/data/v57.0/sobjects/Membership__c/a028Y00001Eu0wmQAB'}, 'Id': 'a028Y00001Eu0wmQAB'}, {'attributes': {'type': 'Membership__c', 'url': '/services/data/v57.0/sobjects/Membership__c/a028Y00001Eu0wnQAB'}, 'Id': 'a028Y00001Eu0wnQAB'}, {'attributes': {'type': 'Membership__c', 'url': '/services/data/v57.0/sobjects/Membership__c/a028Y00001Eu0woQAB'}, 'Id': 'a028Y00001Eu0woQAB'}, {'attributes': {'type': 'Membership__c', 'url': '/services/data/v57.0/sobjects/Membership__c/a028Y00001Eu0wpQAB'}, 'Id': 'a028Y00001Eu0wpQAB'}, {'attributes': {'type': 'Membership__c', 'url': '/services/data/v57.0/sobjects/Membership__c/a028Y00001Eu0wqQAB'}, 'Id': 'a028Y00001Eu0wqQAB'}, {'attributes': {'type': 'Membership__c', 'url': '/services/data/v57.0/sobjects/Membership__c/a028Y00001Eu0wrQAB'}, 'Id': 'a028Y00001Eu0wrQAB'}, {'attributes': {'type': 'Membership__c', 'url': '/services/data/v57.0/sobjects/Membership__c/a028Y00001Eu0wsQAB'}, 'Id': 'a028Y00001Eu0wsQAB'}, {'attributes': {'type': 'Membership__c', 'url': '/services/data/v57.0/sobjects/Membership__c/a028Y00001Eu0wtQAB'}, 'Id': 'a028Y00001Eu0wtQAB'}, {'attributes': {'type': 'Membership__c', 'url': '/services/data/v57.0/sobjects/Membership__c/a028Y00001Eu0wuQAB'}, 'Id': 'a028Y00001Eu0wuQAB'}, {'attributes': {'type': 'Membership__c', 'url': '/services/data/v57.0/sobjects/Membership__c/a028Y00001Eu0wvQAB'}, 'Id': 'a028Y00001Eu0wvQAB'}, {'attributes': {'type': 'Membership__c', 'url': '/services/data/v57.0/sobjects/Membership__c/a028Y00001Eu0wwQAB'}, 'Id': 'a028Y00001Eu0wwQAB'}, {'attributes': {'type': 'Membership__c', 'url': '/services/data/v57.0/sobjects/Membership__c/a028Y00001Eu0wxQAB'}, 'Id': 'a028Y00001Eu0wxQAB'}, {'attributes': {'type': 'Membership__c', 'url': '/services/data/v57.0/sobjects/Membership__c/a028Y00001Eu0wyQAB'}, 'Id': 'a028Y00001Eu0wyQAB'}, {'attributes': {'type': 'Membership__c', 'url': '/services/data/v57.0/sobjects/Membership__c/a028Y00001Eu0wzQAB'}, 'Id': 'a028Y00001Eu0wzQAB'}, {'attributes': {'type': 'Membership__c', 'url': '/services/data/v57.0/sobjects/Membership__c/a028Y00001Eu0x0QAB'}, 'Id': 'a028Y00001Eu0x0QAB'}, {'attributes': {'type': 'Membership__c', 'url': '/services/data/v57.0/sobjects/Membership__c/a028Y00001Eu0x1QAB'}, 'Id': 'a028Y00001Eu0x1QAB'}, {'attributes': {'type': 'Membership__c', 'url': '/services/data/v57.0/sobjects/Membership__c/a028Y00001Eu0x2QAB'}, 'Id': 'a028Y00001Eu0x2QAB'}, {'attributes': {'type': 'Membership__c', 'url': '/services/data/v57.0/sobjects/Membership__c/a028Y00001Eu0x3QAB'}, 'Id': 'a028Y00001Eu0x3QAB'}, {'attributes': {'type': 'Membership__c', 'url': '/services/data/v57.0/sobjects/Membership__c/a028Y00001Eu0x4QAB'}, 'Id': 'a028Y00001Eu0x4QAB'}, {'attributes': {'type': 'Membership__c', 'url': '/services/data/v57.0/sobjects/Membership__c/a028Y00001Eu0x5QAB'}, 'Id': 'a028Y00001Eu0x5QAB'}, {'attributes': {'type': 'Membership__c', 'url': '/services/data/v57.0/sobjects/Membership__c/a028Y00001Eu0x6QAB'}, 'Id': 'a028Y00001Eu0x6QAB'}, {'attributes': {'type': 'Membership__c', 'url': '/services/data/v57.0/sobjects/Membership__c/a028Y00001Eu0x7QAB'}, 'Id': 'a028Y00001Eu0x7QAB'}, {'attributes': {'type': 'Membership__c', 'url': '/services/data/v57.0/sobjects/Membership__c/a028Y00001Eu0x8QAB'}, 'Id': 'a028Y00001Eu0x8QAB'}, {'attributes': {'type': 'Membership__c', 'url': '/services/data/v57.0/sobjects/Membership__c/a028Y00001Eu0x9QAB'}, 'Id': 'a028Y00001Eu0x9QAB'}, {'attributes': {'type': 'Membership__c', 'url': '/services/data/v57.0/sobjects/Membership__c/a028Y00001Eu0xAQAR'}, 'Id': 'a028Y00001Eu0xAQAR'}, {'attributes': {'type': 'Membership__c', 'url': '/services/data/v57.0/sobjects/Membership__c/a028Y00001Eu0xBQAR'}, 'Id': 'a028Y00001Eu0xBQAR'}, {'attributes': {'type': 'Membership__c', 'url': '/services/data/v57.0/sobjects/Membership__c/a028Y00001Eu0xCQAR'}, 'Id': 'a028Y00001Eu0xCQAR'}, {'attributes': {'type': 'Membership__c', 'url': '/services/data/v57.0/sobjects/Membership__c/a028Y00001Eu0xDQAR'}, 'Id': 'a028Y00001Eu0xDQAR'}, {'attributes': {'type': 'Membership__c', 'url': '/services/data/v57.0/sobjects/Membership__c/a028Y00001Eu0xEQAR'}, 'Id': 'a028Y00001Eu0xEQAR'}, {'attributes': {'type': 'Membership__c', 'url': '/services/data/v57.0/sobjects/Membership__c/a028Y00001Eu0xFQAR'}, 'Id': 'a028Y00001Eu0xFQAR'}, {'attributes': {'type': 'Membership__c', 'url': '/services/data/v57.0/sobjects/Membership__c/a028Y00001Eu0xGQAR'}, 'Id': 'a028Y00001Eu0xGQAR'}, {'attributes': {'type': 'Membership__c', 'url': '/services/data/v57.0/sobjects/Membership__c/a028Y00001Eu0xHQAR'}, 'Id': 'a028Y00001Eu0xHQAR'}, {'attributes': {'type': 'Membership__c', 'url': '/services/data/v57.0/sobjects/Membership__c/a028Y00001Eu0xIQAR'}, 'Id': 'a028Y00001Eu0xIQAR'}, {'attributes': {'type': 'Membership__c', 'url': '/services/data/v57.0/sobjects/Membership__c/a028Y00001Eu0xJQAR'}, 'Id': 'a028Y00001Eu0xJQAR'}, {'attributes': {'type': 'Membership__c', 'url': '/services/data/v57.0/sobjects/Membership__c/a028Y00001Eu0xKQAR'}, 'Id': 'a028Y00001Eu0xKQAR'}, {'attributes': {'type': 'Membership__c', 'url': '/services/data/v57.0/sobjects/Membership__c/a028Y00001Eu0xLQAR'}, 'Id': 'a028Y00001Eu0xLQAR'}, {'attributes': {'type': 'Membership__c', 'url': '/services/data/v57.0/sobjects/Membership__c/a028Y00001Eu0xMQAR'}, 'Id': 'a028Y00001Eu0xMQAR'}, {'attributes': {'type': 'Membership__c', 'url': '/services/data/v57.0/sobjects/Membership__c/a028Y00001Eu0xNQAR'}, 'Id': 'a028Y00001Eu0xNQAR'}, {'attributes': {'type': 'Membership__c', 'url': '/services/data/v57.0/sobjects/Membership__c/a028Y00001Eu0xOQAR'}, 'Id': 'a028Y00001Eu0xOQAR'}, {'attributes': {'type': 'Membership__c', 'url': '/services/data/v57.0/sobjects/Membership__c/a028Y00001Eu0xPQAR'}, 'Id': 'a028Y00001Eu0xPQAR'}, {'attributes': {'type': 'Membership__c', 'url': '/services/data/v57.0/sobjects/Membership__c/a028Y00001Eu0xQQAR'}, 'Id': 'a028Y00001Eu0xQQAR'}, {'attributes': {'type': 'Membership__c', 'url': '/services/data/v57.0/sobjects/Membership__c/a028Y00001Eu0xRQAR'}, 'Id': 'a028Y00001Eu0xRQAR'}, {'attributes': {'type': 'Membership__c', 'url': '/services/data/v57.0/sobjects/Membership__c/a028Y00001Eu0xSQAR'}, 'Id': 'a028Y00001Eu0xSQAR'}, {'attributes': {'type': 'Membership__c', 'url': '/services/data/v57.0/sobjects/Membership__c/a028Y00001Eu0xTQAR'}, 'Id': 'a028Y00001Eu0xTQAR'}, {'attributes': {'type': 'Membership__c', 'url': '/services/data/v57.0/sobjects/Membership__c/a028Y00001Eu0xUQAR'}, 'Id': 'a028Y00001Eu0xUQAR'}, {'attributes': {'type': 'Membership__c', 'url': '/services/data/v57.0/sobjects/Membership__c/a028Y00001Eu0xVQAR'}, 'Id': 'a028Y00001Eu0xVQAR'}, {'attributes': {'type': 'Membership__c', 'url': '/services/data/v57.0/sobjects/Membership__c/a028Y00001Eu0xWQAR'}, 'Id': 'a028Y00001Eu0xWQAR'}, {'attributes': {'type': 'Membership__c', 'url': '/services/data/v57.0/sobjects/Membership__c/a028Y00001Eu0xXQAR'}, 'Id': 'a028Y00001Eu0xXQAR'}, {'attributes': {'type': 'Membership__c', 'url': '/services/data/v57.0/sobjects/Membership__c/a028Y00001Eu0xYQAR'}, 'Id': 'a028Y00001Eu0xYQAR'}, {'attributes': {'type': 'Membership__c', 'url': '/services/data/v57.0/sobjects/Membership__c/a028Y00001Eu0xZQAR'}, 'Id': 'a028Y00001Eu0xZQAR'}, {'attributes': {'type': 'Membership__c', 'url': '/services/data/v57.0/sobjects/Membership__c/a028Y00001Eu0xaQAB'}, 'Id': 'a028Y00001Eu0xaQAB'}, {'attributes': {'type': 'Membership__c', 'url': '/services/data/v57.0/sobjects/Membership__c/a028Y00001Eu0xbQAB'}, 'Id': 'a028Y00001Eu0xbQAB'}, {'attributes': {'type': 'Membership__c', 'url': '/services/data/v57.0/sobjects/Membership__c/a028Y00001Eu0xcQAB'}, 'Id': 'a028Y00001Eu0xcQAB'}, {'attributes': {'type': 'Membership__c', 'url': '/services/data/v57.0/sobjects/Membership__c/a028Y00001Eu0xdQAB'}, 'Id': 'a028Y00001Eu0xdQAB'}, {'attributes': {'type': 'Membership__c', 'url': '/services/data/v57.0/sobjects/Membership__c/a028Y00001Eu0xeQAB'}, 'Id': 'a028Y00001Eu0xeQAB'}, {'attributes': {'type': 'Membership__c', 'url': '/services/data/v57.0/sobjects/Membership__c/a028Y00001Eu0xfQAB'}, 'Id': 'a028Y00001Eu0xfQAB'}, {'attributes': {'type': 'Membership__c', 'url': '/services/data/v57.0/sobjects/Membership__c/a028Y00001Eu0xgQAB'}, 'Id': 'a028Y00001Eu0xgQAB'}, {'attributes': {'type': 'Membership__c', 'url': '/services/data/v57.0/sobjects/Membership__c/a028Y00001Eu0xhQAB'}, 'Id': 'a028Y00001Eu0xhQAB'}, {'attributes': {'type': 'Membership__c', 'url': '/services/data/v57.0/sobjects/Membership__c/a028Y00001Eu0xiQAB'}, 'Id': 'a028Y00001Eu0xiQAB'}, {'attributes': {'type': 'Membership__c', 'url': '/services/data/v57.0/sobjects/Membership__c/a028Y00001Eu0xjQAB'}, 'Id': 'a028Y00001Eu0xjQAB'}, {'attributes': {'type': 'Membership__c', 'url': '/services/data/v57.0/sobjects/Membership__c/a028Y00001Eu0xkQAB'}, 'Id': 'a028Y00001Eu0xkQAB'}, {'attributes': {'type': 'Membership__c', 'url': '/services/data/v57.0/sobjects/Membership__c/a028Y00001Eu0xlQAB'}, 'Id': 'a028Y00001Eu0xlQAB'}, {'attributes': {'type': 'Membership__c', 'url': '/services/data/v57.0/sobjects/Membership__c/a028Y00001Eu0xmQAB'}, 'Id': 'a028Y00001Eu0xmQAB'}, {'attributes': {'type': 'Membership__c', 'url': '/services/data/v57.0/sobjects/Membership__c/a028Y00001Eu0xnQAB'}, 'Id': 'a028Y00001Eu0xnQAB'}, {'attributes': {'type': 'Membership__c', 'url': '/services/data/v57.0/sobjects/Membership__c/a028Y00001Eu0xoQAB'}, 'Id': 'a028Y00001Eu0xoQAB'}, {'attributes': {'type': 'Membership__c', 'url': '/services/data/v57.0/sobjects/Membership__c/a028Y00001Eu0xpQAB'}, 'Id': 'a028Y00001Eu0xpQAB'}, {'attributes': {'type': 'Membership__c', 'url': '/services/data/v57.0/sobjects/Membership__c/a028Y00001Eu0xqQAB'}, 'Id': 'a028Y00001Eu0xqQAB'}, {'attributes': {'type': 'Membership__c', 'url': '/services/data/v57.0/sobjects/Membership__c/a028Y00001Eu0xrQAB'}, 'Id': 'a028Y00001Eu0xrQAB'}, {'attributes': {'type': 'Membership__c', 'url': '/services/data/v57.0/sobjects/Membership__c/a028Y00001Eu0xsQAB'}, 'Id': 'a028Y00001Eu0xsQAB'}, {'attributes': {'type': 'Membership__c', 'url': '/services/data/v57.0/sobjects/Membership__c/a028Y00001Eu0xtQAB'}, 'Id': 'a028Y00001Eu0xtQAB'}, {'attributes': {'type': 'Membership__c', 'url': '/services/data/v57.0/sobjects/Membership__c/a028Y00001Eu0xuQAB'}, 'Id': 'a028Y00001Eu0xuQAB'}, {'attributes': {'type': 'Membership__c', 'url': '/services/data/v57.0/sobjects/Membership__c/a028Y00001Eu0xvQAB'}, 'Id': 'a028Y00001Eu0xvQAB'}, {'attributes': {'type': 'Membership__c', 'url': '/services/data/v57.0/sobjects/Membership__c/a028Y00001Eu0xwQAB'}, 'Id': 'a028Y00001Eu0xwQAB'}, {'attributes': {'type': 'Membership__c', 'url': '/services/data/v57.0/sobjects/Membership__c/a028Y00001Eu0xxQAB'}, 'Id': 'a028Y00001Eu0xxQAB'}, {'attributes': {'type': 'Membership__c', 'url': '/services/data/v57.0/sobjects/Membership__c/a028Y00001Eu0xyQAB'}, 'Id': 'a028Y00001Eu0xyQAB'}, {'attributes': {'type': 'Membership__c', 'url': '/services/data/v57.0/sobjects/Membership__c/a028Y00001Eu0xzQAB'}, 'Id': 'a028Y00001Eu0xzQAB'}, {'attributes': {'type': 'Membership__c', 'url': '/services/data/v57.0/sobjects/Membership__c/a028Y00001Eu0y0QAB'}, 'Id': 'a028Y00001Eu0y0QAB'}, {'attributes': {'type': 'Membership__c', 'url': '/services/data/v57.0/sobjects/Membership__c/a028Y00001Eu0y1QAB'}, 'Id': 'a028Y00001Eu0y1QAB'}, {'attributes': {'type': 'Membership__c', 'url': '/services/data/v57.0/sobjects/Membership__c/a028Y00001Eu0y2QAB'}, 'Id': 'a028Y00001Eu0y2QAB'}, {'attributes': {'type': 'Membership__c', 'url': '/services/data/v57.0/sobjects/Membership__c/a028Y00001Eu0y3QAB'}, 'Id': 'a028Y00001Eu0y3QAB'}, {'attributes': {'type': 'Membership__c', 'url': '/services/data/v57.0/sobjects/Membership__c/a028Y00001Eu0y4QAB'}, 'Id': 'a028Y00001Eu0y4QAB'}, {'attributes': {'type': 'Membership__c', 'url': '/services/data/v57.0/sobjects/Membership__c/a028Y00001Eu0y5QAB'}, 'Id': 'a028Y00001Eu0y5QAB'}, {'attributes': {'type': 'Membership__c', 'url': '/services/data/v57.0/sobjects/Membership__c/a028Y00001Eu0y6QAB'}, 'Id': 'a028Y00001Eu0y6QAB'}, {'attributes': {'type': 'Membership__c', 'url': '/services/data/v57.0/sobjects/Membership__c/a028Y00001Eu0y7QAB'}, 'Id': 'a028Y00001Eu0y7QAB'}, {'attributes': {'type': 'Membership__c', 'url': '/services/data/v57.0/sobjects/Membership__c/a028Y00001Eu0y8QAB'}, 'Id': 'a028Y00001Eu0y8QAB'}, {'attributes': {'type': 'Membership__c', 'url': '/services/data/v57.0/sobjects/Membership__c/a028Y00001Eu0y9QAB'}, 'Id': 'a028Y00001Eu0y9QAB'}, {'attributes': {'type': 'Membership__c', 'url': '/services/data/v57.0/sobjects/Membership__c/a028Y00001Eu0yAQAR'}, 'Id': 'a028Y00001Eu0yAQAR'}, {'attributes': {'type': 'Membership__c', 'url': '/services/data/v57.0/sobjects/Membership__c/a028Y00001Eu0yBQAR'}, 'Id': 'a028Y00001Eu0yBQAR'}, {'attributes': {'type': 'Membership__c', 'url': '/services/data/v57.0/sobjects/Membership__c/a028Y00001Eu0yCQAR'}, 'Id': 'a028Y00001Eu0yCQAR'}, {'attributes': {'type': 'Membership__c', 'url': '/services/data/v57.0/sobjects/Membership__c/a028Y00001Eu0yDQAR'}, 'Id': 'a028Y00001Eu0yDQAR'}, {'attributes': {'type': 'Membership__c', 'url': '/services/data/v57.0/sobjects/Membership__c/a028Y00001Eu0yEQAR'}, 'Id': 'a028Y00001Eu0yEQAR'}, {'attributes': {'type': 'Membership__c', 'url': '/services/data/v57.0/sobjects/Membership__c/a028Y00001Eu0yFQAR'}, 'Id': 'a028Y00001Eu0yFQAR'}, {'attributes': {'type': 'Membership__c', 'url': '/services/data/v57.0/sobjects/Membership__c/a028Y00001Eu0yGQAR'}, 'Id': 'a028Y00001Eu0yGQAR'}, {'attributes': {'type': 'Membership__c', 'url': '/services/data/v57.0/sobjects/Membership__c/a028Y00001Eu0yHQAR'}, 'Id': 'a028Y00001Eu0yHQAR'}, {'attributes': {'type': 'Membership__c', 'url': '/services/data/v57.0/sobjects/Membership__c/a028Y00001Eu0yIQAR'}, 'Id': 'a028Y00001Eu0yIQAR'}, {'attributes': {'type': 'Membership__c', 'url': '/services/data/v57.0/sobjects/Membership__c/a028Y00001Eu0yJQAR'}, 'Id': 'a028Y00001Eu0yJQAR'}, {'attributes': {'type': 'Membership__c', 'url': '/services/data/v57.0/sobjects/Membership__c/a028Y00001Eu0yKQAR'}, 'Id': 'a028Y00001Eu0yKQAR'}, {'attributes': {'type': 'Membership__c', 'url': '/services/data/v57.0/sobjects/Membership__c/a028Y00001Eu0yLQAR'}, 'Id': 'a028Y00001Eu0yLQAR'}, {'attributes': {'type': 'Membership__c', 'url': '/services/data/v57.0/sobjects/Membership__c/a028Y00001Eu0yMQAR'}, 'Id': 'a028Y00001Eu0yMQAR'}, {'attributes': {'type': 'Membership__c', 'url': '/services/data/v57.0/sobjects/Membership__c/a028Y00001Eu0yNQAR'}, 'Id': 'a028Y00001Eu0yNQAR'}, {'attributes': {'type': 'Membership__c', 'url': '/services/data/v57.0/sobjects/Membership__c/a028Y00001Eu0yOQAR'}, 'Id': 'a028Y00001Eu0yOQAR'}, {'attributes': {'type': 'Membership__c', 'url': '/services/data/v57.0/sobjects/Membership__c/a028Y00001Eu0yPQAR'}, 'Id': 'a028Y00001Eu0yPQAR'}, {'attributes': {'type': 'Membership__c', 'url': '/services/data/v57.0/sobjects/Membership__c/a028Y00001Eu0yQQAR'}, 'Id': 'a028Y00001Eu0yQQAR'}, {'attributes': {'type': 'Membership__c', 'url': '/services/data/v57.0/sobjects/Membership__c/a028Y00001Eu0yRQAR'}, 'Id': 'a028Y00001Eu0yRQAR'}, {'attributes': {'type': 'Membership__c', 'url': '/services/data/v57.0/sobjects/Membership__c/a028Y00001Eu0ySQAR'}, 'Id': 'a028Y00001Eu0ySQAR'}, {'attributes': {'type': 'Membership__c', 'url': '/services/data/v57.0/sobjects/Membership__c/a028Y00001Eu0yTQAR'}, 'Id': 'a028Y00001Eu0yTQAR'}, {'attributes': {'type': 'Membership__c', 'url': '/services/data/v57.0/sobjects/Membership__c/a028Y00001Eu0yUQAR'}, 'Id': 'a028Y00001Eu0yUQAR'}, {'attributes': {'type': 'Membership__c', 'url': '/services/data/v57.0/sobjects/Membership__c/a028Y00001Eu0yVQAR'}, 'Id': 'a028Y00001Eu0yVQAR'}, {'attributes': {'type': 'Membership__c', 'url': '/services/data/v57.0/sobjects/Membership__c/a028Y00001Eu0yWQAR'}, 'Id': 'a028Y00001Eu0yWQAR'}, {'attributes': {'type': 'Membership__c', 'url': '/services/data/v57.0/sobjects/Membership__c/a028Y00001Eu0yXQAR'}, 'Id': 'a028Y00001Eu0yXQAR'}, {'attributes': {'type': 'Membership__c', 'url': '/services/data/v57.0/sobjects/Membership__c/a028Y00001Eu0yYQAR'}, 'Id': 'a028Y00001Eu0yYQAR'}, {'attributes': {'type': 'Membership__c', 'url': '/services/data/v57.0/sobjects/Membership__c/a028Y00001Eu0yZQAR'}, 'Id': 'a028Y00001Eu0yZQAR'}, {'attributes': {'type': 'Membership__c', 'url': '/services/data/v57.0/sobjects/Membership__c/a028Y00001Eu0yaQAB'}, 'Id': 'a028Y00001Eu0yaQAB'}, {'attributes': {'type': 'Membership__c', 'url': '/services/data/v57.0/sobjects/Membership__c/a028Y00001Eu0ybQAB'}, 'Id': 'a028Y00001Eu0ybQAB'}, {'attributes': {'type': 'Membership__c', 'url': '/services/data/v57.0/sobjects/Membership__c/a028Y00001Eu0ycQAB'}, 'Id': 'a028Y00001Eu0ycQAB'}, {'attributes': {'type': 'Membership__c', 'url': '/services/data/v57.0/sobjects/Membership__c/a028Y00001Eu0ydQAB'}, 'Id': 'a028Y00001Eu0ydQAB'}, {'attributes': {'type': 'Membership__c', 'url': '/services/data/v57.0/sobjects/Membership__c/a028Y00001Eu0yeQAB'}, 'Id': 'a028Y00001Eu0yeQAB'}, {'attributes': {'type': 'Membership__c', 'url': '/services/data/v57.0/sobjects/Membership__c/a028Y00001Eu0yfQAB'}, 'Id': 'a028Y00001Eu0yfQAB'}, {'attributes': {'type': 'Membership__c', 'url': '/services/data/v57.0/sobjects/Membership__c/a028Y00001Eu0ygQAB'}, 'Id': 'a028Y00001Eu0ygQAB'}, {'attributes': {'type': 'Membership__c', 'url': '/services/data/v57.0/sobjects/Membership__c/a028Y00001Eu0yhQAB'}, 'Id': 'a028Y00001Eu0yhQAB'}, {'attributes': {'type': 'Membership__c', 'url': '/services/data/v57.0/sobjects/Membership__c/a028Y00001Eu0yiQAB'}, 'Id': 'a028Y00001Eu0yiQAB'}, {'attributes': {'type': 'Membership__c', 'url': '/services/data/v57.0/sobjects/Membership__c/a028Y00001Eu0yjQAB'}, 'Id': 'a028Y00001Eu0yjQAB'}, {'attributes': {'type': 'Membership__c', 'url': '/services/data/v57.0/sobjects/Membership__c/a028Y00001Eu0ykQAB'}, 'Id': 'a028Y00001Eu0ykQAB'}, {'attributes': {'type': 'Membership__c', 'url': '/services/data/v57.0/sobjects/Membership__c/a028Y00001Eu0ylQAB'}, 'Id': 'a028Y00001Eu0ylQAB'}, {'attributes': {'type': 'Membership__c', 'url': '/services/data/v57.0/sobjects/Membership__c/a028Y00001Eu0ymQAB'}, 'Id': 'a028Y00001Eu0ymQAB'}, {'attributes': {'type': 'Membership__c', 'url': '/services/data/v57.0/sobjects/Membership__c/a028Y00001Eu0ynQAB'}, 'Id': 'a028Y00001Eu0ynQAB'}, {'attributes': {'type': 'Membership__c', 'url': '/services/data/v57.0/sobjects/Membership__c/a028Y00001Eu0yoQAB'}, 'Id': 'a028Y00001Eu0yoQAB'}, {'attributes': {'type': 'Membership__c', 'url': '/services/data/v57.0/sobjects/Membership__c/a028Y00001Eu0ypQAB'}, 'Id': 'a028Y00001Eu0ypQAB'}, {'attributes': {'type': 'Membership__c', 'url': '/services/data/v57.0/sobjects/Membership__c/a028Y00001Eu0yqQAB'}, 'Id': 'a028Y00001Eu0yqQAB'}, {'attributes': {'type': 'Membership__c', 'url': '/services/data/v57.0/sobjects/Membership__c/a028Y00001Eu0yrQAB'}, 'Id': 'a028Y00001Eu0yrQAB'}, {'attributes': {'type': 'Membership__c', 'url': '/services/data/v57.0/sobjects/Membership__c/a028Y00001Eu0ysQAB'}, 'Id': 'a028Y00001Eu0ysQAB'}, {'attributes': {'type': 'Membership__c', 'url': '/services/data/v57.0/sobjects/Membership__c/a028Y00001Eu0ytQAB'}, 'Id': 'a028Y00001Eu0ytQAB'}, {'attributes': {'type': 'Membership__c', 'url': '/services/data/v57.0/sobjects/Membership__c/a028Y00001Eu0yuQAB'}, 'Id': 'a028Y00001Eu0yuQAB'}, {'attributes': {'type': 'Membership__c', 'url': '/services/data/v57.0/sobjects/Membership__c/a028Y00001Eu0yvQAB'}, 'Id': 'a028Y00001Eu0yvQAB'}, {'attributes': {'type': 'Membership__c', 'url': '/services/data/v57.0/sobjects/Membership__c/a028Y00001Eu0ywQAB'}, 'Id': 'a028Y00001Eu0ywQAB'}, {'attributes': {'type': 'Membership__c', 'url': '/services/data/v57.0/sobjects/Membership__c/a028Y00001Eu0yxQAB'}, 'Id': 'a028Y00001Eu0yxQAB'}, {'attributes': {'type': 'Membership__c', 'url': '/services/data/v57.0/sobjects/Membership__c/a028Y00001Eu0yyQAB'}, 'Id': 'a028Y00001Eu0yyQAB'}, {'attributes': {'type': 'Membership__c', 'url': '/services/data/v57.0/sobjects/Membership__c/a028Y00001Eu0yzQAB'}, 'Id': 'a028Y00001Eu0yzQAB'}, {'attributes': {'type': 'Membership__c', 'url': '/services/data/v57.0/sobjects/Membership__c/a028Y00001Eu0z0QAB'}, 'Id': 'a028Y00001Eu0z0QAB'}, {'attributes': {'type': 'Membership__c', 'url': '/services/data/v57.0/sobjects/Membership__c/a028Y00001Eu0z1QAB'}, 'Id': 'a028Y00001Eu0z1QAB'}, {'attributes': {'type': 'Membership__c', 'url': '/services/data/v57.0/sobjects/Membership__c/a028Y00001Eu0z2QAB'}, 'Id': 'a028Y00001Eu0z2QAB'}, {'attributes': {'type': 'Membership__c', 'url': '/services/data/v57.0/sobjects/Membership__c/a028Y00001Eu0z3QAB'}, 'Id': 'a028Y00001Eu0z3QAB'}, {'attributes': {'type': 'Membership__c', 'url': '/services/data/v57.0/sobjects/Membership__c/a028Y00001Eu0z4QAB'}, 'Id': 'a028Y00001Eu0z4QAB'}, {'attributes': {'type': 'Membership__c', 'url': '/services/data/v57.0/sobjects/Membership__c/a028Y00001Eu0z5QAB'}, 'Id': 'a028Y00001Eu0z5QAB'}, {'attributes': {'type': 'Membership__c', 'url': '/services/data/v57.0/sobjects/Membership__c/a028Y00001Eu0z6QAB'}, 'Id': 'a028Y00001Eu0z6QAB'}, {'attributes': {'type': 'Membership__c', 'url': '/services/data/v57.0/sobjects/Membership__c/a028Y00001Eu0z7QAB'}, 'Id': 'a028Y00001Eu0z7QAB'}, {'attributes': {'type': 'Membership__c', 'url': '/services/data/v57.0/sobjects/Membership__c/a028Y00001Eu0z8QAB'}, 'Id': 'a028Y00001Eu0z8QAB'}, {'attributes': {'type': 'Membership__c', 'url': '/services/data/v57.0/sobjects/Membership__c/a028Y00001Eu0z9QAB'}, 'Id': 'a028Y00001Eu0z9QAB'}, {'attributes': {'type': 'Membership__c', 'url': '/services/data/v57.0/sobjects/Membership__c/a028Y00001Eu0zAQAR'}, 'Id': 'a028Y00001Eu0zAQAR'}, {'attributes': {'type': 'Membership__c', 'url': '/services/data/v57.0/sobjects/Membership__c/a028Y00001Eu0zBQAR'}, 'Id': 'a028Y00001Eu0zBQAR'}, {'attributes': {'type': 'Membership__c', 'url': '/services/data/v57.0/sobjects/Membership__c/a028Y00001Eu0zCQAR'}, 'Id': 'a028Y00001Eu0zCQAR'}, {'attributes': {'type': 'Membership__c', 'url': '/services/data/v57.0/sobjects/Membership__c/a028Y00001Eu0zDQAR'}, 'Id': 'a028Y00001Eu0zDQAR'}, {'attributes': {'type': 'Membership__c', 'url': '/services/data/v57.0/sobjects/Membership__c/a028Y00001Eu0zEQAR'}, 'Id': 'a028Y00001Eu0zEQAR'}, {'attributes': {'type': 'Membership__c', 'url': '/services/data/v57.0/sobjects/Membership__c/a028Y00001Eu0zFQAR'}, 'Id': 'a028Y00001Eu0zFQAR'}, {'attributes': {'type': 'Membership__c', 'url': '/services/data/v57.0/sobjects/Membership__c/a028Y00001Eu0zGQAR'}, 'Id': 'a028Y00001Eu0zGQAR'}, {'attributes': {'type': 'Membership__c', 'url': '/services/data/v57.0/sobjects/Membership__c/a028Y00001Eu0zHQAR'}, 'Id': 'a028Y00001Eu0zHQAR'}, {'attributes': {'type': 'Membership__c', 'url': '/services/data/v57.0/sobjects/Membership__c/a028Y00001Eu0zIQAR'}, 'Id': 'a028Y00001Eu0zIQAR'}, {'attributes': {'type': 'Membership__c', 'url': '/services/data/v57.0/sobjects/Membership__c/a028Y00001Eu0zJQAR'}, 'Id': 'a028Y00001Eu0zJQAR'}, {'attributes': {'type': 'Membership__c', 'url': '/services/data/v57.0/sobjects/Membership__c/a028Y00001Eu0zKQAR'}, 'Id': 'a028Y00001Eu0zKQAR'}, {'attributes': {'type': 'Membership__c', 'url': '/services/data/v57.0/sobjects/Membership__c/a028Y00001Eu0zLQAR'}, 'Id': 'a028Y00001Eu0zLQAR'}, {'attributes': {'type': 'Membership__c', 'url': '/services/data/v57.0/sobjects/Membership__c/a028Y00001Eu0zMQAR'}, 'Id': 'a028Y00001Eu0zMQAR'}, {'attributes': {'type': 'Membership__c', 'url': '/services/data/v57.0/sobjects/Membership__c/a028Y00001Eu0zNQAR'}, 'Id': 'a028Y00001Eu0zNQAR'}, {'attributes': {'type': 'Membership__c', 'url': '/services/data/v57.0/sobjects/Membership__c/a028Y00001Eu0zOQAR'}, 'Id': 'a028Y00001Eu0zOQAR'}, {'attributes': {'type': 'Membership__c', 'url': '/services/data/v57.0/sobjects/Membership__c/a028Y00001Eu0zPQAR'}, 'Id': 'a028Y00001Eu0zPQAR'}, {'attributes': {'type': 'Membership__c', 'url': '/services/data/v57.0/sobjects/Membership__c/a028Y00001Eu0zQQAR'}, 'Id': 'a028Y00001Eu0zQQAR'}, {'attributes': {'type': 'Membership__c', 'url': '/services/data/v57.0/sobjects/Membership__c/a028Y00001Eu0zRQAR'}, 'Id': 'a028Y00001Eu0zRQAR'}, {'attributes': {'type': 'Membership__c', 'url': '/services/data/v57.0/sobjects/Membership__c/a028Y00001Eu0zSQAR'}, 'Id': 'a028Y00001Eu0zSQAR'}, {'attributes': {'type': 'Membership__c', 'url': '/services/data/v57.0/sobjects/Membership__c/a028Y00001Eu0zTQAR'}, 'Id': 'a028Y00001Eu0zTQAR'}, {'attributes': {'type': 'Membership__c', 'url': '/services/data/v57.0/sobjects/Membership__c/a028Y00001Eu0zUQAR'}, 'Id': 'a028Y00001Eu0zUQAR'}, {'attributes': {'type': 'Membership__c', 'url': '/services/data/v57.0/sobjects/Membership__c/a028Y00001Eu0zVQAR'}, 'Id': 'a028Y00001Eu0zVQAR'}, {'attributes': {'type': 'Membership__c', 'url': '/services/data/v57.0/sobjects/Membership__c/a028Y00001Eu0zWQAR'}, 'Id': 'a028Y00001Eu0zWQAR'}, {'attributes': {'type': 'Membership__c', 'url': '/services/data/v57.0/sobjects/Membership__c/a028Y00001Eu0zXQAR'}, 'Id': 'a028Y00001Eu0zXQAR'}, {'attributes': {'type': 'Membership__c', 'url': '/services/data/v57.0/sobjects/Membership__c/a028Y00001Eu0zYQAR'}, 'Id': 'a028Y00001Eu0zYQAR'}, {'attributes': {'type': 'Membership__c', 'url': '/services/data/v57.0/sobjects/Membership__c/a028Y00001Eu0zZQAR'}, 'Id': 'a028Y00001Eu0zZQAR'}, {'attributes': {'type': 'Membership__c', 'url': '/services/data/v57.0/sobjects/Membership__c/a028Y00001Eu0zaQAB'}, 'Id': 'a028Y00001Eu0zaQAB'}, {'attributes': {'type': 'Membership__c', 'url': '/services/data/v57.0/sobjects/Membership__c/a028Y00001Eu0zbQAB'}, 'Id': 'a028Y00001Eu0zbQAB'}, {'attributes': {'type': 'Membership__c', 'url': '/services/data/v57.0/sobjects/Membership__c/a028Y00001Eu0zcQAB'}, 'Id': 'a028Y00001Eu0zcQAB'}, {'attributes': {'type': 'Membership__c', 'url': '/services/data/v57.0/sobjects/Membership__c/a028Y00001Eu0zdQAB'}, 'Id': 'a028Y00001Eu0zdQAB'}, {'attributes': {'type': 'Membership__c', 'url': '/services/data/v57.0/sobjects/Membership__c/a028Y00001Eu0zeQAB'}, 'Id': 'a028Y00001Eu0zeQAB'}, {'attributes': {'type': 'Membership__c', 'url': '/services/data/v57.0/sobjects/Membership__c/a028Y00001Eu0zfQAB'}, 'Id': 'a028Y00001Eu0zfQAB'}, {'attributes': {'type': 'Membership__c', 'url': '/services/data/v57.0/sobjects/Membership__c/a028Y00001Eu0zgQAB'}, 'Id': 'a028Y00001Eu0zgQAB'}, {'attributes': {'type': 'Membership__c', 'url': '/services/data/v57.0/sobjects/Membership__c/a028Y00001Eu0zhQAB'}, 'Id': 'a028Y00001Eu0zhQAB'}, {'attributes': {'type': 'Membership__c', 'url': '/services/data/v57.0/sobjects/Membership__c/a028Y00001Eu0ziQAB'}, 'Id': 'a028Y00001Eu0ziQAB'}, {'attributes': {'type': 'Membership__c', 'url': '/services/data/v57.0/sobjects/Membership__c/a028Y00001Eu0zjQAB'}, 'Id': 'a028Y00001Eu0zjQAB'}, {'attributes': {'type': 'Membership__c', 'url': '/services/data/v57.0/sobjects/Membership__c/a028Y00001Eu0zkQAB'}, 'Id': 'a028Y00001Eu0zkQAB'}, {'attributes': {'type': 'Membership__c', 'url': '/services/data/v57.0/sobjects/Membership__c/a028Y00001Eu0zlQAB'}, 'Id': 'a028Y00001Eu0zlQAB'}, {'attributes': {'type': 'Membership__c', 'url': '/services/data/v57.0/sobjects/Membership__c/a028Y00001Eu0zmQAB'}, 'Id': 'a028Y00001Eu0zmQAB'}, {'attributes': {'type': 'Membership__c', 'url': '/services/data/v57.0/sobjects/Membership__c/a028Y00001Eu0znQAB'}, 'Id': 'a028Y00001Eu0znQAB'}, {'attributes': {'type': 'Membership__c', 'url': '/services/data/v57.0/sobjects/Membership__c/a028Y00001Eu0zoQAB'}, 'Id': 'a028Y00001Eu0zoQAB'}, {'attributes': {'type': 'Membership__c', 'url': '/services/data/v57.0/sobjects/Membership__c/a028Y00001Eu0zpQAB'}, 'Id': 'a028Y00001Eu0zpQAB'}, {'attributes': {'type': 'Membership__c', 'url': '/services/data/v57.0/sobjects/Membership__c/a028Y00001Eu0zqQAB'}, 'Id': 'a028Y00001Eu0zqQAB'}, {'attributes': {'type': 'Membership__c', 'url': '/services/data/v57.0/sobjects/Membership__c/a028Y00001Eu0zrQAB'}, 'Id': 'a028Y00001Eu0zrQAB'}, {'attributes': {'type': 'Membership__c', 'url': '/services/data/v57.0/sobjects/Membership__c/a028Y00001Eu0zsQAB'}, 'Id': 'a028Y00001Eu0zsQAB'}, {'attributes': {'type': 'Membership__c', 'url': '/services/data/v57.0/sobjects/Membership__c/a028Y00001Eu0ztQAB'}, 'Id': 'a028Y00001Eu0ztQAB'}, {'attributes': {'type': 'Membership__c', 'url': '/services/data/v57.0/sobjects/Membership__c/a028Y00001Eu0zuQAB'}, 'Id': 'a028Y00001Eu0zuQAB'}, {'attributes': {'type': 'Membership__c', 'url': '/services/data/v57.0/sobjects/Membership__c/a028Y00001Eu0zvQAB'}, 'Id': 'a028Y00001Eu0zvQAB'}, {'attributes': {'type': 'Membership__c', 'url': '/services/data/v57.0/sobjects/Membership__c/a028Y00001Eu0zwQAB'}, 'Id': 'a028Y00001Eu0zwQAB'}, {'attributes': {'type': 'Membership__c', 'url': '/services/data/v57.0/sobjects/Membership__c/a028Y00001Eu0zxQAB'}, 'Id': 'a028Y00001Eu0zxQAB'}, {'attributes': {'type': 'Membership__c', 'url': '/services/data/v57.0/sobjects/Membership__c/a028Y00001Eu0zyQAB'}, 'Id': 'a028Y00001Eu0zyQAB'}, {'attributes': {'type': 'Membership__c', 'url': '/services/data/v57.0/sobjects/Membership__c/a028Y00001Eu0zzQAB'}, 'Id': 'a028Y00001Eu0zzQAB'}, {'attributes': {'type': 'Membership__c', 'url': '/services/data/v57.0/sobjects/Membership__c/a028Y00001Eu100QAB'}, 'Id': 'a028Y00001Eu100QAB'}, {'attributes': {'type': 'Membership__c', 'url': '/services/data/v57.0/sobjects/Membership__c/a028Y00001Eu101QAB'}, 'Id': 'a028Y00001Eu101QAB'}, {'attributes': {'type': 'Membership__c', 'url': '/services/data/v57.0/sobjects/Membership__c/a028Y00001Eu102QAB'}, 'Id': 'a028Y00001Eu102QAB'}, {'attributes': {'type': 'Membership__c', 'url': '/services/data/v57.0/sobjects/Membership__c/a028Y00001Eu103QAB'}, 'Id': 'a028Y00001Eu103QAB'}, {'attributes': {'type': 'Membership__c', 'url': '/services/data/v57.0/sobjects/Membership__c/a028Y00001Eu104QAB'}, 'Id': 'a028Y00001Eu104QAB'}, {'attributes': {'type': 'Membership__c', 'url': '/services/data/v57.0/sobjects/Membership__c/a028Y00001Eu105QAB'}, 'Id': 'a028Y00001Eu105QAB'}, {'attributes': {'type': 'Membership__c', 'url': '/services/data/v57.0/sobjects/Membership__c/a028Y00001Eu106QAB'}, 'Id': 'a028Y00001Eu106QAB'}, {'attributes': {'type': 'Membership__c', 'url': '/services/data/v57.0/sobjects/Membership__c/a028Y00001Eu107QAB'}, 'Id': 'a028Y00001Eu107QAB'}, {'attributes': {'type': 'Membership__c', 'url': '/services/data/v57.0/sobjects/Membership__c/a028Y00001Eu108QAB'}, 'Id': 'a028Y00001Eu108QAB'}, {'attributes': {'type': 'Membership__c', 'url': '/services/data/v57.0/sobjects/Membership__c/a028Y00001Eu109QAB'}, 'Id': 'a028Y00001Eu109QAB'}, {'attributes': {'type': 'Membership__c', 'url': '/services/data/v57.0/sobjects/Membership__c/a028Y00001Eu10AQAR'}, 'Id': 'a028Y00001Eu10AQAR'}, {'attributes': {'type': 'Membership__c', 'url': '/services/data/v57.0/sobjects/Membership__c/a028Y00001Eu10BQAR'}, 'Id': 'a028Y00001Eu10BQAR'}, {'attributes': {'type': 'Membership__c', 'url': '/services/data/v57.0/sobjects/Membership__c/a028Y00001Eu10CQAR'}, 'Id': 'a028Y00001Eu10CQAR'}, {'attributes': {'type': 'Membership__c', 'url': '/services/data/v57.0/sobjects/Membership__c/a028Y00001Eu10DQAR'}, 'Id': 'a028Y00001Eu10DQAR'}, {'attributes': {'type': 'Membership__c', 'url': '/services/data/v57.0/sobjects/Membership__c/a028Y00001Eu10EQAR'}, 'Id': 'a028Y00001Eu10EQAR'}, {'attributes': {'type': 'Membership__c', 'url': '/services/data/v57.0/sobjects/Membership__c/a028Y00001Eu10FQAR'}, 'Id': 'a028Y00001Eu10FQAR'}, {'attributes': {'type': 'Membership__c', 'url': '/services/data/v57.0/sobjects/Membership__c/a028Y00001Eu10GQAR'}, 'Id': 'a028Y00001Eu10GQAR'}, {'attributes': {'type': 'Membership__c', 'url': '/services/data/v57.0/sobjects/Membership__c/a028Y00001Eu10HQAR'}, 'Id': 'a028Y00001Eu10HQAR'}, {'attributes': {'type': 'Membership__c', 'url': '/services/data/v57.0/sobjects/Membership__c/a028Y00001Eu10IQAR'}, 'Id': 'a028Y00001Eu10IQAR'}, {'attributes': {'type': 'Membership__c', 'url': '/services/data/v57.0/sobjects/Membership__c/a028Y00001Eu10JQAR'}, 'Id': 'a028Y00001Eu10JQAR'}, {'attributes': {'type': 'Membership__c', 'url': '/services/data/v57.0/sobjects/Membership__c/a028Y00001Eu10KQAR'}, 'Id': 'a028Y00001Eu10KQAR'}, {'attributes': {'type': 'Membership__c', 'url': '/services/data/v57.0/sobjects/Membership__c/a028Y00001Eu10LQAR'}, 'Id': 'a028Y00001Eu10LQAR'}, {'attributes': {'type': 'Membership__c', 'url': '/services/data/v57.0/sobjects/Membership__c/a028Y00001Eu10MQAR'}, 'Id': 'a028Y00001Eu10MQAR'}, {'attributes': {'type': 'Membership__c', 'url': '/services/data/v57.0/sobjects/Membership__c/a028Y00001Eu10NQAR'}, 'Id': 'a028Y00001Eu10NQAR'}, {'attributes': {'type': 'Membership__c', 'url': '/services/data/v57.0/sobjects/Membership__c/a028Y00001Eu10OQAR'}, 'Id': 'a028Y00001Eu10OQAR'}, {'attributes': {'type': 'Membership__c', 'url': '/services/data/v57.0/sobjects/Membership__c/a028Y00001Eu10PQAR'}, 'Id': 'a028Y00001Eu10PQAR'}, {'attributes': {'type': 'Membership__c', 'url': '/services/data/v57.0/sobjects/Membership__c/a028Y00001Eu10QQAR'}, 'Id': 'a028Y00001Eu10QQAR'}, {'attributes': {'type': 'Membership__c', 'url': '/services/data/v57.0/sobjects/Membership__c/a028Y00001Eu10RQAR'}, 'Id': 'a028Y00001Eu10RQAR'}, {'attributes': {'type': 'Membership__c', 'url': '/services/data/v57.0/sobjects/Membership__c/a028Y00001Eu10SQAR'}, 'Id': 'a028Y00001Eu10SQAR'}, {'attributes': {'type': 'Membership__c', 'url': '/services/data/v57.0/sobjects/Membership__c/a028Y00001Eu10TQAR'}, 'Id': 'a028Y00001Eu10TQAR'}, {'attributes': {'type': 'Membership__c', 'url': '/services/data/v57.0/sobjects/Membership__c/a028Y00001Eu10UQAR'}, 'Id': 'a028Y00001Eu10UQAR'}, {'attributes': {'type': 'Membership__c', 'url': '/services/data/v57.0/sobjects/Membership__c/a028Y00001Eu10VQAR'}, 'Id': 'a028Y00001Eu10VQAR'}, {'attributes': {'type': 'Membership__c', 'url': '/services/data/v57.0/sobjects/Membership__c/a028Y00001Eu10WQAR'}, 'Id': 'a028Y00001Eu10WQAR'}, {'attributes': {'type': 'Membership__c', 'url': '/services/data/v57.0/sobjects/Membership__c/a028Y00001Eu10XQAR'}, 'Id': 'a028Y00001Eu10XQAR'}, {'attributes': {'type': 'Membership__c', 'url': '/services/data/v57.0/sobjects/Membership__c/a028Y00001Eu10YQAR'}, 'Id': 'a028Y00001Eu10YQAR'}, {'attributes': {'type': 'Membership__c', 'url': '/services/data/v57.0/sobjects/Membership__c/a028Y00001Eu10ZQAR'}, 'Id': 'a028Y00001Eu10ZQAR'}, {'attributes': {'type': 'Membership__c', 'url': '/services/data/v57.0/sobjects/Membership__c/a028Y00001Eu10aQAB'}, 'Id': 'a028Y00001Eu10aQAB'}, {'attributes': {'type': 'Membership__c', 'url': '/services/data/v57.0/sobjects/Membership__c/a028Y00001Eu10bQAB'}, 'Id': 'a028Y00001Eu10bQAB'}, {'attributes': {'type': 'Membership__c', 'url': '/services/data/v57.0/sobjects/Membership__c/a028Y00001Eu10cQAB'}, 'Id': 'a028Y00001Eu10cQAB'}, {'attributes': {'type': 'Membership__c', 'url': '/services/data/v57.0/sobjects/Membership__c/a028Y00001Eu10dQAB'}, 'Id': 'a028Y00001Eu10dQAB'}, {'attributes': {'type': 'Membership__c', 'url': '/services/data/v57.0/sobjects/Membership__c/a028Y00001Eu10eQAB'}, 'Id': 'a028Y00001Eu10eQAB'}, {'attributes': {'type': 'Membership__c', 'url': '/services/data/v57.0/sobjects/Membership__c/a028Y00001Eu10fQAB'}, 'Id': 'a028Y00001Eu10fQAB'}, {'attributes': {'type': 'Membership__c', 'url': '/services/data/v57.0/sobjects/Membership__c/a028Y00001Eu10gQAB'}, 'Id': 'a028Y00001Eu10gQAB'}, {'attributes': {'type': 'Membership__c', 'url': '/services/data/v57.0/sobjects/Membership__c/a028Y00001Eu10hQAB'}, 'Id': 'a028Y00001Eu10hQAB'}, {'attributes': {'type': 'Membership__c', 'url': '/services/data/v57.0/sobjects/Membership__c/a028Y00001Eu10iQAB'}, 'Id': 'a028Y00001Eu10iQAB'}, {'attributes': {'type': 'Membership__c', 'url': '/services/data/v57.0/sobjects/Membership__c/a028Y00001Eu10jQAB'}, 'Id': 'a028Y00001Eu10jQAB'}, {'attributes': {'type': 'Membership__c', 'url': '/services/data/v57.0/sobjects/Membership__c/a028Y00001Eu10kQAB'}, 'Id': 'a028Y00001Eu10kQAB'}, {'attributes': {'type': 'Membership__c', 'url': '/services/data/v57.0/sobjects/Membership__c/a028Y00001Eu10lQAB'}, 'Id': 'a028Y00001Eu10lQAB'}, {'attributes': {'type': 'Membership__c', 'url': '/services/data/v57.0/sobjects/Membership__c/a028Y00001Eu10mQAB'}, 'Id': 'a028Y00001Eu10mQAB'}, {'attributes': {'type': 'Membership__c', 'url': '/services/data/v57.0/sobjects/Membership__c/a028Y00001Eu10nQAB'}, 'Id': 'a028Y00001Eu10nQAB'}, {'attributes': {'type': 'Membership__c', 'url': '/services/data/v57.0/sobjects/Membership__c/a028Y00001Eu10oQAB'}, 'Id': 'a028Y00001Eu10oQAB'}, {'attributes': {'type': 'Membership__c', 'url': '/services/data/v57.0/sobjects/Membership__c/a028Y00001Eu10pQAB'}, 'Id': 'a028Y00001Eu10pQAB'}, {'attributes': {'type': 'Membership__c', 'url': '/services/data/v57.0/sobjects/Membership__c/a028Y00001Eu10qQAB'}, 'Id': 'a028Y00001Eu10qQAB'}, {'attributes': {'type': 'Membership__c', 'url': '/services/data/v57.0/sobjects/Membership__c/a028Y00001Eu10rQAB'}, 'Id': 'a028Y00001Eu10rQAB'}, {'attributes': {'type': 'Membership__c', 'url': '/services/data/v57.0/sobjects/Membership__c/a028Y00001Eu10sQAB'}, 'Id': 'a028Y00001Eu10sQAB'}, {'attributes': {'type': 'Membership__c', 'url': '/services/data/v57.0/sobjects/Membership__c/a028Y00001Eu10tQAB'}, 'Id': 'a028Y00001Eu10tQAB'}, {'attributes': {'type': 'Membership__c', 'url': '/services/data/v57.0/sobjects/Membership__c/a028Y00001Eu10uQAB'}, 'Id': 'a028Y00001Eu10uQAB'}, {'attributes': {'type': 'Membership__c', 'url': '/services/data/v57.0/sobjects/Membership__c/a028Y00001Eu10vQAB'}, 'Id': 'a028Y00001Eu10vQAB'}, {'attributes': {'type': 'Membership__c', 'url': '/services/data/v57.0/sobjects/Membership__c/a028Y00001Eu10wQAB'}, 'Id': 'a028Y00001Eu10wQAB'}, {'attributes': {'type': 'Membership__c', 'url': '/services/data/v57.0/sobjects/Membership__c/a028Y00001Eu10xQAB'}, 'Id': 'a028Y00001Eu10xQAB'}, {'attributes': {'type': 'Membership__c', 'url': '/services/data/v57.0/sobjects/Membership__c/a028Y00001Eu10yQAB'}, 'Id': 'a028Y00001Eu10yQAB'}, {'attributes': {'type': 'Membership__c', 'url': '/services/data/v57.0/sobjects/Membership__c/a028Y00001Eu10zQAB'}, 'Id': 'a028Y00001Eu10zQAB'}, {'attributes': {'type': 'Membership__c', 'url': '/services/data/v57.0/sobjects/Membership__c/a028Y00001Eu110QAB'}, 'Id': 'a028Y00001Eu110QAB'}, {'attributes': {'type': 'Membership__c', 'url': '/services/data/v57.0/sobjects/Membership__c/a028Y00001Eu111QAB'}, 'Id': 'a028Y00001Eu111QAB'}, {'attributes': {'type': 'Membership__c', 'url': '/services/data/v57.0/sobjects/Membership__c/a028Y00001Eu112QAB'}, 'Id': 'a028Y00001Eu112QAB'}, {'attributes': {'type': 'Membership__c', 'url': '/services/data/v57.0/sobjects/Membership__c/a028Y00001Eu113QAB'}, 'Id': 'a028Y00001Eu113QAB'}, {'attributes': {'type': 'Membership__c', 'url': '/services/data/v57.0/sobjects/Membership__c/a028Y00001Eu114QAB'}, 'Id': 'a028Y00001Eu114QAB'}, {'attributes': {'type': 'Membership__c', 'url': '/services/data/v57.0/sobjects/Membership__c/a028Y00001Eu115QAB'}, 'Id': 'a028Y00001Eu115QAB'}, {'attributes': {'type': 'Membership__c', 'url': '/services/data/v57.0/sobjects/Membership__c/a028Y00001Eu116QAB'}, 'Id': 'a028Y00001Eu116QAB'}, {'attributes': {'type': 'Membership__c', 'url': '/services/data/v57.0/sobjects/Membership__c/a028Y00001Eu117QAB'}, 'Id': 'a028Y00001Eu117QAB'}, {'attributes': {'type': 'Membership__c', 'url': '/services/data/v57.0/sobjects/Membership__c/a028Y00001Eu118QAB'}, 'Id': 'a028Y00001Eu118QAB'}, {'attributes': {'type': 'Membership__c', 'url': '/services/data/v57.0/sobjects/Membership__c/a028Y00001Eu119QAB'}, 'Id': 'a028Y00001Eu119QAB'}, {'attributes': {'type': 'Membership__c', 'url': '/services/data/v57.0/sobjects/Membership__c/a028Y00001Eu11AQAR'}, 'Id': 'a028Y00001Eu11AQAR'}, {'attributes': {'type': 'Membership__c', 'url': '/services/data/v57.0/sobjects/Membership__c/a028Y00001Eu11BQAR'}, 'Id': 'a028Y00001Eu11BQAR'}, {'attributes': {'type': 'Membership__c', 'url': '/services/data/v57.0/sobjects/Membership__c/a028Y00001Eu11CQAR'}, 'Id': 'a028Y00001Eu11CQAR'}, {'attributes': {'type': 'Membership__c', 'url': '/services/data/v57.0/sobjects/Membership__c/a028Y00001Eu11DQAR'}, 'Id': 'a028Y00001Eu11DQAR'}, {'attributes': {'type': 'Membership__c', 'url': '/services/data/v57.0/sobjects/Membership__c/a028Y00001Eu11EQAR'}, 'Id': 'a028Y00001Eu11EQAR'}, {'attributes': {'type': 'Membership__c', 'url': '/services/data/v57.0/sobjects/Membership__c/a028Y00001Eu11FQAR'}, 'Id': 'a028Y00001Eu11FQAR'}, {'attributes': {'type': 'Membership__c', 'url': '/services/data/v57.0/sobjects/Membership__c/a028Y00001Eu11GQAR'}, 'Id': 'a028Y00001Eu11GQAR'}, {'attributes': {'type': 'Membership__c', 'url': '/services/data/v57.0/sobjects/Membership__c/a028Y00001Eu11HQAR'}, 'Id': 'a028Y00001Eu11HQAR'}, {'attributes': {'type': 'Membership__c', 'url': '/services/data/v57.0/sobjects/Membership__c/a028Y00001Eu11IQAR'}, 'Id': 'a028Y00001Eu11IQAR'}, {'attributes': {'type': 'Membership__c', 'url': '/services/data/v57.0/sobjects/Membership__c/a028Y00001Eu11JQAR'}, 'Id': 'a028Y00001Eu11JQAR'}, {'attributes': {'type': 'Membership__c', 'url': '/services/data/v57.0/sobjects/Membership__c/a028Y00001Eu11KQAR'}, 'Id': 'a028Y00001Eu11KQAR'}, {'attributes': {'type': 'Membership__c', 'url': '/services/data/v57.0/sobjects/Membership__c/a028Y00001Eu11LQAR'}, 'Id': 'a028Y00001Eu11LQAR'}, {'attributes': {'type': 'Membership__c', 'url': '/services/data/v57.0/sobjects/Membership__c/a028Y00001Eu11MQAR'}, 'Id': 'a028Y00001Eu11MQAR'}, {'attributes': {'type': 'Membership__c', 'url': '/services/data/v57.0/sobjects/Membership__c/a028Y00001Eu11NQAR'}, 'Id': 'a028Y00001Eu11NQAR'}, {'attributes': {'type': 'Membership__c', 'url': '/services/data/v57.0/sobjects/Membership__c/a028Y00001Eu11OQAR'}, 'Id': 'a028Y00001Eu11OQAR'}, {'attributes': {'type': 'Membership__c', 'url': '/services/data/v57.0/sobjects/Membership__c/a028Y00001Eu11PQAR'}, 'Id': 'a028Y00001Eu11PQAR'}, {'attributes': {'type': 'Membership__c', 'url': '/services/data/v57.0/sobjects/Membership__c/a028Y00001Eu11QQAR'}, 'Id': 'a028Y00001Eu11QQAR'}, {'attributes': {'type': 'Membership__c', 'url': '/services/data/v57.0/sobjects/Membership__c/a028Y00001Eu11RQAR'}, 'Id': 'a028Y00001Eu11RQAR'}, {'attributes': {'type': 'Membership__c', 'url': '/services/data/v57.0/sobjects/Membership__c/a028Y00001Eu11SQAR'}, 'Id': 'a028Y00001Eu11SQAR'}, {'attributes': {'type': 'Membership__c', 'url': '/services/data/v57.0/sobjects/Membership__c/a028Y00001Eu11TQAR'}, 'Id': 'a028Y00001Eu11TQAR'}, {'attributes': {'type': 'Membership__c', 'url': '/services/data/v57.0/sobjects/Membership__c/a028Y00001Eu11UQAR'}, 'Id': 'a028Y00001Eu11UQAR'}, {'attributes': {'type': 'Membership__c', 'url': '/services/data/v57.0/sobjects/Membership__c/a028Y00001Eu11VQAR'}, 'Id': 'a028Y00001Eu11VQAR'}, {'attributes': {'type': 'Membership__c', 'url': '/services/data/v57.0/sobjects/Membership__c/a028Y00001Eu11WQAR'}, 'Id': 'a028Y00001Eu11WQAR'}, {'attributes': {'type': 'Membership__c', 'url': '/services/data/v57.0/sobjects/Membership__c/a028Y00001Eu11XQAR'}, 'Id': 'a028Y00001Eu11XQAR'}, {'attributes': {'type': 'Membership__c', 'url': '/services/data/v57.0/sobjects/Membership__c/a028Y00001Eu11YQAR'}, 'Id': 'a028Y00001Eu11YQAR'}, {'attributes': {'type': 'Membership__c', 'url': '/services/data/v57.0/sobjects/Membership__c/a028Y00001Eu11ZQAR'}, 'Id': 'a028Y00001Eu11ZQAR'}, {'attributes': {'type': 'Membership__c', 'url': '/services/data/v57.0/sobjects/Membership__c/a028Y00001Eu11aQAB'}, 'Id': 'a028Y00001Eu11aQAB'}, {'attributes': {'type': 'Membership__c', 'url': '/services/data/v57.0/sobjects/Membership__c/a028Y00001Eu11bQAB'}, 'Id': 'a028Y00001Eu11bQAB'}, {'attributes': {'type': 'Membership__c', 'url': '/services/data/v57.0/sobjects/Membership__c/a028Y00001Eu11cQAB'}, 'Id': 'a028Y00001Eu11cQAB'}, {'attributes': {'type': 'Membership__c', 'url': '/services/data/v57.0/sobjects/Membership__c/a028Y00001Eu11dQAB'}, 'Id': 'a028Y00001Eu11dQAB'}, {'attributes': {'type': 'Membership__c', 'url': '/services/data/v57.0/sobjects/Membership__c/a028Y00001Eu11eQAB'}, 'Id': 'a028Y00001Eu11eQAB'}, {'attributes': {'type': 'Membership__c', 'url': '/services/data/v57.0/sobjects/Membership__c/a028Y00001Eu11fQAB'}, 'Id': 'a028Y00001Eu11fQAB'}, {'attributes': {'type': 'Membership__c', 'url': '/services/data/v57.0/sobjects/Membership__c/a028Y00001Eu11gQAB'}, 'Id': 'a028Y00001Eu11gQAB'}, {'attributes': {'type': 'Membership__c', 'url': '/services/data/v57.0/sobjects/Membership__c/a028Y00001Eu11hQAB'}, 'Id': 'a028Y00001Eu11hQAB'}, {'attributes': {'type': 'Membership__c', 'url': '/services/data/v57.0/sobjects/Membership__c/a028Y00001Eu11iQAB'}, 'Id': 'a028Y00001Eu11iQAB'}, {'attributes': {'type': 'Membership__c', 'url': '/services/data/v57.0/sobjects/Membership__c/a028Y00001Eu11jQAB'}, 'Id': 'a028Y00001Eu11jQAB'}, {'attributes': {'type': 'Membership__c', 'url': '/services/data/v57.0/sobjects/Membership__c/a028Y00001Eu11kQAB'}, 'Id': 'a028Y00001Eu11kQAB'}, {'attributes': {'type': 'Membership__c', 'url': '/services/data/v57.0/sobjects/Membership__c/a028Y00001Eu11lQAB'}, 'Id': 'a028Y00001Eu11lQAB'}, {'attributes': {'type': 'Membership__c', 'url': '/services/data/v57.0/sobjects/Membership__c/a028Y00001Eu11mQAB'}, 'Id': 'a028Y00001Eu11mQAB'}, {'attributes': {'type': 'Membership__c', 'url': '/services/data/v57.0/sobjects/Membership__c/a028Y00001Eu11nQAB'}, 'Id': 'a028Y00001Eu11nQAB'}, {'attributes': {'type': 'Membership__c', 'url': '/services/data/v57.0/sobjects/Membership__c/a028Y00001Eu11oQAB'}, 'Id': 'a028Y00001Eu11oQAB'}, {'attributes': {'type': 'Membership__c', 'url': '/services/data/v57.0/sobjects/Membership__c/a028Y00001Eu11pQAB'}, 'Id': 'a028Y00001Eu11pQAB'}, {'attributes': {'type': 'Membership__c', 'url': '/services/data/v57.0/sobjects/Membership__c/a028Y00001Eu11qQAB'}, 'Id': 'a028Y00001Eu11qQAB'}, {'attributes': {'type': 'Membership__c', 'url': '/services/data/v57.0/sobjects/Membership__c/a028Y00001Eu11rQAB'}, 'Id': 'a028Y00001Eu11rQAB'}, {'attributes': {'type': 'Membership__c', 'url': '/services/data/v57.0/sobjects/Membership__c/a028Y00001Eu11sQAB'}, 'Id': 'a028Y00001Eu11sQAB'}, {'attributes': {'type': 'Membership__c', 'url': '/services/data/v57.0/sobjects/Membership__c/a028Y00001Eu11tQAB'}, 'Id': 'a028Y00001Eu11tQAB'}, {'attributes': {'type': 'Membership__c', 'url': '/services/data/v57.0/sobjects/Membership__c/a028Y00001Eu11uQAB'}, 'Id': 'a028Y00001Eu11uQAB'}, {'attributes': {'type': 'Membership__c', 'url': '/services/data/v57.0/sobjects/Membership__c/a028Y00001Eu11vQAB'}, 'Id': 'a028Y00001Eu11vQAB'}, {'attributes': {'type': 'Membership__c', 'url': '/services/data/v57.0/sobjects/Membership__c/a028Y00001Eu11wQAB'}, 'Id': 'a028Y00001Eu11wQAB'}, {'attributes': {'type': 'Membership__c', 'url': '/services/data/v57.0/sobjects/Membership__c/a028Y00001Eu11xQAB'}, 'Id': 'a028Y00001Eu11xQAB'}, {'attributes': {'type': 'Membership__c', 'url': '/services/data/v57.0/sobjects/Membership__c/a028Y00001Eu11yQAB'}, 'Id': 'a028Y00001Eu11yQAB'}, {'attributes': {'type': 'Membership__c', 'url': '/services/data/v57.0/sobjects/Membership__c/a028Y00001Eu11zQAB'}, 'Id': 'a028Y00001Eu11zQAB'}, {'attributes': {'type': 'Membership__c', 'url': '/services/data/v57.0/sobjects/Membership__c/a028Y00001Eu120QAB'}, 'Id': 'a028Y00001Eu120QAB'}, {'attributes': {'type': 'Membership__c', 'url': '/services/data/v57.0/sobjects/Membership__c/a028Y00001Eu121QAB'}, 'Id': 'a028Y00001Eu121QAB'}, {'attributes': {'type': 'Membership__c', 'url': '/services/data/v57.0/sobjects/Membership__c/a028Y00001Eu122QAB'}, 'Id': 'a028Y00001Eu122QAB'}, {'attributes': {'type': 'Membership__c', 'url': '/services/data/v57.0/sobjects/Membership__c/a028Y00001Eu123QAB'}, 'Id': 'a028Y00001Eu123QAB'}, {'attributes': {'type': 'Membership__c', 'url': '/services/data/v57.0/sobjects/Membership__c/a028Y00001Eu124QAB'}, 'Id': 'a028Y00001Eu124QAB'}, {'attributes': {'type': 'Membership__c', 'url': '/services/data/v57.0/sobjects/Membership__c/a028Y00001Eu125QAB'}, 'Id': 'a028Y00001Eu125QAB'}, {'attributes': {'type': 'Membership__c', 'url': '/services/data/v57.0/sobjects/Membership__c/a028Y00001Eu126QAB'}, 'Id': 'a028Y00001Eu126QAB'}, {'attributes': {'type': 'Membership__c', 'url': '/services/data/v57.0/sobjects/Membership__c/a028Y00001Eu127QAB'}, 'Id': 'a028Y00001Eu127QAB'}, {'attributes': {'type': 'Membership__c', 'url': '/services/data/v57.0/sobjects/Membership__c/a028Y00001Eu128QAB'}, 'Id': 'a028Y00001Eu128QAB'}, {'attributes': {'type': 'Membership__c', 'url': '/services/data/v57.0/sobjects/Membership__c/a028Y00001Eu129QAB'}, 'Id': 'a028Y00001Eu129QAB'}, {'attributes': {'type': 'Membership__c', 'url': '/services/data/v57.0/sobjects/Membership__c/a028Y00001Eu12AQAR'}, 'Id': 'a028Y00001Eu12AQAR'}, {'attributes': {'type': 'Membership__c', 'url': '/services/data/v57.0/sobjects/Membership__c/a028Y00001Eu12BQAR'}, 'Id': 'a028Y00001Eu12BQAR'}, {'attributes': {'type': 'Membership__c', 'url': '/services/data/v57.0/sobjects/Membership__c/a028Y00001Eu12CQAR'}, 'Id': 'a028Y00001Eu12CQAR'}, {'attributes': {'type': 'Membership__c', 'url': '/services/data/v57.0/sobjects/Membership__c/a028Y00001Eu12DQAR'}, 'Id': 'a028Y00001Eu12DQAR'}, {'attributes': {'type': 'Membership__c', 'url': '/services/data/v57.0/sobjects/Membership__c/a028Y00001Eu12EQAR'}, 'Id': 'a028Y00001Eu12EQAR'}, {'attributes': {'type': 'Membership__c', 'url': '/services/data/v57.0/sobjects/Membership__c/a028Y00001Eu12FQAR'}, 'Id': 'a028Y00001Eu12FQAR'}, {'attributes': {'type': 'Membership__c', 'url': '/services/data/v57.0/sobjects/Membership__c/a028Y00001Eu12GQAR'}, 'Id': 'a028Y00001Eu12GQAR'}, {'attributes': {'type': 'Membership__c', 'url': '/services/data/v57.0/sobjects/Membership__c/a028Y00001Eu12HQAR'}, 'Id': 'a028Y00001Eu12HQAR'}, {'attributes': {'type': 'Membership__c', 'url': '/services/data/v57.0/sobjects/Membership__c/a028Y00001Eu12IQAR'}, 'Id': 'a028Y00001Eu12IQAR'}, {'attributes': {'type': 'Membership__c', 'url': '/services/data/v57.0/sobjects/Membership__c/a028Y00001Eu12JQAR'}, 'Id': 'a028Y00001Eu12JQAR'}, {'attributes': {'type': 'Membership__c', 'url': '/services/data/v57.0/sobjects/Membership__c/a028Y00001Eu12KQAR'}, 'Id': 'a028Y00001Eu12KQAR'}, {'attributes': {'type': 'Membership__c', 'url': '/services/data/v57.0/sobjects/Membership__c/a028Y00001Eu12LQAR'}, 'Id': 'a028Y00001Eu12LQAR'}, {'attributes': {'type': 'Membership__c', 'url': '/services/data/v57.0/sobjects/Membership__c/a028Y00001Eu12MQAR'}, 'Id': 'a028Y00001Eu12MQAR'}, {'attributes': {'type': 'Membership__c', 'url': '/services/data/v57.0/sobjects/Membership__c/a028Y00001Eu12NQAR'}, 'Id': 'a028Y00001Eu12NQAR'}, {'attributes': {'type': 'Membership__c', 'url': '/services/data/v57.0/sobjects/Membership__c/a028Y00001Eu12OQAR'}, 'Id': 'a028Y00001Eu12OQAR'}, {'attributes': {'type': 'Membership__c', 'url': '/services/data/v57.0/sobjects/Membership__c/a028Y00001Eu12PQAR'}, 'Id': 'a028Y00001Eu12PQAR'}, {'attributes': {'type': 'Membership__c', 'url': '/services/data/v57.0/sobjects/Membership__c/a028Y00001Eu12QQAR'}, 'Id': 'a028Y00001Eu12QQAR'}, {'attributes': {'type': 'Membership__c', 'url': '/services/data/v57.0/sobjects/Membership__c/a028Y00001Eu12RQAR'}, 'Id': 'a028Y00001Eu12RQAR'}, {'attributes': {'type': 'Membership__c', 'url': '/services/data/v57.0/sobjects/Membership__c/a028Y00001Eu12SQAR'}, 'Id': 'a028Y00001Eu12SQAR'}, {'attributes': {'type': 'Membership__c', 'url': '/services/data/v57.0/sobjects/Membership__c/a028Y00001Eu12TQAR'}, 'Id': 'a028Y00001Eu12TQAR'}, {'attributes': {'type': 'Membership__c', 'url': '/services/data/v57.0/sobjects/Membership__c/a028Y00001Eu12UQAR'}, 'Id': 'a028Y00001Eu12UQAR'}, {'attributes': {'type': 'Membership__c', 'url': '/services/data/v57.0/sobjects/Membership__c/a028Y00001Eu12VQAR'}, 'Id': 'a028Y00001Eu12VQAR'}, {'attributes': {'type': 'Membership__c', 'url': '/services/data/v57.0/sobjects/Membership__c/a028Y00001Eu12WQAR'}, 'Id': 'a028Y00001Eu12WQAR'}, {'attributes': {'type': 'Membership__c', 'url': '/services/data/v57.0/sobjects/Membership__c/a028Y00001Eu12XQAR'}, 'Id': 'a028Y00001Eu12XQAR'}, {'attributes': {'type': 'Membership__c', 'url': '/services/data/v57.0/sobjects/Membership__c/a028Y00001Eu12YQAR'}, 'Id': 'a028Y00001Eu12YQAR'}, {'attributes': {'type': 'Membership__c', 'url': '/services/data/v57.0/sobjects/Membership__c/a028Y00001Eu12ZQAR'}, 'Id': 'a028Y00001Eu12ZQAR'}, {'attributes': {'type': 'Membership__c', 'url': '/services/data/v57.0/sobjects/Membership__c/a028Y00001Eu12aQAB'}, 'Id': 'a028Y00001Eu12aQAB'}, {'attributes': {'type': 'Membership__c', 'url': '/services/data/v57.0/sobjects/Membership__c/a028Y00001Eu12bQAB'}, 'Id': 'a028Y00001Eu12bQAB'}, {'attributes': {'type': 'Membership__c', 'url': '/services/data/v57.0/sobjects/Membership__c/a028Y00001Eu12cQAB'}, 'Id': 'a028Y00001Eu12cQAB'}, {'attributes': {'type': 'Membership__c', 'url': '/services/data/v57.0/sobjects/Membership__c/a028Y00001Eu12dQAB'}, 'Id': 'a028Y00001Eu12dQAB'}, {'attributes': {'type': 'Membership__c', 'url': '/services/data/v57.0/sobjects/Membership__c/a028Y00001Eu12eQAB'}, 'Id': 'a028Y00001Eu12eQAB'}, {'attributes': {'type': 'Membership__c', 'url': '/services/data/v57.0/sobjects/Membership__c/a028Y00001Eu12fQAB'}, 'Id': 'a028Y00001Eu12fQAB'}, {'attributes': {'type': 'Membership__c', 'url': '/services/data/v57.0/sobjects/Membership__c/a028Y00001Eu12gQAB'}, 'Id': 'a028Y00001Eu12gQAB'}, {'attributes': {'type': 'Membership__c', 'url': '/services/data/v57.0/sobjects/Membership__c/a028Y00001Eu12hQAB'}, 'Id': 'a028Y00001Eu12hQAB'}, {'attributes': {'type': 'Membership__c', 'url': '/services/data/v57.0/sobjects/Membership__c/a028Y00001Eu12iQAB'}, 'Id': 'a028Y00001Eu12iQAB'}, {'attributes': {'type': 'Membership__c', 'url': '/services/data/v57.0/sobjects/Membership__c/a028Y00001Eu12jQAB'}, 'Id': 'a028Y00001Eu12jQAB'}, {'attributes': {'type': 'Membership__c', 'url': '/services/data/v57.0/sobjects/Membership__c/a028Y00001Eu12kQAB'}, 'Id': 'a028Y00001Eu12kQAB'}, {'attributes': {'type': 'Membership__c', 'url': '/services/data/v57.0/sobjects/Membership__c/a028Y00001Eu12lQAB'}, 'Id': 'a028Y00001Eu12lQAB'}, {'attributes': {'type': 'Membership__c', 'url': '/services/data/v57.0/sobjects/Membership__c/a028Y00001Eu12mQAB'}, 'Id': 'a028Y00001Eu12mQAB'}, {'attributes': {'type': 'Membership__c', 'url': '/services/data/v57.0/sobjects/Membership__c/a028Y00001Eu12nQAB'}, 'Id': 'a028Y00001Eu12nQAB'}, {'attributes': {'type': 'Membership__c', 'url': '/services/data/v57.0/sobjects/Membership__c/a028Y00001Eu12oQAB'}, 'Id': 'a028Y00001Eu12oQAB'}, {'attributes': {'type': 'Membership__c', 'url': '/services/data/v57.0/sobjects/Membership__c/a028Y00001Eu12pQAB'}, 'Id': 'a028Y00001Eu12pQAB'}, {'attributes': {'type': 'Membership__c', 'url': '/services/data/v57.0/sobjects/Membership__c/a028Y00001Eu12qQAB'}, 'Id': 'a028Y00001Eu12qQAB'}, {'attributes': {'type': 'Membership__c', 'url': '/services/data/v57.0/sobjects/Membership__c/a028Y00001Eu12rQAB'}, 'Id': 'a028Y00001Eu12rQAB'}, {'attributes': {'type': 'Membership__c', 'url': '/services/data/v57.0/sobjects/Membership__c/a028Y00001Eu12sQAB'}, 'Id': 'a028Y00001Eu12sQAB'}, {'attributes': {'type': 'Membership__c', 'url': '/services/data/v57.0/sobjects/Membership__c/a028Y00001Eu12tQAB'}, 'Id': 'a028Y00001Eu12tQAB'}, {'attributes': {'type': 'Membership__c', 'url': '/services/data/v57.0/sobjects/Membership__c/a028Y00001Eu12uQAB'}, 'Id': 'a028Y00001Eu12uQAB'}]}\n",
      "1000\n",
      "total number of objects =  3000\n",
      "In Salesforce.delete_sf_objects: Deleting 3000 Membership__c objects using /Users/josephmann/Documents/Github/doubledot/sf_download/Membership__c.csv\n",
      "Creating job for Membership__c with operation delete\n",
      "delete {'object': 'Membership__c', 'contentType': 'CSV', 'columnDelimiter': 'TAB', 'operation': 'delete'}\n",
      "{\"id\":\"7508Y00000mVFjjQAG\",\"operation\":\"delete\",\"object\":\"Membership__c\",\"createdById\":\"0058Y00000CIEn9QAH\",\"createdDate\":\"2023-05-10T06:13:08.000+0000\",\"systemModstamp\":\"2023-05-10T06:13:08.000+0000\",\"state\":\"Open\",\"concurrencyMode\":\"Parallel\",\"contentType\":\"CSV\",\"apiVersion\":57.0,\"contentUrl\":\"services/data/v57.0/jobs/ingest/7508Y00000mVFjjQAG/batches\",\"lineEnding\":\"LF\",\"columnDelimiter\":\"TAB\"}\n",
      "Uploading all rows to job 7508Y00000mVFjjQAG of object Membership__c\n",
      "{\"id\":\"7508Y00000mVFjjQAG\",\"operation\":\"delete\",\"object\":\"Membership__c\",\"createdById\":\"0058Y00000CIEn9QAH\",\"createdDate\":\"2023-05-10T06:13:08.000+0000\",\"systemModstamp\":\"2023-05-10T06:13:08.000+0000\",\"state\":\"UploadComplete\",\"concurrencyMode\":\"Parallel\",\"contentType\":\"CSV\",\"apiVersion\":57.0}\n",
      "\n"
     ]
    },
    {
     "ename": "JSONDecodeError",
     "evalue": "Expecting value: line 1 column 1 (char 0)",
     "output_type": "error",
     "traceback": [
      "\u001b[0;31m---------------------------------------------------------------------------\u001b[0m",
      "\u001b[0;31mJSONDecodeError\u001b[0m                           Traceback (most recent call last)",
      "File \u001b[0;32m~/anaconda3/envs/vantix/lib/python3.11/site-packages/requests/models.py:971\u001b[0m, in \u001b[0;36mResponse.json\u001b[0;34m(self, **kwargs)\u001b[0m\n\u001b[1;32m    970\u001b[0m \u001b[39mtry\u001b[39;00m:\n\u001b[0;32m--> 971\u001b[0m     \u001b[39mreturn\u001b[39;00m complexjson\u001b[39m.\u001b[39;49mloads(\u001b[39mself\u001b[39;49m\u001b[39m.\u001b[39;49mtext, \u001b[39m*\u001b[39;49m\u001b[39m*\u001b[39;49mkwargs)\n\u001b[1;32m    972\u001b[0m \u001b[39mexcept\u001b[39;00m JSONDecodeError \u001b[39mas\u001b[39;00m e:\n\u001b[1;32m    973\u001b[0m     \u001b[39m# Catch JSON-related errors and raise as requests.JSONDecodeError\u001b[39;00m\n\u001b[1;32m    974\u001b[0m     \u001b[39m# This aliases json.JSONDecodeError and simplejson.JSONDecodeError\u001b[39;00m\n",
      "File \u001b[0;32m~/anaconda3/envs/vantix/lib/python3.11/json/__init__.py:346\u001b[0m, in \u001b[0;36mloads\u001b[0;34m(s, cls, object_hook, parse_float, parse_int, parse_constant, object_pairs_hook, **kw)\u001b[0m\n\u001b[1;32m    343\u001b[0m \u001b[39mif\u001b[39;00m (\u001b[39mcls\u001b[39m \u001b[39mis\u001b[39;00m \u001b[39mNone\u001b[39;00m \u001b[39mand\u001b[39;00m object_hook \u001b[39mis\u001b[39;00m \u001b[39mNone\u001b[39;00m \u001b[39mand\u001b[39;00m\n\u001b[1;32m    344\u001b[0m         parse_int \u001b[39mis\u001b[39;00m \u001b[39mNone\u001b[39;00m \u001b[39mand\u001b[39;00m parse_float \u001b[39mis\u001b[39;00m \u001b[39mNone\u001b[39;00m \u001b[39mand\u001b[39;00m\n\u001b[1;32m    345\u001b[0m         parse_constant \u001b[39mis\u001b[39;00m \u001b[39mNone\u001b[39;00m \u001b[39mand\u001b[39;00m object_pairs_hook \u001b[39mis\u001b[39;00m \u001b[39mNone\u001b[39;00m \u001b[39mand\u001b[39;00m \u001b[39mnot\u001b[39;00m kw):\n\u001b[0;32m--> 346\u001b[0m     \u001b[39mreturn\u001b[39;00m _default_decoder\u001b[39m.\u001b[39;49mdecode(s)\n\u001b[1;32m    347\u001b[0m \u001b[39mif\u001b[39;00m \u001b[39mcls\u001b[39m \u001b[39mis\u001b[39;00m \u001b[39mNone\u001b[39;00m:\n",
      "File \u001b[0;32m~/anaconda3/envs/vantix/lib/python3.11/json/decoder.py:337\u001b[0m, in \u001b[0;36mJSONDecoder.decode\u001b[0;34m(self, s, _w)\u001b[0m\n\u001b[1;32m    333\u001b[0m \u001b[39m\u001b[39m\u001b[39m\"\"\"Return the Python representation of ``s`` (a ``str`` instance\u001b[39;00m\n\u001b[1;32m    334\u001b[0m \u001b[39mcontaining a JSON document).\u001b[39;00m\n\u001b[1;32m    335\u001b[0m \n\u001b[1;32m    336\u001b[0m \u001b[39m\"\"\"\u001b[39;00m\n\u001b[0;32m--> 337\u001b[0m obj, end \u001b[39m=\u001b[39m \u001b[39mself\u001b[39;49m\u001b[39m.\u001b[39;49mraw_decode(s, idx\u001b[39m=\u001b[39;49m_w(s, \u001b[39m0\u001b[39;49m)\u001b[39m.\u001b[39;49mend())\n\u001b[1;32m    338\u001b[0m end \u001b[39m=\u001b[39m _w(s, end)\u001b[39m.\u001b[39mend()\n",
      "File \u001b[0;32m~/anaconda3/envs/vantix/lib/python3.11/json/decoder.py:355\u001b[0m, in \u001b[0;36mJSONDecoder.raw_decode\u001b[0;34m(self, s, idx)\u001b[0m\n\u001b[1;32m    354\u001b[0m \u001b[39mexcept\u001b[39;00m \u001b[39mStopIteration\u001b[39;00m \u001b[39mas\u001b[39;00m err:\n\u001b[0;32m--> 355\u001b[0m     \u001b[39mraise\u001b[39;00m JSONDecodeError(\u001b[39m\"\u001b[39m\u001b[39mExpecting value\u001b[39m\u001b[39m\"\u001b[39m, s, err\u001b[39m.\u001b[39mvalue) \u001b[39mfrom\u001b[39;00m \u001b[39mNone\u001b[39;00m\n\u001b[1;32m    356\u001b[0m \u001b[39mreturn\u001b[39;00m obj, end\n",
      "\u001b[0;31mJSONDecodeError\u001b[0m: Expecting value: line 1 column 1 (char 0)",
      "\nDuring handling of the above exception, another exception occurred:\n",
      "\u001b[0;31mJSONDecodeError\u001b[0m                           Traceback (most recent call last)",
      "Cell \u001b[0;32mIn[103], line 1\u001b[0m\n\u001b[0;32m----> 1\u001b[0m sf\u001b[39m.\u001b[39;49mdelete_sf_objects(\u001b[39m'\u001b[39;49m\u001b[39mMembership__c\u001b[39;49m\u001b[39m'\u001b[39;49m)\n",
      "Cell \u001b[0;32mIn[88], line 19\u001b[0m, in \u001b[0;36mdelete_sf_objects\u001b[0;34m(self, obj_s)\u001b[0m\n\u001b[1;32m     17\u001b[0m \u001b[39mself\u001b[39m\u001b[39m.\u001b[39mclose_job()\n\u001b[1;32m     18\u001b[0m sleep(\u001b[39m10\u001b[39m)\n\u001b[0;32m---> 19\u001b[0m \u001b[39mself\u001b[39;49m\u001b[39m.\u001b[39;49msuccessful_results()\n",
      "Cell \u001b[0;32mIn[85], line 13\u001b[0m, in \u001b[0;36msuccessful_results\u001b[0;34m(self)\u001b[0m\n\u001b[1;32m     11\u001b[0m response \u001b[39m=\u001b[39m requests\u001b[39m.\u001b[39mrequest(\u001b[39m\"\u001b[39m\u001b[39mGET\u001b[39m\u001b[39m\"\u001b[39m, url, headers\u001b[39m=\u001b[39mheaders, data\u001b[39m=\u001b[39mpayload)\n\u001b[1;32m     12\u001b[0m \u001b[39mprint\u001b[39m( response\u001b[39m.\u001b[39mtext)\n\u001b[0;32m---> 13\u001b[0m \u001b[39mreturn\u001b[39;00m response\u001b[39m.\u001b[39;49mjson()\n",
      "File \u001b[0;32m~/anaconda3/envs/vantix/lib/python3.11/site-packages/requests/models.py:975\u001b[0m, in \u001b[0;36mResponse.json\u001b[0;34m(self, **kwargs)\u001b[0m\n\u001b[1;32m    971\u001b[0m     \u001b[39mreturn\u001b[39;00m complexjson\u001b[39m.\u001b[39mloads(\u001b[39mself\u001b[39m\u001b[39m.\u001b[39mtext, \u001b[39m*\u001b[39m\u001b[39m*\u001b[39mkwargs)\n\u001b[1;32m    972\u001b[0m \u001b[39mexcept\u001b[39;00m JSONDecodeError \u001b[39mas\u001b[39;00m e:\n\u001b[1;32m    973\u001b[0m     \u001b[39m# Catch JSON-related errors and raise as requests.JSONDecodeError\u001b[39;00m\n\u001b[1;32m    974\u001b[0m     \u001b[39m# This aliases json.JSONDecodeError and simplejson.JSONDecodeError\u001b[39;00m\n\u001b[0;32m--> 975\u001b[0m     \u001b[39mraise\u001b[39;00m RequestsJSONDecodeError(e\u001b[39m.\u001b[39mmsg, e\u001b[39m.\u001b[39mdoc, e\u001b[39m.\u001b[39mpos)\n",
      "\u001b[0;31mJSONDecodeError\u001b[0m: Expecting value: line 1 column 1 (char 0)"
     ]
    }
   ],
   "source": [
    "sf.delete_sf_objects('Membership__c')"
   ]
  },
  {
   "cell_type": "code",
   "execution_count": null,
   "metadata": {},
   "outputs": [],
   "source": [
    "sf.successful_results()"
   ]
  },
  {
   "cell_type": "code",
   "execution_count": null,
   "metadata": {},
   "outputs": [],
   "source": [
    "#| hide\n",
    "import nbdev; nbdev.nbdev_export()"
   ]
  },
  {
   "cell_type": "code",
   "execution_count": null,
   "metadata": {},
   "outputs": [],
   "source": []
  }
 ],
 "metadata": {
  "kernelspec": {
   "display_name": "vantix",
   "language": "python",
   "name": "python3"
  }
 },
 "nbformat": 4,
 "nbformat_minor": 2
}
