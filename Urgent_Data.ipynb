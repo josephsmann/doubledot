{
 "cells": [
  {
   "attachments": {},
   "cell_type": "markdown",
   "metadata": {},
   "source": [
    "# Minimal Data Salesforce Data Set\n",
    "> get pertinent data for contacts 4708 119430 119431"
   ]
  },
  {
   "cell_type": "code",
   "execution_count": 1,
   "metadata": {},
   "outputs": [],
   "source": [
    "%load_ext autoreload\n",
    "%autoreload 2"
   ]
  },
  {
   "cell_type": "code",
   "execution_count": 2,
   "metadata": {},
   "outputs": [],
   "source": [
    "from doubledot import *"
   ]
  },
  {
   "cell_type": "code",
   "execution_count": 139,
   "metadata": {},
   "outputs": [],
   "source": [
    "from nbdev.showdoc import *\n",
    "import requests\n",
    "import json\n",
    "import jmespath as jp\n",
    "import re\n",
    "from time import sleep\n",
    "from fastcore.basics import patch\n",
    "import fileinput\n",
    "import pandas as pd\n",
    "import os\n",
    "import io\n",
    "from fastcore.test import test_eq\n",
    "import glob\n",
    "import time\n",
    "import random\n",
    "from pyisemail import is_email"
   ]
  },
  {
   "cell_type": "code",
   "execution_count": 38,
   "metadata": {},
   "outputs": [
    {
     "name": "stdout",
     "output_type": "stream",
     "text": [
      "download dir is:  /Users/josephmann/Documents/Github/doubledot/atms_download/mlk31g16\n",
      "resp_d = self.get_telus_data(memberships,offset=0, count= 1000, since_date=1995-01-01)\n",
      "ATMS_api.get_telus_data: since_date is 1995-01-01\n",
      "http://crm-api-telus.atmsplus.com/api/memberships/lastupdate?count=1000&offset=0&updateDate=1995-01-01\n",
      "resp_d.keys():  dict_keys(['response', 'done'])\n",
      "done: False, resp_d.json() : <Response [200]>\n",
      "resp_d = self.get_telus_data(memberships,offset=1000, count= 1000, since_date=1995-01-01)\n",
      "ATMS_api.get_telus_data: since_date is 1995-01-01\n",
      "http://crm-api-telus.atmsplus.com/api/memberships/lastupdate?count=1000&offset=1000&updateDate=1995-01-01\n",
      "resp_d.keys():  dict_keys(['response', 'done'])\n",
      "done: False, resp_d.json() : <Response [200]>\n",
      "resp_d = self.get_telus_data(memberships,offset=2000, count= 1000, since_date=1995-01-01)\n",
      "ATMS_api.get_telus_data: since_date is 1995-01-01\n",
      "http://crm-api-telus.atmsplus.com/api/memberships/lastupdate?count=1000&offset=2000&updateDate=1995-01-01\n",
      "resp_d.keys():  dict_keys(['response', 'done'])\n",
      "done: False, resp_d.json() : <Response [200]>\n",
      "resp_d = self.get_telus_data(memberships,offset=3000, count= 1000, since_date=1995-01-01)\n",
      "ATMS_api.get_telus_data: since_date is 1995-01-01\n",
      "http://crm-api-telus.atmsplus.com/api/memberships/lastupdate?count=1000&offset=3000&updateDate=1995-01-01\n",
      "resp_d.keys():  dict_keys(['response', 'done'])\n",
      "done: False, resp_d.json() : <Response [200]>\n",
      "resp_d = self.get_telus_data(memberships,offset=4000, count= 1000, since_date=1995-01-01)\n",
      "ATMS_api.get_telus_data: since_date is 1995-01-01\n",
      "http://crm-api-telus.atmsplus.com/api/memberships/lastupdate?count=1000&offset=4000&updateDate=1995-01-01\n",
      "resp_d.keys():  dict_keys(['response', 'done'])\n",
      "done: False, resp_d.json() : <Response [200]>\n",
      "resp_d = self.get_telus_data(memberships,offset=5000, count= 1000, since_date=1995-01-01)\n",
      "ATMS_api.get_telus_data: since_date is 1995-01-01\n",
      "http://crm-api-telus.atmsplus.com/api/memberships/lastupdate?count=1000&offset=5000&updateDate=1995-01-01\n",
      "resp_d.keys():  dict_keys(['response', 'done'])\n",
      "done: False, resp_d.json() : <Response [200]>\n",
      "resp_d = self.get_telus_data(memberships,offset=6000, count= 1000, since_date=1995-01-01)\n",
      "ATMS_api.get_telus_data: since_date is 1995-01-01\n",
      "http://crm-api-telus.atmsplus.com/api/memberships/lastupdate?count=1000&offset=6000&updateDate=1995-01-01\n",
      "resp_d.keys():  dict_keys(['response', 'done'])\n",
      "done: False, resp_d.json() : <Response [200]>\n",
      "resp_d = self.get_telus_data(memberships,offset=7000, count= 1000, since_date=1995-01-01)\n",
      "ATMS_api.get_telus_data: since_date is 1995-01-01\n",
      "http://crm-api-telus.atmsplus.com/api/memberships/lastupdate?count=1000&offset=7000&updateDate=1995-01-01\n",
      "resp_d.keys():  dict_keys(['response', 'done'])\n",
      "done: False, resp_d.json() : <Response [200]>\n",
      "resp_d = self.get_telus_data(memberships,offset=8000, count= 1000, since_date=1995-01-01)\n",
      "ATMS_api.get_telus_data: since_date is 1995-01-01\n",
      "http://crm-api-telus.atmsplus.com/api/memberships/lastupdate?count=1000&offset=8000&updateDate=1995-01-01\n",
      "resp_d.keys():  dict_keys(['response', 'done'])\n",
      "done: False, resp_d.json() : <Response [200]>\n",
      "resp_d = self.get_telus_data(memberships,offset=9000, count= 1000, since_date=1995-01-01)\n",
      "ATMS_api.get_telus_data: since_date is 1995-01-01\n",
      "http://crm-api-telus.atmsplus.com/api/memberships/lastupdate?count=1000&offset=9000&updateDate=1995-01-01\n",
      "resp_d.keys():  dict_keys(['response', 'done'])\n",
      "done: False, resp_d.json() : <Response [200]>\n",
      "resp_d = self.get_telus_data(memberships,offset=10000, count= 1000, since_date=1995-01-01)\n",
      "ATMS_api.get_telus_data: since_date is 1995-01-01\n",
      "http://crm-api-telus.atmsplus.com/api/memberships/lastupdate?count=1000&offset=10000&updateDate=1995-01-01\n",
      "resp_d.keys():  dict_keys(['response', 'done'])\n",
      "done: False, resp_d.json() : <Response [200]>\n",
      "resp_d = self.get_telus_data(memberships,offset=11000, count= 1000, since_date=1995-01-01)\n",
      "ATMS_api.get_telus_data: since_date is 1995-01-01\n",
      "http://crm-api-telus.atmsplus.com/api/memberships/lastupdate?count=1000&offset=11000&updateDate=1995-01-01\n",
      "resp_d.keys():  dict_keys(['response', 'done'])\n",
      "done: False, resp_d.json() : <Response [200]>\n",
      "resp_d = self.get_telus_data(memberships,offset=12000, count= 1000, since_date=1995-01-01)\n",
      "ATMS_api.get_telus_data: since_date is 1995-01-01\n",
      "http://crm-api-telus.atmsplus.com/api/memberships/lastupdate?count=1000&offset=12000&updateDate=1995-01-01\n",
      "resp_d.keys():  dict_keys(['response', 'done'])\n",
      "done: False, resp_d.json() : <Response [200]>\n",
      "resp_d = self.get_telus_data(memberships,offset=13000, count= 1000, since_date=1995-01-01)\n",
      "ATMS_api.get_telus_data: since_date is 1995-01-01\n",
      "http://crm-api-telus.atmsplus.com/api/memberships/lastupdate?count=1000&offset=13000&updateDate=1995-01-01\n",
      "resp_d.keys():  dict_keys(['response', 'done'])\n",
      "done: False, resp_d.json() : <Response [200]>\n",
      "resp_d = self.get_telus_data(memberships,offset=14000, count= 1000, since_date=1995-01-01)\n",
      "ATMS_api.get_telus_data: since_date is 1995-01-01\n",
      "http://crm-api-telus.atmsplus.com/api/memberships/lastupdate?count=1000&offset=14000&updateDate=1995-01-01\n",
      "resp_d.keys():  dict_keys(['response', 'done'])\n",
      "done: False, resp_d.json() : <Response [200]>\n",
      "resp_d = self.get_telus_data(memberships,offset=15000, count= 1000, since_date=1995-01-01)\n",
      "ATMS_api.get_telus_data: since_date is 1995-01-01\n",
      "http://crm-api-telus.atmsplus.com/api/memberships/lastupdate?count=1000&offset=15000&updateDate=1995-01-01\n",
      "resp_d.keys():  dict_keys(['response', 'done'])\n",
      "done: False, resp_d.json() : <Response [200]>\n",
      "resp_d = self.get_telus_data(memberships,offset=16000, count= 1000, since_date=1995-01-01)\n",
      "ATMS_api.get_telus_data: since_date is 1995-01-01\n",
      "http://crm-api-telus.atmsplus.com/api/memberships/lastupdate?count=1000&offset=16000&updateDate=1995-01-01\n",
      "resp_d.keys():  dict_keys(['response', 'done'])\n",
      "done: False, resp_d.json() : <Response [200]>\n",
      "resp_d = self.get_telus_data(memberships,offset=17000, count= 1000, since_date=1995-01-01)\n",
      "ATMS_api.get_telus_data: since_date is 1995-01-01\n",
      "http://crm-api-telus.atmsplus.com/api/memberships/lastupdate?count=1000&offset=17000&updateDate=1995-01-01\n",
      "resp_d.keys():  dict_keys(['response', 'done'])\n",
      "done: False, resp_d.json() : <Response [200]>\n",
      "resp_d = self.get_telus_data(memberships,offset=18000, count= 1000, since_date=1995-01-01)\n",
      "ATMS_api.get_telus_data: since_date is 1995-01-01\n",
      "http://crm-api-telus.atmsplus.com/api/memberships/lastupdate?count=1000&offset=18000&updateDate=1995-01-01\n",
      "resp_d.keys():  dict_keys(['response', 'done'])\n",
      "done: False, resp_d.json() : <Response [200]>\n",
      "resp_d = self.get_telus_data(memberships,offset=19000, count= 1000, since_date=1995-01-01)\n",
      "ATMS_api.get_telus_data: since_date is 1995-01-01\n",
      "http://crm-api-telus.atmsplus.com/api/memberships/lastupdate?count=1000&offset=19000&updateDate=1995-01-01\n",
      "resp_d.keys():  dict_keys(['response', 'done'])\n",
      "done: False, resp_d.json() : <Response [200]>\n",
      "cleaning_data_file - download dir is:  /Users/josephmann/Documents/Github/doubledot/atms_download/mlk31g16\n",
      "creating file:  /Users/josephmann/Documents/Github/doubledot/atms_download/mlk31g16/atms_transformed_memberships.json\n",
      "Finished cleaning atms_memberships.json -> /Users/josephmann/Documents/Github/doubledot/atms_download/mlk31g16/atms_transformed_memberships.json\n",
      "ATMS_api - Attempting to load:  /Users/josephmann/Documents/Github/doubledot/atms_download/mlk31g16/atms_transformed_memberships.json  into dict\n",
      "ATMS_api: loaded 20000 memberships into dict\n"
     ]
    }
   ],
   "source": [
    "# used this to find members with 4708 contactId ( yes, there was an easier way but not faster given time and brain capacity)\n",
    "atms.retrieve_and_clean('memberships', since_date='1995-01-01', max_rows=20000)"
   ]
  },
  {
   "attachments": {},
   "cell_type": "markdown",
   "metadata": {},
   "source": [
    "# why does saleId__c = 889832 not have any Saledetails or Tickets pointing at it?\n",
    "\n"
   ]
  },
  {
   "attachments": {},
   "cell_type": "markdown",
   "metadata": {},
   "source": [
    "## Problems..."
   ]
  }
 ],
 "metadata": {
  "kernelspec": {
   "display_name": "vantix",
   "language": "python",
   "name": "python3"
  },
  "language_info": {
   "codemirror_mode": {
    "name": "ipython",
    "version": 3
   },
   "file_extension": ".py",
   "mimetype": "text/x-python",
   "name": "python",
   "nbconvert_exporter": "python",
   "pygments_lexer": "ipython3",
   "version": "3.11.3"
  },
  "orig_nbformat": 4
 },
 "nbformat": 4,
 "nbformat_minor": 2
}
