{
 "cells": [
  {
   "cell_type": "code",
   "execution_count": 3,
   "metadata": {},
   "outputs": [
    {
     "name": "stdout",
     "output_type": "stream",
     "text": [
      "Running on local URL:  http://127.0.0.1:7861\n",
      "\n",
      "To create a public link, set `share=True` in `launch()`.\n"
     ]
    },
    {
     "data": {
      "text/html": [
       "<div><iframe src=\"http://127.0.0.1:7861/\" width=\"100%\" height=\"500\" allow=\"autoplay; camera; microphone; clipboard-read; clipboard-write;\" frameborder=\"0\" allowfullscreen></iframe></div>"
      ],
      "text/plain": [
       "<IPython.core.display.HTML object>"
      ]
     },
     "metadata": {},
     "output_type": "display_data"
    },
    {
     "data": {
      "text/plain": []
     },
     "execution_count": 3,
     "metadata": {},
     "output_type": "execute_result"
    }
   ],
   "source": [
    "from email.policy import default\n",
    "# from nltk.corpus import stopwords\n",
    "\n",
    "# Add more inputs to the find_palindroms function.\n",
    "def find_palindroms(text: str, remove_stops: bool, max_output: int, lang: str) -> str:\n",
    "    palindromes = []\n",
    "\n",
    "    if False: #remove_stops:\n",
    "        stops = set(stopwords.words(lang))\n",
    "        words = [word for word in text.split() if word not in stops]\n",
    "    else:\n",
    "        words = text.split()\n",
    "\n",
    "    for word in words:\n",
    "        if word == word[::-1]:\n",
    "            palindromes.append(word)\n",
    "\n",
    "    if len(palindromes) > max_output:\n",
    "        palindromes = palindromes[:max_output]\n",
    "\n",
    "    return \"|\".join(palindromes)\n",
    "\n",
    "\n",
    "import gradio as gr\n",
    "\n",
    "# Create more widgets in the Gradio app.\n",
    "app = gr.Interface(\n",
    "    find_palindroms,\n",
    "    inputs=[\n",
    "        gr.Textbox(label=\"Text\", value=\"\"),\n",
    "        gr.Checkbox(label=\"Remove stopwords\", value=False),\n",
    "        gr.Slider(label=\"Max output\", value=3, minimum=1, maximum=10),\n",
    "        gr.Radio(choices=[\"english\", \"french\", \"spanish\"], label=\"Language\"),\n",
    "    ],\n",
    "    outputs=[\"text\"],\n",
    ")\n",
    "\n",
    "app.launch()"
   ]
  },
  {
   "cell_type": "code",
   "execution_count": null,
   "metadata": {},
   "outputs": [],
   "source": [
    "from doubledot import *\n",
    "\n"
   ]
  }
 ],
 "metadata": {
  "kernelspec": {
   "display_name": "vantix",
   "language": "python",
   "name": "python3"
  },
  "language_info": {
   "codemirror_mode": {
    "name": "ipython",
    "version": 3
   },
   "file_extension": ".py",
   "mimetype": "text/x-python",
   "name": "python",
   "nbconvert_exporter": "python",
   "pygments_lexer": "ipython3",
   "version": "3.11.3"
  },
  "orig_nbformat": 4
 },
 "nbformat": 4,
 "nbformat_minor": 2
}
