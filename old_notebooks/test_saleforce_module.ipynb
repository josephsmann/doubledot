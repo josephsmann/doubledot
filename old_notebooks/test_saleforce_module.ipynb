{
 "cells": [
  {
   "attachments": {},
   "cell_type": "markdown",
   "metadata": {},
   "source": [
    "# sf testing book\n",
    "\n",
    "> use this to test salesforce.py"
   ]
  },
  {
   "cell_type": "code",
   "execution_count": null,
   "metadata": {},
   "outputs": [],
   "source": [
    "##| default_exp test_sf_1"
   ]
  },
  {
   "cell_type": "code",
   "execution_count": null,
   "metadata": {},
   "outputs": [],
   "source": [
    "%load_ext autoreload\n",
    "%autoreload 2"
   ]
  },
  {
   "cell_type": "code",
   "execution_count": null,
   "metadata": {},
   "outputs": [],
   "source": [
    "# import salesforce as SF\n",
    "# import salesforce_old as SF\n",
    "import doubledot.crema_sf as SF\n",
    "from doubledot.ATMS_api import ATMS_api\n",
    "import jmespath as jp\n",
    "import json\n",
    "import pandas as pd\n",
    "from nbdev.showdoc import *\n",
    "from fastcore.basics import patch\n",
    "    \n",
    "from fastcore.test import test_eq"
   ]
  },
  {
   "cell_type": "code",
   "execution_count": null,
   "metadata": {},
   "outputs": [],
   "source": [
    "# test_eq(\"dog\",\"cat\")"
   ]
  },
  {
   "cell_type": "code",
   "execution_count": null,
   "metadata": {},
   "outputs": [
    {
     "ename": "FileNotFoundError",
     "evalue": "[Errno 2] No such file or directory: 'secrets.json'",
     "output_type": "error",
     "traceback": [
      "\u001b[0;31m---------------------------------------------------------------------------\u001b[0m",
      "\u001b[0;31mFileNotFoundError\u001b[0m                         Traceback (most recent call last)",
      "Cell \u001b[0;32mIn[2], line 1\u001b[0m\n\u001b[0;32m----> 1\u001b[0m sf \u001b[39m=\u001b[39m SF\u001b[39m.\u001b[39;49mSalesforce()\n",
      "File \u001b[0;32m~/Documents/Github/doubledot/doubledot/crema_sf.py:23\u001b[0m, in \u001b[0;36mSalesforce.__init__\u001b[0;34m(self)\u001b[0m\n\u001b[1;32m     21\u001b[0m \u001b[39mdef\u001b[39;00m \u001b[39m__init__\u001b[39m(\u001b[39mself\u001b[39m):\n\u001b[1;32m     22\u001b[0m     \u001b[39m# set up access token \u001b[39;00m\n\u001b[0;32m---> 23\u001b[0m     \u001b[39mself\u001b[39m\u001b[39m.\u001b[39m_sf_access_token \u001b[39m=\u001b[39m \u001b[39mself\u001b[39;49m\u001b[39m.\u001b[39;49mget_token_with_REST()\n\u001b[1;32m     24\u001b[0m     \u001b[39mself\u001b[39m\u001b[39m.\u001b[39mbulk_job_id \u001b[39m=\u001b[39m \u001b[39mNone\u001b[39;00m\n",
      "File \u001b[0;32m~/Documents/Github/doubledot/doubledot/crema_sf.py:74\u001b[0m, in \u001b[0;36mget_token_with_REST\u001b[0;34m(self)\u001b[0m\n\u001b[1;32m     67\u001b[0m \u001b[39m@patch\u001b[39m\n\u001b[1;32m     68\u001b[0m \u001b[39mdef\u001b[39;00m \u001b[39mget_token_with_REST\u001b[39m(\u001b[39mself\u001b[39m: Salesforce):\n\u001b[1;32m     69\u001b[0m \u001b[39m    \u001b[39m\u001b[39m\"\"\"retieve the access token from Salesforce\u001b[39;00m\n\u001b[1;32m     70\u001b[0m \n\u001b[1;32m     71\u001b[0m \u001b[39m    Returns:\u001b[39;00m\n\u001b[1;32m     72\u001b[0m \u001b[39m        string: the access token \u001b[39;00m\n\u001b[1;32m     73\u001b[0m \u001b[39m    \"\"\"\u001b[39;00m\n\u001b[0;32m---> 74\u001b[0m     \u001b[39mwith\u001b[39;00m \u001b[39mopen\u001b[39;49m(\u001b[39m'\u001b[39;49m\u001b[39msecrets.json\u001b[39;49m\u001b[39m'\u001b[39;49m) \u001b[39mas\u001b[39;00m f:\n\u001b[1;32m     75\u001b[0m         secrets \u001b[39m=\u001b[39m json\u001b[39m.\u001b[39mload(f)\n\u001b[1;32m     77\u001b[0m     DOMAIN \u001b[39m=\u001b[39m secrets[\u001b[39m'\u001b[39m\u001b[39minstance\u001b[39m\u001b[39m'\u001b[39m]\n",
      "\u001b[0;31mFileNotFoundError\u001b[0m: [Errno 2] No such file or directory: 'secrets.json'"
     ]
    }
   ],
   "source": [
    "sf = SF.Salesforce()"
   ]
  },
  {
   "cell_type": "code",
   "execution_count": null,
   "metadata": {},
   "outputs": [],
   "source": [
    "sf.sf_access_token"
   ]
  },
  {
   "cell_type": "code",
   "execution_count": null,
   "metadata": {},
   "outputs": [],
   "source": [
    "sf.test_token()"
   ]
  },
  {
   "cell_type": "code",
   "execution_count": null,
   "metadata": {},
   "outputs": [],
   "source": [
    "sf.get_sf_object_ids()"
   ]
  },
  {
   "cell_type": "code",
   "execution_count": null,
   "metadata": {},
   "outputs": [],
   "source": [
    "atms = ATMS_api()"
   ]
  },
  {
   "cell_type": "code",
   "execution_count": null,
   "metadata": {},
   "outputs": [],
   "source": [
    "atms.telus_access_token"
   ]
  },
  {
   "attachments": {},
   "cell_type": "markdown",
   "metadata": {},
   "source": [
    "## Get ATMS Objects"
   ]
  },
  {
   "cell_type": "code",
   "execution_count": null,
   "metadata": {},
   "outputs": [],
   "source": [
    "# get memberships data\n",
    "atms.write_obj_to_file('memberships',initial_offset=59_000, max_rows=500)\n",
    "atms.write_obj_to_file('contacts', initial_offset=450_000, max_rows=500)\n",
    "atms.write_obj_to_file('items')\n",
    "\n",
    "\n",
    "# atms.write_obj_to_file('sales', initial_offset=450_000, max_rows=500)"
   ]
  },
  {
   "attachments": {},
   "cell_type": "markdown",
   "metadata": {},
   "source": [
    "## clean ATMS data and load into atms.obj_d "
   ]
  },
  {
   "cell_type": "code",
   "execution_count": null,
   "metadata": {},
   "outputs": [],
   "source": [
    "atms.clean_data_file('contacts')\n",
    "atms.load_data_file_to_dict('contacts')\n",
    "print(atms.obj_d.keys())\n",
    "# atms.obj_d['contacts'][:3]"
   ]
  },
  {
   "cell_type": "code",
   "execution_count": null,
   "metadata": {},
   "outputs": [],
   "source": [
    "atms.clean_data_file('memberships')\n",
    "atms.load_data_file_to_dict('memberships')\n",
    "print(atms.obj_d.keys())\n",
    "# atms.obj_d['memberships'][:3]"
   ]
  },
  {
   "cell_type": "code",
   "execution_count": null,
   "metadata": {},
   "outputs": [],
   "source": [
    "\"\"\"[\n",
    "  {\n",
    "    \"membershipId\": 0,\n",
    "    \"memberSince\": \"2023-05-02T21:47:29.055Z\",\n",
    "    \"updateDate\": \"2023-05-02T21:47:29.055Z\",\n",
    "    \"membershipTerms\": [\n",
    "      {\n",
    "        \"membershipTermId\": 0,\n",
    "        \"membershipKey\": 0,\n",
    "        \"effectiveDate\": \"2023-05-02T21:47:29.055Z\",\n",
    "        \"expiryDate\": \"2023-05-02T21:47:29.055Z\",\n",
    "        \"membershipType\": \"string\",\n",
    "        \"upgradeFromTermKey\": 0,\n",
    "        \"giftMembership\": true,\n",
    "        \"refunded\": true,\n",
    "        \"saleDetailKey\": 0,\n",
    "        \"itemKey\": 0,\n",
    "        \"membershipMembers\": [\n",
    "          {\n",
    "            \"membershipMemberId\": 0,\n",
    "            \"membershipTermKey\": 0,\n",
    "            \"cardNumber\": 0,\n",
    "            \"membershipNumber\": \"string\",\n",
    "            \"cardStatus\": \"string\",\n",
    "            \"contactKey\": 0,\n",
    "            \"displayName\": \"string\"\n",
    "          }\n",
    "        ]\n",
    "      }\n",
    "    ]\n",
    "  }\n",
    "]\n",
    "\"\"\""
   ]
  },
  {
   "attachments": {},
   "cell_type": "markdown",
   "metadata": {},
   "source": [
    "## create ``Memberships[]`` csv file"
   ]
  },
  {
   "cell_type": "code",
   "execution_count": null,
   "metadata": {},
   "outputs": [],
   "source": [
    "## requires that atms.obj_d['memberships'] is loaded\n",
    "## we make this for bulk insert into salesforce\n",
    "assert atms.obj_d['memberships']\n",
    "\n",
    "mem_s = \"[].{membershipId__c: membershipId, \\\n",
    "    memberSince__c: memberSince, \\\n",
    "    updateDate__c: updateDate}\"\n",
    "\n",
    "# make membership members table\n",
    "dict_l = jp.search(mem_s, atms.obj_d['memberships'])\n",
    "with open('memberships.csv', 'w') as f:\n",
    "    f.write('\\t'.join(dict_l[0].keys()) + '\\n') # header\n",
    "    for d in dict_l:\n",
    "        f.write('\\t'.join([str(v) for v in d.values()]) + '\\n')"
   ]
  },
  {
   "attachments": {},
   "cell_type": "markdown",
   "metadata": {},
   "source": [
    "## create ``Memberships[].membershipTerms`` csv file"
   ]
  },
  {
   "cell_type": "code",
   "execution_count": null,
   "metadata": {},
   "outputs": [],
   "source": [
    "## requires that atms.obj_d['memberships'] is loaded\n",
    "## we make this for bulk insert into salesforce\n",
    "\n",
    "# make membership term table\n",
    "# we use a hack of inserting _1_ into the membershipKey__r field name to get around the fact that jmespath won't allow a dot in a field name\n",
    "assert atms.obj_d['memberships']\n",
    "\n",
    "memTerm_s = \"[:50].membershipTerms[].{membershipTermId__c: membershipTermId,\\\n",
    "membershipKey__r_1_membershipId__c:membershipKey,\\\n",
    "effectiveDate__c:effectiveDate,\\\n",
    "expiryDate__c:expiryDate,\\\n",
    "membershipType__c:membershipType,\\\n",
    "upgradeFromTermKey__c:upgradeFromTermKey,\\\n",
    "giftMembership__c:giftMembership,\\\n",
    "refunded__c:refunded,\\\n",
    "saleDetailKey__c:saleDetailKey,\\\n",
    "itemKey__c:itemKey}\"\n",
    "dict_l = jp.search(memTerm_s, atms.obj_d['memberships'])\n",
    "with open('membership_terms.csv', 'w') as f:\n",
    "    # hack to create header with a dot in it, jmespath won't do it\n",
    "    f.write('\\t'.join([s.replace('_1_','.') for s in dict_l[0].keys()]) + '\\n') # header\n",
    "    for d in dict_l:\n",
    "        #changed this to not write None for empty values, eg \"\" for null and false (a default value)\n",
    "        f.write('\\t'.join([str(v) if v else \"\" for v in d.values()]) + '\\n')"
   ]
  },
  {
   "cell_type": "code",
   "execution_count": null,
   "metadata": {},
   "outputs": [],
   "source": [
    "with open('test.json', 'w') as f:\n",
    "    f.write(json.dumps(dict_l[:5], indent=4))"
   ]
  },
  {
   "cell_type": "code",
   "execution_count": null,
   "metadata": {},
   "outputs": [],
   "source": [
    "with open('test.json', 'r') as f:\n",
    "    test = json.load(f)"
   ]
  },
  {
   "attachments": {},
   "cell_type": "markdown",
   "metadata": {},
   "source": [
    "\n",
    "## create ``Memberships[].membershipTerms[].membershipMembers[]`` csv file"
   ]
  },
  {
   "cell_type": "code",
   "execution_count": null,
   "metadata": {},
   "outputs": [],
   "source": [
    "## requires that atms.obj_d['memberships'] is loaded\n",
    "## we make this for bulk insert into salesforce\n",
    "\n",
    "# make membership term table\n",
    "# we use a hack of inserting _1_ into the membershipKey__r field name to get around the fact that jmespath won't allow a dot in a field name\n",
    "try: # don't want to instantiate  this more than I have \n",
    "    atms\n",
    "except NameError:\n",
    "    atms = ATMS_api()\n",
    "finally:\n",
    "    try:\n",
    "        print(\"trying\")\n",
    "        obj_s = 'memberships'\n",
    "        atms.write_obj_to_file(obj_s, max_rows=500)\n",
    "        atms.load_data_file_to_dict(obj_s)\n",
    "        assert obj_s in atms.obj_d, f\" {obj_s} not in {atms.obj_d.keys()}\"\n",
    "        atms.load_data_file_to_dict('non-existant file') #this should throw an erro\n",
    "    except FileNotFoundError:\n",
    "        print(\"There is no dirty file, we quit\")\n",
    "\n",
    "memMembers_s = \"[].membershipTerms[].membershipMembers[].{membershipMemberId__c:membershipMemberId,\\\n",
    "membershipTermKey__r_1_membershipTermId__c:membershipTermKey,\\\n",
    "cardNumber__c:cardNumber,\\\n",
    "membershipNumber__c:membershipNumber,\\\n",
    "cardStatus__c:cardStatus,\\\n",
    "contactKey__c:contactKey,\\\n",
    "displayName__c:displayName}\"\n",
    "\n",
    "# make membership members table\n",
    "dict_l = jp.search(memMembers_s, atms.obj_d['memberships'])\n",
    "with open('membership_members.csv', 'w') as f:\n",
    "    f.write('\\t'.join([s.replace('_1_','.') for s in dict_l[0].keys()]) + '\\n') # header\n",
    "    # f.write('\\t'.join(dict_l[0].keys()) + '\\n') # header\n",
    "    for d in dict_l:\n",
    "        f.write('\\t'.join([str(v) for v in d.values()]) + '\\n')"
   ]
  },
  {
   "attachments": {},
   "cell_type": "markdown",
   "metadata": {},
   "source": [
    "## make dataframes for membership, membership terms, and membership members, and contacts"
   ]
  },
  {
   "cell_type": "code",
   "execution_count": null,
   "metadata": {},
   "outputs": [],
   "source": [
    "members_df = pd.read_csv('membership_members.csv', sep='\\t') \n",
    "membershipTerms_df = pd.read_csv('membership_terms.csv', sep='\\t')\n",
    "membership_df = pd.read_csv('memberships.csv', sep='\\t')\n",
    "\n",
    "atms.load_data_file_to_dict(obj_s='contacts')\n",
    "contacts_df = pd.DataFrame(atms.obj_d['contacts'])\n",
    "contacts_df.dtypes"
   ]
  },
  {
   "attachments": {},
   "cell_type": "markdown",
   "metadata": {},
   "source": [
    "### merge membership and membershipTerms"
   ]
  },
  {
   "cell_type": "code",
   "execution_count": null,
   "metadata": {},
   "outputs": [],
   "source": [
    "membership_df.merge(membershipTerms_df, how='right', left_on='membershipId__c', right_on='membershipKey__r.membershipId__c')"
   ]
  },
  {
   "attachments": {},
   "cell_type": "markdown",
   "metadata": {},
   "source": [
    "### trying to solve problem of unmatched contacts and members usin dataframes"
   ]
  },
  {
   "cell_type": "code",
   "execution_count": null,
   "metadata": {},
   "outputs": [],
   "source": [
    "contacts_df.contactId.max(),contacts_df.contactId.min(),members_df.loc[:,\"contactKey__c\"].min(),members_df.loc[:,\"contactKey__c\"].max(),   "
   ]
  },
  {
   "attachments": {},
   "cell_type": "markdown",
   "metadata": {},
   "source": [
    "### intersection of contactIds and members.contactKey__c"
   ]
  },
  {
   "cell_type": "code",
   "execution_count": null,
   "metadata": {},
   "outputs": [],
   "source": [
    "s1 = set(contacts_df.contactId) \n",
    "s2 = set(members_df.loc[:,\"contactKey__c\"])\n",
    "# common elements of s1 and s2\n",
    "s1.intersection(s2) "
   ]
  },
  {
   "cell_type": "code",
   "execution_count": null,
   "metadata": {},
   "outputs": [],
   "source": [
    "_df = members_df\n",
    "_df.merge(contacts_df, left_on='contactKey__c', right_on ='contactId', how='inner')#.loc[:, contacts_df.columns]\n",
    "# _df.dtypes"
   ]
  },
  {
   "cell_type": "code",
   "execution_count": null,
   "metadata": {},
   "outputs": [],
   "source": [
    "\n",
    "print('\\n'.join(set(jp.search(\"[].membershipTerms[].membershipMembers[].cardStatus\", atms.obj_d['memberships']))))"
   ]
  },
  {
   "cell_type": "code",
   "execution_count": null,
   "metadata": {},
   "outputs": [],
   "source": [
    "# finde unique membershipTerm membershipTypes \n",
    "print('\\n'.join(set(jp.search(\"[].membershipTerms[].membershipType\", atms.obj_d['memberships']))))"
   ]
  },
  {
   "cell_type": "code",
   "execution_count": null,
   "metadata": {},
   "outputs": [],
   "source": [
    "# list of unique upgrade from Term Key  \n",
    "print('\\n'.join({str(i) for i in jp.search(\"[].membershipTerms[].upgradeFromTermKey\", atms.obj_d['memberships'])}))"
   ]
  },
  {
   "attachments": {},
   "cell_type": "markdown",
   "metadata": {},
   "source": [
    "## upload Memberships to SF "
   ]
  },
  {
   "cell_type": "code",
   "execution_count": null,
   "metadata": {},
   "outputs": [],
   "source": [
    "sf.create_job('Membership__c') # job_id now in sf.job_id\n",
    "sf.bulk_job_id\n",
    "\n",
    "sf.upload_csv('memberships.csv')\n",
    "    \n",
    "sf.close_job()\n",
    "sf.job_status()\n",
    "sf.failed_results()"
   ]
  },
  {
   "attachments": {},
   "cell_type": "markdown",
   "metadata": {},
   "source": [
    "## upload MembershipTerm to SF "
   ]
  },
  {
   "cell_type": "code",
   "execution_count": null,
   "metadata": {},
   "outputs": [],
   "source": [
    "sf = SF.Salesforce()\n",
    "sf.create_job('MembershipTerm__c')\n",
    "sf.bulk_job_id\n",
    "\n",
    "sf.upload_csv('membership_terms.csv')\n",
    "    \n",
    "sf.close_job()\n",
    "sf.failed_results()\n",
    "sf.successful_results()\n",
    "sf.job_status()\n",
    "# sf.delete_sf_objects('membershipTerm__c')"
   ]
  },
  {
   "attachments": {},
   "cell_type": "markdown",
   "metadata": {},
   "source": [
    "## upload MembershipMembers to SF "
   ]
  },
  {
   "cell_type": "code",
   "execution_count": null,
   "metadata": {},
   "outputs": [],
   "source": [
    "atms = ATMS_api()"
   ]
  },
  {
   "cell_type": "code",
   "execution_count": null,
   "metadata": {},
   "outputs": [],
   "source": [
    "## generate tests for all the methods\n",
    "\n",
    "## upload a file of contacts to salesforce\n",
    "## verify that all the contacts are in salesforce\n",
    "## remove all contacts from salesforce\n"
   ]
  },
  {
   "cell_type": "code",
   "execution_count": null,
   "metadata": {},
   "outputs": [],
   "source": [
    "_d = {\n",
    "  \"saleKey\": \"string\",\n",
    "  \"saleAmount\": \"string\",\n",
    "  \"paymentAmount\": \"string\",\n",
    "  \"saleDate\": \"2023-05-05T00:06:52.646Z\",\n",
    "  \"active\": True,\n",
    "  \"terminalKey\": 0,\n",
    "  \"ticketCount\": 0,\n",
    "  \"eventDate\": \"2023-05-05T00:06:52.646Z\",\n",
    "  \"booking\": {\n",
    "    \"bookingId\": 0,\n",
    "    \"bookingContactKey\": 0,\n",
    "    \"bookingContactType\": \"string\",\n",
    "    \"contactKey\": 0,\n",
    "    \"contactIndividualKey\": 0,\n",
    "    \"contactOrganizationKey\": 0,\n",
    "    \"displayName\": \"string\",\n",
    "    \"firstName\": \"string\",\n",
    "    \"lastName\": \"string\",\n",
    "    \"email\": \"string\",\n",
    "    \"phone\": \"string\"\n",
    "  },\n",
    "  \"saleComment\": \"string\",\n",
    "  \"saleDetails\": [\n",
    "    {\n",
    "      \"saleDetailId\": 0,\n",
    "      \"saleId\": 0,\n",
    "      \"itemKey\": 0,\n",
    "      \"scheduleKey\": 0,\n",
    "      \"rateKey\": 0,\n",
    "      \"categoryKey\": 0,\n",
    "      \"itemQuantity\": 0,\n",
    "      \"pricingPriceKey\": 0,\n",
    "      \"itemPrice\": 0,\n",
    "      \"itemTotal\": 0,\n",
    "      \"couponTotal\": 0,\n",
    "      \"discountTotal\": 0,\n",
    "      \"total\": 0,\n",
    "      \"revenueDate\": \"2023-05-05T00:06:52.646Z\",\n",
    "      \"refundReasonKey\": 0,\n",
    "      \"systemPriceOverride\": \"string\",\n",
    "      \"membershipTermKey\": 0,\n",
    "      \"taxTotal\": 0,\n",
    "      \"surchargeTotal\": 0,\n",
    "      \"surchargeTaxTotal\": 0,\n",
    "      \"pendingShiftKey\": 0,\n",
    "      \"pendingTerminalKey\": 0,\n",
    "      \"pendingDateTimeStamp\": \"2023-05-05T00:06:52.646Z\",\n",
    "      \"pendingUser\": \"string\",\n",
    "      \"finalStatus\": 0,\n",
    "      \"finalShiftKey\": 0,\n",
    "      \"finalTerminalKey\": 0,\n",
    "      \"finalDateTimeStamp\": \"2023-05-05T00:06:52.646Z\",\n",
    "      \"finalUser\": \"string\",\n",
    "      \"refundQuantity\": 0,\n",
    "      \"firstScheduleDetailKey\": 0,\n",
    "      \"itemDescription\": \"string\",\n",
    "      \"rateDescription\": \"string\",\n",
    "      \"categoryDescription\": \"string\",\n",
    "      \"scheduleDate\": \"2023-05-05T00:06:52.646Z\"\n",
    "    }\n",
    "  ],\n",
    "  \"tickets\": [\n",
    "    {\n",
    "      \"ticketKey\": 0,\n",
    "      \"saleKey\": 0,\n",
    "      \"saleDetailKey\": 0,\n",
    "      \"itemKey\": 0,\n",
    "      \"itemDescription\": \"string\",\n",
    "      \"itemShort\": \"string\",\n",
    "      \"itemType\": \"string\",\n",
    "      \"scheduleKey\": 0,\n",
    "      \"scheduleDate\": \"2023-05-05T00:06:52.646Z\",\n",
    "      \"facilityKey\": 0,\n",
    "      \"facilityDescription\": \"string\",\n",
    "      \"facilityShort\": \"string\",\n",
    "      \"ticketText\": \"string\",\n",
    "      \"rate\": \"string\",\n",
    "      \"category\": \"string\",\n",
    "      \"cancelled\": \"2023-05-05T00:06:52.646Z\",\n",
    "      \"redeemed\": \"2023-05-05T00:06:52.646Z\",\n",
    "      \"refunded\": \"2023-05-05T00:06:52.646Z\",\n",
    "      \"isValid\": True,\n",
    "      \"validationText\": \"string\",\n",
    "      \"redeemedCount\": 0,\n",
    "      \"ticketDetailKey\": 0,\n",
    "      \"scheduleDetailKey\": 0,\n",
    "      \"seats\": 0,\n",
    "      \"seatsSold\": 0,\n",
    "      \"totalTicketsScanned\": 0,\n",
    "      \"scheduleEndDate\": \"2023-05-05T00:06:52.646Z\",\n",
    "      \"ticketStatus\": \"string\",\n",
    "      \"ticketDisplay\": \"string\",\n",
    "      \"ticketSection\": \"string\",\n",
    "      \"ticketRow\": \"string\",\n",
    "      \"ticketSeat\": \"string\",\n",
    "      \"ticketPrefix\": \"string\",\n",
    "      \"active\": True,\n",
    "      \"cancelable\": True,\n",
    "      \"contactIndividualKey\": 0,\n",
    "      \"individualKey\": 0,\n",
    "      \"individualName\": \"string\",\n",
    "      \"contactOrganizationKey\": 0,\n",
    "      \"organizationKey\": 0,\n",
    "      \"organizationName\": \"string\",\n",
    "      \"reschedulable\": True,\n",
    "      \"rescheduleLead\": 0,\n",
    "      \"rescheduleGrace\": 0,\n",
    "      \"rescheduleCount\": 0,\n",
    "      \"rescheduleLimitHours\": 0,\n",
    "      \"comment\": \"string\",\n",
    "      \"transferRequestKey\": 0,\n",
    "      \"recipientEmail\": \"string\"\n",
    "    }\n",
    "  ]\n",
    "}\n",
    "\n",
    "jp.search(\"keys(@)\",_d)"
   ]
  },
  {
   "cell_type": "code",
   "execution_count": null,
   "metadata": {},
   "outputs": [],
   "source": []
  },
  {
   "cell_type": "code",
   "execution_count": null,
   "metadata": {},
   "outputs": [],
   "source": []
  }
 ],
 "metadata": {
  "kernelspec": {
   "display_name": "pymc_env",
   "language": "python",
   "name": "python3"
  }
 },
 "nbformat": 4,
 "nbformat_minor": 2
}
