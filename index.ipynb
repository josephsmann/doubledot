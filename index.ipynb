{
 "cells": [
  {
   "cell_type": "code",
   "execution_count": null,
   "metadata": {},
   "outputs": [],
   "source": [
    "#| hide\n",
    "from doubledot.core import *"
   ]
  },
  {
   "attachments": {},
   "cell_type": "markdown",
   "metadata": {},
   "source": [
    "# doubledot\n",
    "\n",
    "> still learning.."
   ]
  },
  {
   "attachments": {},
   "cell_type": "markdown",
   "metadata": {},
   "source": [
    "## Install"
   ]
  },
  {
   "attachments": {},
   "cell_type": "markdown",
   "metadata": {},
   "source": [
    "```sh\n",
    "pip install doubledot\n",
    "```"
   ]
  },
  {
   "attachments": {},
   "cell_type": "markdown",
   "metadata": {},
   "source": [
    "```{mermaid}\n",
    "graph TD\n",
    "    A{ATMS Database} -->|ATMS_api.retrieve_and_clean|B(ATMS_api - instance_download_dir)\n",
    "    B -->|load_data_file_to_dict|C[ATMS_api - dict]\n",
    "    C -->|process_object| D(Salesforce - class_download_dir) -->|execute_job| E{Salesforce Database}\n",
    "    \n",
    "\n",
    "```\n"
   ]
  },
  {
   "attachments": {},
   "cell_type": "markdown",
   "metadata": {},
   "source": [
    "## How to use\n",
    "\n",
    "make atms\n",
    "make sf\n",
    "\n",
    "- get atms object from database\n",
    "- put it in a dictionary\n",
    "- let sf make upload file from dictionary\n",
    "- let sf upload file to database\n"
   ]
  },
  {
   "cell_type": "code",
   "execution_count": null,
   "metadata": {},
   "outputs": [
    {
     "name": "stdout",
     "output_type": "stream",
     "text": [
      "Directory 'atms_download' already exists.\n",
      "Directory 'atms_download' already exists.\n",
      "my id is n3mpdwch\n"
     ]
    }
   ],
   "source": [
    "from doubledot import *\n",
    "sf = Salesforce()\n",
    "# atms = ATMS_api()"
   ]
  },
  {
   "cell_type": "code",
   "execution_count": null,
   "metadata": {},
   "outputs": [
    {
     "name": "stdout",
     "output_type": "stream",
     "text": [
      "download dir is:  /Users/josephmann/Documents/Github/doubledot/atms_download/n3mpdwch\n",
      "resp_d = self.get_telus_data(contacts,offset=0, count= 10, since_date=2022-01-01)\n",
      "ATMS_api.get_telus_data: since_date is 2022-01-01\n",
      "http://crm-api-telus.atmsplus.com/api/contacts/lastupdate?count=10&offset=0&updateDate=2022-01-01\n",
      "resp_d.keys():  dict_keys(['response', 'done'])\n",
      "done: False, resp_d.json() : <Response [200]>\n"
     ]
    }
   ],
   "source": [
    "# atms.write_obj_to_file('contacts', max_rows=10, since_date='2022-01-01')"
   ]
  },
  {
   "cell_type": "code",
   "execution_count": null,
   "metadata": {},
   "outputs": [
    {
     "name": "stdout",
     "output_type": "stream",
     "text": [
      "ATMS_api - Attempting to load:  /Users/josephmann/Documents/Github/doubledot/atms_download/n3mpdwch/atms_transformed_contacts.json  into dict\n",
      "File not found. Check that the dirty file is there\n",
      "found dirty file: /Users/josephmann/Documents/Github/doubledot/atms_download/n3mpdwch/atms_contacts.json\n",
      "cleaning_data_file - download dir is:  /Users/josephmann/Documents/Github/doubledot/atms_download/n3mpdwch\n",
      "creating file:  /Users/josephmann/Documents/Github/doubledot/atms_download/n3mpdwch/atms_transformed_contacts.json\n",
      "Finished cleaning atms_contacts.json -> /Users/josephmann/Documents/Github/doubledot/atms_download/n3mpdwch/atms_transformed_contacts.json\n",
      "ATMS_api: loaded 10 contacts into dict\n"
     ]
    }
   ],
   "source": [
    "# atms.load_data_file_to_dict('contacts')"
   ]
  },
  {
   "cell_type": "code",
   "execution_count": null,
   "metadata": {},
   "outputs": [],
   "source": []
  }
 ],
 "metadata": {
  "kernelspec": {
   "display_name": "python3",
   "language": "python",
   "name": "python3"
  }
 },
 "nbformat": 4,
 "nbformat_minor": 4
}
