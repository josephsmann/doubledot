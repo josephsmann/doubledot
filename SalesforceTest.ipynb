{
 "cells": [
  {
   "attachments": {},
   "cell_type": "markdown",
   "metadata": {},
   "source": [
    "# Saleforce Test Code\n",
    "\n",
    "> This is a test code for Salesforce"
   ]
  },
  {
   "cell_type": "code",
   "execution_count": null,
   "metadata": {},
   "outputs": [],
   "source": [
    "%load_ext autoreload\n",
    "%autoreload 2"
   ]
  },
  {
   "cell_type": "code",
   "execution_count": null,
   "metadata": {},
   "outputs": [],
   "source": [
    "from doubledot import Salesforce\n",
    "from doubledot import ATMS_api"
   ]
  },
  {
   "attachments": {},
   "cell_type": "markdown",
   "metadata": {},
   "source": [
    "## what needs to be done\n",
    "\n",
    "Currently, each `ATMS_api` object has its own data directory. `Salesforce` needs to know which director to use. Possible we could just pass it the `ATMS_api` object.\n",
    "\n",
    "- [ ] instantiate atms_api object, pass it to Salesforce, upload data, verify data, delete data\n",
    "- [ ] single row inserts ? (good for uploading nested data)\n",
    "\n"
   ]
  },
  {
   "cell_type": "code",
   "execution_count": null,
   "metadata": {},
   "outputs": [
    {
     "name": "stdout",
     "output_type": "stream",
     "text": [
      "Directory 'atms_download' already exists.\n",
      "my id is qt5vdthh\n"
     ]
    }
   ],
   "source": [
    "sf = Salesforce()\n",
    "atms = ATMS_api() "
   ]
  },
  {
   "cell_type": "code",
   "execution_count": null,
   "metadata": {},
   "outputs": [
    {
     "ename": "AttributeError",
     "evalue": "'ATMS_api' object has no attribute 'retrieve_and_clean'",
     "output_type": "error",
     "traceback": [
      "\u001b[0;31m---------------------------------------------------------------------------\u001b[0m",
      "\u001b[0;31mAttributeError\u001b[0m                            Traceback (most recent call last)",
      "Cell \u001b[0;32mIn[10], line 1\u001b[0m\n\u001b[0;32m----> 1\u001b[0m atms\u001b[39m.\u001b[39;49mretrieve_and_clean(\u001b[39m'\u001b[39m\u001b[39mcontacts\u001b[39m\u001b[39m'\u001b[39m, max_rows\u001b[39m=\u001b[39m\u001b[39m50\u001b[39m, since_date\u001b[39m=\u001b[39m\u001b[39m'\u001b[39m\u001b[39m2022-01-01\u001b[39m\u001b[39m'\u001b[39m)\n\u001b[1;32m      2\u001b[0m atms\u001b[39m.\u001b[39mlist_files()\n",
      "\u001b[0;31mAttributeError\u001b[0m: 'ATMS_api' object has no attribute 'retrieve_and_clean'"
     ]
    }
   ],
   "source": [
    "atms.retrieve_and_clean('contacts', max_rows=50, since_date='2022-01-01')\n",
    "atms.list_files()"
   ]
  },
  {
   "cell_type": "code",
   "execution_count": null,
   "metadata": {},
   "outputs": [
    {
     "name": "stdout",
     "output_type": "stream",
     "text": [
      "Attempting to load:  /Users/josephmann/Documents/Github/doubledot/atms_download/910l1dey/atms_transformed_contacts.json\n",
      "File not found. Check that the dirty file is there\n",
      "found dirty file: /Users/josephmann/Documents/Github/doubledot/atms_download/910l1dey/atms_contacts.json\n",
      "cleaning_data_file - download dir is:  /Users/josephmann/Documents/Github/doubledot/atms_download/910l1dey\n",
      "creating file:  /Users/josephmann/Documents/Github/doubledot/atms_download/910l1dey/atms_transformed_contacts.json\n",
      "Finished cleaning atms_contacts.json -> /Users/josephmann/Documents/Github/doubledot/atms_download/910l1dey/atms_transformed_contacts.json\n",
      "id is: 910l1dey\n"
     ]
    },
    {
     "data": {
      "text/plain": [
       "['atms_contacts.json', 'atms_transformed_contacts.json']"
      ]
     },
     "execution_count": null,
     "metadata": {},
     "output_type": "execute_result"
    }
   ],
   "source": [
    "atms.load_data_file_to_dict('contacts')\n",
    "atms.list_files()"
   ]
  },
  {
   "cell_type": "code",
   "execution_count": null,
   "metadata": {},
   "outputs": [],
   "source": [
    "# sf.create_job(sf_object='Contact', operation='insert')\n",
    "\n",
    "# sf.upload_batch('contacts.csv')"
   ]
  }
 ],
 "metadata": {
  "kernelspec": {
   "display_name": "vantix",
   "language": "python",
   "name": "python3"
  }
 },
 "nbformat": 4,
 "nbformat_minor": 2
}
