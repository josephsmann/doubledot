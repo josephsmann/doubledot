{
 "cells": [
  {
   "attachments": {},
   "cell_type": "markdown",
   "metadata": {},
   "source": [
    "# Saleforce Test Code\n",
    "\n",
    "> This is a test code for Salesforce"
   ]
  },
  {
   "cell_type": "code",
   "execution_count": 1,
   "metadata": {},
   "outputs": [],
   "source": [
    "%load_ext autoreload\n",
    "%autoreload 2"
   ]
  },
  {
   "cell_type": "code",
   "execution_count": 9,
   "metadata": {},
   "outputs": [],
   "source": [
    "from doubledot import Salesforce\n",
    "from doubledot import ATMS_api\n",
    "import pandas as pd"
   ]
  },
  {
   "attachments": {},
   "cell_type": "markdown",
   "metadata": {},
   "source": [
    "## what needs to be done\n",
    "\n",
    "Currently, each `ATMS_api` object has its own data directory. `Salesforce` needs to know which director to use. Possible we could just pass it the `ATMS_api` object.\n",
    "\n",
    "- [ ] instantiate atms_api object, pass it to Salesforce, upload data, verify data, delete data\n",
    "- [ ] single row inserts ? (good for uploading nested data)\n",
    "\n"
   ]
  },
  {
   "cell_type": "code",
   "execution_count": 3,
   "metadata": {},
   "outputs": [
    {
     "name": "stdout",
     "output_type": "stream",
     "text": [
      "Directory 'atms_download' already exists.\n",
      "Directory 'atms_download' already exists.\n",
      "my id is t5yh9c8d\n"
     ]
    }
   ],
   "source": [
    "sf = Salesforce()\n",
    "atms = ATMS_api() \n",
    "sf.atms = atms"
   ]
  },
  {
   "cell_type": "code",
   "execution_count": 4,
   "metadata": {},
   "outputs": [
    {
     "name": "stdout",
     "output_type": "stream",
     "text": [
      "download dir is:  /Users/josephmann/Documents/Github/doubledot/atms_download/t5yh9c8d\n",
      "resp_d = self.get_telus_data(memberships,offset=0, count= 50, since_date=2022-01-01)\n",
      "cleaning_data_file - download dir is:  /Users/josephmann/Documents/Github/doubledot/atms_download/t5yh9c8d\n",
      "creating file:  /Users/josephmann/Documents/Github/doubledot/atms_download/t5yh9c8d/atms_transformed_memberships.json\n",
      "Finished cleaning atms_memberships.json -> /Users/josephmann/Documents/Github/doubledot/atms_download/t5yh9c8d/atms_transformed_memberships.json\n",
      "Attempting to load:  /Users/josephmann/Documents/Github/doubledot/atms_download/t5yh9c8d/atms_transformed_memberships.json\n",
      "id is: t5yh9c8d\n"
     ]
    },
    {
     "data": {
      "text/plain": [
       "(['atms_transformed_memberships.json', 'atms_memberships.json'],\n",
       " dict_keys(['memberships']))"
      ]
     },
     "execution_count": 4,
     "metadata": {},
     "output_type": "execute_result"
    }
   ],
   "source": [
    "atms.retrieve_and_clean('memberships', max_rows=50, since_date='2022-01-01')\n",
    "atms.list_files(), atms.obj_d.keys()"
   ]
  },
  {
   "cell_type": "code",
   "execution_count": 5,
   "metadata": {},
   "outputs": [
    {
     "data": {
      "text/plain": [
       "<doubledot.ATMS_api.ATMS_api at 0x10f10a9d0>"
      ]
     },
     "execution_count": 5,
     "metadata": {},
     "output_type": "execute_result"
    }
   ],
   "source": [
    "sf.atms"
   ]
  },
  {
   "cell_type": "code",
   "execution_count": 6,
   "metadata": {},
   "outputs": [],
   "source": [
    "sf.process_memberships()\n",
    "assert 'membership_members.csv' in Salesforce.list_files() , 'membership_members.csv not found in files'"
   ]
  },
  {
   "cell_type": "code",
   "execution_count": 8,
   "metadata": {},
   "outputs": [
    {
     "name": "stdout",
     "output_type": "stream",
     "text": [
      "download dir is:  /Users/josephmann/Documents/Github/doubledot/atms_download/t5yh9c8d\n",
      "resp_d = self.get_telus_data(contacts,offset=0, count= 50, since_date=2022-01-01)\n",
      "cleaning_data_file - download dir is:  /Users/josephmann/Documents/Github/doubledot/atms_download/t5yh9c8d\n",
      "creating file:  /Users/josephmann/Documents/Github/doubledot/atms_download/t5yh9c8d/atms_transformed_contacts.json\n",
      "Finished cleaning atms_contacts.json -> /Users/josephmann/Documents/Github/doubledot/atms_download/t5yh9c8d/atms_transformed_contacts.json\n",
      "Attempting to load:  /Users/josephmann/Documents/Github/doubledot/atms_download/t5yh9c8d/atms_transformed_contacts.json\n",
      "sf_download\n"
     ]
    },
    {
     "data": {
      "text/plain": [
       "['contacts.csv',\n",
       " 'membership_members.csv',\n",
       " 'membership.csv',\n",
       " 'membership_terms.csv']"
      ]
     },
     "execution_count": 8,
     "metadata": {},
     "output_type": "execute_result"
    }
   ],
   "source": [
    "atms.retrieve_and_clean('contacts', max_rows=50, since_date='2022-01-01')\n",
    "print(sf.class_download_dir)\n",
    "\n",
    "sf.process_contacts()\n",
    "sf.list_files()"
   ]
  },
  {
   "cell_type": "code",
   "execution_count": null,
   "metadata": {},
   "outputs": [],
   "source": [
    "atms.retrieve_and_clean('contacts', max_rows=50, since_date='2022-01-01')\n",
    "sf.process_contacts()\n",
    "sf.create_job(sf_object='Contact', operation='insert')\n",
    "sf.upload_csv('contacts')\n",
    "sf.close_job()\n",
    "sf.job_status()"
   ]
  },
  {
   "cell_type": "code",
   "execution_count": null,
   "metadata": {},
   "outputs": [],
   "source": []
  }
 ],
 "metadata": {
  "kernelspec": {
   "display_name": "vantix",
   "language": "python",
   "name": "python3"
  },
  "language_info": {
   "codemirror_mode": {
    "name": "ipython",
    "version": 3
   },
   "file_extension": ".py",
   "mimetype": "text/x-python",
   "name": "python",
   "nbconvert_exporter": "python",
   "pygments_lexer": "ipython3",
   "version": "3.11.3"
  }
 },
 "nbformat": 4,
 "nbformat_minor": 2
}
