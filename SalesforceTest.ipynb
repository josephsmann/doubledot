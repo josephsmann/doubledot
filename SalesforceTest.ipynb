{
 "cells": [
  {
   "attachments": {},
   "cell_type": "markdown",
   "metadata": {},
   "source": [
    "# Saleforce Test Code\n",
    "\n",
    "> This is a test code for Salesforce"
   ]
  },
  {
   "cell_type": "code",
   "execution_count": 1,
   "metadata": {},
   "outputs": [],
   "source": [
    "%load_ext autoreload\n",
    "%autoreload 2"
   ]
  },
  {
   "cell_type": "code",
   "execution_count": 2,
   "metadata": {},
   "outputs": [],
   "source": [
    "from doubledot import Salesforce\n",
    "from doubledot import ATMS_api\n",
    "import pandas as pd"
   ]
  },
  {
   "attachments": {},
   "cell_type": "markdown",
   "metadata": {},
   "source": [
    "## what needs to be done\n",
    "\n",
    "Currently, each `ATMS_api` object has its own data directory. `Salesforce` needs to know which director to use. Possible we could just pass it the `ATMS_api` object.\n",
    "\n",
    "- [ ] instantiate atms_api object, pass it to Salesforce, upload data, verify data, delete data\n",
    "- [ ] single row inserts ? (good for uploading nested data)\n",
    "\n"
   ]
  },
  {
   "cell_type": "code",
   "execution_count": 3,
   "metadata": {},
   "outputs": [
    {
     "name": "stdout",
     "output_type": "stream",
     "text": [
      "Directory 'atms_download' already exists.\n",
      "Directory 'atms_download' already exists.\n",
      "my id is jz1099mg\n"
     ]
    }
   ],
   "source": [
    "sf = Salesforce()\n",
    "atms = ATMS_api() \n",
    "sf.atms = atms"
   ]
  },
  {
   "cell_type": "code",
   "execution_count": 4,
   "metadata": {},
   "outputs": [
    {
     "name": "stdout",
     "output_type": "stream",
     "text": [
      "download dir is:  /Users/josephmann/Documents/Github/doubledot/atms_download/jz1099mg\n",
      "resp_d = self.get_telus_data(memberships,offset=0, count= 50, since_date=2022-01-01)\n",
      "cleaning_data_file - download dir is:  /Users/josephmann/Documents/Github/doubledot/atms_download/jz1099mg\n",
      "creating file:  /Users/josephmann/Documents/Github/doubledot/atms_download/jz1099mg/atms_transformed_memberships.json\n",
      "Finished cleaning atms_memberships.json -> /Users/josephmann/Documents/Github/doubledot/atms_download/jz1099mg/atms_transformed_memberships.json\n",
      "Attempting to load:  /Users/josephmann/Documents/Github/doubledot/atms_download/jz1099mg/atms_transformed_memberships.json\n",
      "id is: jz1099mg\n"
     ]
    },
    {
     "data": {
      "text/plain": [
       "(['atms_transformed_memberships.json', 'atms_memberships.json'],\n",
       " dict_keys(['memberships']))"
      ]
     },
     "execution_count": 4,
     "metadata": {},
     "output_type": "execute_result"
    }
   ],
   "source": [
    "atms.retrieve_and_clean('memberships', max_rows=50, since_date='2022-01-01')\n",
    "atms.list_files(), atms.obj_d.keys()"
   ]
  },
  {
   "cell_type": "code",
   "execution_count": 5,
   "metadata": {},
   "outputs": [
    {
     "data": {
      "text/plain": [
       "<doubledot.ATMS_api.ATMS_api at 0x128211d90>"
      ]
     },
     "execution_count": 5,
     "metadata": {},
     "output_type": "execute_result"
    }
   ],
   "source": [
    "sf.atms"
   ]
  },
  {
   "cell_type": "code",
   "execution_count": 6,
   "metadata": {},
   "outputs": [],
   "source": [
    "sf.process_memberships()\n",
    "assert 'membership_members.csv' in Salesforce.list_files() , 'membership_members.csv not found in files'"
   ]
  },
  {
   "cell_type": "code",
   "execution_count": 7,
   "metadata": {},
   "outputs": [
    {
     "name": "stdout",
     "output_type": "stream",
     "text": [
      "download dir is:  /Users/josephmann/Documents/Github/doubledot/atms_download/jz1099mg\n",
      "resp_d = self.get_telus_data(contacts,offset=0, count= 50, since_date=2022-01-01)\n",
      "cleaning_data_file - download dir is:  /Users/josephmann/Documents/Github/doubledot/atms_download/jz1099mg\n",
      "creating file:  /Users/josephmann/Documents/Github/doubledot/atms_download/jz1099mg/atms_transformed_contacts.json\n",
      "Finished cleaning atms_contacts.json -> /Users/josephmann/Documents/Github/doubledot/atms_download/jz1099mg/atms_transformed_contacts.json\n",
      "Attempting to load:  /Users/josephmann/Documents/Github/doubledot/atms_download/jz1099mg/atms_transformed_contacts.json\n",
      "sf_download\n"
     ]
    },
    {
     "data": {
      "text/plain": [
       "['contacts.csv',\n",
       " 'membership_members.csv',\n",
       " 'membership.csv',\n",
       " 'membership_terms.csv']"
      ]
     },
     "execution_count": 7,
     "metadata": {},
     "output_type": "execute_result"
    }
   ],
   "source": [
    "atms.retrieve_and_clean('contacts', max_rows=50, since_date='2022-01-01')\n",
    "print(sf.class_download_dir)\n",
    "\n",
    "sf.process_contacts()\n",
    "sf.list_files()"
   ]
  },
  {
   "cell_type": "code",
   "execution_count": 27,
   "metadata": {},
   "outputs": [
    {
     "name": "stdout",
     "output_type": "stream",
     "text": [
      "Retrieving Object Ids for Contact from Salesforce\n",
      "total number of objects =  15\n",
      "delete {'object': 'Contact', 'contentType': 'CSV', 'columnDelimiter': 'TAB', 'operation': 'delete'}\n",
      "{\"id\":\"7508Y00000mVEhcQAG\",\"operation\":\"delete\",\"object\":\"Contact\",\"createdById\":\"0058Y00000CIEn9QAH\",\"createdDate\":\"2023-05-10T04:31:12.000+0000\",\"systemModstamp\":\"2023-05-10T04:31:12.000+0000\",\"state\":\"Open\",\"concurrencyMode\":\"Parallel\",\"contentType\":\"CSV\",\"apiVersion\":57.0,\"contentUrl\":\"services/data/v57.0/jobs/ingest/7508Y00000mVEhcQAG/batches\",\"lineEnding\":\"LF\",\"columnDelimiter\":\"TAB\"}\n",
      "Job id is:  7508Y00000mVEhcQAG\n",
      "File not found error in Saleforce.upload_csv:  sf_download/objs2delete.csv.csv\n",
      "[{\"errorCode\":\"INVALIDJOB\",\"message\":\"Could not find content for job: <7508Y00000mVEhc>, try doing 'PUT' on 'contentUrl' corresponding to this job and once upload finished use 'PATCH' to mark Job as 'UploadComplete'\"}]\n",
      "\n"
     ]
    },
    {
     "ename": "JSONDecodeError",
     "evalue": "Expecting value: line 1 column 1 (char 0)",
     "output_type": "error",
     "traceback": [
      "\u001b[0;31m---------------------------------------------------------------------------\u001b[0m",
      "\u001b[0;31mJSONDecodeError\u001b[0m                           Traceback (most recent call last)",
      "File \u001b[0;32m~/anaconda3/envs/vantix/lib/python3.11/site-packages/requests/models.py:971\u001b[0m, in \u001b[0;36mResponse.json\u001b[0;34m(self, **kwargs)\u001b[0m\n\u001b[1;32m    970\u001b[0m \u001b[39mtry\u001b[39;00m:\n\u001b[0;32m--> 971\u001b[0m     \u001b[39mreturn\u001b[39;00m complexjson\u001b[39m.\u001b[39;49mloads(\u001b[39mself\u001b[39;49m\u001b[39m.\u001b[39;49mtext, \u001b[39m*\u001b[39;49m\u001b[39m*\u001b[39;49mkwargs)\n\u001b[1;32m    972\u001b[0m \u001b[39mexcept\u001b[39;00m JSONDecodeError \u001b[39mas\u001b[39;00m e:\n\u001b[1;32m    973\u001b[0m     \u001b[39m# Catch JSON-related errors and raise as requests.JSONDecodeError\u001b[39;00m\n\u001b[1;32m    974\u001b[0m     \u001b[39m# This aliases json.JSONDecodeError and simplejson.JSONDecodeError\u001b[39;00m\n",
      "File \u001b[0;32m~/anaconda3/envs/vantix/lib/python3.11/json/__init__.py:346\u001b[0m, in \u001b[0;36mloads\u001b[0;34m(s, cls, object_hook, parse_float, parse_int, parse_constant, object_pairs_hook, **kw)\u001b[0m\n\u001b[1;32m    343\u001b[0m \u001b[39mif\u001b[39;00m (\u001b[39mcls\u001b[39m \u001b[39mis\u001b[39;00m \u001b[39mNone\u001b[39;00m \u001b[39mand\u001b[39;00m object_hook \u001b[39mis\u001b[39;00m \u001b[39mNone\u001b[39;00m \u001b[39mand\u001b[39;00m\n\u001b[1;32m    344\u001b[0m         parse_int \u001b[39mis\u001b[39;00m \u001b[39mNone\u001b[39;00m \u001b[39mand\u001b[39;00m parse_float \u001b[39mis\u001b[39;00m \u001b[39mNone\u001b[39;00m \u001b[39mand\u001b[39;00m\n\u001b[1;32m    345\u001b[0m         parse_constant \u001b[39mis\u001b[39;00m \u001b[39mNone\u001b[39;00m \u001b[39mand\u001b[39;00m object_pairs_hook \u001b[39mis\u001b[39;00m \u001b[39mNone\u001b[39;00m \u001b[39mand\u001b[39;00m \u001b[39mnot\u001b[39;00m kw):\n\u001b[0;32m--> 346\u001b[0m     \u001b[39mreturn\u001b[39;00m _default_decoder\u001b[39m.\u001b[39;49mdecode(s)\n\u001b[1;32m    347\u001b[0m \u001b[39mif\u001b[39;00m \u001b[39mcls\u001b[39m \u001b[39mis\u001b[39;00m \u001b[39mNone\u001b[39;00m:\n",
      "File \u001b[0;32m~/anaconda3/envs/vantix/lib/python3.11/json/decoder.py:337\u001b[0m, in \u001b[0;36mJSONDecoder.decode\u001b[0;34m(self, s, _w)\u001b[0m\n\u001b[1;32m    333\u001b[0m \u001b[39m\u001b[39m\u001b[39m\"\"\"Return the Python representation of ``s`` (a ``str`` instance\u001b[39;00m\n\u001b[1;32m    334\u001b[0m \u001b[39mcontaining a JSON document).\u001b[39;00m\n\u001b[1;32m    335\u001b[0m \n\u001b[1;32m    336\u001b[0m \u001b[39m\"\"\"\u001b[39;00m\n\u001b[0;32m--> 337\u001b[0m obj, end \u001b[39m=\u001b[39m \u001b[39mself\u001b[39;49m\u001b[39m.\u001b[39;49mraw_decode(s, idx\u001b[39m=\u001b[39;49m_w(s, \u001b[39m0\u001b[39;49m)\u001b[39m.\u001b[39;49mend())\n\u001b[1;32m    338\u001b[0m end \u001b[39m=\u001b[39m _w(s, end)\u001b[39m.\u001b[39mend()\n",
      "File \u001b[0;32m~/anaconda3/envs/vantix/lib/python3.11/json/decoder.py:355\u001b[0m, in \u001b[0;36mJSONDecoder.raw_decode\u001b[0;34m(self, s, idx)\u001b[0m\n\u001b[1;32m    354\u001b[0m \u001b[39mexcept\u001b[39;00m \u001b[39mStopIteration\u001b[39;00m \u001b[39mas\u001b[39;00m err:\n\u001b[0;32m--> 355\u001b[0m     \u001b[39mraise\u001b[39;00m JSONDecodeError(\u001b[39m\"\u001b[39m\u001b[39mExpecting value\u001b[39m\u001b[39m\"\u001b[39m, s, err\u001b[39m.\u001b[39mvalue) \u001b[39mfrom\u001b[39;00m \u001b[39mNone\u001b[39;00m\n\u001b[1;32m    356\u001b[0m \u001b[39mreturn\u001b[39;00m obj, end\n",
      "\u001b[0;31mJSONDecodeError\u001b[0m: Expecting value: line 1 column 1 (char 0)",
      "\nDuring handling of the above exception, another exception occurred:\n",
      "\u001b[0;31mJSONDecodeError\u001b[0m                           Traceback (most recent call last)",
      "Cell \u001b[0;32mIn[27], line 1\u001b[0m\n\u001b[0;32m----> 1\u001b[0m sf\u001b[39m.\u001b[39;49mdelete_sf_objects(\u001b[39m'\u001b[39;49m\u001b[39mContact\u001b[39;49m\u001b[39m'\u001b[39;49m)\n",
      "File \u001b[0;32m~/Documents/Github/doubledot/doubledot/crema_sf.py:340\u001b[0m, in \u001b[0;36mdelete_sf_objects\u001b[0;34m(self, obj_s)\u001b[0m\n\u001b[1;32m    338\u001b[0m \u001b[39mself\u001b[39m\u001b[39m.\u001b[39mclose_job()\n\u001b[1;32m    339\u001b[0m sleep(\u001b[39m10\u001b[39m)\n\u001b[0;32m--> 340\u001b[0m \u001b[39mself\u001b[39;49m\u001b[39m.\u001b[39;49msuccessful_results()\n",
      "File \u001b[0;32m~/Documents/Github/doubledot/doubledot/crema_sf.py:277\u001b[0m, in \u001b[0;36msuccessful_results\u001b[0;34m(self)\u001b[0m\n\u001b[1;32m    275\u001b[0m response \u001b[39m=\u001b[39m requests\u001b[39m.\u001b[39mrequest(\u001b[39m\"\u001b[39m\u001b[39mGET\u001b[39m\u001b[39m\"\u001b[39m, url, headers\u001b[39m=\u001b[39mheaders, data\u001b[39m=\u001b[39mpayload)\n\u001b[1;32m    276\u001b[0m \u001b[39mprint\u001b[39m( response\u001b[39m.\u001b[39mtext)\n\u001b[0;32m--> 277\u001b[0m \u001b[39mreturn\u001b[39;00m response\u001b[39m.\u001b[39;49mjson()\n",
      "File \u001b[0;32m~/anaconda3/envs/vantix/lib/python3.11/site-packages/requests/models.py:975\u001b[0m, in \u001b[0;36mResponse.json\u001b[0;34m(self, **kwargs)\u001b[0m\n\u001b[1;32m    971\u001b[0m     \u001b[39mreturn\u001b[39;00m complexjson\u001b[39m.\u001b[39mloads(\u001b[39mself\u001b[39m\u001b[39m.\u001b[39mtext, \u001b[39m*\u001b[39m\u001b[39m*\u001b[39mkwargs)\n\u001b[1;32m    972\u001b[0m \u001b[39mexcept\u001b[39;00m JSONDecodeError \u001b[39mas\u001b[39;00m e:\n\u001b[1;32m    973\u001b[0m     \u001b[39m# Catch JSON-related errors and raise as requests.JSONDecodeError\u001b[39;00m\n\u001b[1;32m    974\u001b[0m     \u001b[39m# This aliases json.JSONDecodeError and simplejson.JSONDecodeError\u001b[39;00m\n\u001b[0;32m--> 975\u001b[0m     \u001b[39mraise\u001b[39;00m RequestsJSONDecodeError(e\u001b[39m.\u001b[39mmsg, e\u001b[39m.\u001b[39mdoc, e\u001b[39m.\u001b[39mpos)\n",
      "\u001b[0;31mJSONDecodeError\u001b[0m: Expecting value: line 1 column 1 (char 0)"
     ]
    }
   ],
   "source": [
    "sf.delete_sf_objects('Contact')"
   ]
  },
  {
   "cell_type": "code",
   "execution_count": 17,
   "metadata": {},
   "outputs": [
    {
     "data": {
      "text/html": [
       "<div>\n",
       "<style scoped>\n",
       "    .dataframe tbody tr th:only-of-type {\n",
       "        vertical-align: middle;\n",
       "    }\n",
       "\n",
       "    .dataframe tbody tr th {\n",
       "        vertical-align: top;\n",
       "    }\n",
       "\n",
       "    .dataframe thead th {\n",
       "        text-align: right;\n",
       "    }\n",
       "</style>\n",
       "<table border=\"1\" class=\"dataframe\">\n",
       "  <thead>\n",
       "    <tr style=\"text-align: right;\">\n",
       "      <th></th>\n",
       "      <th>LastName</th>\n",
       "      <th>MailingPostalCode</th>\n",
       "      <th>MailingCity</th>\n",
       "      <th>MailingStreet</th>\n",
       "      <th>MailingCountry</th>\n",
       "      <th>Phone</th>\n",
       "      <th>Email</th>\n",
       "      <th>External_Id__c</th>\n",
       "    </tr>\n",
       "  </thead>\n",
       "  <tbody>\n",
       "    <tr>\n",
       "      <th>0</th>\n",
       "      <td></td>\n",
       "      <td>T8N 6E2</td>\n",
       "      <td>St Albert</td>\n",
       "      <td>21 Evergreen close</td>\n",
       "      <td>Canada</td>\n",
       "      <td>7802895532</td>\n",
       "      <td>Maureen.melnyk@gov.ab.ca</td>\n",
       "      <td>487141</td>\n",
       "    </tr>\n",
       "    <tr>\n",
       "      <th>1</th>\n",
       "      <td></td>\n",
       "      <td>T6W 0M7</td>\n",
       "      <td>Edmonton</td>\n",
       "      <td>812 173 Street Southwest</td>\n",
       "      <td>Canada</td>\n",
       "      <td>7808856633</td>\n",
       "      <td>sunxiaoxin2003@hotmail.com</td>\n",
       "      <td>487142</td>\n",
       "    </tr>\n",
       "    <tr>\n",
       "      <th>2</th>\n",
       "      <td></td>\n",
       "      <td>NaN</td>\n",
       "      <td></td>\n",
       "      <td></td>\n",
       "      <td>Canada</td>\n",
       "      <td>7809835050</td>\n",
       "      <td>wendymiller@dal.ca</td>\n",
       "      <td>424164</td>\n",
       "    </tr>\n",
       "    <tr>\n",
       "      <th>3</th>\n",
       "      <td></td>\n",
       "      <td>T6W 0M7</td>\n",
       "      <td>Edmonton</td>\n",
       "      <td>812 173 Street Southwest</td>\n",
       "      <td>Canada</td>\n",
       "      <td>7807169192</td>\n",
       "      <td>lekang8179@gmail.com</td>\n",
       "      <td>487143</td>\n",
       "    </tr>\n",
       "    <tr>\n",
       "      <th>4</th>\n",
       "      <td></td>\n",
       "      <td>T7X 3S4</td>\n",
       "      <td>Spruce Grove</td>\n",
       "      <td>#25 54129 range road 275</td>\n",
       "      <td>Canada</td>\n",
       "      <td>7809132548</td>\n",
       "      <td>Kmennie71@gmail.com</td>\n",
       "      <td>487144</td>\n",
       "    </tr>\n",
       "  </tbody>\n",
       "</table>\n",
       "</div>"
      ],
      "text/plain": [
       "  LastName MailingPostalCode   MailingCity             MailingStreet   \n",
       "0                    T8N 6E2     St Albert        21 Evergreen close  \\\n",
       "1                    T6W 0M7      Edmonton  812 173 Street Southwest   \n",
       "2                        NaN                                           \n",
       "3                    T6W 0M7      Edmonton  812 173 Street Southwest   \n",
       "4                    T7X 3S4  Spruce Grove  #25 54129 range road 275   \n",
       "\n",
       "  MailingCountry       Phone                       Email  External_Id__c  \n",
       "0         Canada  7802895532    Maureen.melnyk@gov.ab.ca          487141  \n",
       "1         Canada  7808856633  sunxiaoxin2003@hotmail.com          487142  \n",
       "2         Canada  7809835050          wendymiller@dal.ca          424164  \n",
       "3         Canada  7807169192        lekang8179@gmail.com          487143  \n",
       "4         Canada  7809132548         Kmennie71@gmail.com          487144  "
      ]
     },
     "execution_count": 17,
     "metadata": {},
     "output_type": "execute_result"
    }
   ],
   "source": [
    "contacts_df = pd.read_csv('sf_download/contacts.csv', sep='\\t')\n",
    "contacts_df"
   ]
  },
  {
   "cell_type": "code",
   "execution_count": 21,
   "metadata": {},
   "outputs": [
    {
     "name": "stdout",
     "output_type": "stream",
     "text": [
      "download dir is:  /Users/josephmann/Documents/Github/doubledot/atms_download/jz1099mg\n",
      "resp_d = self.get_telus_data(contacts,offset=0, count= 5, since_date=)\n",
      "cleaning_data_file - download dir is:  /Users/josephmann/Documents/Github/doubledot/atms_download/jz1099mg\n",
      "creating file:  /Users/josephmann/Documents/Github/doubledot/atms_download/jz1099mg/atms_transformed_contacts.json\n",
      "Finished cleaning atms_contacts.json -> /Users/josephmann/Documents/Github/doubledot/atms_download/jz1099mg/atms_transformed_contacts.json\n",
      "Attempting to load:  /Users/josephmann/Documents/Github/doubledot/atms_download/jz1099mg/atms_transformed_contacts.json\n"
     ]
    },
    {
     "data": {
      "text/html": [
       "<div>\n",
       "<style scoped>\n",
       "    .dataframe tbody tr th:only-of-type {\n",
       "        vertical-align: middle;\n",
       "    }\n",
       "\n",
       "    .dataframe tbody tr th {\n",
       "        vertical-align: top;\n",
       "    }\n",
       "\n",
       "    .dataframe thead th {\n",
       "        text-align: right;\n",
       "    }\n",
       "</style>\n",
       "<table border=\"1\" class=\"dataframe\">\n",
       "  <thead>\n",
       "    <tr style=\"text-align: right;\">\n",
       "      <th></th>\n",
       "      <th>LastName</th>\n",
       "      <th>MailingPostalCode</th>\n",
       "      <th>MailingCity</th>\n",
       "      <th>MailingStreet</th>\n",
       "      <th>MailingCountry</th>\n",
       "      <th>Phone</th>\n",
       "      <th>Email</th>\n",
       "      <th>External_Id__c</th>\n",
       "    </tr>\n",
       "  </thead>\n",
       "  <tbody>\n",
       "    <tr>\n",
       "      <th>0</th>\n",
       "      <td>J E Lapointe School</td>\n",
       "      <td>T4X 1K2</td>\n",
       "      <td>Beaumont</td>\n",
       "      <td>4801 55 Avenue</td>\n",
       "      <td>Canada</td>\n",
       "      <td>7809295988</td>\n",
       "      <td>pam.jenkins@blackgold.ca</td>\n",
       "      <td>83</td>\n",
       "    </tr>\n",
       "    <tr>\n",
       "      <th>1</th>\n",
       "      <td>New Humble Centre School</td>\n",
       "      <td>T0C 0V0</td>\n",
       "      <td>Calmar</td>\n",
       "      <td>PO Box 780</td>\n",
       "      <td></td>\n",
       "      <td>7809853211</td>\n",
       "      <td></td>\n",
       "      <td>84</td>\n",
       "    </tr>\n",
       "    <tr>\n",
       "      <th>2</th>\n",
       "      <td>New Sarepta Community High School</td>\n",
       "      <td>T0B 3M0</td>\n",
       "      <td>New Sarepta</td>\n",
       "      <td>PO Box 10</td>\n",
       "      <td>Canada</td>\n",
       "      <td>7809413924</td>\n",
       "      <td></td>\n",
       "      <td>85</td>\n",
       "    </tr>\n",
       "    <tr>\n",
       "      <th>3</th>\n",
       "      <td>New Sarepta Elementary School</td>\n",
       "      <td>T0B 3M0</td>\n",
       "      <td>New Sarepta</td>\n",
       "      <td>5051-2 Street S</td>\n",
       "      <td>Canada</td>\n",
       "      <td>7809413927</td>\n",
       "      <td>tobey.morris@gshare.blackgold.ca</td>\n",
       "      <td>86</td>\n",
       "    </tr>\n",
       "    <tr>\n",
       "      <th>4</th>\n",
       "      <td>Thorsby Elementary School</td>\n",
       "      <td>T0C 2P0</td>\n",
       "      <td>Thorsby</td>\n",
       "      <td>PO Box 240</td>\n",
       "      <td>Canada</td>\n",
       "      <td>7807893776</td>\n",
       "      <td>Raylene.jubinville@blackgold.ca</td>\n",
       "      <td>87</td>\n",
       "    </tr>\n",
       "  </tbody>\n",
       "</table>\n",
       "</div>"
      ],
      "text/plain": [
       "                            LastName MailingPostalCode  MailingCity   \n",
       "0                J E Lapointe School           T4X 1K2     Beaumont  \\\n",
       "1           New Humble Centre School           T0C 0V0       Calmar   \n",
       "2  New Sarepta Community High School           T0B 3M0  New Sarepta   \n",
       "3      New Sarepta Elementary School           T0B 3M0  New Sarepta   \n",
       "4          Thorsby Elementary School           T0C 2P0      Thorsby   \n",
       "\n",
       "     MailingStreet MailingCountry       Phone   \n",
       "0   4801 55 Avenue         Canada  7809295988  \\\n",
       "1       PO Box 780                 7809853211   \n",
       "2        PO Box 10         Canada  7809413924   \n",
       "3  5051-2 Street S         Canada  7809413927   \n",
       "4       PO Box 240         Canada  7807893776   \n",
       "\n",
       "                              Email  External_Id__c  \n",
       "0          pam.jenkins@blackgold.ca              83  \n",
       "1                                                84  \n",
       "2                                                85  \n",
       "3  tobey.morris@gshare.blackgold.ca              86  \n",
       "4   Raylene.jubinville@blackgold.ca              87  "
      ]
     },
     "metadata": {},
     "output_type": "display_data"
    },
    {
     "name": "stdout",
     "output_type": "stream",
     "text": [
      "insert {'object': 'Contact', 'contentType': 'CSV', 'columnDelimiter': 'TAB', 'operation': 'insert'}\n",
      "{\"id\":\"7508Y00000mVEVRQA4\",\"operation\":\"insert\",\"object\":\"Contact\",\"createdById\":\"0058Y00000CIEn9QAH\",\"createdDate\":\"2023-05-10T04:13:18.000+0000\",\"systemModstamp\":\"2023-05-10T04:13:18.000+0000\",\"state\":\"Open\",\"concurrencyMode\":\"Parallel\",\"contentType\":\"CSV\",\"apiVersion\":57.0,\"contentUrl\":\"services/data/v57.0/jobs/ingest/7508Y00000mVEVRQA4/batches\",\"lineEnding\":\"LF\",\"columnDelimiter\":\"TAB\"}\n"
     ]
    },
    {
     "data": {
      "text/plain": [
       "<Response [200]>"
      ]
     },
     "execution_count": 21,
     "metadata": {},
     "output_type": "execute_result"
    }
   ],
   "source": [
    "# atms.retrieve_and_clean('contacts', max_rows=5, since_date='2022-01-01')\n",
    "atms.retrieve_and_clean('contacts', max_rows=5 )\n",
    "sf.process_contacts()\n",
    "display( pd.read_csv('sf_download/contacts.csv', sep='\\t') )\n",
    "sf.create_job(sf_object='Contact', operation='insert')\n"
   ]
  },
  {
   "cell_type": "code",
   "execution_count": 22,
   "metadata": {},
   "outputs": [
    {
     "data": {
      "text/plain": [
       "<Response [201]>"
      ]
     },
     "execution_count": 22,
     "metadata": {},
     "output_type": "execute_result"
    }
   ],
   "source": [
    "sf.upload_csv('contacts')"
   ]
  },
  {
   "cell_type": "code",
   "execution_count": 23,
   "metadata": {},
   "outputs": [
    {
     "name": "stdout",
     "output_type": "stream",
     "text": [
      "{\"id\":\"7508Y00000mVEVRQA4\",\"operation\":\"insert\",\"object\":\"Contact\",\"createdById\":\"0058Y00000CIEn9QAH\",\"createdDate\":\"2023-05-10T04:13:18.000+0000\",\"systemModstamp\":\"2023-05-10T04:13:18.000+0000\",\"state\":\"UploadComplete\",\"concurrencyMode\":\"Parallel\",\"contentType\":\"CSV\",\"apiVersion\":57.0}\n"
     ]
    }
   ],
   "source": [
    "\n",
    "sf.close_job()\n"
   ]
  },
  {
   "cell_type": "code",
   "execution_count": 24,
   "metadata": {},
   "outputs": [
    {
     "data": {
      "text/plain": [
       "{'id': '7508Y00000mVEVRQA4',\n",
       " 'operation': 'insert',\n",
       " 'object': 'Contact',\n",
       " 'createdById': '0058Y00000CIEn9QAH',\n",
       " 'createdDate': '2023-05-10T04:13:18.000+0000',\n",
       " 'systemModstamp': '2023-05-10T04:13:55.000+0000',\n",
       " 'state': 'JobComplete',\n",
       " 'concurrencyMode': 'Parallel',\n",
       " 'contentType': 'CSV',\n",
       " 'apiVersion': 57.0,\n",
       " 'jobType': 'V2Ingest',\n",
       " 'lineEnding': 'LF',\n",
       " 'columnDelimiter': 'TAB',\n",
       " 'numberRecordsProcessed': 0,\n",
       " 'numberRecordsFailed': 0,\n",
       " 'retries': 0,\n",
       " 'totalProcessingTime': 0,\n",
       " 'apiActiveProcessingTime': 0,\n",
       " 'apexProcessingTime': 0}"
      ]
     },
     "execution_count": 24,
     "metadata": {},
     "output_type": "execute_result"
    }
   ],
   "source": [
    "sf.job_status()"
   ]
  },
  {
   "cell_type": "code",
   "execution_count": 25,
   "metadata": {},
   "outputs": [
    {
     "name": "stdout",
     "output_type": "stream",
     "text": [
      "\"sf__Id\"\t\"sf__Created\"\tLastName=0&LastName=1&LastName=2&LastName=3&LastName=4&MailingPostalCode=0&MailingPostalCode=1&MailingPostalCode=2&MailingPostalCode=3&MailingPostalCode=4&MailingCity=0&MailingCity=1&MailingCity=2&MailingCity=3&MailingCity=4&MailingStreet=0&MailingStreet=1&MailingStreet=2&MailingStreet=3&MailingStreet=4&MailingCountry=0&MailingCountry=1&MailingCountry=2&MailingCountry=3&MailingCountry=4&Phone=0&Phone=1&Phone=2&Phone=3&Phone=4&Email=0&Email=1&Email=2&Email=3&Email=4&External_Id__c=0&External_Id__c=1&External_Id__c=2&External_Id__c=3&External_Id__c=4\n",
      "\n"
     ]
    }
   ],
   "source": [
    "sf.successful_results()"
   ]
  },
  {
   "cell_type": "code",
   "execution_count": 20,
   "metadata": {},
   "outputs": [
    {
     "name": "stdout",
     "output_type": "stream",
     "text": [
      "\"sf__Id\"\t\"sf__Error\"\tLastName=0&LastName=1&LastName=2&LastName=3&LastName=4&MailingPostalCode=0&MailingPostalCode=1&MailingPostalCode=2&MailingPostalCode=3&MailingPostalCode=4&MailingCity=0&MailingCity=1&MailingCity=2&MailingCity=3&MailingCity=4&MailingStreet=0&MailingStreet=1&MailingStreet=2&MailingStreet=3&MailingStreet=4&MailingCountry=0&MailingCountry=1&MailingCountry=2&MailingCountry=3&MailingCountry=4&Phone=0&Phone=1&Phone=2&Phone=3&Phone=4&Email=0&Email=1&Email=2&Email=3&Email=4&External_Id__c=0&External_Id__c=1&External_Id__c=2&External_Id__c=3&External_Id__c=4\n",
      "\n"
     ]
    }
   ],
   "source": [
    "sf.failed_results()"
   ]
  },
  {
   "cell_type": "code",
   "execution_count": null,
   "metadata": {},
   "outputs": [],
   "source": []
  }
 ],
 "metadata": {
  "kernelspec": {
   "display_name": "vantix",
   "language": "python",
   "name": "python3"
  },
  "language_info": {
   "codemirror_mode": {
    "name": "ipython",
    "version": 3
   },
   "file_extension": ".py",
   "mimetype": "text/x-python",
   "name": "python",
   "nbconvert_exporter": "python",
   "pygments_lexer": "ipython3",
   "version": "3.11.3"
  }
 },
 "nbformat": 4,
 "nbformat_minor": 2
}
