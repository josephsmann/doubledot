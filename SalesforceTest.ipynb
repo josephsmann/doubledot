{
 "cells": [
  {
   "attachments": {},
   "cell_type": "markdown",
   "metadata": {},
   "source": [
    "# Saleforce Test Code\n",
    "\n",
    "> This is a test code for Salesforce"
   ]
  },
  {
   "cell_type": "code",
   "execution_count": null,
   "metadata": {},
   "outputs": [],
   "source": [
    "%load_ext autoreload\n",
    "%autoreload 2"
   ]
  },
  {
   "cell_type": "code",
   "execution_count": null,
   "metadata": {},
   "outputs": [],
   "source": [
    "from doubledot import Salesforce\n",
    "from doubledot import ATMS_api\n",
    "import pandas as pd\n",
    "import os\n",
    "from fastcore.test import test_eq"
   ]
  },
  {
   "attachments": {},
   "cell_type": "markdown",
   "metadata": {},
   "source": [
    "## what needs to be done\n",
    "\n",
    "Currently, each `ATMS_api` object has its own data directory. `Salesforce` needs to know which director to use. Possible we could just pass it the `ATMS_api` object.\n",
    "\n",
    "- [ ] instantiate atms_api object, pass it to Salesforce, upload data, verify data, delete data\n",
    "- [ ] single row inserts ? (good for uploading nested data)\n",
    "\n"
   ]
  },
  {
   "cell_type": "code",
   "execution_count": null,
   "metadata": {},
   "outputs": [
    {
     "name": "stdout",
     "output_type": "stream",
     "text": [
      "Directory 'atms_download' already exists.\n",
      "Directory 'atms_download' already exists.\n",
      "my id is thy3x8b6\n"
     ]
    }
   ],
   "source": [
    "sf = Salesforce()\n",
    "atms = ATMS_api() \n",
    "sf.atms = atms"
   ]
  },
  {
   "cell_type": "code",
   "execution_count": null,
   "metadata": {},
   "outputs": [
    {
     "name": "stdout",
     "output_type": "stream",
     "text": [
      "download dir is:  /Users/josephmann/Documents/Github/doubledot/atms_download/thy3x8b6\n",
      "resp_d = self.get_telus_data(memberships,offset=0, count= 50, since_date=2022-01-01)\n",
      "cleaning_data_file - download dir is:  /Users/josephmann/Documents/Github/doubledot/atms_download/thy3x8b6\n",
      "creating file:  /Users/josephmann/Documents/Github/doubledot/atms_download/thy3x8b6/atms_transformed_memberships.json\n",
      "Finished cleaning atms_memberships.json -> /Users/josephmann/Documents/Github/doubledot/atms_download/thy3x8b6/atms_transformed_memberships.json\n",
      "ATMS_api - Attempting to load:  /Users/josephmann/Documents/Github/doubledot/atms_download/thy3x8b6/atms_transformed_memberships.json  into dict\n",
      "ATMS_api: loaded 50 memberships into dict\n"
     ]
    }
   ],
   "source": [
    "atms.retrieve_and_clean('memberships', max_rows=50, since_date='2022-01-01')\n",
    "# assert dirty file exists\n",
    "test_eq(\n",
    "    os.path.exists(\n",
    "        os.path.join(\n",
    "            atms.download_dir,'atms_memberships.json')), \n",
    "            True)\n",
    "\n",
    "# assert clean file exists\n",
    "test_eq(os.path.exists(os.path.join(atms.download_dir,'atms_transformed_memberships.json')), True)\n",
    "\n",
    "# assert obj_d['memberships']\n",
    "assert('memberships' in atms.obj_d and len(atms.obj_d['memberships']) == 50)\n",
    "\n",
    "\n",
    "\n"
   ]
  },
  {
   "cell_type": "code",
   "execution_count": null,
   "metadata": {},
   "outputs": [
    {
     "name": "stdout",
     "output_type": "stream",
     "text": [
      "Processing memberships data\n",
      "Salesforce: Writing 50 memberships objects to /Users/josephmann/Documents/Github/doubledot/sf_download/Membership__c.csv\n",
      "Salesforce: Writing 64 membership_terms objects to /Users/josephmann/Documents/Github/doubledot/sf_download/MembershipTerm__c.csv\n",
      "Salesforce: Writing 120 membership_members objects to /Users/josephmann/Documents/Github/doubledot/sf_download/MembershipMember__c.csv\n"
     ]
    }
   ],
   "source": [
    "sf.process_memberships()\n",
    "assert 'MembershipMember__c.csv' in Salesforce.list_files() , 'MembershipMember__c.csv not found in files'"
   ]
  },
  {
   "cell_type": "code",
   "execution_count": null,
   "metadata": {},
   "outputs": [
    {
     "name": "stdout",
     "output_type": "stream",
     "text": [
      "download dir is:  /Users/josephmann/Documents/Github/doubledot/atms_download/thy3x8b6\n",
      "resp_d = self.get_telus_data(contacts,offset=0, count= 50, since_date=2022-01-01)\n",
      "cleaning_data_file - download dir is:  /Users/josephmann/Documents/Github/doubledot/atms_download/thy3x8b6\n",
      "creating file:  /Users/josephmann/Documents/Github/doubledot/atms_download/thy3x8b6/atms_transformed_contacts.json\n",
      "Finished cleaning atms_contacts.json -> /Users/josephmann/Documents/Github/doubledot/atms_download/thy3x8b6/atms_transformed_contacts.json\n",
      "ATMS_api - Attempting to load:  /Users/josephmann/Documents/Github/doubledot/atms_download/thy3x8b6/atms_transformed_contacts.json  into dict\n",
      "ATMS_api: loaded 50 contacts into dict\n",
      "execute_job\n",
      "process_contacts\n",
      "Salesforce: Writing 50 'Contact' objects to /Users/josephmann/Documents/Github/doubledot/sf_download/Contact.csv\n",
      "Created job 7508Y00000mVV3uQAG for Contact with operation upsert\n",
      "Uploading job 7508Y00000mVV3uQAG of object Contact\n",
      "job status: UploadComplete\n",
      "waiting for job to complete, try 0, status: UploadComplete\n",
      "waiting for job to complete, try 1, status: InProgress\n",
      "waiting for job to complete, try 2, status: InProgress\n",
      "Failed results:\n",
      "\"sf__Id\"\t\"sf__Error\"\tLastName\tMailingPostalCode\tMailingCity\tMailingStreet\tMailingCountry\tPhone\tEmail\tExternal_Id__c\n",
      "\n"
     ]
    }
   ],
   "source": [
    "atms.retrieve_and_clean('contacts', max_rows=50, since_date='2022-01-01')\n",
    "sf.execute_job('Contact', operation='upsert')"
   ]
  },
  {
   "cell_type": "code",
   "execution_count": null,
   "metadata": {},
   "outputs": [],
   "source": [
    "# How delete all objects from Salesforce database (use with caution)\n",
    "# sf.delete_sf_objects('Contact')"
   ]
  },
  {
   "cell_type": "code",
   "execution_count": null,
   "metadata": {},
   "outputs": [],
   "source": [
    "\n",
    "atms.retrieve_and_clean('sales', max_rows=50, since_date='2022-01-01')"
   ]
  }
 ],
 "metadata": {
  "kernelspec": {
   "display_name": "vantix",
   "language": "python",
   "name": "python3"
  },
  "language_info": {
   "name": "python",
   "version": "3.11.3"
  }
 },
 "nbformat": 4,
 "nbformat_minor": 2
}
