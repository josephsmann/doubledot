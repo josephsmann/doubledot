{
 "cells": [
  {
   "attachments": {},
   "cell_type": "markdown",
   "metadata": {},
   "source": [
    "# Saleforce Test Code\n",
    "\n",
    "> This is a test code for Salesforce"
   ]
  },
  {
   "cell_type": "code",
   "execution_count": null,
   "metadata": {},
   "outputs": [],
   "source": [
    "%load_ext autoreload\n",
    "%autoreload 2"
   ]
  },
  {
   "cell_type": "code",
   "execution_count": null,
   "metadata": {},
   "outputs": [],
   "source": [
    "from doubledot import Salesforce\n",
    "from doubledot import ATMS_api\n",
    "import pandas as pd\n",
    "import os\n",
    "from fastcore.test import test_eq"
   ]
  },
  {
   "attachments": {},
   "cell_type": "markdown",
   "metadata": {},
   "source": [
    "## what needs to be done\n",
    "\n",
    "Currently, each `ATMS_api` object has its own data directory. `Salesforce` needs to know which director to use. Possible we could just pass it the `ATMS_api` object.\n",
    "\n",
    "- [ ] instantiate atms_api object, pass it to Salesforce, upload data, verify data, delete data\n",
    "- [ ] single row inserts ? (good for uploading nested data)\n",
    "\n"
   ]
  },
  {
   "cell_type": "code",
   "execution_count": null,
   "metadata": {},
   "outputs": [
    {
     "name": "stdout",
     "output_type": "stream",
     "text": [
      "Directory 'atms_download' already exists.\n",
      "Directory 'atms_download' already exists.\n",
      "my id is thy3x8b6\n"
     ]
    }
   ],
   "source": [
    "sf = Salesforce()\n",
    "atms = ATMS_api() \n",
    "sf.atms = atms"
   ]
  },
  {
   "cell_type": "code",
   "execution_count": null,
   "metadata": {},
   "outputs": [
    {
     "name": "stdout",
     "output_type": "stream",
     "text": [
      "download dir is:  /Users/josephmann/Documents/Github/doubledot/atms_download/thy3x8b6\n",
      "resp_d = self.get_telus_data(memberships,offset=0, count= 50, since_date=2022-01-01)\n",
      "cleaning_data_file - download dir is:  /Users/josephmann/Documents/Github/doubledot/atms_download/thy3x8b6\n",
      "creating file:  /Users/josephmann/Documents/Github/doubledot/atms_download/thy3x8b6/atms_transformed_memberships.json\n",
      "Finished cleaning atms_memberships.json -> /Users/josephmann/Documents/Github/doubledot/atms_download/thy3x8b6/atms_transformed_memberships.json\n",
      "ATMS_api - Attempting to load:  /Users/josephmann/Documents/Github/doubledot/atms_download/thy3x8b6/atms_transformed_memberships.json  into dict\n",
      "ATMS_api: loaded 50 memberships into dict\n"
     ]
    }
   ],
   "source": [
    "# atms.retrieve_and_clean('memberships', max_rows=50, since_date='2022-01-01')\n",
    "# # assert dirty file exists\n",
    "# test_eq(\n",
    "#     os.path.exists(\n",
    "#         os.path.join(\n",
    "#             atms.download_dir,'atms_memberships.json')), \n",
    "#             True)\n",
    "\n",
    "# # assert clean file exists\n",
    "# test_eq(os.path.exists(os.path.join(atms.download_dir,'atms_transformed_memberships.json')), True)\n",
    "\n",
    "# # assert obj_d['memberships']\n",
    "# assert('memberships' in atms.obj_d and len(atms.obj_d['memberships']) == 50)\n",
    "\n",
    "\n",
    "\n"
   ]
  },
  {
   "cell_type": "code",
   "execution_count": null,
   "metadata": {},
   "outputs": [],
   "source": [
    "# How delete all objects from Salesforce database (use with caution)\n",
    "# sf.delete_sf_objects('Contact')"
   ]
  }
 ],
 "metadata": {
  "kernelspec": {
   "display_name": "vantix",
   "language": "python",
   "name": "python3"
  },
  "language_info": {
   "name": "python",
   "version": "3.11.3"
  }
 },
 "nbformat": 4,
 "nbformat_minor": 2
}
