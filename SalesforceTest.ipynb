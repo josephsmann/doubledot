{
 "cells": [
  {
   "attachments": {},
   "cell_type": "markdown",
   "metadata": {},
   "source": [
    "# Saleforce Test Code\n",
    "\n",
    "> This is a test code for Salesforce"
   ]
  },
  {
   "cell_type": "code",
   "execution_count": 3,
   "metadata": {},
   "outputs": [],
   "source": [
    "from doubledot import Salesforce\n",
    "from doubledot import ATMS_api"
   ]
  },
  {
   "attachments": {},
   "cell_type": "markdown",
   "metadata": {},
   "source": [
    "## what needs to be done\n",
    "\n",
    "Currently, each `ATMS_api` object has its own data directory. `Salesforce` needs to know which director to use. Possible we could just pass it the `ATMS_api` object.\n",
    "\n",
    "- [ ] instantiate atms_api object, pass it to Salesforce, upload data, verify data, delete data\n",
    "- [ ] single row inserts ? (good for uploading nested data)\n",
    "\n"
   ]
  },
  {
   "cell_type": "code",
   "execution_count": 4,
   "metadata": {},
   "outputs": [
    {
     "name": "stdout",
     "output_type": "stream",
     "text": [
      "Directory 'atms_download' already exists.\n",
      "my id is 910l1dey\n"
     ]
    }
   ],
   "source": [
    "sf = Salesforce()\n",
    "atms = ATMS_api() "
   ]
  },
  {
   "cell_type": "code",
   "execution_count": 5,
   "metadata": {},
   "outputs": [
    {
     "name": "stdout",
     "output_type": "stream",
     "text": [
      "download dir is:  /Users/josephmann/Documents/Github/doubledot/atms_download/910l1dey\n",
      "resp_d = self.get_telus_data(contacts,offset=0, count= 50, since_date=2022-01-01)\n",
      "id is: 910l1dey\n"
     ]
    },
    {
     "data": {
      "text/plain": [
       "['atms_contacts.json']"
      ]
     },
     "execution_count": 5,
     "metadata": {},
     "output_type": "execute_result"
    }
   ],
   "source": [
    "atms.write_obj_to_file('contacts', max_rows=50, since_date='2022-01-01')\n",
    "atms.list_files()"
   ]
  },
  {
   "cell_type": "code",
   "execution_count": 6,
   "metadata": {},
   "outputs": [
    {
     "name": "stdout",
     "output_type": "stream",
     "text": [
      "Attempting to load:  /Users/josephmann/Documents/Github/doubledot/atms_download/910l1dey/atms_transformed_contacts.json\n",
      "File not found. Check that the dirty file is there\n",
      "found dirty file: /Users/josephmann/Documents/Github/doubledot/atms_download/910l1dey/atms_contacts.json\n",
      "cleaning_data_file - download dir is:  /Users/josephmann/Documents/Github/doubledot/atms_download/910l1dey\n",
      "creating file:  /Users/josephmann/Documents/Github/doubledot/atms_download/910l1dey/atms_transformed_contacts.json\n",
      "Finished cleaning atms_contacts.json -> /Users/josephmann/Documents/Github/doubledot/atms_download/910l1dey/atms_transformed_contacts.json\n",
      "id is: 910l1dey\n"
     ]
    },
    {
     "data": {
      "text/plain": [
       "['atms_contacts.json', 'atms_transformed_contacts.json']"
      ]
     },
     "execution_count": 6,
     "metadata": {},
     "output_type": "execute_result"
    }
   ],
   "source": [
    "atms.load_data_file_to_dict('contacts')\n",
    "atms.list_files()"
   ]
  },
  {
   "cell_type": "code",
   "execution_count": null,
   "metadata": {},
   "outputs": [],
   "source": [
    "sf.create_job(sf_object='Contact', operation='insert')\n",
    "\n",
    "sf.upload_batch('contacts.csv')"
   ]
  }
 ],
 "metadata": {
  "kernelspec": {
   "display_name": "vantix",
   "language": "python",
   "name": "python3"
  },
  "language_info": {
   "codemirror_mode": {
    "name": "ipython",
    "version": 3
   },
   "file_extension": ".py",
   "mimetype": "text/x-python",
   "name": "python",
   "nbconvert_exporter": "python",
   "pygments_lexer": "ipython3",
   "version": "3.11.3"
  }
 },
 "nbformat": 4,
 "nbformat_minor": 2
}
