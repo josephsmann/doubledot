{
 "cells": [
  {
   "attachments": {},
   "cell_type": "markdown",
   "metadata": {},
   "source": [
    "## Urgent Data \n",
    "> take 2.0"
   ]
  },
  {
   "cell_type": "code",
   "execution_count": null,
   "metadata": {},
   "outputs": [],
   "source": [
    "%load_ext autoreload\n",
    "%autoreload 2"
   ]
  },
  {
   "cell_type": "code",
   "execution_count": null,
   "metadata": {},
   "outputs": [],
   "source": [
    "from doubledot import *\n",
    "import pandas as pd\n",
    "from time import sleep\n",
    "import os\n",
    "import jmespath as jp"
   ]
  },
  {
   "cell_type": "code",
   "execution_count": null,
   "metadata": {},
   "outputs": [],
   "source": [
    "sf = Salesforce()"
   ]
  },
  {
   "cell_type": "code",
   "execution_count": null,
   "metadata": {},
   "outputs": [],
   "source": [
    "### Clean out old data ?\n",
    "# for table in Salesforce.model_d.keys():\n",
    "#     sf.delete_sf_objects(table)"
   ]
  },
  {
   "cell_type": "code",
   "execution_count": null,
   "metadata": {},
   "outputs": [
    {
     "name": "stdout",
     "output_type": "stream",
     "text": [
      "Directory 'atms_download' already exists.\n",
      "Directory 'atms_upload' already exists.\n",
      "fetch_data_by_contactIds : 175861\n",
      "we have contact_id 175861 and obj is sales\n",
      "http://crm-api-neaq.atmsplus.com/api/sales/contact/175861\n",
      "[{'saleKey': '6450070', 'saleAmount': '70.0000', 'paymentAmount': '70.0000', 'saleDate': '2023-05-29T12:55:40.85', 'active': True, 'terminalKey': 78, 'ticketCount': 2, 'eventDate': '2023-05-29T13:00:00', 'booking': {'bookingId': 1901565, 'bookingContactKey': 2519260, 'bookingContactType': 'Primary', 'contactKey': 175861, 'contactIndividualKey': 169321, 'contactOrganizationKey': 0, 'displayName': 'Cheung, David', 'firstName': 'David', 'lastName': 'Cheung', 'email': 'david.cheung@vantixsystems.com', 'phone': '7804210499'}, 'saleComment': None, 'saleDetails': [{'saleDetailId': 13544390, 'saleId': 6450070, 'itemKey': 55, 'scheduleKey': 255449, 'rateKey': 5, 'categoryKey': 4, 'itemQuantity': 2, 'pricingPriceKey': 10071, 'itemPrice': 34.0, 'itemTotal': 68.0, 'couponTotal': 0.0, 'discountTotal': 0.0, 'total': 68.0, 'revenueDate': '2023-05-29T13:00:00', 'refundReasonKey': None, 'systemPriceOverride': 'N', 'membershipTermKey': None, 'taxTotal': 0.0, 'surchargeTotal': 0.0, 'surchargeTaxTotal': 0.0, 'pendingShiftKey': 149162, 'pendingTerminalKey': 78, 'pendingDateTimeStamp': '2023-05-29T12:55:41.5', 'pendingUser': 'Admin', 'finalStatus': 1, 'finalShiftKey': 149162, 'finalTerminalKey': 78, 'finalDateTimeStamp': '2023-05-29T12:56:32.93', 'finalUser': 'Admin', 'refundQuantity': 0, 'firstScheduleDetailKey': 259855, 'itemDescription': 'Aquarium', 'rateDescription': 'Public', 'categoryDescription': 'Adult', 'scheduleDate': '2023-05-29T13:00:00'}, {'saleDetailId': 13544391, 'saleId': 6450070, 'itemKey': 604, 'scheduleKey': None, 'rateKey': 5, 'categoryKey': 48, 'itemQuantity': 1, 'pricingPriceKey': 9228, 'itemPrice': 2.0, 'itemTotal': 2.0, 'couponTotal': 0.0, 'discountTotal': 0.0, 'total': 2.0, 'revenueDate': '2023-05-29T12:56:33.353', 'refundReasonKey': None, 'systemPriceOverride': 'Y', 'membershipTermKey': None, 'taxTotal': 0.0, 'surchargeTotal': 0.0, 'surchargeTaxTotal': 0.0, 'pendingShiftKey': 149162, 'pendingTerminalKey': 78, 'pendingDateTimeStamp': '2023-05-29T12:56:20.71', 'pendingUser': 'Admin', 'finalStatus': 1, 'finalShiftKey': 149162, 'finalTerminalKey': 78, 'finalDateTimeStamp': '2023-05-29T12:56:33.353', 'finalUser': 'Admin', 'refundQuantity': 0, 'firstScheduleDetailKey': None, 'itemDescription': 'Round Sale Up', 'rateDescription': 'Public', 'categoryDescription': 'Item', 'scheduleDate': None}], 'tickets': [{'ticketKey': 19269564, 'saleKey': 6450070, 'saleDetailKey': 13544390, 'itemKey': 55, 'itemDescription': 'Aquarium', 'itemShort': None, 'itemType': None, 'scheduleKey': 255449, 'scheduleDate': '2023-05-29T13:00:00', 'facilityKey': 0, 'facilityDescription': None, 'facilityShort': None, 'ticketText': None, 'rate': 'Public', 'category': 'Adult', 'cancelled': None, 'redeemed': None, 'refunded': None, 'isValid': False, 'validationText': None, 'redeemedCount': 0, 'ticketDetailKey': 19270425, 'scheduleDetailKey': 259855, 'seats': 0, 'seatsSold': 0, 'totalTicketsScanned': 0, 'scheduleEndDate': '2023-05-29T14:20:00', 'ticketStatus': '', 'ticketDisplay': 'TT19269564', 'ticketSection': None, 'ticketRow': None, 'ticketSeat': None, 'ticketPrefix': 'TT', 'active': False, 'cancelable': False, 'contactIndividualKey': 169321, 'individualKey': 175861, 'individualName': 'Cheung, David', 'contactOrganizationKey': None, 'organizationKey': None, 'organizationName': None, 'reschedulable': False, 'rescheduleLead': None, 'rescheduleGrace': None, 'rescheduleCount': None, 'rescheduleLimitHours': None, 'comment': None, 'transferRequestKey': 0, 'recipientEmail': None}, {'ticketKey': 19269565, 'saleKey': 6450070, 'saleDetailKey': 13544390, 'itemKey': 55, 'itemDescription': 'Aquarium', 'itemShort': None, 'itemType': None, 'scheduleKey': 255449, 'scheduleDate': '2023-05-29T13:00:00', 'facilityKey': 0, 'facilityDescription': None, 'facilityShort': None, 'ticketText': None, 'rate': 'Public', 'category': 'Adult', 'cancelled': None, 'redeemed': None, 'refunded': None, 'isValid': False, 'validationText': None, 'redeemedCount': 0, 'ticketDetailKey': 19270426, 'scheduleDetailKey': 259855, 'seats': 0, 'seatsSold': 0, 'totalTicketsScanned': 0, 'scheduleEndDate': '2023-05-29T14:20:00', 'ticketStatus': '', 'ticketDisplay': 'TT19269565', 'ticketSection': None, 'ticketRow': None, 'ticketSeat': None, 'ticketPrefix': 'TT', 'active': False, 'cancelable': False, 'contactIndividualKey': 169321, 'individualKey': 175861, 'individualName': 'Cheung, David', 'contactOrganizationKey': None, 'organizationKey': None, 'organizationName': None, 'reschedulable': False, 'rescheduleLead': None, 'rescheduleGrace': None, 'rescheduleCount': None, 'rescheduleLimitHours': None, 'comment': None, 'transferRequestKey': 0, 'recipientEmail': None}]}]\n",
      "fetch_data_by_contactIds : 175861\n",
      "we have contact_id 175861 and obj is contacts\n",
      "we have contact_id and obj is contacts\n",
      "ATMS_api.get_telus_data :  http://crm-api-neaq.atmsplus.com/api/contacts/175861\n",
      "http://crm-api-neaq.atmsplus.com/api/contacts/175861\n",
      "{'contactId': 175861, 'contactType': 'Individual', 'username': 'dcheung', 'createdDate': '2011-05-16T21:08:43.723', 'updateDate': '2023-05-31T17:34:58.6', 'emailOptIn': 'N', 'mailOptIn': 'N', 'phoneOptIn': 'N', 'contactIndividualKey': 169321, 'firstName': 'David', 'lastName': 'Cheung', 'middleName': None, 'birthDate': '0001-01-01T00:00:00', 'contactOrganizationKey': 0, 'organizationName': None, 'addresses': [{'addressId': 161695, 'contactKey': 175861, 'addressType': 'Business', 'line1': '10119 97 Ave', 'line2': None, 'line3': None, 'country': 'Canada', 'province': 'AB', 'county': None, 'city': 'Edmonton', 'postalZipCode': 'T5K2T3'}], 'alerts': [], 'contactTypes': [], 'emails': [{'emailId': 97339, 'contactKey': 175861, 'emailType': 'E-Mail', 'address': 'david.cheung@vantixsystems.com'}], 'faxes': [], 'phones': [{'phoneId': 149425, 'contactKey': 175861, 'phoneType': 'Business', 'phoneNumber': '7804210499', 'extension': None}]}\n",
      "fetch_data_by_contactIds : 175861\n",
      "we have contact_id 175861 and obj is memberships\n",
      "http://crm-api-neaq.atmsplus.com/api/memberships/contact/175861\n",
      "[]\n",
      "File 'contacts.json' written successfully. to /Users/josephmann/Documents/Github/doubledot/atms_download/w6ld3prv\n",
      "File 'sales.json' written successfully. to /Users/josephmann/Documents/Github/doubledot/atms_download/w6ld3prv\n",
      "File 'memberships.json' written successfully. to /Users/josephmann/Documents/Github/doubledot/atms_download/w6ld3prv\n"
     ]
    },
    {
     "ename": "AssertionError",
     "evalue": "wrong number of objects in dictionary dict_keys(['contacts', 'sales', 'memberships'])",
     "output_type": "error",
     "traceback": [
      "\u001b[0;31m---------------------------------------------------------------------------\u001b[0m",
      "\u001b[0;31mAssertionError\u001b[0m                            Traceback (most recent call last)",
      "Cell \u001b[0;32mIn[11], line 11\u001b[0m\n\u001b[1;32m      8\u001b[0m sf\u001b[39m.\u001b[39mretrieve_atms_records_by_contactId(pelton_ids)\n\u001b[1;32m     10\u001b[0m \u001b[39m# number of objects in dictionary\u001b[39;00m\n\u001b[0;32m---> 11\u001b[0m \u001b[39massert\u001b[39;00m \u001b[39mlen\u001b[39m(sf\u001b[39m.\u001b[39matms\u001b[39m.\u001b[39mobj_d) \u001b[39m==\u001b[39m \u001b[39mlen\u001b[39m([\u001b[39m'\u001b[39m\u001b[39msales\u001b[39m\u001b[39m'\u001b[39m, \u001b[39m'\u001b[39m\u001b[39mcontacts\u001b[39m\u001b[39m'\u001b[39m, \u001b[39m'\u001b[39m\u001b[39mmemberships\u001b[39m\u001b[39m'\u001b[39m,\u001b[39m'\u001b[39m\u001b[39mitems\u001b[39m\u001b[39m'\u001b[39m]), \u001b[39mf\u001b[39m\u001b[39m\"\u001b[39m\u001b[39mwrong number of objects in dictionary \u001b[39m\u001b[39m{\u001b[39;00msf\u001b[39m.\u001b[39matms\u001b[39m.\u001b[39mobj_d\u001b[39m.\u001b[39mkeys()\u001b[39m}\u001b[39;00m\u001b[39m\"\u001b[39m\n\u001b[1;32m     12\u001b[0m \u001b[39m# number of files in directory\u001b[39;00m\n\u001b[1;32m     13\u001b[0m \u001b[39massert\u001b[39;00m \u001b[39mlen\u001b[39m(os\u001b[39m.\u001b[39mlistdir(sf\u001b[39m.\u001b[39matms\u001b[39m.\u001b[39mdownload_dir)) \u001b[39m==\u001b[39m \u001b[39mlen\u001b[39m([\u001b[39m'\u001b[39m\u001b[39msales\u001b[39m\u001b[39m'\u001b[39m, \u001b[39m'\u001b[39m\u001b[39mcontacts\u001b[39m\u001b[39m'\u001b[39m, \u001b[39m'\u001b[39m\u001b[39mmemberships\u001b[39m\u001b[39m'\u001b[39m,\u001b[39m'\u001b[39m\u001b[39mitems\u001b[39m\u001b[39m'\u001b[39m]), \u001b[39mf\u001b[39m\u001b[39m\"\u001b[39m\u001b[39mwrong number of files in directory \u001b[39m\u001b[39m{\u001b[39;00msf\u001b[39m.\u001b[39matms\u001b[39m.\u001b[39mdownload_dir\u001b[39m}\u001b[39;00m\u001b[39m\"\u001b[39m\n",
      "\u001b[0;31mAssertionError\u001b[0m: wrong number of objects in dictionary dict_keys(['contacts', 'sales', 'memberships'])"
     ]
    }
   ],
   "source": [
    "#| eval: false\n",
    "\n",
    "\n",
    "# 415645 73012 105765 and 342765 are also good contacts to bring in when you are rea and organization 133156\n",
    "pelton_ids = [ 4708, 119430, 119431, 144164,144165, 144166, 144167, 415645, 73012, 105765, 342765 ]\n",
    "pelton_ids = [ 105, 867869, 774081, 380046, 793444, 868245, 785719, 543385 ]\n",
    "pelton_ids = [ 175861 ]\n",
    "sf.retrieve_atms_records_by_contactId(pelton_ids)\n",
    "\n",
    "# number of objects in dictionary\n",
    "assert len(sf.atms.obj_d) == len(['sales', 'contacts', 'memberships','items']), f\"wrong number of objects in dictionary {sf.atms.obj_d.keys()}\"\n",
    "# number of files in directory\n",
    "assert len(os.listdir(sf.atms.download_dir)) == len(['sales', 'contacts', 'memberships','items']), f\"wrong number of files in directory {sf.atms.download_dir}\"\n",
    "\n"
   ]
  },
  {
   "cell_type": "code",
   "execution_count": null,
   "metadata": {},
   "outputs": [
    {
     "data": {
      "text/html": [
       "<div>\n",
       "<style scoped>\n",
       "    .dataframe tbody tr th:only-of-type {\n",
       "        vertical-align: middle;\n",
       "    }\n",
       "\n",
       "    .dataframe tbody tr th {\n",
       "        vertical-align: top;\n",
       "    }\n",
       "\n",
       "    .dataframe thead th {\n",
       "        text-align: right;\n",
       "    }\n",
       "</style>\n",
       "<table border=\"1\" class=\"dataframe\">\n",
       "  <thead>\n",
       "    <tr style=\"text-align: right;\">\n",
       "      <th></th>\n",
       "      <th>LastName</th>\n",
       "      <th>FirstName</th>\n",
       "      <th>MailingPostalCode</th>\n",
       "      <th>MailingCity</th>\n",
       "      <th>MailingStreet</th>\n",
       "      <th>MailingCountry</th>\n",
       "      <th>Phone</th>\n",
       "      <th>Email</th>\n",
       "      <th>contactId__c</th>\n",
       "    </tr>\n",
       "  </thead>\n",
       "  <tbody>\n",
       "    <tr>\n",
       "      <th>0</th>\n",
       "      <td>Cheung</td>\n",
       "      <td>David</td>\n",
       "      <td>T5K2T3</td>\n",
       "      <td>Edmonton</td>\n",
       "      <td>10119 97 Ave</td>\n",
       "      <td>Canada</td>\n",
       "      <td>7804210499</td>\n",
       "      <td>david.cheung@vantixsystems.com</td>\n",
       "      <td>175861</td>\n",
       "    </tr>\n",
       "  </tbody>\n",
       "</table>\n",
       "</div>"
      ],
      "text/plain": [
       "  LastName FirstName MailingPostalCode MailingCity MailingStreet   \n",
       "0   Cheung     David            T5K2T3    Edmonton  10119 97 Ave  \\\n",
       "\n",
       "  MailingCountry       Phone                           Email  contactId__c  \n",
       "0         Canada  7804210499  david.cheung@vantixsystems.com        175861  "
      ]
     },
     "execution_count": null,
     "metadata": {},
     "output_type": "execute_result"
    }
   ],
   "source": [
    "search_s = \"[].{LastName: lastName,\\\n",
    "        FirstName: firstName,\\\n",
    "        MailingPostalCode: addresses[0].postalZipCode,\\\n",
    "        MailingCity: addresses[0].city,\\\n",
    "        MailingStreet: addresses[0].line1, \\\n",
    "        MailingCountry: addresses[0].country, \\\n",
    "        Phone: phones[?phoneType == 'Business'].phoneNumber | [0],\\\n",
    "        Email: emails[0].address,\\\n",
    "        contactId__c: contactId}\"\n",
    "\n",
    "dict_l = jp.search(search_s, sf.atms.obj_d['contacts'])\n",
    "df = pd.DataFrame(dict_l)\n",
    "df"
   ]
  },
  {
   "attachments": {},
   "cell_type": "markdown",
   "metadata": {},
   "source": [
    "## Primary Test Method"
   ]
  },
  {
   "cell_type": "code",
   "execution_count": null,
   "metadata": {},
   "outputs": [
    {
     "name": "stdout",
     "output_type": "stream",
     "text": [
      "Directory 'atms_download' already exists.\n",
      "Directory 'atms_upload' already exists.\n",
      "Deleting Contact objects from Salesforce\n",
      "Retrieving Object Ids for Contact from Salesforce\n",
      "total number of objects =  15\n",
      "In Salesforce.delete_sf_objects: Deleting 15 Contact objects using /Users/josephmann/Documents/Github/doubledot/sf_download/Contact.csv\n",
      "execute_job\n",
      "Created job 7508Y00000nJIQuQAO for Contact with operation delete\n",
      "Uploading job 7508Y00000nJIQuQAO of object Contact\n",
      "Uploaded job 7508Y00000nJIQuQAO of object Contact with status 201\n",
      "response.text : \n",
      " : \n",
      "close_job response.text :\n",
      " {\"id\":\"7508Y00000nJIQuQAO\",\"operation\":\"delete\",\"object\":\"Contact\",\"createdById\":\"0058Y00000CIEn9QAH\",\"createdDate\":\"2023-06-01T18:03:54.000+0000\",\"systemModstamp\":\"2023-06-01T18:03:54.000+0000\",\"state\":\"UploadComplete\",\"concurrencyMode\":\"Parallel\",\"contentType\":\"CSV\",\"apiVersion\":57.0}\n",
      "pre loop job status: {'id': '7508Y00000nJIQuQAO', 'operation': 'delete', 'object': 'Contact', 'createdById': '0058Y00000CIEn9QAH', 'createdDate': '2023-06-01T18:03:54.000+0000', 'systemModstamp': '2023-06-01T18:03:57.000+0000', 'state': 'InProgress', 'concurrencyMode': 'Parallel', 'contentType': 'CSV', 'apiVersion': 57.0, 'jobType': 'V2Ingest', 'lineEnding': 'LF', 'columnDelimiter': 'TAB', 'numberRecordsProcessed': 0, 'numberRecordsFailed': 0, 'retries': 0, 'totalProcessingTime': 0, 'apiActiveProcessingTime': 0, 'apexProcessingTime': 0}\n",
      "waiting for job to complete, try 0\n",
      "waiting status: {'id': '7508Y00000nJIQuQAO', 'operation': 'delete', 'object': 'Contact', 'createdById': '0058Y00000CIEn9QAH', 'createdDate': '2023-06-01T18:03:54.000+0000', 'systemModstamp': '2023-06-01T18:03:57.000+0000', 'state': 'InProgress', 'concurrencyMode': 'Parallel', 'contentType': 'CSV', 'apiVersion': 57.0, 'jobType': 'V2Ingest', 'lineEnding': 'LF', 'columnDelimiter': 'TAB', 'numberRecordsProcessed': 0, 'numberRecordsFailed': 0, 'retries': 0, 'totalProcessingTime': 0, 'apiActiveProcessingTime': 0, 'apexProcessingTime': 0}\n",
      "waiting for job to complete, try 1\n",
      "waiting status: {'id': '7508Y00000nJIQuQAO', 'operation': 'delete', 'object': 'Contact', 'createdById': '0058Y00000CIEn9QAH', 'createdDate': '2023-06-01T18:03:54.000+0000', 'systemModstamp': '2023-06-01T18:04:05.000+0000', 'state': 'JobComplete', 'concurrencyMode': 'Parallel', 'contentType': 'CSV', 'apiVersion': 57.0, 'jobType': 'V2Ingest', 'lineEnding': 'LF', 'columnDelimiter': 'TAB', 'numberRecordsProcessed': 15, 'numberRecordsFailed': 15, 'retries': 0, 'totalProcessingTime': 623, 'apiActiveProcessingTime': 546, 'apexProcessingTime': 0}\n",
      "post loop job status: {'id': '7508Y00000nJIQuQAO', 'operation': 'delete', 'object': 'Contact', 'createdById': '0058Y00000CIEn9QAH', 'createdDate': '2023-06-01T18:03:54.000+0000', 'systemModstamp': '2023-06-01T18:04:05.000+0000', 'state': 'JobComplete', 'concurrencyMode': 'Parallel', 'contentType': 'CSV', 'apiVersion': 57.0, 'jobType': 'V2Ingest', 'lineEnding': 'LF', 'columnDelimiter': 'TAB', 'numberRecordsProcessed': 15, 'numberRecordsFailed': 15, 'retries': 0, 'totalProcessingTime': 623, 'apiActiveProcessingTime': 546, 'apexProcessingTime': 0}\n",
      "Failed results (if any):\n",
      "\"sf__Id\"\t\"sf__Error\"\tId\n",
      "\"0038Y00003bx8WPQAY\"\t\"DELETE_FAILED:Your attempt to delete Ms. Rose Gonzalez could not be completed because it is associated with the following cases.: 00001000\n",
      ":--\"\t\"0038Y00003bx8WPQAY\"\n",
      "\"0038Y00003bx8WQQAY\"\t\"DELETE_FAILED:Your attempt to delete Mr. Sean Forbes could not be completed because it is associated with the following cases.: 00001017, 00001018\n",
      ":--\"\t\"0038Y00003bx8WQQAY\"\n",
      "\"0038Y00003bx8WRQAY\"\t\"DELETE_FAILED:Your attempt to delete Mr. Jack Rogers could not be completed because it is associated with the following cases.: 00001019, 00001020\n",
      ":--\"\t\"0038Y00003bx8WRQAY\"\n",
      "\"0038Y00003bx8WUQAY\"\t\"DELETE_FAILED:Your attempt to delete Mr. Tim Barr could not be completed because it is associated with the following cases.: 00001007, 00001008\n",
      ":--\"\t\"0038Y00003bx8WUQAY\"\n",
      "\"0038Y00003bx8WVQAY\"\t\"DELETE_FAILED:Your attempt to delete Mr. John Bond could not be completed because it is associated with the following cases.: 00001013, 00001014\n",
      ":--\"\t\"0038Y00003bx8WVQAY\"\n",
      "\"0038Y00003bx8WWQAY\"\t\"DELETE_FAILED:Your attempt to delete Ms. Stella Pavlova could not be completed because it is associated with the following cases.: 00001002, 00001021, 00001022, 00001023\n",
      ":--\"\t\"0038Y00003bx8WWQAY\"\n",
      "\"0038Y00003bx8WXQAY\"\t\"DELETE_FAILED:Your attempt to delete Ms. Lauren Boyle could not be completed because it is associated with the following cases.: 00001024, 00001025\n",
      ":--\"\t\"0038Y00003bx8WXQAY\"\n",
      "\"0038Y00003bx8WYQAY\"\t\"DELETE_FAILED:Your attempt to delete Ms. Babara Levy could not be completed because it is associated with the following cases.: 00001003, 00001004\n",
      ":--\"\t\"0038Y00003bx8WYQAY\"\n",
      "\"0038Y00003bx8WZQAY\"\t\"DELETE_FAILED:Your attempt to delete Mr. Josh Davis could not be completed because it is associated with the following cases.: 00001005\n",
      ":--\"\t\"0038Y00003bx8WZQAY\"\n",
      "\"0038Y00003bx8WaQAI\"\t\"DELETE_FAILED:Your attempt to delete Ms. Jane Grey could not be completed because it is associated with the following cases.: 00001012\n",
      ":--\"\t\"0038Y00003bx8WaQAI\"\n",
      "\"0038Y00003bx8WcQAI\"\t\"DELETE_FAILED:Your attempt to delete Ms. Ashley James could not be completed because it is associated with the following cases.: 00001009\n",
      ":--\"\t\"0038Y00003bx8WcQAI\"\n",
      "\"0038Y00003bx8WdQAI\"\t\"DELETE_FAILED:Your attempt to delete Mr. Tom Ripley could not be completed because it is associated with the following cases.: 00001010\n",
      ":--\"\t\"0038Y00003bx8WdQAI\"\n",
      "\"0038Y00003bx8WeQAI\"\t\"DELETE_FAILED:Your attempt to delete Ms. Liz D'Cruz could not be completed because it is associated with the following cases.: 00001011, 00001015\n",
      ":--\"\t\"0038Y00003bx8WeQAI\"\n",
      "\"0038Y00003bx8WfQAI\"\t\"DELETE_FAILED:Your attempt to delete Ms. Edna Frank could not be completed because it is associated with the following cases.: 00001006, 00001016\n",
      ":--\"\t\"0038Y00003bx8WfQAI\"\n",
      "\"0038Y00003bx8WgQAI\"\t\"DELETE_FAILED:Your attempt to delete Mr. Avi Green could not be completed because it is associated with the following cases.: 00001001\n",
      ":--\"\t\"0038Y00003bx8WgQAI\"\n",
      "\n",
      "\n",
      "\n",
      " Successful results (if any):\n",
      "\"sf__Id\"\t\"sf__Created\"\tId\n",
      "\n",
      "Deleting Membership__c objects from Salesforce\n",
      "Retrieving Object Ids for Membership__c from Salesforce\n",
      "total number of objects =  0\n",
      "In Salesforce.delete_sf_objects: Deleting 0 Membership__c objects using /Users/josephmann/Documents/Github/doubledot/sf_download/Membership__c.csv\n",
      "execute_job\n",
      "Created job 7508Y00000nJIREQA4 for Membership__c with operation delete\n",
      "Uploading job 7508Y00000nJIREQA4 of object Membership__c\n",
      "Uploaded job 7508Y00000nJIREQA4 of object Membership__c with status 201\n",
      "response.text : \n",
      " : \n",
      "close_job response.text :\n",
      " {\"id\":\"7508Y00000nJIREQA4\",\"operation\":\"delete\",\"object\":\"Membership__c\",\"createdById\":\"0058Y00000CIEn9QAH\",\"createdDate\":\"2023-06-01T18:04:15.000+0000\",\"systemModstamp\":\"2023-06-01T18:04:15.000+0000\",\"state\":\"UploadComplete\",\"concurrencyMode\":\"Parallel\",\"contentType\":\"CSV\",\"apiVersion\":57.0}\n",
      "pre loop job status: {'id': '7508Y00000nJIREQA4', 'operation': 'delete', 'object': 'Membership__c', 'createdById': '0058Y00000CIEn9QAH', 'createdDate': '2023-06-01T18:04:15.000+0000', 'systemModstamp': '2023-06-01T18:04:18.000+0000', 'state': 'JobComplete', 'concurrencyMode': 'Parallel', 'contentType': 'CSV', 'apiVersion': 57.0, 'jobType': 'V2Ingest', 'lineEnding': 'LF', 'columnDelimiter': 'TAB', 'numberRecordsProcessed': 0, 'numberRecordsFailed': 0, 'retries': 0, 'totalProcessingTime': 0, 'apiActiveProcessingTime': 0, 'apexProcessingTime': 0}\n",
      "post loop job status: {'id': '7508Y00000nJIREQA4', 'operation': 'delete', 'object': 'Membership__c', 'createdById': '0058Y00000CIEn9QAH', 'createdDate': '2023-06-01T18:04:15.000+0000', 'systemModstamp': '2023-06-01T18:04:18.000+0000', 'state': 'JobComplete', 'concurrencyMode': 'Parallel', 'contentType': 'CSV', 'apiVersion': 57.0, 'jobType': 'V2Ingest', 'lineEnding': 'LF', 'columnDelimiter': 'TAB', 'numberRecordsProcessed': 0, 'numberRecordsFailed': 0, 'retries': 0, 'totalProcessingTime': 0, 'apiActiveProcessingTime': 0, 'apexProcessingTime': 0}\n",
      "Failed results (if any):\n",
      "\"sf__Id\"\t\"sf__Error\"\tId\n",
      "\n",
      "\n",
      "\n",
      " Successful results (if any):\n",
      "\"sf__Id\"\t\"sf__Created\"\tId\n",
      "\n",
      "Deleting MembershipTerm__c objects from Salesforce\n",
      "Retrieving Object Ids for MembershipTerm__c from Salesforce\n",
      "total number of objects =  0\n",
      "In Salesforce.delete_sf_objects: Deleting 0 MembershipTerm__c objects using /Users/josephmann/Documents/Github/doubledot/sf_download/MembershipTerm__c.csv\n",
      "execute_job\n",
      "Created job 7508Y00000nJIROQA4 for MembershipTerm__c with operation delete\n",
      "Uploading job 7508Y00000nJIROQA4 of object MembershipTerm__c\n",
      "Uploaded job 7508Y00000nJIROQA4 of object MembershipTerm__c with status 201\n",
      "response.text : \n",
      " : \n",
      "close_job response.text :\n",
      " {\"id\":\"7508Y00000nJIROQA4\",\"operation\":\"delete\",\"object\":\"MembershipTerm__c\",\"createdById\":\"0058Y00000CIEn9QAH\",\"createdDate\":\"2023-06-01T18:04:24.000+0000\",\"systemModstamp\":\"2023-06-01T18:04:24.000+0000\",\"state\":\"UploadComplete\",\"concurrencyMode\":\"Parallel\",\"contentType\":\"CSV\",\"apiVersion\":57.0}\n",
      "pre loop job status: {'id': '7508Y00000nJIROQA4', 'operation': 'delete', 'object': 'MembershipTerm__c', 'createdById': '0058Y00000CIEn9QAH', 'createdDate': '2023-06-01T18:04:24.000+0000', 'systemModstamp': '2023-06-01T18:04:27.000+0000', 'state': 'JobComplete', 'concurrencyMode': 'Parallel', 'contentType': 'CSV', 'apiVersion': 57.0, 'jobType': 'V2Ingest', 'lineEnding': 'LF', 'columnDelimiter': 'TAB', 'numberRecordsProcessed': 0, 'numberRecordsFailed': 0, 'retries': 0, 'totalProcessingTime': 0, 'apiActiveProcessingTime': 0, 'apexProcessingTime': 0}\n",
      "post loop job status: {'id': '7508Y00000nJIROQA4', 'operation': 'delete', 'object': 'MembershipTerm__c', 'createdById': '0058Y00000CIEn9QAH', 'createdDate': '2023-06-01T18:04:24.000+0000', 'systemModstamp': '2023-06-01T18:04:27.000+0000', 'state': 'JobComplete', 'concurrencyMode': 'Parallel', 'contentType': 'CSV', 'apiVersion': 57.0, 'jobType': 'V2Ingest', 'lineEnding': 'LF', 'columnDelimiter': 'TAB', 'numberRecordsProcessed': 0, 'numberRecordsFailed': 0, 'retries': 0, 'totalProcessingTime': 0, 'apiActiveProcessingTime': 0, 'apexProcessingTime': 0}\n",
      "Failed results (if any):\n",
      "\"sf__Id\"\t\"sf__Error\"\tId\n",
      "\n",
      "\n",
      "\n",
      " Successful results (if any):\n",
      "\"sf__Id\"\t\"sf__Created\"\tId\n",
      "\n",
      "Deleting MembershipMember__c objects from Salesforce\n",
      "Retrieving Object Ids for MembershipMember__c from Salesforce\n",
      "total number of objects =  0\n",
      "In Salesforce.delete_sf_objects: Deleting 0 MembershipMember__c objects using /Users/josephmann/Documents/Github/doubledot/sf_download/MembershipMember__c.csv\n",
      "execute_job\n",
      "Created job 7508Y00000nJIRTQA4 for MembershipMember__c with operation delete\n",
      "Uploading job 7508Y00000nJIRTQA4 of object MembershipMember__c\n",
      "Uploaded job 7508Y00000nJIRTQA4 of object MembershipMember__c with status 201\n",
      "response.text : \n",
      " : \n",
      "close_job response.text :\n",
      " {\"id\":\"7508Y00000nJIRTQA4\",\"operation\":\"delete\",\"object\":\"MembershipMember__c\",\"createdById\":\"0058Y00000CIEn9QAH\",\"createdDate\":\"2023-06-01T18:04:33.000+0000\",\"systemModstamp\":\"2023-06-01T18:04:33.000+0000\",\"state\":\"UploadComplete\",\"concurrencyMode\":\"Parallel\",\"contentType\":\"CSV\",\"apiVersion\":57.0}\n",
      "pre loop job status: {'id': '7508Y00000nJIRTQA4', 'operation': 'delete', 'object': 'MembershipMember__c', 'createdById': '0058Y00000CIEn9QAH', 'createdDate': '2023-06-01T18:04:33.000+0000', 'systemModstamp': '2023-06-01T18:04:36.000+0000', 'state': 'JobComplete', 'concurrencyMode': 'Parallel', 'contentType': 'CSV', 'apiVersion': 57.0, 'jobType': 'V2Ingest', 'lineEnding': 'LF', 'columnDelimiter': 'TAB', 'numberRecordsProcessed': 0, 'numberRecordsFailed': 0, 'retries': 0, 'totalProcessingTime': 0, 'apiActiveProcessingTime': 0, 'apexProcessingTime': 0}\n",
      "post loop job status: {'id': '7508Y00000nJIRTQA4', 'operation': 'delete', 'object': 'MembershipMember__c', 'createdById': '0058Y00000CIEn9QAH', 'createdDate': '2023-06-01T18:04:33.000+0000', 'systemModstamp': '2023-06-01T18:04:36.000+0000', 'state': 'JobComplete', 'concurrencyMode': 'Parallel', 'contentType': 'CSV', 'apiVersion': 57.0, 'jobType': 'V2Ingest', 'lineEnding': 'LF', 'columnDelimiter': 'TAB', 'numberRecordsProcessed': 0, 'numberRecordsFailed': 0, 'retries': 0, 'totalProcessingTime': 0, 'apiActiveProcessingTime': 0, 'apexProcessingTime': 0}\n",
      "Failed results (if any):\n",
      "\"sf__Id\"\t\"sf__Error\"\tId\n",
      "\n",
      "\n",
      "\n",
      " Successful results (if any):\n",
      "\"sf__Id\"\t\"sf__Created\"\tId\n",
      "\n",
      "Deleting Sale__c objects from Salesforce\n",
      "Retrieving Object Ids for Sale__c from Salesforce\n",
      "total number of objects =  0\n",
      "In Salesforce.delete_sf_objects: Deleting 0 Sale__c objects using /Users/josephmann/Documents/Github/doubledot/sf_download/Sale__c.csv\n",
      "execute_job\n",
      "Created job 7508Y00000nJIRYQA4 for Sale__c with operation delete\n",
      "Uploading job 7508Y00000nJIRYQA4 of object Sale__c\n",
      "Uploaded job 7508Y00000nJIRYQA4 of object Sale__c with status 201\n",
      "response.text : \n",
      " : \n",
      "close_job response.text :\n",
      " {\"id\":\"7508Y00000nJIRYQA4\",\"operation\":\"delete\",\"object\":\"Sale__c\",\"createdById\":\"0058Y00000CIEn9QAH\",\"createdDate\":\"2023-06-01T18:04:43.000+0000\",\"systemModstamp\":\"2023-06-01T18:04:43.000+0000\",\"state\":\"UploadComplete\",\"concurrencyMode\":\"Parallel\",\"contentType\":\"CSV\",\"apiVersion\":57.0}\n",
      "pre loop job status: {'id': '7508Y00000nJIRYQA4', 'operation': 'delete', 'object': 'Sale__c', 'createdById': '0058Y00000CIEn9QAH', 'createdDate': '2023-06-01T18:04:43.000+0000', 'systemModstamp': '2023-06-01T18:04:46.000+0000', 'state': 'JobComplete', 'concurrencyMode': 'Parallel', 'contentType': 'CSV', 'apiVersion': 57.0, 'jobType': 'V2Ingest', 'lineEnding': 'LF', 'columnDelimiter': 'TAB', 'numberRecordsProcessed': 0, 'numberRecordsFailed': 0, 'retries': 0, 'totalProcessingTime': 0, 'apiActiveProcessingTime': 0, 'apexProcessingTime': 0}\n",
      "post loop job status: {'id': '7508Y00000nJIRYQA4', 'operation': 'delete', 'object': 'Sale__c', 'createdById': '0058Y00000CIEn9QAH', 'createdDate': '2023-06-01T18:04:43.000+0000', 'systemModstamp': '2023-06-01T18:04:46.000+0000', 'state': 'JobComplete', 'concurrencyMode': 'Parallel', 'contentType': 'CSV', 'apiVersion': 57.0, 'jobType': 'V2Ingest', 'lineEnding': 'LF', 'columnDelimiter': 'TAB', 'numberRecordsProcessed': 0, 'numberRecordsFailed': 0, 'retries': 0, 'totalProcessingTime': 0, 'apiActiveProcessingTime': 0, 'apexProcessingTime': 0}\n",
      "Failed results (if any):\n",
      "\"sf__Id\"\t\"sf__Error\"\tId\n",
      "\n",
      "\n",
      "\n",
      " Successful results (if any):\n",
      "\"sf__Id\"\t\"sf__Created\"\tId\n",
      "\n",
      "Deleting SaleDetail__c objects from Salesforce\n",
      "Retrieving Object Ids for SaleDetail__c from Salesforce\n",
      "total number of objects =  0\n",
      "In Salesforce.delete_sf_objects: Deleting 0 SaleDetail__c objects using /Users/josephmann/Documents/Github/doubledot/sf_download/SaleDetail__c.csv\n",
      "execute_job\n",
      "Created job 7508Y00000nJIRdQAO for SaleDetail__c with operation delete\n",
      "Uploading job 7508Y00000nJIRdQAO of object SaleDetail__c\n",
      "Uploaded job 7508Y00000nJIRdQAO of object SaleDetail__c with status 201\n",
      "response.text : \n",
      " : \n",
      "close_job response.text :\n",
      " {\"id\":\"7508Y00000nJIRdQAO\",\"operation\":\"delete\",\"object\":\"SaleDetail__c\",\"createdById\":\"0058Y00000CIEn9QAH\",\"createdDate\":\"2023-06-01T18:04:52.000+0000\",\"systemModstamp\":\"2023-06-01T18:04:52.000+0000\",\"state\":\"UploadComplete\",\"concurrencyMode\":\"Parallel\",\"contentType\":\"CSV\",\"apiVersion\":57.0}\n",
      "pre loop job status: {'id': '7508Y00000nJIRdQAO', 'operation': 'delete', 'object': 'SaleDetail__c', 'createdById': '0058Y00000CIEn9QAH', 'createdDate': '2023-06-01T18:04:52.000+0000', 'systemModstamp': '2023-06-01T18:04:55.000+0000', 'state': 'JobComplete', 'concurrencyMode': 'Parallel', 'contentType': 'CSV', 'apiVersion': 57.0, 'jobType': 'V2Ingest', 'lineEnding': 'LF', 'columnDelimiter': 'TAB', 'numberRecordsProcessed': 0, 'numberRecordsFailed': 0, 'retries': 0, 'totalProcessingTime': 0, 'apiActiveProcessingTime': 0, 'apexProcessingTime': 0}\n",
      "post loop job status: {'id': '7508Y00000nJIRdQAO', 'operation': 'delete', 'object': 'SaleDetail__c', 'createdById': '0058Y00000CIEn9QAH', 'createdDate': '2023-06-01T18:04:52.000+0000', 'systemModstamp': '2023-06-01T18:04:55.000+0000', 'state': 'JobComplete', 'concurrencyMode': 'Parallel', 'contentType': 'CSV', 'apiVersion': 57.0, 'jobType': 'V2Ingest', 'lineEnding': 'LF', 'columnDelimiter': 'TAB', 'numberRecordsProcessed': 0, 'numberRecordsFailed': 0, 'retries': 0, 'totalProcessingTime': 0, 'apiActiveProcessingTime': 0, 'apexProcessingTime': 0}\n",
      "Failed results (if any):\n",
      "\"sf__Id\"\t\"sf__Error\"\tId\n",
      "\n",
      "\n",
      "\n",
      " Successful results (if any):\n",
      "\"sf__Id\"\t\"sf__Created\"\tId\n",
      "\n",
      "Deleting Ticket__c objects from Salesforce\n",
      "Retrieving Object Ids for Ticket__c from Salesforce\n",
      "total number of objects =  0\n",
      "In Salesforce.delete_sf_objects: Deleting 0 Ticket__c objects using /Users/josephmann/Documents/Github/doubledot/sf_download/Ticket__c.csv\n",
      "execute_job\n",
      "Created job 7508Y00000nJIRnQAO for Ticket__c with operation delete\n",
      "Uploading job 7508Y00000nJIRnQAO of object Ticket__c\n",
      "Uploaded job 7508Y00000nJIRnQAO of object Ticket__c with status 201\n",
      "response.text : \n",
      " : \n",
      "close_job response.text :\n",
      " {\"id\":\"7508Y00000nJIRnQAO\",\"operation\":\"delete\",\"object\":\"Ticket__c\",\"createdById\":\"0058Y00000CIEn9QAH\",\"createdDate\":\"2023-06-01T18:05:01.000+0000\",\"systemModstamp\":\"2023-06-01T18:05:01.000+0000\",\"state\":\"UploadComplete\",\"concurrencyMode\":\"Parallel\",\"contentType\":\"CSV\",\"apiVersion\":57.0}\n",
      "pre loop job status: {'id': '7508Y00000nJIRnQAO', 'operation': 'delete', 'object': 'Ticket__c', 'createdById': '0058Y00000CIEn9QAH', 'createdDate': '2023-06-01T18:05:01.000+0000', 'systemModstamp': '2023-06-01T18:05:03.000+0000', 'state': 'UploadComplete', 'concurrencyMode': 'Parallel', 'contentType': 'CSV', 'apiVersion': 57.0, 'jobType': 'V2Ingest', 'lineEnding': 'LF', 'columnDelimiter': 'TAB', 'numberRecordsProcessed': 0, 'numberRecordsFailed': 0, 'retries': 0, 'totalProcessingTime': 0, 'apiActiveProcessingTime': 0, 'apexProcessingTime': 0}\n",
      "waiting for job to complete, try 0\n",
      "waiting status: {'id': '7508Y00000nJIRnQAO', 'operation': 'delete', 'object': 'Ticket__c', 'createdById': '0058Y00000CIEn9QAH', 'createdDate': '2023-06-01T18:05:01.000+0000', 'systemModstamp': '2023-06-01T18:05:03.000+0000', 'state': 'UploadComplete', 'concurrencyMode': 'Parallel', 'contentType': 'CSV', 'apiVersion': 57.0, 'jobType': 'V2Ingest', 'lineEnding': 'LF', 'columnDelimiter': 'TAB', 'numberRecordsProcessed': 0, 'numberRecordsFailed': 0, 'retries': 0, 'totalProcessingTime': 0, 'apiActiveProcessingTime': 0, 'apexProcessingTime': 0}\n",
      "waiting for job to complete, try 1\n",
      "waiting status: {'id': '7508Y00000nJIRnQAO', 'operation': 'delete', 'object': 'Ticket__c', 'createdById': '0058Y00000CIEn9QAH', 'createdDate': '2023-06-01T18:05:01.000+0000', 'systemModstamp': '2023-06-01T18:05:03.000+0000', 'state': 'UploadComplete', 'concurrencyMode': 'Parallel', 'contentType': 'CSV', 'apiVersion': 57.0, 'jobType': 'V2Ingest', 'lineEnding': 'LF', 'columnDelimiter': 'TAB', 'numberRecordsProcessed': 0, 'numberRecordsFailed': 0, 'retries': 0, 'totalProcessingTime': 0, 'apiActiveProcessingTime': 0, 'apexProcessingTime': 0}\n",
      "post loop job status: {'id': '7508Y00000nJIRnQAO', 'operation': 'delete', 'object': 'Ticket__c', 'createdById': '0058Y00000CIEn9QAH', 'createdDate': '2023-06-01T18:05:01.000+0000', 'systemModstamp': '2023-06-01T18:05:14.000+0000', 'state': 'JobComplete', 'concurrencyMode': 'Parallel', 'contentType': 'CSV', 'apiVersion': 57.0, 'jobType': 'V2Ingest', 'lineEnding': 'LF', 'columnDelimiter': 'TAB', 'numberRecordsProcessed': 0, 'numberRecordsFailed': 0, 'retries': 0, 'totalProcessingTime': 0, 'apiActiveProcessingTime': 0, 'apexProcessingTime': 0}\n",
      "Failed results (if any):\n",
      "\"sf__Id\"\t\"sf__Error\"\tId\n",
      "\n",
      "\n",
      "\n",
      " Successful results (if any):\n",
      "\"sf__Id\"\t\"sf__Created\"\tId\n",
      "\n",
      "Deleting MembershipTermMemberRel__c objects from Salesforce\n",
      "Retrieving Object Ids for MembershipTermMemberRel__c from Salesforce\n",
      "total number of objects =  0\n",
      "In Salesforce.delete_sf_objects: Deleting 0 MembershipTermMemberRel__c objects using /Users/josephmann/Documents/Github/doubledot/sf_download/MembershipTermMemberRel__c.csv\n",
      "execute_job\n",
      "Created job 7508Y00000nJIRxQAO for MembershipTermMemberRel__c with operation delete\n",
      "Uploading job 7508Y00000nJIRxQAO of object MembershipTermMemberRel__c\n",
      "Uploaded job 7508Y00000nJIRxQAO of object MembershipTermMemberRel__c with status 201\n",
      "response.text : \n",
      " : \n",
      "close_job response.text :\n",
      " {\"id\":\"7508Y00000nJIRxQAO\",\"operation\":\"delete\",\"object\":\"MembershipTermMemberRel__c\",\"createdById\":\"0058Y00000CIEn9QAH\",\"createdDate\":\"2023-06-01T18:05:21.000+0000\",\"systemModstamp\":\"2023-06-01T18:05:21.000+0000\",\"state\":\"UploadComplete\",\"concurrencyMode\":\"Parallel\",\"contentType\":\"CSV\",\"apiVersion\":57.0}\n",
      "pre loop job status: {'id': '7508Y00000nJIRxQAO', 'operation': 'delete', 'object': 'MembershipTermMemberRel__c', 'createdById': '0058Y00000CIEn9QAH', 'createdDate': '2023-06-01T18:05:21.000+0000', 'systemModstamp': '2023-06-01T18:05:23.000+0000', 'state': 'InProgress', 'concurrencyMode': 'Parallel', 'contentType': 'CSV', 'apiVersion': 57.0, 'jobType': 'V2Ingest', 'lineEnding': 'LF', 'columnDelimiter': 'TAB', 'numberRecordsProcessed': 0, 'numberRecordsFailed': 0, 'retries': 0, 'totalProcessingTime': 0, 'apiActiveProcessingTime': 0, 'apexProcessingTime': 0}\n",
      "waiting for job to complete, try 0\n",
      "waiting status: {'id': '7508Y00000nJIRxQAO', 'operation': 'delete', 'object': 'MembershipTermMemberRel__c', 'createdById': '0058Y00000CIEn9QAH', 'createdDate': '2023-06-01T18:05:21.000+0000', 'systemModstamp': '2023-06-01T18:05:25.000+0000', 'state': 'JobComplete', 'concurrencyMode': 'Parallel', 'contentType': 'CSV', 'apiVersion': 57.0, 'jobType': 'V2Ingest', 'lineEnding': 'LF', 'columnDelimiter': 'TAB', 'numberRecordsProcessed': 0, 'numberRecordsFailed': 0, 'retries': 0, 'totalProcessingTime': 0, 'apiActiveProcessingTime': 0, 'apexProcessingTime': 0}\n",
      "post loop job status: {'id': '7508Y00000nJIRxQAO', 'operation': 'delete', 'object': 'MembershipTermMemberRel__c', 'createdById': '0058Y00000CIEn9QAH', 'createdDate': '2023-06-01T18:05:21.000+0000', 'systemModstamp': '2023-06-01T18:05:25.000+0000', 'state': 'JobComplete', 'concurrencyMode': 'Parallel', 'contentType': 'CSV', 'apiVersion': 57.0, 'jobType': 'V2Ingest', 'lineEnding': 'LF', 'columnDelimiter': 'TAB', 'numberRecordsProcessed': 0, 'numberRecordsFailed': 0, 'retries': 0, 'totalProcessingTime': 0, 'apiActiveProcessingTime': 0, 'apexProcessingTime': 0}\n",
      "Failed results (if any):\n",
      "\"sf__Id\"\t\"sf__Error\"\tId\n",
      "\n",
      "\n",
      "\n",
      " Successful results (if any):\n",
      "\"sf__Id\"\t\"sf__Created\"\tId\n",
      "\n",
      "Salesforce.process_objects: sf_object_s : Contact\n",
      "process_contacts\n",
      "ATMS_api - Attempting to load:  /Users/josephmann/Documents/Github/doubledot/atms_download/w6ld3prv/atms_transformed_contacts.json  into dict\n",
      "File not found. Check that the dirty file is there\n",
      "in ATMS:load_data_file_to_dict. no dirty or clean file found. using empty dict\n",
      "ATMS_api: loaded 0 contacts into dict\n",
      "write_jmespath_to_csv Contact\n",
      "write_jmespath_to_csv []\n",
      "write_jmespath_to_csv: no data to write\n"
     ]
    },
    {
     "ename": "AssertionError",
     "evalue": "file_path_s /Users/josephmann/Documents/Github/doubledot/sf_upload/Contact.csv does not exist in process_contacts",
     "output_type": "error",
     "traceback": [
      "\u001b[0;31m---------------------------------------------------------------------------\u001b[0m",
      "\u001b[0;31mAssertionError\u001b[0m                            Traceback (most recent call last)",
      "Cell \u001b[0;32mIn[10], line 6\u001b[0m\n\u001b[1;32m      3\u001b[0m \u001b[39m# sf.upload_csv_to_sf(clean_all=False, obj_l=['MembershipTermMemberRel__c'], generate_upload_files=True)\u001b[39;00m\n\u001b[1;32m      4\u001b[0m \u001b[39m# sf.upload_csv_to_sf(clean_all=False, generate_upload_files=True)\u001b[39;00m\n\u001b[1;32m      5\u001b[0m sf\u001b[39m.\u001b[39matms\u001b[39m.\u001b[39mobj_d\u001b[39m=\u001b[39m {}\n\u001b[0;32m----> 6\u001b[0m sf\u001b[39m.\u001b[39;49mupload_csv_to_sf(clean_all\u001b[39m=\u001b[39;49m\u001b[39mTrue\u001b[39;49;00m, generate_upload_files\u001b[39m=\u001b[39;49m\u001b[39mTrue\u001b[39;49;00m)\n",
      "File \u001b[0;32m~/Documents/Github/doubledot/doubledot/crema_sf.py:1042\u001b[0m, in \u001b[0;36mupload_csv_to_sf\u001b[0;34m(self, obj_l, clean_sf, clean_all, operation, generate_upload_files)\u001b[0m\n\u001b[1;32m   1040\u001b[0m \u001b[39m# write dictionary of dataframes to upload directory for all SF objects\u001b[39;00m\n\u001b[1;32m   1041\u001b[0m \u001b[39mfor\u001b[39;00m obj,relations \u001b[39min\u001b[39;00m obj_d:\n\u001b[0;32m-> 1042\u001b[0m      \u001b[39mself\u001b[39;49m\u001b[39m.\u001b[39;49mprocess_objects(sf_object_s\u001b[39m=\u001b[39;49mobj, use_ATMS_data\u001b[39m=\u001b[39;49mgenerate_upload_files)\n\u001b[1;32m   1044\u001b[0m \u001b[39m# remove duplicates in each file using pandas dataframe\u001b[39;00m\n\u001b[1;32m   1045\u001b[0m \u001b[39mfor\u001b[39;00m obj,relations \u001b[39min\u001b[39;00m obj_d: \n",
      "File \u001b[0;32m~/Documents/Github/doubledot/doubledot/crema_sf.py:744\u001b[0m, in \u001b[0;36mprocess_objects\u001b[0;34m(self, sf_object_s, use_ATMS_data)\u001b[0m\n\u001b[1;32m    740\u001b[0m     \u001b[39mself\u001b[39m\u001b[39m.\u001b[39mprocess_sales()\n\u001b[1;32m    742\u001b[0m \u001b[39mif\u001b[39;00m sf_object_s \u001b[39m==\u001b[39m \u001b[39m'\u001b[39m\u001b[39mContact\u001b[39m\u001b[39m'\u001b[39m :\n\u001b[1;32m    743\u001b[0m     \u001b[39m# this creates a file Contact.csv in the class_upload_dir\u001b[39;00m\n\u001b[0;32m--> 744\u001b[0m     \u001b[39mself\u001b[39;49m\u001b[39m.\u001b[39;49mprocess_contacts()\n\u001b[1;32m    746\u001b[0m \u001b[39mif\u001b[39;00m sf_object_s \u001b[39min\u001b[39;00m [\u001b[39m'\u001b[39m\u001b[39mMembership__c\u001b[39m\u001b[39m'\u001b[39m, \u001b[39m'\u001b[39m\u001b[39mMembershipMember__c\u001b[39m\u001b[39m'\u001b[39m, \u001b[39m'\u001b[39m\u001b[39mMembershipTerm__c\u001b[39m\u001b[39m'\u001b[39m] :\n\u001b[1;32m    747\u001b[0m     \u001b[39m# this creates files Membership__c.csv, MembershipMember__c.csv, MembershipTerm__c.csv in the class_upload_dir\u001b[39;00m\n\u001b[1;32m    748\u001b[0m     \u001b[39mself\u001b[39m\u001b[39m.\u001b[39mprocess_memberships(sf_object_s)\n",
      "File \u001b[0;32m~/Documents/Github/doubledot/doubledot/crema_sf.py:688\u001b[0m, in \u001b[0;36mprocess_contacts\u001b[0;34m(self)\u001b[0m\n\u001b[1;32m    686\u001b[0m \u001b[39m# print(f\"Salesforce: Writing {len(dict_l)} 'Contact' objects to {file_path_s}\")\u001b[39;00m\n\u001b[1;32m    687\u001b[0m write_jmespath_to_csv(\u001b[39m'\u001b[39m\u001b[39mContact\u001b[39m\u001b[39m'\u001b[39m, dict_l, file_path_s, keys)\n\u001b[0;32m--> 688\u001b[0m \u001b[39massert\u001b[39;00m os\u001b[39m.\u001b[39mpath\u001b[39m.\u001b[39mexists(file_path_s), \u001b[39mf\u001b[39m\u001b[39m\"\u001b[39m\u001b[39mfile_path_s \u001b[39m\u001b[39m{\u001b[39;00mfile_path_s\u001b[39m}\u001b[39;00m\u001b[39m does not exist in process_contacts\u001b[39m\u001b[39m\"\u001b[39m\n",
      "\u001b[0;31mAssertionError\u001b[0m: file_path_s /Users/josephmann/Documents/Github/doubledot/sf_upload/Contact.csv does not exist in process_contacts"
     ]
    }
   ],
   "source": [
    "####### PRIMARY TEST METHOD ########\n",
    "sf.clean_upload_dir()\n",
    "# sf.upload_csv_to_sf(clean_all=False, obj_l=['MembershipTermMemberRel__c'], generate_upload_files=True)\n",
    "# sf.upload_csv_to_sf(clean_all=False, generate_upload_files=True)\n",
    "sf.atms.obj_d= {}\n",
    "sf.upload_csv_to_sf(clean_all=True, generate_upload_files=True)"
   ]
  },
  {
   "cell_type": "code",
   "execution_count": null,
   "metadata": {},
   "outputs": [
    {
     "name": "stdout",
     "output_type": "stream",
     "text": [
      "Directory 'atms_download' already exists.\n",
      "Directory 'atms_upload' already exists.\n",
      "write_jmespath_to_csv Membership__c\n",
      "write_jmespath_to_csv [{'membershipId__c': 295573, 'memberSince__c': '2019-05-20T23:02:11.007', 'updateDate__c': '2023-01-04T15:09:22.887'}, {'membershipId__c': 295573, 'memberSince__c': '2019-05-20T23:02:11.007', 'updateDate__c': '2023-01-04T15:09:22.887'}, {'membershipId__c': 13, 'memberSince__c': '2009-09-25T00:00:00', 'updateDate__c': '2022-12-30T14:52:16.68'}, {'membershipId__c': 13, 'memberSince__c': '2009-09-25T00:00:00', 'updateDate__c': '2022-12-30T14:52:16.68'}, {'membershipId__c': 302188, 'memberSince__c': '2020-09-18T11:56:22.1', 'updateDate__c': '2022-12-09T16:04:34.39'}]\n",
      "write_jmespath_to_csv for Membership__c dtypes membershipId__c    object\n",
      "memberSince__c     object\n",
      "updateDate__c      object\n",
      "dtype: object\n",
      "write_jmespath_to_csv MembershipTerm__c\n",
      "write_jmespath_to_csv [{'membershipTermId__c': '416780', 'membershipKey__r_1_membershipId__c': 295573, 'effectiveDate__c': '2019-05-20T00:00:00', 'expiryDate__c': '2020-05-31T23:59:59', 'membershipType__c': 'Standard 6', 'upgradeFromTermKey__c': None, 'giftMembership__c': False, 'refunded__c': False, 'saleDetailKey__c': None, 'itemKey__c': 500}, {'membershipTermId__c': '430688', 'membershipKey__r_1_membershipId__c': 295573, 'effectiveDate__c': '2020-06-12T00:00:00', 'expiryDate__c': '2021-08-31T23:59:59', 'membershipType__c': 'Premium 6', 'upgradeFromTermKey__c': None, 'giftMembership__c': False, 'refunded__c': False, 'saleDetailKey__c': None, 'itemKey__c': 504}, {'membershipTermId__c': '452401', 'membershipKey__r_1_membershipId__c': 295573, 'effectiveDate__c': '2022-02-08T00:00:00', 'expiryDate__c': '2022-05-01T23:59:59', 'membershipType__c': 'Premium 4', 'upgradeFromTermKey__c': None, 'giftMembership__c': False, 'refunded__c': False, 'saleDetailKey__c': None, 'itemKey__c': 503}, {'membershipTermId__c': '455949', 'membershipKey__r_1_membershipId__c': 295573, 'effectiveDate__c': '2022-05-02T00:00:00', 'expiryDate__c': '2023-02-28T23:59:59', 'membershipType__c': 'Premium 6', 'upgradeFromTermKey__c': 452401, 'giftMembership__c': False, 'refunded__c': False, 'saleDetailKey__c': 12723922, 'itemKey__c': 504}, {'membershipTermId__c': '416780', 'membershipKey__r_1_membershipId__c': 295573, 'effectiveDate__c': '2019-05-20T00:00:00', 'expiryDate__c': '2020-05-31T23:59:59', 'membershipType__c': 'Standard 6', 'upgradeFromTermKey__c': None, 'giftMembership__c': False, 'refunded__c': False, 'saleDetailKey__c': None, 'itemKey__c': 500}]\n",
      "write_jmespath_to_csv for MembershipTerm__c dtypes membershipTermId__c                   object\n",
      "membershipKey__r_1_membershipId__c    object\n",
      "effectiveDate__c                      object\n",
      "expiryDate__c                         object\n",
      "membershipType__c                     object\n",
      "upgradeFromTermKey__c                 object\n",
      "giftMembership__c                     object\n",
      "refunded__c                           object\n",
      "saleDetailKey__c                      object\n",
      "itemKey__c                            object\n",
      "dtype: object\n",
      "write_jmespath_to_csv MembershipMember__c\n",
      "write_jmespath_to_csv [{'membershipMemberId__c': '295573_452030', 'membershipTermKey__r_1_membershipTermId__c': 416780, 'cardNumber__c': 1, 'membershipNumber__c': '29557301', 'cardStatus__c': 'Active', 'contactKey__r_1_contactId__c': 774081, 'displayName__c': 'Rodrigues, Sai'}, {'membershipMemberId__c': '295573_455076', 'membershipTermKey__r_1_membershipTermId__c': 416780, 'cardNumber__c': 2, 'membershipNumber__c': '29557302', 'cardStatus__c': 'Active', 'contactKey__r_1_contactId__c': 793444, 'displayName__c': 'Rodrigues, Sandeep'}, {'membershipMemberId__c': '295573_452030', 'membershipTermKey__r_1_membershipTermId__c': 430688, 'cardNumber__c': 1, 'membershipNumber__c': '29557301', 'cardStatus__c': 'Active', 'contactKey__r_1_contactId__c': 774081, 'displayName__c': 'Rodrigues, Sai'}, {'membershipMemberId__c': '295573_455076', 'membershipTermKey__r_1_membershipTermId__c': 430688, 'cardNumber__c': 2, 'membershipNumber__c': '29557302', 'cardStatus__c': 'Active', 'contactKey__r_1_contactId__c': 793444, 'displayName__c': 'Rodrigues, Sandeep'}, {'membershipMemberId__c': '295573_452030', 'membershipTermKey__r_1_membershipTermId__c': 452401, 'cardNumber__c': 1, 'membershipNumber__c': '29557301', 'cardStatus__c': 'Active', 'contactKey__r_1_contactId__c': 774081, 'displayName__c': 'Rodrigues, Sai'}]\n",
      "write_jmespath_to_csv for MembershipMember__c dtypes membershipMemberId__c                         object\n",
      "membershipTermKey__r_1_membershipTermId__c    object\n",
      "cardNumber__c                                 object\n",
      "membershipNumber__c                           object\n",
      "cardStatus__c                                 object\n",
      "contactKey__r_1_contactId__c                  object\n",
      "displayName__c                                object\n",
      "dtype: object\n",
      "write_jmespath_to_csv SaleDetail__c\n",
      "write_jmespath_to_csv [{'saleDetailId__c': 10661073, 'itemKey__c': 397, 'scheduleKey__c': 189069, 'rateKey__c': 6, 'categoryKey__c': 33, 'itemCategory__c': None, 'pricingPriceKey__c': 7178, 'itemPrice__c': 0.0, 'itemTotal__c': 0.0, 'couponTotal__c': 0.0, 'discountTotal__c': 0.0, 'total__c': 0.0, 'revenueDate__c': '2019-06-09T21:00:00', 'refundReason__c': None, 'refundReasonKey__c': None, 'systemPriceOverride__c': 'N', 'membershipTermKey__r_1_membershipTermId__c': 416780, 'saleKey__r_1_saleId__c': 5107178}, {'saleDetailId__c': 10760392, 'itemKey__c': 397, 'scheduleKey__c': 189096, 'rateKey__c': 6, 'categoryKey__c': 33, 'itemCategory__c': None, 'pricingPriceKey__c': 7178, 'itemPrice__c': 0.0, 'itemTotal__c': 0.0, 'couponTotal__c': 0.0, 'discountTotal__c': 0.0, 'total__c': 0.0, 'revenueDate__c': '2019-07-06T21:00:00', 'refundReason__c': None, 'refundReasonKey__c': None, 'systemPriceOverride__c': 'N', 'membershipTermKey__r_1_membershipTermId__c': 416780, 'saleKey__r_1_saleId__c': 5160203}, {'saleDetailId__c': 10828584, 'itemKey__c': 397, 'scheduleKey__c': 189112, 'rateKey__c': 6, 'categoryKey__c': 33, 'itemCategory__c': None, 'pricingPriceKey__c': 7178, 'itemPrice__c': 0.0, 'itemTotal__c': 0.0, 'couponTotal__c': 0.0, 'discountTotal__c': 0.0, 'total__c': 0.0, 'revenueDate__c': '2019-07-22T21:00:00', 'refundReason__c': None, 'refundReasonKey__c': None, 'systemPriceOverride__c': 'N', 'membershipTermKey__r_1_membershipTermId__c': 416780, 'saleKey__r_1_saleId__c': 5194675}, {'saleDetailId__c': 10828986, 'itemKey__c': 397, 'scheduleKey__c': 189112, 'rateKey__c': 6, 'categoryKey__c': 33, 'itemCategory__c': None, 'pricingPriceKey__c': 7178, 'itemPrice__c': 0.0, 'itemTotal__c': 0.0, 'couponTotal__c': 0.0, 'discountTotal__c': 0.0, 'total__c': 0.0, 'revenueDate__c': '2019-07-22T21:00:00', 'refundReason__c': None, 'refundReasonKey__c': None, 'systemPriceOverride__c': 'N', 'membershipTermKey__r_1_membershipTermId__c': 416780, 'saleKey__r_1_saleId__c': 5194847}, {'saleDetailId__c': 10849207, 'itemKey__c': 397, 'scheduleKey__c': 189117, 'rateKey__c': 6, 'categoryKey__c': 33, 'itemCategory__c': None, 'pricingPriceKey__c': 7178, 'itemPrice__c': 0.0, 'itemTotal__c': 0.0, 'couponTotal__c': 0.0, 'discountTotal__c': 0.0, 'total__c': 0.0, 'revenueDate__c': '2019-07-27T21:00:00', 'refundReason__c': None, 'refundReasonKey__c': None, 'systemPriceOverride__c': 'N', 'membershipTermKey__r_1_membershipTermId__c': 416780, 'saleKey__r_1_saleId__c': 5204608}]\n",
      "write_jmespath_to_csv for SaleDetail__c dtypes saleDetailId__c                               object\n",
      "itemKey__c                                    object\n",
      "scheduleKey__c                                object\n",
      "rateKey__c                                    object\n",
      "categoryKey__c                                object\n",
      "itemCategory__c                               object\n",
      "pricingPriceKey__c                            object\n",
      "itemPrice__c                                  object\n",
      "itemTotal__c                                  object\n",
      "couponTotal__c                                object\n",
      "discountTotal__c                              object\n",
      "total__c                                      object\n",
      "revenueDate__c                                object\n",
      "refundReason__c                               object\n",
      "refundReasonKey__c                            object\n",
      "systemPriceOverride__c                        object\n",
      "membershipTermKey__r_1_membershipTermId__c    object\n",
      "saleKey__r_1_saleId__c                        object\n",
      "dtype: object\n",
      "join_df Index(['membershipMemberId__c', 'membershipTermKey__r.membershipTermId__c',\n",
      "       'cardNumber__c', 'membershipNumber__c', 'cardStatus__c',\n",
      "       'contactKey__r.contactId__c', 'displayName__c', 'membershipTermId__c',\n",
      "       'membershipKey__r.membershipId__c', 'effectiveDate__c', 'expiryDate__c',\n",
      "       'membershipType__c', 'upgradeFromTermKey__c', 'giftMembership__c',\n",
      "       'refunded__c', 'saleDetailKey__c', 'itemKey__c'],\n",
      "      dtype='object')\n"
     ]
    }
   ],
   "source": [
    "sf.clean_upload_dir()\n",
    "sf.process_memberships()\n",
    "sf.process_saleDetails()\n",
    "sf.process_term_member_rel()"
   ]
  },
  {
   "cell_type": "code",
   "execution_count": null,
   "metadata": {},
   "outputs": [],
   "source": [
    "pd.DataFrame()"
   ]
  },
  {
   "cell_type": "code",
   "execution_count": null,
   "metadata": {},
   "outputs": [
    {
     "name": "stdout",
     "output_type": "stream",
     "text": [
      "execute_job\n",
      "Created job 7508Y00000nJ2oMQAS for MembershipTermMemberRel__c with operation insert\n",
      "Uploading job 7508Y00000nJ2oMQAS of object MembershipTermMemberRel__c\n",
      "Uploaded job 7508Y00000nJ2oMQAS of object MembershipTermMemberRel__c with status 201\n",
      "response.text : \n",
      " : \n",
      "close_job response.text :\n",
      " {\"id\":\"7508Y00000nJ2oMQAS\",\"operation\":\"insert\",\"object\":\"MembershipTermMemberRel__c\",\"createdById\":\"0058Y00000CIEn9QAH\",\"createdDate\":\"2023-05-31T03:12:06.000+0000\",\"systemModstamp\":\"2023-05-31T03:12:06.000+0000\",\"state\":\"UploadComplete\",\"concurrencyMode\":\"Parallel\",\"contentType\":\"CSV\",\"apiVersion\":57.0}\n",
      "pre loop job status: {'id': '7508Y00000nJ2oMQAS', 'operation': 'insert', 'object': 'MembershipTermMemberRel__c', 'createdById': '0058Y00000CIEn9QAH', 'createdDate': '2023-05-31T03:12:06.000+0000', 'systemModstamp': '2023-05-31T03:12:09.000+0000', 'state': 'InProgress', 'concurrencyMode': 'Parallel', 'contentType': 'CSV', 'apiVersion': 57.0, 'jobType': 'V2Ingest', 'lineEnding': 'LF', 'columnDelimiter': 'TAB', 'numberRecordsProcessed': 0, 'numberRecordsFailed': 0, 'retries': 0, 'totalProcessingTime': 0, 'apiActiveProcessingTime': 0, 'apexProcessingTime': 0}\n",
      "waiting for job to complete, try 0\n",
      "waiting status: {'id': '7508Y00000nJ2oMQAS', 'operation': 'insert', 'object': 'MembershipTermMemberRel__c', 'createdById': '0058Y00000CIEn9QAH', 'createdDate': '2023-05-31T03:12:06.000+0000', 'systemModstamp': '2023-05-31T03:12:09.000+0000', 'state': 'InProgress', 'concurrencyMode': 'Parallel', 'contentType': 'CSV', 'apiVersion': 57.0, 'jobType': 'V2Ingest', 'lineEnding': 'LF', 'columnDelimiter': 'TAB', 'numberRecordsProcessed': 0, 'numberRecordsFailed': 0, 'retries': 0, 'totalProcessingTime': 0, 'apiActiveProcessingTime': 0, 'apexProcessingTime': 0}\n",
      "post loop job status: {'id': '7508Y00000nJ2oMQAS', 'operation': 'insert', 'object': 'MembershipTermMemberRel__c', 'createdById': '0058Y00000CIEn9QAH', 'createdDate': '2023-05-31T03:12:06.000+0000', 'systemModstamp': '2023-05-31T03:12:12.000+0000', 'state': 'JobComplete', 'concurrencyMode': 'Parallel', 'contentType': 'CSV', 'apiVersion': 57.0, 'jobType': 'V2Ingest', 'lineEnding': 'LF', 'columnDelimiter': 'TAB', 'numberRecordsProcessed': 140, 'numberRecordsFailed': 0, 'retries': 0, 'totalProcessingTime': 354, 'apiActiveProcessingTime': 272, 'apexProcessingTime': 0}\n",
      "Failed results (if any):\n",
      "\"sf__Id\"\t\"sf__Error\"\tmembershipTermKey__r.membershipTermId__c\tmembershipMemberKey__r.membershipMemberId__c\n",
      "\n",
      "\"sf__Id\"\t\"sf__Error\"\tmembershipTermKey__r.membershipTermId__c\tmembershipMemberKey__r.membershipMemberId__c\n",
      "\n"
     ]
    }
   ],
   "source": [
    "# sf.delete_sf_objects('MembershipTermMemberRel__c')\n",
    "# assert os.path.exists(os.path.join(Salesforce.class_upload_dir,'MembershipTermMemberRel__c.csv')), 'upload file MembershipTermMemberRel__c does not exist'\n",
    "sf.execute_job('MembershipTermMemberRel__c', 'insert', use_ATMS_data=True) \n"
   ]
  },
  {
   "attachments": {},
   "cell_type": "markdown",
   "metadata": {},
   "source": [
    "## use pandas to create outer join of Members and Terms\n"
   ]
  },
  {
   "cell_type": "code",
   "execution_count": null,
   "metadata": {},
   "outputs": [],
   "source": [
    "\n",
    "members_df = pd.read_csv('sf_upload/MembershipMember__c.csv', sep='\\t')\n",
    "terms_df = pd.read_csv('sf_upload/MembershipTerm__c.csv', sep='\\t')\n",
    "join_df = members_df.merge(terms_df, left_on='membershipTermKey__r.membershipTermId__c', right_on='membershipTermId__c', how='outer')    \n",
    "# terms_df\\\n",
    "join_df[['membershipMemberId__c', 'membershipTermId__c']].to_csv('sf_upload/MembershipTermMemberRel__c.csv', sep='\\t', index=False, index_label='Name')\n"
   ]
  },
  {
   "cell_type": "code",
   "execution_count": null,
   "metadata": {},
   "outputs": [
    {
     "ename": "NameError",
     "evalue": "name 'sf' is not defined",
     "output_type": "error",
     "traceback": [
      "\u001b[0;31m---------------------------------------------------------------------------\u001b[0m",
      "\u001b[0;31mNameError\u001b[0m                                 Traceback (most recent call last)",
      "Cell \u001b[0;32mIn[1], line 1\u001b[0m\n\u001b[0;32m----> 1\u001b[0m d_l  \u001b[39m=\u001b[39m sf\u001b[39m.\u001b[39mprocess_saleDetails()\n",
      "\u001b[0;31mNameError\u001b[0m: name 'sf' is not defined"
     ]
    }
   ],
   "source": [
    "d_l  = sf.process_saleDetails()"
   ]
  },
  {
   "attachments": {},
   "cell_type": "markdown",
   "metadata": {},
   "source": [
    "## Problems ...\n"
   ]
  },
  {
   "cell_type": "code",
   "execution_count": null,
   "metadata": {},
   "outputs": [],
   "source": [
    "#|eval: false\n",
    "\n",
    "# why does saleId__c 889832 not have any tickets or saleDetail pointing at it? or me: 82192 323674 (I am 73012)\n",
    "# why does this point from saleId and not saleKey?\n",
    "from doubledot.crema_sf import fields_pointing_to_foreign_key, get_pointing_foreign_key_values,reduce_to_referenced_rows\n",
    "\n",
    "_df = df_d['Sale__c']\n",
    "print(_df.loc[_df['saleId__c'] == 323674, :])\n",
    "\n",
    "print(get_pointing_foreign_key_values('saleId__c', df_d))\n",
    "pointing = get_pointing_foreign_key_values('saleId__c', df_d)\n",
    "print(len(pointing))\n",
    "\n",
    "print(_df['saleId__c'].unique())\n",
    "externals = _df['saleId__c'].unique()\n",
    "\n",
    "pointing.intersection(externals)\n",
    "      "
   ]
  },
  {
   "cell_type": "code",
   "execution_count": null,
   "metadata": {},
   "outputs": [],
   "source": [
    "reduce_to_referenced_rows(df_d)\n"
   ]
  },
  {
   "cell_type": "code",
   "execution_count": null,
   "metadata": {},
   "outputs": [],
   "source": [
    "_d['Ticket__c']['saleKey__r.saleId__c']"
   ]
  },
  {
   "cell_type": "code",
   "execution_count": null,
   "metadata": {},
   "outputs": [
    {
     "ename": "ValueError",
     "evalue": "invalid literal for int() with base 10: '1344.'",
     "output_type": "error",
     "traceback": [
      "\u001b[0;31m---------------------------------------------------------------------------\u001b[0m",
      "\u001b[0;31mValueError\u001b[0m                                Traceback (most recent call last)",
      "Cell \u001b[0;32mIn[3], line 1\u001b[0m\n\u001b[0;32m----> 1\u001b[0m \u001b[39mint\u001b[39;49m(\u001b[39m\"\u001b[39;49m\u001b[39m1344.\u001b[39;49m\u001b[39m\"\u001b[39;49m)\n",
      "\u001b[0;31mValueError\u001b[0m: invalid literal for int() with base 10: '1344.'"
     ]
    }
   ],
   "source": [
    "int(\"1344.\")"
   ]
  },
  {
   "cell_type": "code",
   "execution_count": null,
   "metadata": {},
   "outputs": [],
   "source": []
  }
 ],
 "metadata": {
  "kernelspec": {
   "display_name": "python3",
   "language": "python",
   "name": "python3"
  }
 },
 "nbformat": 4,
 "nbformat_minor": 2
}
