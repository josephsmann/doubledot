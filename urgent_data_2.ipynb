{
 "cells": [
  {
   "attachments": {},
   "cell_type": "markdown",
   "metadata": {},
   "source": [
    "## Urgent Data \n",
    "> take 2.0"
   ]
  },
  {
   "cell_type": "code",
   "execution_count": 1,
   "metadata": {},
   "outputs": [],
   "source": [
    "%load_ext autoreload\n",
    "%autoreload 2"
   ]
  },
  {
   "cell_type": "code",
   "execution_count": 2,
   "metadata": {},
   "outputs": [],
   "source": [
    "from doubledot import *\n",
    "import pandas as pd\n",
    "from time import sleep\n",
    "import os"
   ]
  },
  {
   "cell_type": "code",
   "execution_count": 3,
   "metadata": {},
   "outputs": [
    {
     "name": "stdout",
     "output_type": "stream",
     "text": [
      "Directory 'atms_download' already exists.\n"
     ]
    }
   ],
   "source": [
    "sf = Salesforce()"
   ]
  },
  {
   "cell_type": "code",
   "execution_count": 4,
   "metadata": {},
   "outputs": [],
   "source": [
    "### Clean out old data ?\n",
    "# for table in Salesforce.model_d.keys():\n",
    "#     sf.delete_sf_objects(table)"
   ]
  },
  {
   "cell_type": "code",
   "execution_count": 8,
   "metadata": {},
   "outputs": [
    {
     "name": "stdout",
     "output_type": "stream",
     "text": [
      "111111\n",
      "we have contact_id 111111 and obj is sales\n",
      "http://crm-api-telus.atmsplus.com/api/sales/contact/111111\n",
      "[{'saleKey': '53603', 'saleAmount': '24.9900', 'paymentAmount': '24.9900', 'saleDate': '2002-02-02T17:33:53.653', 'active': True, 'terminalKey': 2, 'ticketCount': 0, 'eventDate': None, 'booking': {'bookingId': 6543, 'bookingContactKey': 26237, 'bookingContactType': 'Primary     ', 'contactKey': 111111, 'contactIndividualKey': 106229, 'contactOrganizationKey': 0, 'displayName': 'Hickson, Jill', 'firstName': 'Jill', 'lastName': 'Hickson', 'email': None, 'phone': '7804325695'}, 'saleComment': None, 'saleDetails': [{'saleDetailId': 134933, 'saleId': 53603, 'itemKey': 263, 'scheduleKey': 20264, 'rateKey': 1, 'categoryKey': 1, 'itemQuantity': 1, 'pricingPriceKey': 316, 'itemPrice': 4.225, 'itemTotal': 4.23, 'couponTotal': 0.0, 'discountTotal': 0.0, 'total': 6.03, 'revenueDate': '2002-02-11T18:00:00', 'refundReasonKey': None, 'systemPriceOverride': 'N', 'membershipTermKey': 19101, 'taxTotal': 0.3, 'surchargeTotal': 1.5, 'surchargeTaxTotal': 0.0, 'pendingShiftKey': 1827, 'pendingTerminalKey': 2, 'pendingDateTimeStamp': '2002-02-02T17:33:54.217', 'pendingUser': 'stewad              ', 'finalStatus': 1, 'finalShiftKey': 1895, 'finalTerminalKey': 3, 'finalDateTimeStamp': '2002-02-11T16:46:28.593', 'finalUser': 'moores              ', 'refundQuantity': 0, 'firstScheduleDetailKey': 20509, 'itemDescription': 'Bears', 'rateDescription': 'Public', 'categoryDescription': 'Adult', 'scheduleDate': '2002-02-11T18:00:00'}, {'saleDetailId': 134934, 'saleId': 53603, 'itemKey': 263, 'scheduleKey': 20264, 'rateKey': 1, 'categoryKey': 1, 'itemQuantity': 1, 'pricingPriceKey': 316, 'itemPrice': 4.225, 'itemTotal': 4.23, 'couponTotal': 0.0, 'discountTotal': 0.0, 'total': 6.03, 'revenueDate': '2002-02-11T18:00:00', 'refundReasonKey': None, 'systemPriceOverride': 'N', 'membershipTermKey': 19101, 'taxTotal': 0.3, 'surchargeTotal': 1.5, 'surchargeTaxTotal': 0.0, 'pendingShiftKey': 1827, 'pendingTerminalKey': 2, 'pendingDateTimeStamp': '2002-02-02T17:33:54.28', 'pendingUser': 'stewad              ', 'finalStatus': 1, 'finalShiftKey': 1895, 'finalTerminalKey': 3, 'finalDateTimeStamp': '2002-02-11T16:46:28.64', 'finalUser': 'moores              ', 'refundQuantity': 0, 'firstScheduleDetailKey': 20509, 'itemDescription': 'Bears', 'rateDescription': 'Public', 'categoryDescription': 'Adult', 'scheduleDate': '2002-02-11T18:00:00'}, {'saleDetailId': 134935, 'saleId': 53603, 'itemKey': 263, 'scheduleKey': 20264, 'rateKey': 1, 'categoryKey': 2, 'itemQuantity': 1, 'pricingPriceKey': 317, 'itemPrice': 3.225, 'itemTotal': 3.23, 'couponTotal': 0.0, 'discountTotal': 0.0, 'total': 3.96, 'revenueDate': '2002-02-11T18:00:00', 'refundReasonKey': None, 'systemPriceOverride': 'N', 'membershipTermKey': 19101, 'taxTotal': 0.23, 'surchargeTotal': 0.5, 'surchargeTaxTotal': 0.0, 'pendingShiftKey': 1827, 'pendingTerminalKey': 2, 'pendingDateTimeStamp': '2002-02-02T17:33:54.34', 'pendingUser': 'stewad              ', 'finalStatus': 1, 'finalShiftKey': 1895, 'finalTerminalKey': 3, 'finalDateTimeStamp': '2002-02-11T16:46:28.687', 'finalUser': 'moores              ', 'refundQuantity': 0, 'firstScheduleDetailKey': 20509, 'itemDescription': 'Bears', 'rateDescription': 'Public', 'categoryDescription': 'Child (3 to 12)', 'scheduleDate': '2002-02-11T18:00:00'}, {'saleDetailId': 134936, 'saleId': 53603, 'itemKey': 263, 'scheduleKey': 20264, 'rateKey': 1, 'categoryKey': 2, 'itemQuantity': 1, 'pricingPriceKey': 317, 'itemPrice': 3.225, 'itemTotal': 3.23, 'couponTotal': 0.0, 'discountTotal': 0.0, 'total': 3.96, 'revenueDate': '2002-02-11T18:00:00', 'refundReasonKey': None, 'systemPriceOverride': 'N', 'membershipTermKey': 19101, 'taxTotal': 0.23, 'surchargeTotal': 0.5, 'surchargeTaxTotal': 0.0, 'pendingShiftKey': 1827, 'pendingTerminalKey': 2, 'pendingDateTimeStamp': '2002-02-02T17:33:54.42', 'pendingUser': 'stewad              ', 'finalStatus': 1, 'finalShiftKey': 1895, 'finalTerminalKey': 3, 'finalDateTimeStamp': '2002-02-11T16:46:28.733', 'finalUser': 'moores              ', 'refundQuantity': 0, 'firstScheduleDetailKey': 20509, 'itemDescription': 'Bears', 'rateDescription': 'Public', 'categoryDescription': 'Child (3 to 12)', 'scheduleDate': '2002-02-11T18:00:00'}, {'saleDetailId': 134937, 'saleId': 53603, 'itemKey': 202, 'scheduleKey': 20266, 'rateKey': 1, 'categoryKey': 2, 'itemQuantity': 2, 'pricingPriceKey': 1206, 'itemPrice': 2.34, 'itemTotal': 4.68, 'couponTotal': 0.0, 'discountTotal': 0.0, 'total': 5.01, 'revenueDate': '2002-02-11T17:00:00', 'refundReasonKey': None, 'systemPriceOverride': 'N', 'membershipTermKey': None, 'taxTotal': 0.33, 'surchargeTotal': 0.0, 'surchargeTaxTotal': 0.0, 'pendingShiftKey': 1827, 'pendingTerminalKey': 2, 'pendingDateTimeStamp': '2002-02-02T17:35:00.903', 'pendingUser': 'stewad              ', 'finalStatus': 1, 'finalShiftKey': 1895, 'finalTerminalKey': 3, 'finalDateTimeStamp': '2002-02-11T16:46:28.78', 'finalUser': 'moores              ', 'refundQuantity': 0, 'firstScheduleDetailKey': 20511, 'itemDescription': 'Pizza 73 Reception - Members Night', 'rateDescription': 'Public', 'categoryDescription': 'Child (3 to 12)', 'scheduleDate': '2002-02-11T17:00:00'}], 'tickets': []}]\n",
      "set with []\n",
      "111111\n",
      "we have contact_id 111111 and obj is contacts\n",
      "we have contact_id and obj is contacts\n",
      "ATMS_api.get_telus_data :  http://crm-api-telus.atmsplus.com/api/contacts/111111\n",
      "http://crm-api-telus.atmsplus.com/api/contacts/111111\n",
      "{'contactId': 111111, 'contactType': 'Individual', 'username': None, 'createdDate': '2001-12-31T11:37:23.903', 'updateDate': '2011-04-12T16:01:10.667', 'emailOptIn': 'N', 'mailOptIn': 'N', 'phoneOptIn': 'N', 'contactIndividualKey': 106229, 'firstName': 'Jill', 'lastName': 'Hickson', 'middleName': None, 'birthDate': '0001-01-01T00:00:00', 'contactOrganizationKey': 0, 'organizationName': None, 'addresses': [{'addressId': 93418, 'contactKey': 111111, 'addressType': 'Home', 'line1': '134 Michener Park NW', 'line2': None, 'line3': None, 'country': None, 'province': 'AB', 'county': None, 'city': 'Edmonton', 'postalZipCode': 'T6H 4M4'}], 'alerts': [], 'contactTypes': [], 'emails': [], 'faxes': [], 'phones': [{'phoneId': 215756, 'contactKey': 111111, 'phoneType': 'Home', 'phoneNumber': '7804325695', 'extension': None}, {'phoneId': 215757, 'contactKey': 111111, 'phoneType': 'Business', 'phoneNumber': '7804529100', 'extension': None}]}\n",
      "set with []\n",
      "111111\n",
      "we have contact_id 111111 and obj is memberships\n",
      "http://crm-api-telus.atmsplus.com/api/memberships/contact/111111\n",
      "[{'membershipId': 7387, 'memberSince': '2001-12-31T11:34:53.84', 'updateDate': '2001-12-31T11:30:34.873', 'membershipTerms': [{'membershipTermId': 19101, 'membershipKey': 7387, 'effectiveDate': '2001-12-31T00:00:00', 'expiryDate': '2002-12-31T23:59:59', 'membershipType': 'Family Membership', 'upgradeFromTermKey': None, 'giftMembership': False, 'refunded': False, 'saleDetailKey': 115454, 'itemKey': 7, 'membershipMembers': [{'membershipMemberId': 40895, 'membershipTermKey': 19101, 'cardNumber': 1, 'membershipNumber': '00738701', 'cardStatus': 'Active', 'contactKey': 111110, 'displayName': 'Hickson, Clive'}, {'membershipMemberId': 40896, 'membershipTermKey': 19101, 'cardNumber': 2, 'membershipNumber': '00738702', 'cardStatus': 'Active', 'contactKey': 111111, 'displayName': 'Hickson, Jill'}, {'membershipMemberId': 40897, 'membershipTermKey': 19101, 'cardNumber': 3, 'membershipNumber': '00738703', 'cardStatus': 'Active', 'contactKey': 111112, 'displayName': 'Hickson, Selena'}, {'membershipMemberId': 40898, 'membershipTermKey': 19101, 'cardNumber': 4, 'membershipNumber': '00738704', 'cardStatus': 'Active', 'contactKey': 111113, 'displayName': 'Hickson, Tim'}]}]}, {'membershipId': 9994, 'memberSince': '2004-02-03T13:28:11.747', 'updateDate': '2004-02-03T13:25:47.92', 'membershipTerms': [{'membershipTermId': 23713, 'membershipKey': 9994, 'effectiveDate': '2004-02-03T00:00:00', 'expiryDate': '2004-12-31T23:59:59', 'membershipType': 'Staff Over 600 Hours', 'upgradeFromTermKey': None, 'giftMembership': False, 'refunded': False, 'saleDetailKey': 472612, 'itemKey': 84, 'membershipMembers': [{'membershipMemberId': 48843, 'membershipTermKey': 23713, 'cardNumber': 1, 'membershipNumber': '00999401', 'cardStatus': 'Active', 'contactKey': 111111, 'displayName': 'Hickson, Jill'}]}, {'membershipTermId': 25791, 'membershipKey': 9994, 'effectiveDate': '2005-01-11T00:00:00', 'expiryDate': '2005-12-31T23:59:59', 'membershipType': 'Staff Over 600 Hours', 'upgradeFromTermKey': None, 'giftMembership': False, 'refunded': False, 'saleDetailKey': 638319, 'itemKey': 84, 'membershipMembers': [{'membershipMemberId': 48843, 'membershipTermKey': 25791, 'cardNumber': 1, 'membershipNumber': '00999401', 'cardStatus': 'Active', 'contactKey': 111111, 'displayName': 'Hickson, Jill'}]}, {'membershipTermId': 28503, 'membershipKey': 9994, 'effectiveDate': '2006-01-06T00:00:00', 'expiryDate': '2006-12-31T23:59:59', 'membershipType': 'Staff Over 600 Hours', 'upgradeFromTermKey': None, 'giftMembership': False, 'refunded': False, 'saleDetailKey': 821976, 'itemKey': 84, 'membershipMembers': [{'membershipMemberId': 48843, 'membershipTermKey': 28503, 'cardNumber': 1, 'membershipNumber': '00999401', 'cardStatus': 'Active', 'contactKey': 111111, 'displayName': 'Hickson, Jill'}]}, {'membershipTermId': 31865, 'membershipKey': 9994, 'effectiveDate': '2007-01-11T00:00:00', 'expiryDate': '2007-12-31T23:59:59', 'membershipType': 'Staff Over 600 Hours', 'upgradeFromTermKey': None, 'giftMembership': False, 'refunded': False, 'saleDetailKey': 1002392, 'itemKey': 84, 'membershipMembers': [{'membershipMemberId': 48843, 'membershipTermKey': 31865, 'cardNumber': 1, 'membershipNumber': '00999401', 'cardStatus': 'Active', 'contactKey': 111111, 'displayName': 'Hickson, Jill'}]}]}]\n",
      "set with []\n",
      "File 'contacts.json' written successfully. to /Users/josephmann/Documents/Github/doubledot/atms_download/ubp6bmee\n",
      "File 'memberships.json' written successfully. to /Users/josephmann/Documents/Github/doubledot/atms_download/ubp6bmee\n",
      "File 'sales.json' written successfully. to /Users/josephmann/Documents/Github/doubledot/atms_download/ubp6bmee\n",
      "File 'items.json' written successfully. to /Users/josephmann/Documents/Github/doubledot/atms_download/ubp6bmee\n"
     ]
    }
   ],
   "source": [
    "#| eval: false\n",
    "\n",
    "\n",
    "# 415645 73012 105765 and 342765 are also good contacts to bring in when you are rea and organization 133156\n",
    "pelton_ids = [ 4708, 119430, 119431, 144164,144165, 144166, 144167, 415645, 73012, 105765, 342765 ]\n",
    "pelton_ids = [ 111111 ]\n",
    "sf.retrieve_atms_records_by_contactId(pelton_ids)\n",
    "\n",
    "# number of objects in dictionary\n",
    "assert len(sf.atms.obj_d) == len(['sales', 'contacts', 'memberships','items']), f\"wrong number of objects in dictionary {sf.atms.obj_d.keys()}\"\n",
    "# number of files in directory\n",
    "assert len(os.listdir(sf.atms.download_dir)) == len(['sales', 'contacts', 'memberships','items']), f\"wrong number of files in directory {sf.atms.download_dir}\"\n",
    "\n"
   ]
  },
  {
   "cell_type": "code",
   "execution_count": null,
   "metadata": {},
   "outputs": [],
   "source": []
  },
  {
   "cell_type": "code",
   "execution_count": 9,
   "metadata": {},
   "outputs": [
    {
     "name": "stdout",
     "output_type": "stream",
     "text": [
      "Salesforce.process_objects: sf_object_s : Contact\n",
      "Salesforce.process_objects: sf_object_s : Membership__c\n",
      "Salesforce.process_objects: sf_object_s : MembershipTerm__c\n",
      "Salesforce.process_objects: sf_object_s : MembershipMember__c\n",
      "Salesforce.process_objects: sf_object_s : Sale__c\n",
      "Salesforce.process_objects: sf_object_s : SaleDetail__c\n",
      "Salesforce.process_objects: sf_object_s : Ticket__c\n",
      "this should fail\n",
      "and it did. good.\n",
      "dropping duplicates for  Contact\n",
      "AFTER dropping duplicates for  Contact\n",
      "dropping duplicates for  Membership__c\n",
      "AFTER dropping duplicates for  Membership__c\n",
      "dropping duplicates for  MembershipTerm__c\n",
      "AFTER dropping duplicates for  MembershipTerm__c\n",
      "dropping duplicates for  MembershipMember__c\n",
      "AFTER dropping duplicates for  MembershipMember__c\n",
      "dropping duplicates for  Sale__c\n",
      "AFTER dropping duplicates for  Sale__c\n",
      "dropping duplicates for  SaleDetail__c\n",
      "AFTER dropping duplicates for  SaleDetail__c\n",
      "dropping duplicates for  Ticket__c\n",
      "AFTER dropping duplicates for  Ticket__c\n",
      "\n",
      " ====================================\n",
      "duplicate ext id loop:  Contact\n",
      "\n",
      " ====================================\n",
      "duplicate ext id loop:  Membership__c\n",
      "\n",
      " ====================================\n",
      "duplicate ext id loop:  MembershipTerm__c\n",
      "MembershipTerm__c --> Membership__c   5  -->  5\n",
      "\n",
      " ====================================\n",
      "duplicate ext id loop:  MembershipMember__c\n",
      "MembershipMember__c --> Contact   8  -->  5\n",
      "MembershipMember__c --> MembershipTerm__c   5  -->  5\n",
      "\n",
      " ====================================\n",
      "duplicate ext id loop:  Sale__c\n",
      "Sale__c --> Contact   1  -->  1\n",
      "\n",
      " ====================================\n",
      "duplicate ext id loop:  SaleDetail__c\n",
      "SaleDetail__c --> MembershipTerm__c   5  -->  4\n",
      "SaleDetail__c --> Sale__c   4  -->  4\n",
      "\n",
      " ====================================\n",
      "duplicate ext id loop:  Ticket__c\n",
      "Ticket__c --> Sale__c   0  -->  0\n",
      "Ticket__c --> SaleDetail__c   0  -->  0\n",
      "this should NOT fail\n",
      "finally, it did not fail. Good.\n",
      "Contact 1\n",
      "Contact 1 1\n",
      "Membership__c 2\n",
      "Membership__c 2 2\n",
      "MembershipTerm__c 5\n",
      "MembershipTerm__c 5 5\n",
      "MembershipMember__c * 5 5\n",
      "Sale__c 1\n",
      "Sale__c 1 1\n",
      "SaleDetail__c 0\n",
      "SaleDetail__c 4 0\n",
      "Ticket__c * 0 0\n"
     ]
    }
   ],
   "source": [
    "#| eval: false\n",
    "\n",
    "# random comment\n",
    "df_d = sf.perfect_data()\n",
    "# for k, v in _d.items():\n",
    "#     display(v)"
   ]
  },
  {
   "cell_type": "code",
   "execution_count": 10,
   "metadata": {},
   "outputs": [
    {
     "name": "stdout",
     "output_type": "stream",
     "text": [
      "dict_keys(['Contact', 'Membership__c', 'MembershipTerm__c', 'Sale__c', 'SaleDetail__c'])\n",
      "Contact contactId__c\n",
      "execute_job\n",
      "Salesforce.process_objects: sf_object_s : Contact\n",
      "401 <class 'int'>\n",
      "Created job 7508Y00000nIeMjQAK for Contact with operation upsert\n",
      "Uploading job 7508Y00000nIeMjQAK of object Contact\n",
      "job status: InProgress\n",
      "waiting for job to complete, try 0, status: JobComplete\n",
      "Failed results:\n",
      "\"sf__Id\"\t\"sf__Error\"\tLastName\tFirstName\tMailingPostalCode\tMailingCity\tMailingStreet\tMailingCountry\tPhone\tEmail\tcontactId__c\n",
      "\n",
      "\"sf__Id\"\t\"sf__Error\"\tLastName\tFirstName\tMailingPostalCode\tMailingCity\tMailingStreet\tMailingCountry\tPhone\tEmail\tcontactId__c\n",
      "\n",
      "Membership__c membershipId__c\n",
      "execute_job\n",
      "Salesforce.process_objects: sf_object_s : Membership__c\n",
      "Created job 7508Y00000nIeHyQAK for Membership__c with operation upsert\n",
      "Uploading job 7508Y00000nIeHyQAK of object Membership__c\n",
      "job status: JobComplete\n",
      "waiting for job to complete, try 0, status: JobComplete\n",
      "Failed results:\n",
      "\"sf__Id\"\t\"sf__Error\"\tmembershipId__c\tmemberSince__c\tupdateDate__c\n",
      "\n",
      "\"sf__Id\"\t\"sf__Error\"\tmembershipId__c\tmemberSince__c\tupdateDate__c\n",
      "\n",
      "MembershipTerm__c membershipTermId__c\n",
      "execute_job\n",
      "Salesforce.process_objects: sf_object_s : MembershipTerm__c\n",
      "Created job 7508Y00000nIdqUQAS for MembershipTerm__c with operation upsert\n",
      "Uploading job 7508Y00000nIdqUQAS of object MembershipTerm__c\n",
      "job status: InProgress\n",
      "waiting for job to complete, try 0, status: InProgress\n",
      "waiting for job to complete, try 1, status: InProgress\n",
      "Failed results:\n",
      "\"sf__Id\"\t\"sf__Error\"\tmembershipTermId__c\tmembershipKey__r.membershipId__c\teffectiveDate__c\texpiryDate__c\tmembershipType__c\tupgradeFromTermKey__c\tgiftMembership__c\trefunded__c\tsaleDetailKey__c\titemKey__c\n",
      "\n",
      "\"sf__Id\"\t\"sf__Error\"\tmembershipTermId__c\tmembershipKey__r.membershipId__c\teffectiveDate__c\texpiryDate__c\tmembershipType__c\tupgradeFromTermKey__c\tgiftMembership__c\trefunded__c\tsaleDetailKey__c\titemKey__c\n",
      "\n",
      "MembershipMember__c membershipMemberId__c\n",
      "execute_job\n",
      "Salesforce.process_objects: sf_object_s : MembershipMember__c\n",
      "Bad response in Salesforce.create_job :\n",
      " [{\"errorCode\":\"INVALIDJOB\",\"message\":\"InvalidJob : Field name provided, membershipMemberId__c does not match an External ID, Salesforce Id, or indexed field for MembershipMember__c\"}]\n",
      "Created job 7508Y00000nIdqUQAS for MembershipMember__c with operation upsert\n",
      "Uploading job 7508Y00000nIdqUQAS of object MembershipMember__c\n",
      "job status: JobComplete\n",
      "Failed results:\n"
     ]
    }
   ],
   "source": [
    "#| eval: false\n",
    "print(df_d.keys())\n",
    "sf.write_dict_to_csv(df_d )\n",
    "sf.upload_csv_to_sf(clean_all=False)"
   ]
  },
  {
   "attachments": {},
   "cell_type": "markdown",
   "metadata": {},
   "source": [
    "## Problems ...\n"
   ]
  },
  {
   "cell_type": "code",
   "execution_count": null,
   "metadata": {},
   "outputs": [],
   "source": [
    "#|eval: false\n",
    "\n",
    "# why does saleId__c 889832 not have any tickets or saleDetail pointing at it? or me: 82192 323674 (I am 73012)\n",
    "# why does this point from saleId and not saleKey?\n",
    "from doubledot.crema_sf import fields_pointing_to_foreign_key, get_pointing_foreign_key_values,reduce_to_referenced_rows\n",
    "\n",
    "_df = df_d['Sale__c']\n",
    "print(_df.loc[_df['saleId__c'] == 323674, :])\n",
    "\n",
    "print(get_pointing_foreign_key_values('saleId__c', df_d))\n",
    "pointing = get_pointing_foreign_key_values('saleId__c', df_d)\n",
    "print(len(pointing))\n",
    "\n",
    "print(_df['saleId__c'].unique())\n",
    "externals = _df['saleId__c'].unique()\n",
    "\n",
    "pointing.intersection(externals)\n",
    "      "
   ]
  },
  {
   "cell_type": "code",
   "execution_count": null,
   "metadata": {},
   "outputs": [],
   "source": [
    "reduce_to_referenced_rows(df_d)\n"
   ]
  },
  {
   "cell_type": "code",
   "execution_count": null,
   "metadata": {},
   "outputs": [],
   "source": [
    "_d['Ticket__c']['saleKey__r.saleId__c']"
   ]
  },
  {
   "cell_type": "code",
   "execution_count": null,
   "metadata": {},
   "outputs": [],
   "source": []
  }
 ],
 "metadata": {
  "kernelspec": {
   "display_name": "python3",
   "language": "python",
   "name": "python3"
  },
  "language_info": {
   "codemirror_mode": {
    "name": "ipython",
    "version": 3
   },
   "file_extension": ".py",
   "mimetype": "text/x-python",
   "name": "python",
   "nbconvert_exporter": "python",
   "pygments_lexer": "ipython3",
   "version": "3.11.3"
  }
 },
 "nbformat": 4,
 "nbformat_minor": 2
}
