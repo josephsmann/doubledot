{
 "cells": [
  {
   "attachments": {},
   "cell_type": "markdown",
   "metadata": {},
   "source": [
    "## Urgent Data \n",
    "> take 2.0"
   ]
  },
  {
   "cell_type": "code",
   "execution_count": 2,
   "metadata": {},
   "outputs": [],
   "source": [
    "%load_ext autoreload\n",
    "%autoreload 2"
   ]
  },
  {
   "cell_type": "code",
   "execution_count": 5,
   "metadata": {},
   "outputs": [],
   "source": [
    "from doubledot import *\n",
    "import pandas as pd\n",
    "from time import sleep\n",
    "import os"
   ]
  },
  {
   "cell_type": "code",
   "execution_count": 6,
   "metadata": {},
   "outputs": [
    {
     "name": "stdout",
     "output_type": "stream",
     "text": [
      "Directory 'atms_download' already exists.\n"
     ]
    }
   ],
   "source": [
    "sf = Salesforce()"
   ]
  },
  {
   "cell_type": "code",
   "execution_count": 7,
   "metadata": {},
   "outputs": [],
   "source": [
    "### Clean out old data ?\n",
    "# for table in Salesforce.model_d.keys():\n",
    "#     sf.delete_sf_objects(table)"
   ]
  },
  {
   "cell_type": "code",
   "execution_count": 8,
   "metadata": {},
   "outputs": [
    {
     "name": "stdout",
     "output_type": "stream",
     "text": [
      "Directory 'atms_download' already exists.\n",
      "my id is qwh3m9re\n",
      "111111\n",
      "we have contact_id 111111 and obj is sales\n",
      "http://crm-api-telus.atmsplus.com/api/sales/contact/111111\n",
      "[{'saleKey': '53603', 'saleAmount': '24.9900', 'paymentAmount': '24.9900', 'saleDate': '2002-02-02T17:33:53.653', 'active': True, 'terminalKey': 2, 'ticketCount': 0, 'eventDate': None, 'booking': {'bookingId': 6543, 'bookingContactKey': 26237, 'bookingContactType': 'Primary     ', 'contactKey': 111111, 'contactIndividualKey': 106229, 'contactOrganizationKey': 0, 'displayName': 'Hickson, Jill', 'firstName': 'Jill', 'lastName': 'Hickson', 'email': None, 'phone': '7804325695'}, 'saleComment': None, 'saleDetails': [{'saleDetailId': 134933, 'saleId': 53603, 'itemKey': 263, 'scheduleKey': 20264, 'rateKey': 1, 'categoryKey': 1, 'itemQuantity': 1, 'pricingPriceKey': 316, 'itemPrice': 4.225, 'itemTotal': 4.23, 'couponTotal': 0.0, 'discountTotal': 0.0, 'total': 6.03, 'revenueDate': '2002-02-11T18:00:00', 'refundReasonKey': None, 'systemPriceOverride': 'N', 'membershipTermKey': 19101, 'taxTotal': 0.3, 'surchargeTotal': 1.5, 'surchargeTaxTotal': 0.0, 'pendingShiftKey': 1827, 'pendingTerminalKey': 2, 'pendingDateTimeStamp': '2002-02-02T17:33:54.217', 'pendingUser': 'stewad              ', 'finalStatus': 1, 'finalShiftKey': 1895, 'finalTerminalKey': 3, 'finalDateTimeStamp': '2002-02-11T16:46:28.593', 'finalUser': 'moores              ', 'refundQuantity': 0, 'firstScheduleDetailKey': 20509, 'itemDescription': 'Bears', 'rateDescription': 'Public', 'categoryDescription': 'Adult', 'scheduleDate': '2002-02-11T18:00:00'}, {'saleDetailId': 134934, 'saleId': 53603, 'itemKey': 263, 'scheduleKey': 20264, 'rateKey': 1, 'categoryKey': 1, 'itemQuantity': 1, 'pricingPriceKey': 316, 'itemPrice': 4.225, 'itemTotal': 4.23, 'couponTotal': 0.0, 'discountTotal': 0.0, 'total': 6.03, 'revenueDate': '2002-02-11T18:00:00', 'refundReasonKey': None, 'systemPriceOverride': 'N', 'membershipTermKey': 19101, 'taxTotal': 0.3, 'surchargeTotal': 1.5, 'surchargeTaxTotal': 0.0, 'pendingShiftKey': 1827, 'pendingTerminalKey': 2, 'pendingDateTimeStamp': '2002-02-02T17:33:54.28', 'pendingUser': 'stewad              ', 'finalStatus': 1, 'finalShiftKey': 1895, 'finalTerminalKey': 3, 'finalDateTimeStamp': '2002-02-11T16:46:28.64', 'finalUser': 'moores              ', 'refundQuantity': 0, 'firstScheduleDetailKey': 20509, 'itemDescription': 'Bears', 'rateDescription': 'Public', 'categoryDescription': 'Adult', 'scheduleDate': '2002-02-11T18:00:00'}, {'saleDetailId': 134935, 'saleId': 53603, 'itemKey': 263, 'scheduleKey': 20264, 'rateKey': 1, 'categoryKey': 2, 'itemQuantity': 1, 'pricingPriceKey': 317, 'itemPrice': 3.225, 'itemTotal': 3.23, 'couponTotal': 0.0, 'discountTotal': 0.0, 'total': 3.96, 'revenueDate': '2002-02-11T18:00:00', 'refundReasonKey': None, 'systemPriceOverride': 'N', 'membershipTermKey': 19101, 'taxTotal': 0.23, 'surchargeTotal': 0.5, 'surchargeTaxTotal': 0.0, 'pendingShiftKey': 1827, 'pendingTerminalKey': 2, 'pendingDateTimeStamp': '2002-02-02T17:33:54.34', 'pendingUser': 'stewad              ', 'finalStatus': 1, 'finalShiftKey': 1895, 'finalTerminalKey': 3, 'finalDateTimeStamp': '2002-02-11T16:46:28.687', 'finalUser': 'moores              ', 'refundQuantity': 0, 'firstScheduleDetailKey': 20509, 'itemDescription': 'Bears', 'rateDescription': 'Public', 'categoryDescription': 'Child (3 to 12)', 'scheduleDate': '2002-02-11T18:00:00'}, {'saleDetailId': 134936, 'saleId': 53603, 'itemKey': 263, 'scheduleKey': 20264, 'rateKey': 1, 'categoryKey': 2, 'itemQuantity': 1, 'pricingPriceKey': 317, 'itemPrice': 3.225, 'itemTotal': 3.23, 'couponTotal': 0.0, 'discountTotal': 0.0, 'total': 3.96, 'revenueDate': '2002-02-11T18:00:00', 'refundReasonKey': None, 'systemPriceOverride': 'N', 'membershipTermKey': 19101, 'taxTotal': 0.23, 'surchargeTotal': 0.5, 'surchargeTaxTotal': 0.0, 'pendingShiftKey': 1827, 'pendingTerminalKey': 2, 'pendingDateTimeStamp': '2002-02-02T17:33:54.42', 'pendingUser': 'stewad              ', 'finalStatus': 1, 'finalShiftKey': 1895, 'finalTerminalKey': 3, 'finalDateTimeStamp': '2002-02-11T16:46:28.733', 'finalUser': 'moores              ', 'refundQuantity': 0, 'firstScheduleDetailKey': 20509, 'itemDescription': 'Bears', 'rateDescription': 'Public', 'categoryDescription': 'Child (3 to 12)', 'scheduleDate': '2002-02-11T18:00:00'}, {'saleDetailId': 134937, 'saleId': 53603, 'itemKey': 202, 'scheduleKey': 20266, 'rateKey': 1, 'categoryKey': 2, 'itemQuantity': 2, 'pricingPriceKey': 1206, 'itemPrice': 2.34, 'itemTotal': 4.68, 'couponTotal': 0.0, 'discountTotal': 0.0, 'total': 5.01, 'revenueDate': '2002-02-11T17:00:00', 'refundReasonKey': None, 'systemPriceOverride': 'N', 'membershipTermKey': None, 'taxTotal': 0.33, 'surchargeTotal': 0.0, 'surchargeTaxTotal': 0.0, 'pendingShiftKey': 1827, 'pendingTerminalKey': 2, 'pendingDateTimeStamp': '2002-02-02T17:35:00.903', 'pendingUser': 'stewad              ', 'finalStatus': 1, 'finalShiftKey': 1895, 'finalTerminalKey': 3, 'finalDateTimeStamp': '2002-02-11T16:46:28.78', 'finalUser': 'moores              ', 'refundQuantity': 0, 'firstScheduleDetailKey': 20511, 'itemDescription': 'Pizza 73 Reception - Members Night', 'rateDescription': 'Public', 'categoryDescription': 'Child (3 to 12)', 'scheduleDate': '2002-02-11T17:00:00'}], 'tickets': []}]\n",
      "set with []\n",
      "111111\n",
      "we have contact_id 111111 and obj is contacts\n",
      "we have contact_id and obj is contacts\n",
      "ATMS_api.get_telus_data :  http://crm-api-telus.atmsplus.com/api/contacts/111111\n",
      "http://crm-api-telus.atmsplus.com/api/contacts/111111\n",
      "{'contactId': 111111, 'contactType': 'Individual', 'username': None, 'createdDate': '2001-12-31T11:37:23.903', 'updateDate': '2011-04-12T16:01:10.667', 'emailOptIn': 'N', 'mailOptIn': 'N', 'phoneOptIn': 'N', 'contactIndividualKey': 106229, 'firstName': 'Jill', 'lastName': 'Hickson', 'middleName': None, 'birthDate': '0001-01-01T00:00:00', 'contactOrganizationKey': 0, 'organizationName': None, 'addresses': [{'addressId': 93418, 'contactKey': 111111, 'addressType': 'Home', 'line1': '134 Michener Park NW', 'line2': None, 'line3': None, 'country': None, 'province': 'AB', 'county': None, 'city': 'Edmonton', 'postalZipCode': 'T6H 4M4'}], 'alerts': [], 'contactTypes': [], 'emails': [], 'faxes': [], 'phones': [{'phoneId': 215756, 'contactKey': 111111, 'phoneType': 'Home', 'phoneNumber': '7804325695', 'extension': None}, {'phoneId': 215757, 'contactKey': 111111, 'phoneType': 'Business', 'phoneNumber': '7804529100', 'extension': None}]}\n",
      "set with []\n",
      "111111\n",
      "we have contact_id 111111 and obj is memberships\n",
      "http://crm-api-telus.atmsplus.com/api/memberships/contact/111111\n",
      "[{'membershipId': 7387, 'memberSince': '2001-12-31T11:34:53.84', 'updateDate': '2001-12-31T11:30:34.873', 'membershipTerms': [{'membershipTermId': 19101, 'membershipKey': 7387, 'effectiveDate': '2001-12-31T00:00:00', 'expiryDate': '2002-12-31T23:59:59', 'membershipType': 'Family Membership', 'upgradeFromTermKey': None, 'giftMembership': False, 'refunded': False, 'saleDetailKey': 115454, 'itemKey': 7, 'membershipMembers': [{'membershipMemberId': 40895, 'membershipTermKey': 19101, 'cardNumber': 1, 'membershipNumber': '00738701', 'cardStatus': 'Active', 'contactKey': 111110, 'displayName': 'Hickson, Clive'}, {'membershipMemberId': 40896, 'membershipTermKey': 19101, 'cardNumber': 2, 'membershipNumber': '00738702', 'cardStatus': 'Active', 'contactKey': 111111, 'displayName': 'Hickson, Jill'}, {'membershipMemberId': 40897, 'membershipTermKey': 19101, 'cardNumber': 3, 'membershipNumber': '00738703', 'cardStatus': 'Active', 'contactKey': 111112, 'displayName': 'Hickson, Selena'}, {'membershipMemberId': 40898, 'membershipTermKey': 19101, 'cardNumber': 4, 'membershipNumber': '00738704', 'cardStatus': 'Active', 'contactKey': 111113, 'displayName': 'Hickson, Tim'}]}]}, {'membershipId': 9994, 'memberSince': '2004-02-03T13:28:11.747', 'updateDate': '2004-02-03T13:25:47.92', 'membershipTerms': [{'membershipTermId': 23713, 'membershipKey': 9994, 'effectiveDate': '2004-02-03T00:00:00', 'expiryDate': '2004-12-31T23:59:59', 'membershipType': 'Staff Over 600 Hours', 'upgradeFromTermKey': None, 'giftMembership': False, 'refunded': False, 'saleDetailKey': 472612, 'itemKey': 84, 'membershipMembers': [{'membershipMemberId': 48843, 'membershipTermKey': 23713, 'cardNumber': 1, 'membershipNumber': '00999401', 'cardStatus': 'Active', 'contactKey': 111111, 'displayName': 'Hickson, Jill'}]}, {'membershipTermId': 25791, 'membershipKey': 9994, 'effectiveDate': '2005-01-11T00:00:00', 'expiryDate': '2005-12-31T23:59:59', 'membershipType': 'Staff Over 600 Hours', 'upgradeFromTermKey': None, 'giftMembership': False, 'refunded': False, 'saleDetailKey': 638319, 'itemKey': 84, 'membershipMembers': [{'membershipMemberId': 48843, 'membershipTermKey': 25791, 'cardNumber': 1, 'membershipNumber': '00999401', 'cardStatus': 'Active', 'contactKey': 111111, 'displayName': 'Hickson, Jill'}]}, {'membershipTermId': 28503, 'membershipKey': 9994, 'effectiveDate': '2006-01-06T00:00:00', 'expiryDate': '2006-12-31T23:59:59', 'membershipType': 'Staff Over 600 Hours', 'upgradeFromTermKey': None, 'giftMembership': False, 'refunded': False, 'saleDetailKey': 821976, 'itemKey': 84, 'membershipMembers': [{'membershipMemberId': 48843, 'membershipTermKey': 28503, 'cardNumber': 1, 'membershipNumber': '00999401', 'cardStatus': 'Active', 'contactKey': 111111, 'displayName': 'Hickson, Jill'}]}, {'membershipTermId': 31865, 'membershipKey': 9994, 'effectiveDate': '2007-01-11T00:00:00', 'expiryDate': '2007-12-31T23:59:59', 'membershipType': 'Staff Over 600 Hours', 'upgradeFromTermKey': None, 'giftMembership': False, 'refunded': False, 'saleDetailKey': 1002392, 'itemKey': 84, 'membershipMembers': [{'membershipMemberId': 48843, 'membershipTermKey': 31865, 'cardNumber': 1, 'membershipNumber': '00999401', 'cardStatus': 'Active', 'contactKey': 111111, 'displayName': 'Hickson, Jill'}]}]}]\n",
      "set with []\n",
      "File 'contacts.json' written successfully. to /Users/josephmann/Documents/Github/doubledot/atms_download/qwh3m9re\n",
      "File 'memberships.json' written successfully. to /Users/josephmann/Documents/Github/doubledot/atms_download/qwh3m9re\n",
      "File 'sales.json' written successfully. to /Users/josephmann/Documents/Github/doubledot/atms_download/qwh3m9re\n",
      "File 'items.json' written successfully. to /Users/josephmann/Documents/Github/doubledot/atms_download/qwh3m9re\n"
     ]
    }
   ],
   "source": [
    "#| eval: false\n",
    "\n",
    "\n",
    "# 415645 73012 105765 and 342765 are also good contacts to bring in when you are rea and organization 133156\n",
    "pelton_ids = [ 4708, 119430, 119431, 144164,144165, 144166, 144167, 415645, 73012, 105765, 342765 ]\n",
    "pelton_ids = [ 111111 ]\n",
    "sf.retrieve_atms_records_by_contactId(pelton_ids)\n",
    "\n",
    "# number of objects in dictionary\n",
    "assert len(sf.atms.obj_d) == len(['sales', 'contacts', 'memberships','items']), f\"wrong number of objects in dictionary {sf.atms.obj_d.keys()}\"\n",
    "# number of files in directory\n",
    "assert len(os.listdir(sf.atms.download_dir)) == len(['sales', 'contacts', 'memberships','items']), f\"wrong number of files in directory {sf.atms.download_dir}\"\n",
    "\n"
   ]
  },
  {
   "cell_type": "code",
   "execution_count": null,
   "metadata": {},
   "outputs": [],
   "source": []
  },
  {
   "cell_type": "code",
   "execution_count": null,
   "metadata": {},
   "outputs": [
    {
     "name": "stdout",
     "output_type": "stream",
     "text": [
      "Salesforce.process_objects: sf_object_s : Contact\n",
      "Salesforce.process_objects: sf_object_s : Membership__c\n",
      "Salesforce.process_objects: sf_object_s : MembershipTerm__c\n",
      "Salesforce.process_objects: sf_object_s : MembershipMember__c\n",
      "Salesforce.process_objects: sf_object_s : Sale__c\n",
      "Salesforce.process_objects: sf_object_s : SaleDetail__c\n",
      "Salesforce.process_objects: sf_object_s : Ticket__c\n",
      "this should fail\n",
      "and it did. good.\n",
      "dropping duplicates for  Contact\n",
      "AFTER dropping duplicates for  Contact\n",
      "dropping duplicates for  Membership__c\n",
      "AFTER dropping duplicates for  Membership__c\n",
      "dropping duplicates for  MembershipTerm__c\n",
      "AFTER dropping duplicates for  MembershipTerm__c\n",
      "dropping duplicates for  MembershipMember__c\n",
      "AFTER dropping duplicates for  MembershipMember__c\n",
      "dropping duplicates for  Sale__c\n",
      "AFTER dropping duplicates for  Sale__c\n",
      "dropping duplicates for  SaleDetail__c\n",
      "AFTER dropping duplicates for  SaleDetail__c\n",
      "dropping duplicates for  Ticket__c\n",
      "AFTER dropping duplicates for  Ticket__c\n",
      "\n",
      " ====================================\n",
      "duplicate ext id loop:  Contact\n",
      "\n",
      " ====================================\n",
      "duplicate ext id loop:  Membership__c\n",
      "\n",
      " ====================================\n",
      "duplicate ext id loop:  MembershipTerm__c\n",
      "MembershipTerm__c --> Membership__c   37  -->  37\n",
      "\n",
      " ====================================\n",
      "duplicate ext id loop:  MembershipMember__c\n",
      "MembershipMember__c --> Contact   78  -->  51\n",
      "MembershipMember__c --> MembershipTerm__c   51  -->  51\n",
      "\n",
      " ====================================\n",
      "duplicate ext id loop:  Sale__c\n",
      "Sale__c --> Contact   116  -->  116\n",
      "\n",
      " ====================================\n",
      "duplicate ext id loop:  SaleDetail__c\n",
      "SaleDetail__c --> MembershipTerm__c   391  -->  47\n",
      "SaleDetail__c --> Sale__c   47  -->  47\n",
      "\n",
      " ====================================\n",
      "duplicate ext id loop:  Ticket__c\n",
      "Ticket__c --> Sale__c   279  -->  279\n",
      "Ticket__c --> SaleDetail__c   279  -->  21\n",
      "this should NOT fail\n",
      "finally, it did not fail. Good.\n",
      "Contact 11\n",
      "Contact 11 11\n",
      "Membership__c 8\n",
      "Membership__c 8 8\n",
      "MembershipTerm__c 36\n",
      "MembershipTerm__c 37 36\n",
      "MembershipMember__c * 51 51\n",
      "Sale__c 19\n",
      "Sale__c 116 19\n",
      "SaleDetail__c 21\n",
      "SaleDetail__c 47 21\n",
      "Ticket__c * 21 21\n"
     ]
    }
   ],
   "source": [
    "#| eval: false\n",
    "\n",
    "# random comment\n",
    "df_d = sf.perfect_data()\n",
    "# for k, v in _d.items():\n",
    "#     display(v)"
   ]
  },
  {
   "cell_type": "code",
   "execution_count": 96,
   "metadata": {},
   "outputs": [
    {
     "name": "stdout",
     "output_type": "stream",
     "text": [
      "dict_keys(['Contact', 'Membership__c', 'MembershipTerm__c', 'Sale__c', 'SaleDetail__c'])\n"
     ]
    },
    {
     "ename": "KeyError",
     "evalue": "'MembershipMember__c'",
     "output_type": "error",
     "traceback": [
      "\u001b[0;31m---------------------------------------------------------------------------\u001b[0m",
      "\u001b[0;31mKeyError\u001b[0m                                  Traceback (most recent call last)",
      "Cell \u001b[0;32mIn[96], line 3\u001b[0m\n\u001b[1;32m      1\u001b[0m \u001b[39m#| eval: false\u001b[39;00m\n\u001b[1;32m      2\u001b[0m \u001b[39mprint\u001b[39m(df_d\u001b[39m.\u001b[39mkeys())\n\u001b[0;32m----> 3\u001b[0m sf\u001b[39m.\u001b[39;49mwrite_dict_to_csv(df_d )\n\u001b[1;32m      4\u001b[0m sf\u001b[39m.\u001b[39mupload_csv_to_sf(clean_all\u001b[39m=\u001b[39m\u001b[39mTrue\u001b[39;00m)\n",
      "File \u001b[0;32m~/Documents/Github/doubledot/doubledot/crema_sf.py:877\u001b[0m, in \u001b[0;36mwrite_dict_to_csv\u001b[0;34m(self, df2_d)\u001b[0m\n\u001b[1;32m    875\u001b[0m \u001b[39mfor\u001b[39;00m k \u001b[39min\u001b[39;00m Salesforce\u001b[39m.\u001b[39mmodel_d\u001b[39m.\u001b[39mkeys(): \n\u001b[1;32m    876\u001b[0m     \u001b[39mwith\u001b[39;00m \u001b[39mopen\u001b[39m(path\u001b[39m+\u001b[39mk\u001b[39m+\u001b[39m\u001b[39m'\u001b[39m\u001b[39m.csv\u001b[39m\u001b[39m'\u001b[39m, \u001b[39m'\u001b[39m\u001b[39mw\u001b[39m\u001b[39m'\u001b[39m) \u001b[39mas\u001b[39;00m f:\n\u001b[0;32m--> 877\u001b[0m         f\u001b[39m.\u001b[39mwrite(df2_d[k]\u001b[39m.\u001b[39mto_csv(sep\u001b[39m=\u001b[39m\u001b[39m'\u001b[39m\u001b[39m\\t\u001b[39;00m\u001b[39m'\u001b[39m, index\u001b[39m=\u001b[39m\u001b[39mFalse\u001b[39;00m))\n",
      "\u001b[0;31mKeyError\u001b[0m: 'MembershipMember__c'"
     ]
    }
   ],
   "source": [
    "#| eval: false\n",
    "print(df_d.keys())\n",
    "sf.write_dict_to_csv(df_d )\n",
    "sf.upload_csv_to_sf(clean_all=True)"
   ]
  },
  {
   "attachments": {},
   "cell_type": "markdown",
   "metadata": {},
   "source": [
    "## Problems ...\n"
   ]
  },
  {
   "cell_type": "code",
   "execution_count": 71,
   "metadata": {},
   "outputs": [
    {
     "name": "stdout",
     "output_type": "stream",
     "text": [
      "     saleId__c  saleAmount__c  paymentAmount__c              saleDate__c   \n",
      "101     323674          35.14             35.14  2005-10-24T15:58:15.573  \\\n",
      "\n",
      "     active__c  terminalKey__c  booking_bookingId__c   \n",
      "101       True               9                 50870  \\\n",
      "\n",
      "     booking_bookingContactKey__c  booking_contactKey__r.contactId__c   \n",
      "101                        203813                               73012  \\\n",
      "\n",
      "     booking_contactIndividualKey__c  booking_contactOrganizationKey__c   \n",
      "101                            68317                                NaN  \\\n",
      "\n",
      "    booking_displayName__c booking_firstName__c booking_lastName__c   \n",
      "101           Mann, Joseph               Joseph                Mann  \\\n",
      "\n",
      "    booking_email__c  booking_phone__c  \n",
      "101  pubmann@shaw.ca      7.804387e+09  \n",
      "{1728963, 1723492, 1738213, 1811241, 1769387, 1779503, 1810652, 1512308, 1765366, 1083351, 1834422, 1718108, 1598590}\n",
      "13\n",
      "[ 889832 1083351 1512308 1598590 1615641   82192  323674  422399  450945\n",
      " 1718108 1723492 1728963 1738213 1765366 1769387 1779503 1810652 1811241\n",
      " 1834422]\n"
     ]
    },
    {
     "data": {
      "text/plain": [
       "{1083351,\n",
       " 1512308,\n",
       " 1598590,\n",
       " 1718108,\n",
       " 1723492,\n",
       " 1728963,\n",
       " 1738213,\n",
       " 1765366,\n",
       " 1769387,\n",
       " 1779503,\n",
       " 1810652,\n",
       " 1811241,\n",
       " 1834422}"
      ]
     },
     "execution_count": 71,
     "metadata": {},
     "output_type": "execute_result"
    }
   ],
   "source": [
    "#|eval: false\n",
    "\n",
    "# why does saleId__c 889832 not have any tickets or saleDetail pointing at it? or me: 82192 323674 (I am 73012)\n",
    "# why does this point from saleId and not saleKey?\n",
    "from doubledot.crema_sf import fields_pointing_to_foreign_key, get_pointing_foreign_key_values,reduce_to_referenced_rows\n",
    "\n",
    "_df = df_d['Sale__c']\n",
    "print(_df.loc[_df['saleId__c'] == 323674, :])\n",
    "\n",
    "print(get_pointing_foreign_key_values('saleId__c', df_d))\n",
    "pointing = get_pointing_foreign_key_values('saleId__c', df_d)\n",
    "print(len(pointing))\n",
    "\n",
    "print(_df['saleId__c'].unique())\n",
    "externals = _df['saleId__c'].unique()\n",
    "\n",
    "pointing.intersection(externals)\n",
    "      "
   ]
  },
  {
   "cell_type": "code",
   "execution_count": null,
   "metadata": {},
   "outputs": [],
   "source": [
    "reduce_to_referenced_rows(df_d)\n"
   ]
  },
  {
   "cell_type": "code",
   "execution_count": 10,
   "metadata": {},
   "outputs": [
    {
     "data": {
      "text/plain": [
       "194    1083351\n",
       "195    1083351\n",
       "196    1083351\n",
       "197    1083351\n",
       "198    1083351\n",
       "199    1083351\n",
       "200    1512308\n",
       "201    1512308\n",
       "202    1598590\n",
       "203    1598590\n",
       "267    1718108\n",
       "268    1723492\n",
       "269    1728963\n",
       "270    1738213\n",
       "271    1738213\n",
       "273    1765366\n",
       "274    1769387\n",
       "275    1779503\n",
       "276    1810652\n",
       "277    1811241\n",
       "278    1834422\n",
       "Name: saleKey__r.saleId__c, dtype: int64"
      ]
     },
     "execution_count": 10,
     "metadata": {},
     "output_type": "execute_result"
    }
   ],
   "source": [
    "_d['Ticket__c']['saleKey__r.saleId__c']"
   ]
  },
  {
   "cell_type": "code",
   "execution_count": null,
   "metadata": {},
   "outputs": [],
   "source": []
  }
 ],
 "metadata": {
  "kernelspec": {
   "display_name": "python3",
   "language": "python",
   "name": "python3"
  },
  "language_info": {
   "codemirror_mode": {
    "name": "ipython",
    "version": 3
   },
   "file_extension": ".py",
   "mimetype": "text/x-python",
   "name": "python",
   "nbconvert_exporter": "python",
   "pygments_lexer": "ipython3",
   "version": "3.11.3"
  }
 },
 "nbformat": 4,
 "nbformat_minor": 2
}
