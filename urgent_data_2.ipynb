{
 "cells": [
  {
   "attachments": {},
   "cell_type": "markdown",
   "metadata": {},
   "source": [
    "## Urgent Data \n",
    "> take 2.0"
   ]
  },
  {
   "cell_type": "code",
   "execution_count": 1,
   "metadata": {},
   "outputs": [],
   "source": [
    "%load_ext autoreload\n",
    "%autoreload 2"
   ]
  },
  {
   "cell_type": "code",
   "execution_count": 2,
   "metadata": {},
   "outputs": [
    {
     "name": "stdout",
     "output_type": "stream",
     "text": [
      "Directory 'atms_download' already exists.\n",
      "Directory 'atms_upload' already exists.\n"
     ]
    }
   ],
   "source": [
    "from doubledot import *\n",
    "import pandas as pd\n",
    "from time import sleep\n",
    "import os"
   ]
  },
  {
   "cell_type": "code",
   "execution_count": 3,
   "metadata": {},
   "outputs": [],
   "source": [
    "sf = Salesforce()"
   ]
  },
  {
   "cell_type": "code",
   "execution_count": 4,
   "metadata": {},
   "outputs": [],
   "source": [
    "### Clean out old data ?\n",
    "# for table in Salesforce.model_d.keys():\n",
    "#     sf.delete_sf_objects(table)"
   ]
  },
  {
   "cell_type": "code",
   "execution_count": 5,
   "metadata": {},
   "outputs": [
    {
     "name": "stdout",
     "output_type": "stream",
     "text": [
      "Directory 'atms_download' already exists.\n",
      "my id is ylfbkp4c\n",
      "302406\n",
      "we have contact_id 302406 and obj is sales\n",
      "http://crm-api-telus.atmsplus.com/api/sales/contact/302406\n",
      "[{'saleKey': '1177723', 'saleAmount': '96.3400', 'paymentAmount': '96.3400', 'saleDate': '2014-03-07T22:43:21.973', 'active': True, 'terminalKey': 50, 'ticketCount': 5, 'eventDate': '2014-03-08T16:35:00', 'booking': {'bookingId': 262193, 'bookingContactKey': 688235, 'bookingContactType': 'Primary     ', 'contactKey': 302406, 'contactIndividualKey': 293714, 'contactOrganizationKey': 0, 'displayName': 'McNeill, John', 'firstName': 'John', 'lastName': 'McNeill', 'email': 'lliencmj@live.ca', 'phone': '7804311915'}, 'saleComment': None, 'saleDetails': [{'saleDetailId': 3866250, 'saleId': 1177723, 'itemKey': 1725, 'scheduleKey': 371842, 'rateKey': 1, 'categoryKey': 1, 'itemQuantity': 4, 'pricingPriceKey': 15864, 'itemPrice': 15.95, 'itemTotal': 63.8, 'couponTotal': 0.0, 'discountTotal': 0.0, 'total': 79.59, 'revenueDate': '2014-03-08T16:35:00', 'refundReasonKey': None, 'systemPriceOverride': 'N', 'membershipTermKey': None, 'taxTotal': 3.19, 'surchargeTotal': 12.0, 'surchargeTaxTotal': 0.6, 'pendingShiftKey': 43180, 'pendingTerminalKey': 50, 'pendingDateTimeStamp': '2014-03-07T22:43:22.723', 'pendingUser': 'webuser             ', 'finalStatus': 1, 'finalShiftKey': 43180, 'finalTerminalKey': 50, 'finalDateTimeStamp': '2014-03-07T22:44:12.473', 'finalUser': 'webuser             ', 'refundQuantity': 0, 'firstScheduleDetailKey': 374041, 'itemDescription': 'Gravity IMAX 3D', 'rateDescription': 'Public', 'categoryDescription': 'Adult', 'scheduleDate': '2014-03-08T16:35:00'}, {'saleDetailId': 3866251, 'saleId': 1177723, 'itemKey': 1398, 'scheduleKey': None, 'rateKey': 8, 'categoryKey': 9, 'itemQuantity': 1, 'pricingPriceKey': 13760, 'itemPrice': 0.0, 'itemTotal': 0.0, 'couponTotal': 0.0, 'discountTotal': 0.0, 'total': 0.0, 'revenueDate': '2014-03-07T22:44:12', 'refundReasonKey': None, 'systemPriceOverride': 'N', 'membershipTermKey': None, 'taxTotal': 0.0, 'surchargeTotal': 0.0, 'surchargeTaxTotal': 0.0, 'pendingShiftKey': 43180, 'pendingTerminalKey': 50, 'pendingDateTimeStamp': '2014-03-07T22:43:22.953', 'pendingUser': 'webuser             ', 'finalStatus': 1, 'finalShiftKey': 43180, 'finalTerminalKey': 50, 'finalDateTimeStamp': '2014-03-07T22:44:12.473', 'finalUser': 'webuser             ', 'refundQuantity': 0, 'firstScheduleDetailKey': None, 'itemDescription': 'Print At Home/Show on Mobile', 'rateDescription': 'Item', 'categoryDescription': 'Item', 'scheduleDate': None}, {'saleDetailId': 3867960, 'saleId': 1177723, 'itemKey': 1725, 'scheduleKey': 371842, 'rateKey': 1, 'categoryKey': 1, 'itemQuantity': 1, 'pricingPriceKey': 15863, 'itemPrice': 15.95, 'itemTotal': 15.95, 'couponTotal': 0.0, 'discountTotal': 0.0, 'total': 16.75, 'revenueDate': '2014-03-08T16:35:00', 'refundReasonKey': None, 'systemPriceOverride': 'N', 'membershipTermKey': None, 'taxTotal': 0.8, 'surchargeTotal': 0.0, 'surchargeTaxTotal': 0.0, 'pendingShiftKey': 43206, 'pendingTerminalKey': 67, 'pendingDateTimeStamp': '2014-03-08T14:16:54.587', 'pendingUser': 'Higgid              ', 'finalStatus': 1, 'finalShiftKey': 43219, 'finalTerminalKey': 26, 'finalDateTimeStamp': '2014-03-08T16:19:58.89', 'finalUser': 'james               ', 'refundQuantity': 0, 'firstScheduleDetailKey': 374041, 'itemDescription': 'Gravity IMAX 3D', 'rateDescription': 'Public', 'categoryDescription': 'Adult', 'scheduleDate': '2014-03-08T16:35:00'}], 'tickets': [{'ticketKey': 1530658, 'saleKey': 1177723, 'saleDetailKey': 3866250, 'itemKey': 1725, 'itemDescription': 'Gravity IMAX 3D', 'itemShort': None, 'itemType': None, 'scheduleKey': 371842, 'scheduleDate': '2014-03-08T16:35:00', 'facilityKey': 0, 'facilityDescription': None, 'facilityShort': None, 'ticketText': None, 'rate': 'Public', 'category': 'Adult', 'cancelled': None, 'redeemed': None, 'refunded': None, 'isValid': False, 'validationText': None, 'redeemedCount': 0, 'ticketDetailKey': 1530676, 'scheduleDetailKey': 374041, 'seats': 0, 'seatsSold': 0, 'totalTicketsScanned': 0, 'scheduleEndDate': '2014-03-08T18:35:00', 'ticketStatus': 'Redeemed', 'ticketDisplay': 'TT1530658', 'ticketSection': None, 'ticketRow': None, 'ticketSeat': None, 'ticketPrefix': 'TT', 'active': False, 'cancelable': False, 'contactIndividualKey': 293714, 'individualKey': 302406, 'individualName': 'McNeill, John', 'contactOrganizationKey': None, 'organizationKey': None, 'organizationName': None, 'reschedulable': False, 'rescheduleLead': None, 'rescheduleGrace': None, 'rescheduleCount': None, 'rescheduleLimitHours': None, 'comment': None, 'transferRequestKey': 0, 'recipientEmail': None}, {'ticketKey': 1530659, 'saleKey': 1177723, 'saleDetailKey': 3866250, 'itemKey': 1725, 'itemDescription': 'Gravity IMAX 3D', 'itemShort': None, 'itemType': None, 'scheduleKey': 371842, 'scheduleDate': '2014-03-08T16:35:00', 'facilityKey': 0, 'facilityDescription': None, 'facilityShort': None, 'ticketText': None, 'rate': 'Public', 'category': 'Adult', 'cancelled': None, 'redeemed': None, 'refunded': None, 'isValid': False, 'validationText': None, 'redeemedCount': 0, 'ticketDetailKey': 1530677, 'scheduleDetailKey': 374041, 'seats': 0, 'seatsSold': 0, 'totalTicketsScanned': 0, 'scheduleEndDate': '2014-03-08T18:35:00', 'ticketStatus': 'Redeemed', 'ticketDisplay': 'TT1530659', 'ticketSection': None, 'ticketRow': None, 'ticketSeat': None, 'ticketPrefix': 'TT', 'active': False, 'cancelable': False, 'contactIndividualKey': 293714, 'individualKey': 302406, 'individualName': 'McNeill, John', 'contactOrganizationKey': None, 'organizationKey': None, 'organizationName': None, 'reschedulable': False, 'rescheduleLead': None, 'rescheduleGrace': None, 'rescheduleCount': None, 'rescheduleLimitHours': None, 'comment': None, 'transferRequestKey': 0, 'recipientEmail': None}, {'ticketKey': 1530660, 'saleKey': 1177723, 'saleDetailKey': 3866250, 'itemKey': 1725, 'itemDescription': 'Gravity IMAX 3D', 'itemShort': None, 'itemType': None, 'scheduleKey': 371842, 'scheduleDate': '2014-03-08T16:35:00', 'facilityKey': 0, 'facilityDescription': None, 'facilityShort': None, 'ticketText': None, 'rate': 'Public', 'category': 'Adult', 'cancelled': None, 'redeemed': None, 'refunded': None, 'isValid': False, 'validationText': None, 'redeemedCount': 0, 'ticketDetailKey': 1530678, 'scheduleDetailKey': 374041, 'seats': 0, 'seatsSold': 0, 'totalTicketsScanned': 0, 'scheduleEndDate': '2014-03-08T18:35:00', 'ticketStatus': 'Redeemed', 'ticketDisplay': 'TT1530660', 'ticketSection': None, 'ticketRow': None, 'ticketSeat': None, 'ticketPrefix': 'TT', 'active': False, 'cancelable': False, 'contactIndividualKey': 293714, 'individualKey': 302406, 'individualName': 'McNeill, John', 'contactOrganizationKey': None, 'organizationKey': None, 'organizationName': None, 'reschedulable': False, 'rescheduleLead': None, 'rescheduleGrace': None, 'rescheduleCount': None, 'rescheduleLimitHours': None, 'comment': None, 'transferRequestKey': 0, 'recipientEmail': None}, {'ticketKey': 1530661, 'saleKey': 1177723, 'saleDetailKey': 3866250, 'itemKey': 1725, 'itemDescription': 'Gravity IMAX 3D', 'itemShort': None, 'itemType': None, 'scheduleKey': 371842, 'scheduleDate': '2014-03-08T16:35:00', 'facilityKey': 0, 'facilityDescription': None, 'facilityShort': None, 'ticketText': None, 'rate': 'Public', 'category': 'Adult', 'cancelled': None, 'redeemed': None, 'refunded': None, 'isValid': False, 'validationText': None, 'redeemedCount': 0, 'ticketDetailKey': 1530679, 'scheduleDetailKey': 374041, 'seats': 0, 'seatsSold': 0, 'totalTicketsScanned': 0, 'scheduleEndDate': '2014-03-08T18:35:00', 'ticketStatus': 'Redeemed', 'ticketDisplay': 'TT1530661', 'ticketSection': None, 'ticketRow': None, 'ticketSeat': None, 'ticketPrefix': 'TT', 'active': False, 'cancelable': False, 'contactIndividualKey': 293714, 'individualKey': 302406, 'individualName': 'McNeill, John', 'contactOrganizationKey': None, 'organizationKey': None, 'organizationName': None, 'reschedulable': False, 'rescheduleLead': None, 'rescheduleGrace': None, 'rescheduleCount': None, 'rescheduleLimitHours': None, 'comment': None, 'transferRequestKey': 0, 'recipientEmail': None}, {'ticketKey': 1533857, 'saleKey': 1177723, 'saleDetailKey': 3867960, 'itemKey': 1725, 'itemDescription': 'Gravity IMAX 3D', 'itemShort': None, 'itemType': None, 'scheduleKey': 371842, 'scheduleDate': '2014-03-08T16:35:00', 'facilityKey': 0, 'facilityDescription': None, 'facilityShort': None, 'ticketText': None, 'rate': 'Public', 'category': 'Adult', 'cancelled': None, 'redeemed': None, 'refunded': None, 'isValid': False, 'validationText': None, 'redeemedCount': 0, 'ticketDetailKey': 1533875, 'scheduleDetailKey': 374041, 'seats': 0, 'seatsSold': 0, 'totalTicketsScanned': 0, 'scheduleEndDate': '2014-03-08T18:35:00', 'ticketStatus': 'Redeemed', 'ticketDisplay': 'TT1533857', 'ticketSection': None, 'ticketRow': None, 'ticketSeat': None, 'ticketPrefix': 'TT', 'active': False, 'cancelable': False, 'contactIndividualKey': 293714, 'individualKey': 302406, 'individualName': 'McNeill, John', 'contactOrganizationKey': None, 'organizationKey': None, 'organizationName': None, 'reschedulable': False, 'rescheduleLead': None, 'rescheduleGrace': None, 'rescheduleCount': None, 'rescheduleLimitHours': None, 'comment': None, 'transferRequestKey': 0, 'recipientEmail': None}]}]\n",
      "set with []\n",
      "302406\n",
      "we have contact_id 302406 and obj is contacts\n",
      "we have contact_id and obj is contacts\n",
      "ATMS_api.get_telus_data :  http://crm-api-telus.atmsplus.com/api/contacts/302406\n",
      "http://crm-api-telus.atmsplus.com/api/contacts/302406\n",
      "{'contactId': 302406, 'contactType': 'Individual', 'username': 'lliencmj', 'createdDate': '2014-03-07T22:41:15.72', 'updateDate': '2014-03-07T22:41:15.72', 'emailOptIn': 'Y', 'mailOptIn': 'Y', 'phoneOptIn': 'Y', 'contactIndividualKey': 293714, 'firstName': 'John', 'lastName': 'McNeill', 'middleName': None, 'birthDate': '0001-01-01T00:00:00', 'contactOrganizationKey': 0, 'organizationName': None, 'addresses': [{'addressId': 258886, 'contactKey': 302406, 'addressType': 'Business', 'line1': '553 Huntington Hill NW', 'line2': None, 'line3': None, 'country': 'Canada', 'province': 'AB', 'county': None, 'city': 'Edmonton', 'postalZipCode': 'T6H5W6              '}], 'alerts': [], 'contactTypes': [], 'emails': [{'emailId': 119793, 'contactKey': 302406, 'emailType': 'E-Mail', 'address': 'lliencmj@live.ca'}], 'faxes': [], 'phones': [{'phoneId': 413261, 'contactKey': 302406, 'phoneType': 'Business', 'phoneNumber': '7804311915', 'extension': None}]}\n",
      "set with []\n",
      "302406\n",
      "we have contact_id 302406 and obj is memberships\n",
      "http://crm-api-telus.atmsplus.com/api/memberships/contact/302406\n",
      "[]\n",
      "set with []\n",
      "File 'contacts.json' written successfully. to /Users/josephmann/Documents/Github/doubledot/atms_download/ylfbkp4c\n",
      "File 'memberships.json' written successfully. to /Users/josephmann/Documents/Github/doubledot/atms_download/ylfbkp4c\n",
      "File 'sales.json' written successfully. to /Users/josephmann/Documents/Github/doubledot/atms_download/ylfbkp4c\n",
      "File 'items.json' written successfully. to /Users/josephmann/Documents/Github/doubledot/atms_download/ylfbkp4c\n"
     ]
    }
   ],
   "source": [
    "#| eval: false\n",
    "\n",
    "\n",
    "# 415645 73012 105765 and 342765 are also good contacts to bring in when you are rea and organization 133156\n",
    "pelton_ids = [ 4708, 119430, 119431, 144164,144165, 144166, 144167, 415645, 73012, 105765, 342765 ]\n",
    "pelton_ids = [ 302406 ]\n",
    "sf.retrieve_atms_records_by_contactId(pelton_ids)\n",
    "\n",
    "# number of objects in dictionary\n",
    "assert len(sf.atms.obj_d) == len(['sales', 'contacts', 'memberships','items']), f\"wrong number of objects in dictionary {sf.atms.obj_d.keys()}\"\n",
    "# number of files in directory\n",
    "assert len(os.listdir(sf.atms.download_dir)) == len(['sales', 'contacts', 'memberships','items']), f\"wrong number of files in directory {sf.atms.download_dir}\"\n",
    "\n"
   ]
  },
  {
   "cell_type": "code",
   "execution_count": null,
   "metadata": {},
   "outputs": [],
   "source": []
  },
  {
   "cell_type": "code",
   "execution_count": null,
   "metadata": {},
   "outputs": [],
   "source": [
    "#| eval: false\n",
    "\n",
    "# perfect_data is only necessary to remove extrastuff\n",
    "# perfect_data does two things, and it shouldn't: it returns a dict AND it writea a file. Pick a lane!\n",
    "df_d = sf.perfect_data()\n",
    "# for k, v in _d.items():\n",
    "#     display(v)"
   ]
  },
  {
   "cell_type": "code",
   "execution_count": 13,
   "metadata": {},
   "outputs": [
    {
     "name": "stdout",
     "output_type": "stream",
     "text": [
      "Contact contactId__c\n",
      "execute_job\n",
      "Salesforce.process_objects: sf_object_s : Contact\n",
      "Writing 1 records to /Users/josephmann/Documents/Github/doubledot/sf_upload/Contact.csv\n",
      "Created job 7508Y00000nIgFPQA0 for Contact with operation upsert\n",
      "Uploading job 7508Y00000nIgFPQA0 of object Contact\n",
      "Uploaded job 7508Y00000nIgFPQA0 of object Contact with status 201\n",
      "response.text : \n",
      " : \n",
      "close_job response.text :\n",
      " {\"id\":\"7508Y00000nIgFPQA0\",\"operation\":\"upsert\",\"object\":\"Contact\",\"createdById\":\"0058Y00000CIEn9QAH\",\"createdDate\":\"2023-05-28T18:36:10.000+0000\",\"systemModstamp\":\"2023-05-28T18:36:10.000+0000\",\"state\":\"UploadComplete\",\"externalIdFieldName\":\"contactId__c\",\"concurrencyMode\":\"Parallel\",\"contentType\":\"CSV\",\"apiVersion\":57.0}\n",
      "pre loop job status: {'id': '7508Y00000nIgFPQA0', 'operation': 'upsert', 'object': 'Contact', 'createdById': '0058Y00000CIEn9QAH', 'createdDate': '2023-05-28T18:36:10.000+0000', 'systemModstamp': '2023-05-28T18:36:14.000+0000', 'state': 'JobComplete', 'externalIdFieldName': 'contactId__c', 'concurrencyMode': 'Parallel', 'contentType': 'CSV', 'apiVersion': 57.0, 'jobType': 'V2Ingest', 'lineEnding': 'LF', 'columnDelimiter': 'TAB', 'numberRecordsProcessed': 1, 'numberRecordsFailed': 0, 'retries': 0, 'totalProcessingTime': 130, 'apiActiveProcessingTime': 56, 'apexProcessingTime': 0}\n",
      "post loop job status: {'id': '7508Y00000nIgFPQA0', 'operation': 'upsert', 'object': 'Contact', 'createdById': '0058Y00000CIEn9QAH', 'createdDate': '2023-05-28T18:36:10.000+0000', 'systemModstamp': '2023-05-28T18:36:14.000+0000', 'state': 'JobComplete', 'externalIdFieldName': 'contactId__c', 'concurrencyMode': 'Parallel', 'contentType': 'CSV', 'apiVersion': 57.0, 'jobType': 'V2Ingest', 'lineEnding': 'LF', 'columnDelimiter': 'TAB', 'numberRecordsProcessed': 1, 'numberRecordsFailed': 0, 'retries': 0, 'totalProcessingTime': 130, 'apiActiveProcessingTime': 56, 'apexProcessingTime': 0}\n",
      "Failed results (if any):\n",
      "\"sf__Id\"\t\"sf__Error\"\tLastName\tFirstName\tMailingPostalCode\tMailingCity\tMailingStreet\tMailingCountry\tPhone\tEmail\tcontactId__c\n",
      "\n",
      "\"sf__Id\"\t\"sf__Error\"\tLastName\tFirstName\tMailingPostalCode\tMailingCity\tMailingStreet\tMailingCountry\tPhone\tEmail\tcontactId__c\n",
      "\n",
      "Membership__c membershipId__c\n",
      "execute_job\n",
      "Salesforce.process_objects: sf_object_s : Membership__c\n",
      "Writing 0 records to /Users/josephmann/Documents/Github/doubledot/sf_upload/Membership__c.csv\n",
      "Writing 0 records to /Users/josephmann/Documents/Github/doubledot/sf_upload/MembershipTerm__c.csv\n",
      "Writing 0 records to /Users/josephmann/Documents/Github/doubledot/sf_upload/MembershipMember__c.csv\n",
      "Created job 7508Y00000nIfzrQAC for Membership__c with operation upsert\n",
      "Uploading job 7508Y00000nIfzrQAC of object Membership__c\n",
      "Uploaded job 7508Y00000nIfzrQAC of object Membership__c with status 201\n",
      "response.text : \n",
      " : \n",
      "close_job response.text :\n",
      " {\"id\":\"7508Y00000nIfzrQAC\",\"operation\":\"upsert\",\"object\":\"Membership__c\",\"createdById\":\"0058Y00000CIEn9QAH\",\"createdDate\":\"2023-05-28T18:36:21.000+0000\",\"systemModstamp\":\"2023-05-28T18:36:21.000+0000\",\"state\":\"UploadComplete\",\"externalIdFieldName\":\"membershipId__c\",\"concurrencyMode\":\"Parallel\",\"contentType\":\"CSV\",\"apiVersion\":57.0}\n",
      "pre loop job status: {'id': '7508Y00000nIfzrQAC', 'operation': 'upsert', 'object': 'Membership__c', 'createdById': '0058Y00000CIEn9QAH', 'createdDate': '2023-05-28T18:36:21.000+0000', 'systemModstamp': '2023-05-28T18:36:24.000+0000', 'state': 'JobComplete', 'externalIdFieldName': 'membershipId__c', 'concurrencyMode': 'Parallel', 'contentType': 'CSV', 'apiVersion': 57.0, 'jobType': 'V2Ingest', 'lineEnding': 'LF', 'columnDelimiter': 'TAB', 'numberRecordsProcessed': 0, 'numberRecordsFailed': 0, 'retries': 0, 'totalProcessingTime': 0, 'apiActiveProcessingTime': 0, 'apexProcessingTime': 0}\n",
      "waiting for job to complete, try 0\n",
      "waiting status: {'id': '7508Y00000nIfzrQAC', 'operation': 'upsert', 'object': 'Membership__c', 'createdById': '0058Y00000CIEn9QAH', 'createdDate': '2023-05-28T18:36:21.000+0000', 'systemModstamp': '2023-05-28T18:36:24.000+0000', 'state': 'JobComplete', 'externalIdFieldName': 'membershipId__c', 'concurrencyMode': 'Parallel', 'contentType': 'CSV', 'apiVersion': 57.0, 'jobType': 'V2Ingest', 'lineEnding': 'LF', 'columnDelimiter': 'TAB', 'numberRecordsProcessed': 0, 'numberRecordsFailed': 0, 'retries': 0, 'totalProcessingTime': 0, 'apiActiveProcessingTime': 0, 'apexProcessingTime': 0}\n",
      "post loop job status: {'id': '7508Y00000nIfzrQAC', 'operation': 'upsert', 'object': 'Membership__c', 'createdById': '0058Y00000CIEn9QAH', 'createdDate': '2023-05-28T18:36:21.000+0000', 'systemModstamp': '2023-05-28T18:36:24.000+0000', 'state': 'JobComplete', 'externalIdFieldName': 'membershipId__c', 'concurrencyMode': 'Parallel', 'contentType': 'CSV', 'apiVersion': 57.0, 'jobType': 'V2Ingest', 'lineEnding': 'LF', 'columnDelimiter': 'TAB', 'numberRecordsProcessed': 0, 'numberRecordsFailed': 0, 'retries': 0, 'totalProcessingTime': 0, 'apiActiveProcessingTime': 0, 'apexProcessingTime': 0}\n",
      "Failed results (if any):\n",
      "\"sf__Id\"\t\"sf__Error\"\tmembershipId__c\tmemberSince__c\tupdateDate__c\n",
      "\n",
      "\"sf__Id\"\t\"sf__Error\"\tmembershipId__c\tmemberSince__c\tupdateDate__c\n",
      "\n",
      "MembershipTerm__c membershipTermId__c\n",
      "execute_job\n",
      "Salesforce.process_objects: sf_object_s : MembershipTerm__c\n",
      "Writing 0 records to /Users/josephmann/Documents/Github/doubledot/sf_upload/Membership__c.csv\n",
      "Writing 0 records to /Users/josephmann/Documents/Github/doubledot/sf_upload/MembershipTerm__c.csv\n",
      "Writing 0 records to /Users/josephmann/Documents/Github/doubledot/sf_upload/MembershipMember__c.csv\n",
      "Created job 7508Y00000nIfzcQAC for MembershipTerm__c with operation upsert\n",
      "Uploading job 7508Y00000nIfzcQAC of object MembershipTerm__c\n",
      "Uploaded job 7508Y00000nIfzcQAC of object MembershipTerm__c with status 201\n",
      "response.text : \n",
      " : \n",
      "close_job response.text :\n",
      " {\"id\":\"7508Y00000nIfzcQAC\",\"operation\":\"upsert\",\"object\":\"MembershipTerm__c\",\"createdById\":\"0058Y00000CIEn9QAH\",\"createdDate\":\"2023-05-28T18:36:37.000+0000\",\"systemModstamp\":\"2023-05-28T18:36:37.000+0000\",\"state\":\"UploadComplete\",\"externalIdFieldName\":\"membershipTermId__c\",\"concurrencyMode\":\"Parallel\",\"contentType\":\"CSV\",\"apiVersion\":57.0}\n",
      "pre loop job status: {'id': '7508Y00000nIfzcQAC', 'operation': 'upsert', 'object': 'MembershipTerm__c', 'createdById': '0058Y00000CIEn9QAH', 'createdDate': '2023-05-28T18:36:37.000+0000', 'systemModstamp': '2023-05-28T18:36:42.000+0000', 'state': 'JobComplete', 'externalIdFieldName': 'membershipTermId__c', 'concurrencyMode': 'Parallel', 'contentType': 'CSV', 'apiVersion': 57.0, 'jobType': 'V2Ingest', 'lineEnding': 'LF', 'columnDelimiter': 'TAB', 'numberRecordsProcessed': 0, 'numberRecordsFailed': 0, 'retries': 0, 'totalProcessingTime': 0, 'apiActiveProcessingTime': 0, 'apexProcessingTime': 0}\n",
      "waiting for job to complete, try 0\n",
      "waiting status: {'id': '7508Y00000nIfzcQAC', 'operation': 'upsert', 'object': 'MembershipTerm__c', 'createdById': '0058Y00000CIEn9QAH', 'createdDate': '2023-05-28T18:36:37.000+0000', 'systemModstamp': '2023-05-28T18:36:42.000+0000', 'state': 'JobComplete', 'externalIdFieldName': 'membershipTermId__c', 'concurrencyMode': 'Parallel', 'contentType': 'CSV', 'apiVersion': 57.0, 'jobType': 'V2Ingest', 'lineEnding': 'LF', 'columnDelimiter': 'TAB', 'numberRecordsProcessed': 0, 'numberRecordsFailed': 0, 'retries': 0, 'totalProcessingTime': 0, 'apiActiveProcessingTime': 0, 'apexProcessingTime': 0}\n",
      "post loop job status: {'id': '7508Y00000nIfzcQAC', 'operation': 'upsert', 'object': 'MembershipTerm__c', 'createdById': '0058Y00000CIEn9QAH', 'createdDate': '2023-05-28T18:36:37.000+0000', 'systemModstamp': '2023-05-28T18:36:42.000+0000', 'state': 'JobComplete', 'externalIdFieldName': 'membershipTermId__c', 'concurrencyMode': 'Parallel', 'contentType': 'CSV', 'apiVersion': 57.0, 'jobType': 'V2Ingest', 'lineEnding': 'LF', 'columnDelimiter': 'TAB', 'numberRecordsProcessed': 0, 'numberRecordsFailed': 0, 'retries': 0, 'totalProcessingTime': 0, 'apiActiveProcessingTime': 0, 'apexProcessingTime': 0}\n",
      "Failed results (if any):\n",
      "\"sf__Id\"\t\"sf__Error\"\tmembershipTermId__c\tmembershipKey__r.membershipId__c\teffectiveDate__c\texpiryDate__c\tmembershipType__c\tupgradeFromTermKey__c\tgiftMembership__c\trefunded__c\tsaleDetailKey__c\titemKey__c\n",
      "\n",
      "\"sf__Id\"\t\"sf__Error\"\tmembershipTermId__c\tmembershipKey__r.membershipId__c\teffectiveDate__c\texpiryDate__c\tmembershipType__c\tupgradeFromTermKey__c\tgiftMembership__c\trefunded__c\tsaleDetailKey__c\titemKey__c\n",
      "\n",
      "MembershipMember__c membershipMemberId__c\n",
      "execute_job\n",
      "Salesforce.process_objects: sf_object_s : MembershipMember__c\n",
      "Writing 0 records to /Users/josephmann/Documents/Github/doubledot/sf_upload/Membership__c.csv\n",
      "Writing 0 records to /Users/josephmann/Documents/Github/doubledot/sf_upload/MembershipTerm__c.csv\n",
      "Writing 0 records to /Users/josephmann/Documents/Github/doubledot/sf_upload/MembershipMember__c.csv\n",
      "Created job 7508Y00000nIgFoQAK for MembershipMember__c with operation upsert\n",
      "Uploading job 7508Y00000nIgFoQAK of object MembershipMember__c\n",
      "Uploaded job 7508Y00000nIgFoQAK of object MembershipMember__c with status 201\n",
      "response.text : \n",
      " : \n",
      "close_job response.text :\n",
      " {\"id\":\"7508Y00000nIgFoQAK\",\"operation\":\"upsert\",\"object\":\"MembershipMember__c\",\"createdById\":\"0058Y00000CIEn9QAH\",\"createdDate\":\"2023-05-28T18:36:53.000+0000\",\"systemModstamp\":\"2023-05-28T18:36:53.000+0000\",\"state\":\"UploadComplete\",\"externalIdFieldName\":\"membershipMemberId__c\",\"concurrencyMode\":\"Parallel\",\"contentType\":\"CSV\",\"apiVersion\":57.0}\n",
      "pre loop job status: {'id': '7508Y00000nIgFoQAK', 'operation': 'upsert', 'object': 'MembershipMember__c', 'createdById': '0058Y00000CIEn9QAH', 'createdDate': '2023-05-28T18:36:53.000+0000', 'systemModstamp': '2023-05-28T18:36:58.000+0000', 'state': 'JobComplete', 'externalIdFieldName': 'membershipMemberId__c', 'concurrencyMode': 'Parallel', 'contentType': 'CSV', 'apiVersion': 57.0, 'jobType': 'V2Ingest', 'lineEnding': 'LF', 'columnDelimiter': 'TAB', 'numberRecordsProcessed': 0, 'numberRecordsFailed': 0, 'retries': 0, 'totalProcessingTime': 0, 'apiActiveProcessingTime': 0, 'apexProcessingTime': 0}\n",
      "waiting for job to complete, try 0\n",
      "waiting status: {'id': '7508Y00000nIgFoQAK', 'operation': 'upsert', 'object': 'MembershipMember__c', 'createdById': '0058Y00000CIEn9QAH', 'createdDate': '2023-05-28T18:36:53.000+0000', 'systemModstamp': '2023-05-28T18:36:58.000+0000', 'state': 'JobComplete', 'externalIdFieldName': 'membershipMemberId__c', 'concurrencyMode': 'Parallel', 'contentType': 'CSV', 'apiVersion': 57.0, 'jobType': 'V2Ingest', 'lineEnding': 'LF', 'columnDelimiter': 'TAB', 'numberRecordsProcessed': 0, 'numberRecordsFailed': 0, 'retries': 0, 'totalProcessingTime': 0, 'apiActiveProcessingTime': 0, 'apexProcessingTime': 0}\n",
      "post loop job status: {'id': '7508Y00000nIgFoQAK', 'operation': 'upsert', 'object': 'MembershipMember__c', 'createdById': '0058Y00000CIEn9QAH', 'createdDate': '2023-05-28T18:36:53.000+0000', 'systemModstamp': '2023-05-28T18:36:58.000+0000', 'state': 'JobComplete', 'externalIdFieldName': 'membershipMemberId__c', 'concurrencyMode': 'Parallel', 'contentType': 'CSV', 'apiVersion': 57.0, 'jobType': 'V2Ingest', 'lineEnding': 'LF', 'columnDelimiter': 'TAB', 'numberRecordsProcessed': 0, 'numberRecordsFailed': 0, 'retries': 0, 'totalProcessingTime': 0, 'apiActiveProcessingTime': 0, 'apexProcessingTime': 0}\n",
      "Failed results (if any):\n",
      "\"sf__Id\"\t\"sf__Error\"\tmembershipMemberId__c\tmembershipTermKey__r.membershipTermId__c\tcardNumber__c\tmembershipNumber__c\tcardStatus__c\tcontactKey__r.contactId__c\tdisplayName__c\n",
      "\n",
      "\"sf__Id\"\t\"sf__Error\"\tmembershipMemberId__c\tmembershipTermKey__r.membershipTermId__c\tcardNumber__c\tmembershipNumber__c\tcardStatus__c\tcontactKey__r.contactId__c\tdisplayName__c\n",
      "\n",
      "Sale__c saleId__c\n",
      "execute_job\n",
      "Salesforce.process_objects: sf_object_s : Sale__c\n",
      "Writing 1 records to /Users/josephmann/Documents/Github/doubledot/sf_upload/Sale__c.csv\n",
      "Created job 7508Y00000nIgFtQAK for Sale__c with operation upsert\n",
      "Uploading job 7508Y00000nIgFtQAK of object Sale__c\n",
      "Uploaded job 7508Y00000nIgFtQAK of object Sale__c with status 201\n",
      "response.text : \n",
      " : \n",
      "close_job response.text :\n",
      " {\"id\":\"7508Y00000nIgFtQAK\",\"operation\":\"upsert\",\"object\":\"Sale__c\",\"createdById\":\"0058Y00000CIEn9QAH\",\"createdDate\":\"2023-05-28T18:37:09.000+0000\",\"systemModstamp\":\"2023-05-28T18:37:09.000+0000\",\"state\":\"UploadComplete\",\"externalIdFieldName\":\"saleId__c\",\"concurrencyMode\":\"Parallel\",\"contentType\":\"CSV\",\"apiVersion\":57.0}\n",
      "pre loop job status: {'id': '7508Y00000nIgFtQAK', 'operation': 'upsert', 'object': 'Sale__c', 'createdById': '0058Y00000CIEn9QAH', 'createdDate': '2023-05-28T18:37:09.000+0000', 'systemModstamp': '2023-05-28T18:37:14.000+0000', 'state': 'JobComplete', 'externalIdFieldName': 'saleId__c', 'concurrencyMode': 'Parallel', 'contentType': 'CSV', 'apiVersion': 57.0, 'jobType': 'V2Ingest', 'lineEnding': 'LF', 'columnDelimiter': 'TAB', 'numberRecordsProcessed': 1, 'numberRecordsFailed': 0, 'retries': 0, 'totalProcessingTime': 93, 'apiActiveProcessingTime': 33, 'apexProcessingTime': 0}\n",
      "waiting for job to complete, try 0\n",
      "waiting status: {'id': '7508Y00000nIgFtQAK', 'operation': 'upsert', 'object': 'Sale__c', 'createdById': '0058Y00000CIEn9QAH', 'createdDate': '2023-05-28T18:37:09.000+0000', 'systemModstamp': '2023-05-28T18:37:14.000+0000', 'state': 'JobComplete', 'externalIdFieldName': 'saleId__c', 'concurrencyMode': 'Parallel', 'contentType': 'CSV', 'apiVersion': 57.0, 'jobType': 'V2Ingest', 'lineEnding': 'LF', 'columnDelimiter': 'TAB', 'numberRecordsProcessed': 1, 'numberRecordsFailed': 0, 'retries': 0, 'totalProcessingTime': 93, 'apiActiveProcessingTime': 33, 'apexProcessingTime': 0}\n",
      "post loop job status: {'id': '7508Y00000nIgFtQAK', 'operation': 'upsert', 'object': 'Sale__c', 'createdById': '0058Y00000CIEn9QAH', 'createdDate': '2023-05-28T18:37:09.000+0000', 'systemModstamp': '2023-05-28T18:37:14.000+0000', 'state': 'JobComplete', 'externalIdFieldName': 'saleId__c', 'concurrencyMode': 'Parallel', 'contentType': 'CSV', 'apiVersion': 57.0, 'jobType': 'V2Ingest', 'lineEnding': 'LF', 'columnDelimiter': 'TAB', 'numberRecordsProcessed': 1, 'numberRecordsFailed': 0, 'retries': 0, 'totalProcessingTime': 93, 'apiActiveProcessingTime': 33, 'apexProcessingTime': 0}\n",
      "Failed results (if any):\n",
      "\"sf__Id\"\t\"sf__Error\"\tsaleId__c\tsaleAmount__c\tpaymentAmount__c\tsaleDate__c\tactive__c\tterminalKey__c\tbooking_bookingId__c\tbooking_bookingContactKey__c\tbooking_contactKey__r.contactId__c\tbooking_contactIndividualKey__c\tbooking_contactOrganizationKey__c\tbooking_displayName__c\tbooking_firstName__c\tbooking_lastName__c\tbooking_email__c\tbooking_phone__c\n",
      "\n",
      "\"sf__Id\"\t\"sf__Error\"\tsaleId__c\tsaleAmount__c\tpaymentAmount__c\tsaleDate__c\tactive__c\tterminalKey__c\tbooking_bookingId__c\tbooking_bookingContactKey__c\tbooking_contactKey__r.contactId__c\tbooking_contactIndividualKey__c\tbooking_contactOrganizationKey__c\tbooking_displayName__c\tbooking_firstName__c\tbooking_lastName__c\tbooking_email__c\tbooking_phone__c\n",
      "\n",
      "SaleDetail__c saleDetailId__c\n",
      "execute_job\n",
      "Salesforce.process_objects: sf_object_s : SaleDetail__c\n",
      "Writing 3 records to /Users/josephmann/Documents/Github/doubledot/sf_upload/SaleDetail__c.csv\n",
      "Created job 7508Y00000nIgFyQAK for SaleDetail__c with operation upsert\n",
      "Uploading job 7508Y00000nIgFyQAK of object SaleDetail__c\n",
      "Uploaded job 7508Y00000nIgFyQAK of object SaleDetail__c with status 201\n",
      "response.text : \n",
      " : \n",
      "close_job response.text :\n",
      " {\"id\":\"7508Y00000nIgFyQAK\",\"operation\":\"upsert\",\"object\":\"SaleDetail__c\",\"createdById\":\"0058Y00000CIEn9QAH\",\"createdDate\":\"2023-05-28T18:37:26.000+0000\",\"systemModstamp\":\"2023-05-28T18:37:26.000+0000\",\"state\":\"UploadComplete\",\"externalIdFieldName\":\"saleDetailId__c\",\"concurrencyMode\":\"Parallel\",\"contentType\":\"CSV\",\"apiVersion\":57.0}\n",
      "pre loop job status: {'id': '7508Y00000nIgFyQAK', 'operation': 'upsert', 'object': 'SaleDetail__c', 'createdById': '0058Y00000CIEn9QAH', 'createdDate': '2023-05-28T18:37:26.000+0000', 'systemModstamp': '2023-05-28T18:37:28.000+0000', 'state': 'InProgress', 'externalIdFieldName': 'saleDetailId__c', 'concurrencyMode': 'Parallel', 'contentType': 'CSV', 'apiVersion': 57.0, 'jobType': 'V2Ingest', 'lineEnding': 'LF', 'columnDelimiter': 'TAB', 'numberRecordsProcessed': 0, 'numberRecordsFailed': 0, 'retries': 0, 'totalProcessingTime': 0, 'apiActiveProcessingTime': 0, 'apexProcessingTime': 0}\n",
      "waiting for job to complete, try 0\n",
      "waiting status: {'id': '7508Y00000nIgFyQAK', 'operation': 'upsert', 'object': 'SaleDetail__c', 'createdById': '0058Y00000CIEn9QAH', 'createdDate': '2023-05-28T18:37:26.000+0000', 'systemModstamp': '2023-05-28T18:37:31.000+0000', 'state': 'JobComplete', 'externalIdFieldName': 'saleDetailId__c', 'concurrencyMode': 'Parallel', 'contentType': 'CSV', 'apiVersion': 57.0, 'jobType': 'V2Ingest', 'lineEnding': 'LF', 'columnDelimiter': 'TAB', 'numberRecordsProcessed': 3, 'numberRecordsFailed': 0, 'retries': 0, 'totalProcessingTime': 135, 'apiActiveProcessingTime': 64, 'apexProcessingTime': 0}\n",
      "post loop job status: {'id': '7508Y00000nIgFyQAK', 'operation': 'upsert', 'object': 'SaleDetail__c', 'createdById': '0058Y00000CIEn9QAH', 'createdDate': '2023-05-28T18:37:26.000+0000', 'systemModstamp': '2023-05-28T18:37:31.000+0000', 'state': 'JobComplete', 'externalIdFieldName': 'saleDetailId__c', 'concurrencyMode': 'Parallel', 'contentType': 'CSV', 'apiVersion': 57.0, 'jobType': 'V2Ingest', 'lineEnding': 'LF', 'columnDelimiter': 'TAB', 'numberRecordsProcessed': 3, 'numberRecordsFailed': 0, 'retries': 0, 'totalProcessingTime': 135, 'apiActiveProcessingTime': 64, 'apexProcessingTime': 0}\n",
      "Failed results (if any):\n",
      "\"sf__Id\"\t\"sf__Error\"\tsaleDetailId__c\titemKey__c\tscheduleKey__c\trateKey__c\tcategoryKey__c\titemCategory__c\tpricingPriceKey__c\titemPrice__c\titemTotal__c\tcouponTotal__c\tdiscountTotal__c\ttotal__c\trevenueDate__c\trefundReason__c\trefundReasonKey__c\tsystemPriceOverride__c\tmembershipTermKey__r.membershipTermId__c\tsaleKey__r.saleId__c\n",
      "\n",
      "\"sf__Id\"\t\"sf__Error\"\tsaleDetailId__c\titemKey__c\tscheduleKey__c\trateKey__c\tcategoryKey__c\titemCategory__c\tpricingPriceKey__c\titemPrice__c\titemTotal__c\tcouponTotal__c\tdiscountTotal__c\ttotal__c\trevenueDate__c\trefundReason__c\trefundReasonKey__c\tsystemPriceOverride__c\tmembershipTermKey__r.membershipTermId__c\tsaleKey__r.saleId__c\n",
      "\n",
      "Ticket__c ticketId__c\n",
      "execute_job\n",
      "Salesforce.process_objects: sf_object_s : Ticket__c\n",
      "Writing 5 records to /Users/josephmann/Documents/Github/doubledot/sf_upload/Ticket__c.csv\n",
      "Created job 7508Y00000nIgG3QAK for Ticket__c with operation upsert\n",
      "Uploading job 7508Y00000nIgG3QAK of object Ticket__c\n",
      "Uploaded job 7508Y00000nIgG3QAK of object Ticket__c with status 201\n",
      "response.text : \n",
      " : \n",
      "close_job response.text :\n",
      " {\"id\":\"7508Y00000nIgG3QAK\",\"operation\":\"upsert\",\"object\":\"Ticket__c\",\"createdById\":\"0058Y00000CIEn9QAH\",\"createdDate\":\"2023-05-28T18:37:42.000+0000\",\"systemModstamp\":\"2023-05-28T18:37:42.000+0000\",\"state\":\"UploadComplete\",\"externalIdFieldName\":\"ticketId__c\",\"concurrencyMode\":\"Parallel\",\"contentType\":\"CSV\",\"apiVersion\":57.0}\n",
      "pre loop job status: {'id': '7508Y00000nIgG3QAK', 'operation': 'upsert', 'object': 'Ticket__c', 'createdById': '0058Y00000CIEn9QAH', 'createdDate': '2023-05-28T18:37:42.000+0000', 'systemModstamp': '2023-05-28T18:37:45.000+0000', 'state': 'JobComplete', 'externalIdFieldName': 'ticketId__c', 'concurrencyMode': 'Parallel', 'contentType': 'CSV', 'apiVersion': 57.0, 'jobType': 'V2Ingest', 'lineEnding': 'LF', 'columnDelimiter': 'TAB', 'numberRecordsProcessed': 5, 'numberRecordsFailed': 0, 'retries': 0, 'totalProcessingTime': 114, 'apiActiveProcessingTime': 64, 'apexProcessingTime': 0}\n",
      "post loop job status: {'id': '7508Y00000nIgG3QAK', 'operation': 'upsert', 'object': 'Ticket__c', 'createdById': '0058Y00000CIEn9QAH', 'createdDate': '2023-05-28T18:37:42.000+0000', 'systemModstamp': '2023-05-28T18:37:45.000+0000', 'state': 'JobComplete', 'externalIdFieldName': 'ticketId__c', 'concurrencyMode': 'Parallel', 'contentType': 'CSV', 'apiVersion': 57.0, 'jobType': 'V2Ingest', 'lineEnding': 'LF', 'columnDelimiter': 'TAB', 'numberRecordsProcessed': 5, 'numberRecordsFailed': 0, 'retries': 0, 'totalProcessingTime': 114, 'apiActiveProcessingTime': 64, 'apexProcessingTime': 0}\n",
      "Failed results (if any):\n",
      "\"sf__Id\"\t\"sf__Error\"\tticketId__c\tsaleKey__r.saleId__c\tsaleDetailKey__r.saleDetailId__c\titemDescription__c\tticketDisplay__c\n",
      "\n",
      "\"sf__Id\"\t\"sf__Error\"\tticketId__c\tsaleKey__r.saleId__c\tsaleDetailKey__r.saleDetailId__c\titemDescription__c\tticketDisplay__c\n",
      "\n"
     ]
    }
   ],
   "source": [
    "#| eval: false\n",
    "# print(df_d.keys())\n",
    "# sf.clean_upload_dir()\n",
    "# sf.write_dict_to_csv(df_d ) # isn't necessary\n",
    "sf.upload_csv_to_sf(clean_all=False, generate_upload_files=True)"
   ]
  },
  {
   "attachments": {},
   "cell_type": "markdown",
   "metadata": {},
   "source": [
    "## Problems ...\n"
   ]
  },
  {
   "cell_type": "code",
   "execution_count": null,
   "metadata": {},
   "outputs": [],
   "source": [
    "#|eval: false\n",
    "\n",
    "# why does saleId__c 889832 not have any tickets or saleDetail pointing at it? or me: 82192 323674 (I am 73012)\n",
    "# why does this point from saleId and not saleKey?\n",
    "from doubledot.crema_sf import fields_pointing_to_foreign_key, get_pointing_foreign_key_values,reduce_to_referenced_rows\n",
    "\n",
    "_df = df_d['Sale__c']\n",
    "print(_df.loc[_df['saleId__c'] == 323674, :])\n",
    "\n",
    "print(get_pointing_foreign_key_values('saleId__c', df_d))\n",
    "pointing = get_pointing_foreign_key_values('saleId__c', df_d)\n",
    "print(len(pointing))\n",
    "\n",
    "print(_df['saleId__c'].unique())\n",
    "externals = _df['saleId__c'].unique()\n",
    "\n",
    "pointing.intersection(externals)\n",
    "      "
   ]
  },
  {
   "cell_type": "code",
   "execution_count": null,
   "metadata": {},
   "outputs": [],
   "source": [
    "reduce_to_referenced_rows(df_d)\n"
   ]
  },
  {
   "cell_type": "code",
   "execution_count": null,
   "metadata": {},
   "outputs": [],
   "source": [
    "_d['Ticket__c']['saleKey__r.saleId__c']"
   ]
  },
  {
   "cell_type": "code",
   "execution_count": null,
   "metadata": {},
   "outputs": [],
   "source": []
  }
 ],
 "metadata": {
  "kernelspec": {
   "display_name": "python3",
   "language": "python",
   "name": "python3"
  },
  "language_info": {
   "codemirror_mode": {
    "name": "ipython",
    "version": 3
   },
   "file_extension": ".py",
   "mimetype": "text/x-python",
   "name": "python",
   "nbconvert_exporter": "python",
   "pygments_lexer": "ipython3",
   "version": "3.11.3"
  }
 },
 "nbformat": 4,
 "nbformat_minor": 2
}
