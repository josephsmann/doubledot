{
 "cells": [
  {
   "attachments": {},
   "cell_type": "markdown",
   "metadata": {},
   "source": [
    "## Urgent Data \n",
    "> take 2.0"
   ]
  },
  {
   "cell_type": "code",
   "execution_count": 1,
   "metadata": {},
   "outputs": [],
   "source": [
    "%load_ext autoreload\n",
    "%autoreload 2"
   ]
  },
  {
   "cell_type": "code",
   "execution_count": 2,
   "metadata": {},
   "outputs": [],
   "source": [
    "from doubledot import *\n",
    "import pandas as pd\n",
    "from time import sleep\n",
    "import os"
   ]
  },
  {
   "cell_type": "code",
   "execution_count": 3,
   "metadata": {},
   "outputs": [
    {
     "name": "stdout",
     "output_type": "stream",
     "text": [
      "Directory 'atms_download' already exists.\n"
     ]
    }
   ],
   "source": [
    "sf = Salesforce()"
   ]
  },
  {
   "cell_type": "code",
   "execution_count": 4,
   "metadata": {},
   "outputs": [],
   "source": [
    "### Clean out old data ?\n",
    "# for table in Salesforce.model_d.keys():\n",
    "#     sf.delete_sf_objects(table)"
   ]
  },
  {
   "cell_type": "code",
   "execution_count": 97,
   "metadata": {},
   "outputs": [
    {
     "name": "stdout",
     "output_type": "stream",
     "text": [
      "144164\n",
      "we have contact_id 144164 and obj is sales\n",
      "http://crm-api-telus.atmsplus.com/api/sales/contact/144164\n"
     ]
    },
    {
     "ename": "JSONDecodeError",
     "evalue": "Expecting value: line 1 column 1 (char 0)",
     "output_type": "error",
     "traceback": [
      "\u001b[0;31m---------------------------------------------------------------------------\u001b[0m",
      "\u001b[0;31mJSONDecodeError\u001b[0m                           Traceback (most recent call last)",
      "File \u001b[0;32m~/anaconda3/envs/vantix/lib/python3.11/site-packages/requests/models.py:971\u001b[0m, in \u001b[0;36mResponse.json\u001b[0;34m(self, **kwargs)\u001b[0m\n\u001b[1;32m    970\u001b[0m \u001b[39mtry\u001b[39;00m:\n\u001b[0;32m--> 971\u001b[0m     \u001b[39mreturn\u001b[39;00m complexjson\u001b[39m.\u001b[39;49mloads(\u001b[39mself\u001b[39;49m\u001b[39m.\u001b[39;49mtext, \u001b[39m*\u001b[39;49m\u001b[39m*\u001b[39;49mkwargs)\n\u001b[1;32m    972\u001b[0m \u001b[39mexcept\u001b[39;00m JSONDecodeError \u001b[39mas\u001b[39;00m e:\n\u001b[1;32m    973\u001b[0m     \u001b[39m# Catch JSON-related errors and raise as requests.JSONDecodeError\u001b[39;00m\n\u001b[1;32m    974\u001b[0m     \u001b[39m# This aliases json.JSONDecodeError and simplejson.JSONDecodeError\u001b[39;00m\n",
      "File \u001b[0;32m~/anaconda3/envs/vantix/lib/python3.11/json/__init__.py:346\u001b[0m, in \u001b[0;36mloads\u001b[0;34m(s, cls, object_hook, parse_float, parse_int, parse_constant, object_pairs_hook, **kw)\u001b[0m\n\u001b[1;32m    343\u001b[0m \u001b[39mif\u001b[39;00m (\u001b[39mcls\u001b[39m \u001b[39mis\u001b[39;00m \u001b[39mNone\u001b[39;00m \u001b[39mand\u001b[39;00m object_hook \u001b[39mis\u001b[39;00m \u001b[39mNone\u001b[39;00m \u001b[39mand\u001b[39;00m\n\u001b[1;32m    344\u001b[0m         parse_int \u001b[39mis\u001b[39;00m \u001b[39mNone\u001b[39;00m \u001b[39mand\u001b[39;00m parse_float \u001b[39mis\u001b[39;00m \u001b[39mNone\u001b[39;00m \u001b[39mand\u001b[39;00m\n\u001b[1;32m    345\u001b[0m         parse_constant \u001b[39mis\u001b[39;00m \u001b[39mNone\u001b[39;00m \u001b[39mand\u001b[39;00m object_pairs_hook \u001b[39mis\u001b[39;00m \u001b[39mNone\u001b[39;00m \u001b[39mand\u001b[39;00m \u001b[39mnot\u001b[39;00m kw):\n\u001b[0;32m--> 346\u001b[0m     \u001b[39mreturn\u001b[39;00m _default_decoder\u001b[39m.\u001b[39;49mdecode(s)\n\u001b[1;32m    347\u001b[0m \u001b[39mif\u001b[39;00m \u001b[39mcls\u001b[39m \u001b[39mis\u001b[39;00m \u001b[39mNone\u001b[39;00m:\n",
      "File \u001b[0;32m~/anaconda3/envs/vantix/lib/python3.11/json/decoder.py:337\u001b[0m, in \u001b[0;36mJSONDecoder.decode\u001b[0;34m(self, s, _w)\u001b[0m\n\u001b[1;32m    333\u001b[0m \u001b[39m\u001b[39m\u001b[39m\"\"\"Return the Python representation of ``s`` (a ``str`` instance\u001b[39;00m\n\u001b[1;32m    334\u001b[0m \u001b[39mcontaining a JSON document).\u001b[39;00m\n\u001b[1;32m    335\u001b[0m \n\u001b[1;32m    336\u001b[0m \u001b[39m\"\"\"\u001b[39;00m\n\u001b[0;32m--> 337\u001b[0m obj, end \u001b[39m=\u001b[39m \u001b[39mself\u001b[39;49m\u001b[39m.\u001b[39;49mraw_decode(s, idx\u001b[39m=\u001b[39;49m_w(s, \u001b[39m0\u001b[39;49m)\u001b[39m.\u001b[39;49mend())\n\u001b[1;32m    338\u001b[0m end \u001b[39m=\u001b[39m _w(s, end)\u001b[39m.\u001b[39mend()\n",
      "File \u001b[0;32m~/anaconda3/envs/vantix/lib/python3.11/json/decoder.py:355\u001b[0m, in \u001b[0;36mJSONDecoder.raw_decode\u001b[0;34m(self, s, idx)\u001b[0m\n\u001b[1;32m    354\u001b[0m \u001b[39mexcept\u001b[39;00m \u001b[39mStopIteration\u001b[39;00m \u001b[39mas\u001b[39;00m err:\n\u001b[0;32m--> 355\u001b[0m     \u001b[39mraise\u001b[39;00m JSONDecodeError(\u001b[39m\"\u001b[39m\u001b[39mExpecting value\u001b[39m\u001b[39m\"\u001b[39m, s, err\u001b[39m.\u001b[39mvalue) \u001b[39mfrom\u001b[39;00m \u001b[39mNone\u001b[39;00m\n\u001b[1;32m    356\u001b[0m \u001b[39mreturn\u001b[39;00m obj, end\n",
      "\u001b[0;31mJSONDecodeError\u001b[0m: Expecting value: line 1 column 1 (char 0)",
      "\nDuring handling of the above exception, another exception occurred:\n",
      "\u001b[0;31mJSONDecodeError\u001b[0m                           Traceback (most recent call last)",
      "Cell \u001b[0;32mIn[97], line 6\u001b[0m\n\u001b[1;32m      1\u001b[0m \u001b[39m#| eval: false\u001b[39;00m\n\u001b[1;32m      2\u001b[0m \n\u001b[1;32m      3\u001b[0m \n\u001b[1;32m      4\u001b[0m \u001b[39m# 415645 73012 105765 and 342765 are also good contacts to bring in when you are rea and organization 133156\u001b[39;00m\n\u001b[1;32m      5\u001b[0m pelton_ids \u001b[39m=\u001b[39m [ \u001b[39m4708\u001b[39m, \u001b[39m119430\u001b[39m, \u001b[39m119431\u001b[39m, \u001b[39m144164\u001b[39m,\u001b[39m144165\u001b[39m, \u001b[39m144166\u001b[39m, \u001b[39m144167\u001b[39m, \u001b[39m415645\u001b[39m, \u001b[39m73012\u001b[39m, \u001b[39m105765\u001b[39m, \u001b[39m342765\u001b[39m ]\n\u001b[0;32m----> 6\u001b[0m sf\u001b[39m.\u001b[39;49mretrieve_atms_records_by_contactId(pelton_ids)\n\u001b[1;32m      8\u001b[0m \u001b[39m# number of objects in dictionary\u001b[39;00m\n\u001b[1;32m      9\u001b[0m \u001b[39massert\u001b[39;00m \u001b[39mlen\u001b[39m(sf\u001b[39m.\u001b[39matms\u001b[39m.\u001b[39mobj_d) \u001b[39m==\u001b[39m \u001b[39mlen\u001b[39m([\u001b[39m'\u001b[39m\u001b[39msales\u001b[39m\u001b[39m'\u001b[39m, \u001b[39m'\u001b[39m\u001b[39mcontacts\u001b[39m\u001b[39m'\u001b[39m, \u001b[39m'\u001b[39m\u001b[39mmemberships\u001b[39m\u001b[39m'\u001b[39m,\u001b[39m'\u001b[39m\u001b[39mitems\u001b[39m\u001b[39m'\u001b[39m]), \u001b[39mf\u001b[39m\u001b[39m\"\u001b[39m\u001b[39mwrong number of objects in dictionary \u001b[39m\u001b[39m{\u001b[39;00msf\u001b[39m.\u001b[39matms\u001b[39m.\u001b[39mobj_d\u001b[39m.\u001b[39mkeys()\u001b[39m}\u001b[39;00m\u001b[39m\"\u001b[39m\n",
      "File \u001b[0;32m~/Documents/Github/doubledot/doubledot/crema_sf.py:690\u001b[0m, in \u001b[0;36mretrieve_atms_records_by_contactId\u001b[0;34m(self, contactId_l)\u001b[0m\n\u001b[1;32m    687\u001b[0m \u001b[39m\u001b[39m\u001b[39m\"\"\"Retrieve ATMS records for a list of contactIds and write them to json files\"\"\"\u001b[39;00m\n\u001b[1;32m    688\u001b[0m \u001b[39mfor\u001b[39;00m obj \u001b[39min\u001b[39;00m [\u001b[39m'\u001b[39m\u001b[39msales\u001b[39m\u001b[39m'\u001b[39m, \u001b[39m'\u001b[39m\u001b[39mcontacts\u001b[39m\u001b[39m'\u001b[39m, \u001b[39m'\u001b[39m\u001b[39mmemberships\u001b[39m\u001b[39m'\u001b[39m]:\n\u001b[1;32m    689\u001b[0m     \u001b[39m# does this not get written to file?, no. it does not. and we don't want it to because we're working on proccessing rn.\u001b[39;00m\n\u001b[0;32m--> 690\u001b[0m     \u001b[39mself\u001b[39;49m\u001b[39m.\u001b[39;49matms\u001b[39m.\u001b[39;49mfetch_data_by_contactIds(obj, contactId_l) \n\u001b[1;32m    692\u001b[0m \u001b[39m# write data to json files\u001b[39;00m\n\u001b[1;32m    693\u001b[0m \u001b[39mself\u001b[39m\u001b[39m.\u001b[39matms\u001b[39m.\u001b[39mwrite_data_to_json_files()\n",
      "File \u001b[0;32m~/Documents/Github/doubledot/doubledot/ATMS_api.py:307\u001b[0m, in \u001b[0;36mfetch_data_by_contactIds\u001b[0;34m(self, obj_s, id_l, store_data_b)\u001b[0m\n\u001b[1;32m    305\u001b[0m \u001b[39mprint\u001b[39m(contact_id)\n\u001b[1;32m    306\u001b[0m r \u001b[39m=\u001b[39m \u001b[39mself\u001b[39m\u001b[39m.\u001b[39mget_telus_data(obj_s, contact_id\u001b[39m=\u001b[39mcontact_id)\n\u001b[0;32m--> 307\u001b[0m data_d \u001b[39m=\u001b[39m r[\u001b[39m'\u001b[39;49m\u001b[39mresponse\u001b[39;49m\u001b[39m'\u001b[39;49m]\u001b[39m.\u001b[39;49mjson()\n\u001b[1;32m    308\u001b[0m \u001b[39mprint\u001b[39m(data_d)\n\u001b[1;32m    309\u001b[0m l\u001b[39m.\u001b[39mappend(data_d)\n",
      "File \u001b[0;32m~/anaconda3/envs/vantix/lib/python3.11/site-packages/requests/models.py:975\u001b[0m, in \u001b[0;36mResponse.json\u001b[0;34m(self, **kwargs)\u001b[0m\n\u001b[1;32m    971\u001b[0m     \u001b[39mreturn\u001b[39;00m complexjson\u001b[39m.\u001b[39mloads(\u001b[39mself\u001b[39m\u001b[39m.\u001b[39mtext, \u001b[39m*\u001b[39m\u001b[39m*\u001b[39mkwargs)\n\u001b[1;32m    972\u001b[0m \u001b[39mexcept\u001b[39;00m JSONDecodeError \u001b[39mas\u001b[39;00m e:\n\u001b[1;32m    973\u001b[0m     \u001b[39m# Catch JSON-related errors and raise as requests.JSONDecodeError\u001b[39;00m\n\u001b[1;32m    974\u001b[0m     \u001b[39m# This aliases json.JSONDecodeError and simplejson.JSONDecodeError\u001b[39;00m\n\u001b[0;32m--> 975\u001b[0m     \u001b[39mraise\u001b[39;00m RequestsJSONDecodeError(e\u001b[39m.\u001b[39mmsg, e\u001b[39m.\u001b[39mdoc, e\u001b[39m.\u001b[39mpos)\n",
      "\u001b[0;31mJSONDecodeError\u001b[0m: Expecting value: line 1 column 1 (char 0)"
     ]
    }
   ],
   "source": [
    "#| eval: false\n",
    "\n",
    "\n",
    "# 415645 73012 105765 and 342765 are also good contacts to bring in when you are rea and organization 133156\n",
    "pelton_ids = [ 4708, 119430, 119431, 144164,144165, 144166, 144167, 415645, 73012, 105765, 342765 ]\n",
    "sf.retrieve_atms_records_by_contactId(pelton_ids)\n",
    "\n",
    "# number of objects in dictionary\n",
    "assert len(sf.atms.obj_d) == len(['sales', 'contacts', 'memberships','items']), f\"wrong number of objects in dictionary {sf.atms.obj_d.keys()}\"\n",
    "# number of files in directory\n",
    "assert len(os.listdir(sf.atms.download_dir)) == len(['sales', 'contacts', 'memberships','items']), f\"wrong number of files in directory {sf.atms.download_dir}\"\n",
    "\n"
   ]
  },
  {
   "cell_type": "code",
   "execution_count": null,
   "metadata": {},
   "outputs": [
    {
     "name": "stdout",
     "output_type": "stream",
     "text": [
      "Salesforce.process_objects: sf_object_s : Contact\n",
      "Salesforce.process_objects: sf_object_s : Membership__c\n",
      "Salesforce.process_objects: sf_object_s : MembershipTerm__c\n",
      "Salesforce.process_objects: sf_object_s : MembershipMember__c\n",
      "Salesforce.process_objects: sf_object_s : Sale__c\n",
      "Salesforce.process_objects: sf_object_s : SaleDetail__c\n",
      "Salesforce.process_objects: sf_object_s : Ticket__c\n",
      "this should fail\n",
      "and it did. good.\n",
      "dropping duplicates for  Contact\n",
      "AFTER dropping duplicates for  Contact\n",
      "dropping duplicates for  Membership__c\n",
      "AFTER dropping duplicates for  Membership__c\n",
      "dropping duplicates for  MembershipTerm__c\n",
      "AFTER dropping duplicates for  MembershipTerm__c\n",
      "dropping duplicates for  MembershipMember__c\n",
      "AFTER dropping duplicates for  MembershipMember__c\n",
      "dropping duplicates for  Sale__c\n",
      "AFTER dropping duplicates for  Sale__c\n",
      "dropping duplicates for  SaleDetail__c\n",
      "AFTER dropping duplicates for  SaleDetail__c\n",
      "dropping duplicates for  Ticket__c\n",
      "AFTER dropping duplicates for  Ticket__c\n",
      "\n",
      " ====================================\n",
      "duplicate ext id loop:  Contact\n",
      "\n",
      " ====================================\n",
      "duplicate ext id loop:  Membership__c\n",
      "\n",
      " ====================================\n",
      "duplicate ext id loop:  MembershipTerm__c\n",
      "MembershipTerm__c --> Membership__c   37  -->  37\n",
      "\n",
      " ====================================\n",
      "duplicate ext id loop:  MembershipMember__c\n",
      "MembershipMember__c --> Contact   78  -->  51\n",
      "MembershipMember__c --> MembershipTerm__c   51  -->  51\n",
      "\n",
      " ====================================\n",
      "duplicate ext id loop:  Sale__c\n",
      "Sale__c --> Contact   116  -->  116\n",
      "\n",
      " ====================================\n",
      "duplicate ext id loop:  SaleDetail__c\n",
      "SaleDetail__c --> MembershipTerm__c   391  -->  47\n",
      "SaleDetail__c --> Sale__c   47  -->  47\n",
      "\n",
      " ====================================\n",
      "duplicate ext id loop:  Ticket__c\n",
      "Ticket__c --> Sale__c   279  -->  279\n",
      "Ticket__c --> SaleDetail__c   279  -->  21\n",
      "this should NOT fail\n",
      "finally, it did not fail. Good.\n",
      "Contact 11\n",
      "Contact 11 11\n",
      "Membership__c 8\n",
      "Membership__c 8 8\n",
      "MembershipTerm__c 36\n",
      "MembershipTerm__c 37 36\n",
      "MembershipMember__c * 51 51\n",
      "Sale__c 19\n",
      "Sale__c 116 19\n",
      "SaleDetail__c 21\n",
      "SaleDetail__c 47 21\n",
      "Ticket__c * 21 21\n"
     ]
    }
   ],
   "source": [
    "#| eval: false\n",
    "\n",
    "# random comment\n",
    "df_d = sf.perfect_data()\n",
    "# for k, v in _d.items():\n",
    "#     display(v)"
   ]
  },
  {
   "cell_type": "code",
   "execution_count": 96,
   "metadata": {},
   "outputs": [
    {
     "name": "stdout",
     "output_type": "stream",
     "text": [
      "dict_keys(['Contact', 'Membership__c', 'MembershipTerm__c', 'Sale__c', 'SaleDetail__c'])\n"
     ]
    },
    {
     "ename": "KeyError",
     "evalue": "'MembershipMember__c'",
     "output_type": "error",
     "traceback": [
      "\u001b[0;31m---------------------------------------------------------------------------\u001b[0m",
      "\u001b[0;31mKeyError\u001b[0m                                  Traceback (most recent call last)",
      "Cell \u001b[0;32mIn[96], line 3\u001b[0m\n\u001b[1;32m      1\u001b[0m \u001b[39m#| eval: false\u001b[39;00m\n\u001b[1;32m      2\u001b[0m \u001b[39mprint\u001b[39m(df_d\u001b[39m.\u001b[39mkeys())\n\u001b[0;32m----> 3\u001b[0m sf\u001b[39m.\u001b[39;49mwrite_dict_to_csv(df_d )\n\u001b[1;32m      4\u001b[0m sf\u001b[39m.\u001b[39mupload_csv_to_sf(clean_all\u001b[39m=\u001b[39m\u001b[39mTrue\u001b[39;00m)\n",
      "File \u001b[0;32m~/Documents/Github/doubledot/doubledot/crema_sf.py:877\u001b[0m, in \u001b[0;36mwrite_dict_to_csv\u001b[0;34m(self, df2_d)\u001b[0m\n\u001b[1;32m    875\u001b[0m \u001b[39mfor\u001b[39;00m k \u001b[39min\u001b[39;00m Salesforce\u001b[39m.\u001b[39mmodel_d\u001b[39m.\u001b[39mkeys(): \n\u001b[1;32m    876\u001b[0m     \u001b[39mwith\u001b[39;00m \u001b[39mopen\u001b[39m(path\u001b[39m+\u001b[39mk\u001b[39m+\u001b[39m\u001b[39m'\u001b[39m\u001b[39m.csv\u001b[39m\u001b[39m'\u001b[39m, \u001b[39m'\u001b[39m\u001b[39mw\u001b[39m\u001b[39m'\u001b[39m) \u001b[39mas\u001b[39;00m f:\n\u001b[0;32m--> 877\u001b[0m         f\u001b[39m.\u001b[39mwrite(df2_d[k]\u001b[39m.\u001b[39mto_csv(sep\u001b[39m=\u001b[39m\u001b[39m'\u001b[39m\u001b[39m\\t\u001b[39;00m\u001b[39m'\u001b[39m, index\u001b[39m=\u001b[39m\u001b[39mFalse\u001b[39;00m))\n",
      "\u001b[0;31mKeyError\u001b[0m: 'MembershipMember__c'"
     ]
    }
   ],
   "source": [
    "#| eval: false\n",
    "print(df_d.keys())\n",
    "sf.write_dict_to_csv(df_d )\n",
    "sf.upload_csv_to_sf(clean_all=True)"
   ]
  },
  {
   "attachments": {},
   "cell_type": "markdown",
   "metadata": {},
   "source": [
    "## Problems ...\n"
   ]
  },
  {
   "cell_type": "code",
   "execution_count": 71,
   "metadata": {},
   "outputs": [
    {
     "name": "stdout",
     "output_type": "stream",
     "text": [
      "     saleId__c  saleAmount__c  paymentAmount__c              saleDate__c   \n",
      "101     323674          35.14             35.14  2005-10-24T15:58:15.573  \\\n",
      "\n",
      "     active__c  terminalKey__c  booking_bookingId__c   \n",
      "101       True               9                 50870  \\\n",
      "\n",
      "     booking_bookingContactKey__c  booking_contactKey__r.contactId__c   \n",
      "101                        203813                               73012  \\\n",
      "\n",
      "     booking_contactIndividualKey__c  booking_contactOrganizationKey__c   \n",
      "101                            68317                                NaN  \\\n",
      "\n",
      "    booking_displayName__c booking_firstName__c booking_lastName__c   \n",
      "101           Mann, Joseph               Joseph                Mann  \\\n",
      "\n",
      "    booking_email__c  booking_phone__c  \n",
      "101  pubmann@shaw.ca      7.804387e+09  \n",
      "{1728963, 1723492, 1738213, 1811241, 1769387, 1779503, 1810652, 1512308, 1765366, 1083351, 1834422, 1718108, 1598590}\n",
      "13\n",
      "[ 889832 1083351 1512308 1598590 1615641   82192  323674  422399  450945\n",
      " 1718108 1723492 1728963 1738213 1765366 1769387 1779503 1810652 1811241\n",
      " 1834422]\n"
     ]
    },
    {
     "data": {
      "text/plain": [
       "{1083351,\n",
       " 1512308,\n",
       " 1598590,\n",
       " 1718108,\n",
       " 1723492,\n",
       " 1728963,\n",
       " 1738213,\n",
       " 1765366,\n",
       " 1769387,\n",
       " 1779503,\n",
       " 1810652,\n",
       " 1811241,\n",
       " 1834422}"
      ]
     },
     "execution_count": 71,
     "metadata": {},
     "output_type": "execute_result"
    }
   ],
   "source": [
    "#|eval: false\n",
    "\n",
    "# why does saleId__c 889832 not have any tickets or saleDetail pointing at it? or me: 82192 323674 (I am 73012)\n",
    "# why does this point from saleId and not saleKey?\n",
    "from doubledot.crema_sf import fields_pointing_to_foreign_key, get_pointing_foreign_key_values,reduce_to_referenced_rows\n",
    "\n",
    "_df = df_d['Sale__c']\n",
    "print(_df.loc[_df['saleId__c'] == 323674, :])\n",
    "\n",
    "print(get_pointing_foreign_key_values('saleId__c', df_d))\n",
    "pointing = get_pointing_foreign_key_values('saleId__c', df_d)\n",
    "print(len(pointing))\n",
    "\n",
    "print(_df['saleId__c'].unique())\n",
    "externals = _df['saleId__c'].unique()\n",
    "\n",
    "pointing.intersection(externals)\n",
    "      "
   ]
  },
  {
   "cell_type": "code",
   "execution_count": null,
   "metadata": {},
   "outputs": [],
   "source": [
    "reduce_to_referenced_rows(df_d)\n"
   ]
  },
  {
   "cell_type": "code",
   "execution_count": 10,
   "metadata": {},
   "outputs": [
    {
     "data": {
      "text/plain": [
       "194    1083351\n",
       "195    1083351\n",
       "196    1083351\n",
       "197    1083351\n",
       "198    1083351\n",
       "199    1083351\n",
       "200    1512308\n",
       "201    1512308\n",
       "202    1598590\n",
       "203    1598590\n",
       "267    1718108\n",
       "268    1723492\n",
       "269    1728963\n",
       "270    1738213\n",
       "271    1738213\n",
       "273    1765366\n",
       "274    1769387\n",
       "275    1779503\n",
       "276    1810652\n",
       "277    1811241\n",
       "278    1834422\n",
       "Name: saleKey__r.saleId__c, dtype: int64"
      ]
     },
     "execution_count": 10,
     "metadata": {},
     "output_type": "execute_result"
    }
   ],
   "source": [
    "_d['Ticket__c']['saleKey__r.saleId__c']"
   ]
  },
  {
   "cell_type": "code",
   "execution_count": null,
   "metadata": {},
   "outputs": [],
   "source": []
  }
 ],
 "metadata": {
  "kernelspec": {
   "display_name": "python3",
   "language": "python",
   "name": "python3"
  },
  "language_info": {
   "codemirror_mode": {
    "name": "ipython",
    "version": 3
   },
   "file_extension": ".py",
   "mimetype": "text/x-python",
   "name": "python",
   "nbconvert_exporter": "python",
   "pygments_lexer": "ipython3",
   "version": "3.11.3"
  }
 },
 "nbformat": 4,
 "nbformat_minor": 2
}
