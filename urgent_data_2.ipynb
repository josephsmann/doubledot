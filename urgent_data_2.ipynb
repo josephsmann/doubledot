{
 "cells": [
  {
   "attachments": {},
   "cell_type": "markdown",
   "metadata": {},
   "source": [
    "## Urgent Data \n",
    "> take 2.0"
   ]
  },
  {
   "cell_type": "code",
   "execution_count": null,
   "metadata": {},
   "outputs": [],
   "source": [
    "%load_ext autoreload\n",
    "%autoreload 2"
   ]
  },
  {
   "cell_type": "code",
   "execution_count": null,
   "metadata": {},
   "outputs": [
    {
     "name": "stdout",
     "output_type": "stream",
     "text": [
      "Directory 'atms_download' already exists.\n",
      "Directory 'atms_upload' already exists.\n"
     ]
    }
   ],
   "source": [
    "from doubledot import *\n",
    "import pandas as pd\n",
    "from time import sleep\n",
    "import os\n",
    "import jmespath as jp"
   ]
  },
  {
   "cell_type": "code",
   "execution_count": null,
   "metadata": {},
   "outputs": [],
   "source": [
    "sf = Salesforce()"
   ]
  },
  {
   "cell_type": "code",
   "execution_count": null,
   "metadata": {},
   "outputs": [],
   "source": [
    "### Clean out old data ?\n",
    "# for table in Salesforce.model_d.keys():\n",
    "#     sf.delete_sf_objects(table)"
   ]
  },
  {
   "cell_type": "code",
   "execution_count": null,
   "metadata": {},
   "outputs": [
    {
     "name": "stdout",
     "output_type": "stream",
     "text": [
      "Directory 'atms_download' already exists.\n",
      "Directory 'atms_upload' already exists.\n",
      "ATMS.fetch_data_by_contactIds: 175861\n",
      "we have contact_id 175861 and obj is sales\n",
      "http://crm-api-neaq.atmsplus.com/api/sales/contact/175861\n",
      "ATMS.fetch_data_by_contactIds: response data \n",
      " [{'saleKey': '6450070', 'saleAmount': '70.0000', 'paymentAmount': '70.0000', 'saleDate': '2023-05-29T12:55:40.85', 'active': True, 'terminalKey': 78, 'ticketCount': 2, 'eventDate': '2023-05-29T13:00:00', 'booking': {'bookingId': 1901565, 'bookingContactKey': 2519260, 'bookingContactType': 'Primary', 'contactKey': 175861, 'contactIndividualKey': 169321, 'contactOrganizationKey': 0, 'displayName': 'Cheung, David', 'firstName': 'David', 'lastName': 'Cheung', 'email': 'david.cheung@vantixsystems.com', 'phone': '7804210499'}, 'saleComment': None, 'saleDetails': [{'saleDetailId': 13544390, 'saleId': 6450070, 'itemKey': 55, 'scheduleKey': 255449, 'rateKey': 5, 'categoryKey': 4, 'itemQuantity': 2, 'pricingPriceKey': 10071, 'itemPrice': 34.0, 'itemTotal': 68.0, 'couponTotal': 0.0, 'discountTotal': 0.0, 'total': 68.0, 'revenueDate': '2023-05-29T13:00:00', 'refundReasonKey': None, 'systemPriceOverride': 'N', 'membershipTermKey': None, 'taxTotal': 0.0, 'surchargeTotal': 0.0, 'surchargeTaxTotal': 0.0, 'pendingShiftKey': 149162, 'pendingTerminalKey': 78, 'pendingDateTimeStamp': '2023-05-29T12:55:41.5', 'pendingUser': 'Admin', 'finalStatus': 1, 'finalShiftKey': 149162, 'finalTerminalKey': 78, 'finalDateTimeStamp': '2023-05-29T12:56:32.93', 'finalUser': 'Admin', 'refundQuantity': 0, 'firstScheduleDetailKey': 259855, 'itemDescription': 'Aquarium', 'rateDescription': 'Public', 'categoryDescription': 'Adult', 'scheduleDate': '2023-05-29T13:00:00'}, {'saleDetailId': 13544391, 'saleId': 6450070, 'itemKey': 604, 'scheduleKey': None, 'rateKey': 5, 'categoryKey': 48, 'itemQuantity': 1, 'pricingPriceKey': 9228, 'itemPrice': 2.0, 'itemTotal': 2.0, 'couponTotal': 0.0, 'discountTotal': 0.0, 'total': 2.0, 'revenueDate': '2023-05-29T12:56:33.353', 'refundReasonKey': None, 'systemPriceOverride': 'Y', 'membershipTermKey': None, 'taxTotal': 0.0, 'surchargeTotal': 0.0, 'surchargeTaxTotal': 0.0, 'pendingShiftKey': 149162, 'pendingTerminalKey': 78, 'pendingDateTimeStamp': '2023-05-29T12:56:20.71', 'pendingUser': 'Admin', 'finalStatus': 1, 'finalShiftKey': 149162, 'finalTerminalKey': 78, 'finalDateTimeStamp': '2023-05-29T12:56:33.353', 'finalUser': 'Admin', 'refundQuantity': 0, 'firstScheduleDetailKey': None, 'itemDescription': 'Round Sale Up', 'rateDescription': 'Public', 'categoryDescription': 'Item', 'scheduleDate': None}], 'tickets': [{'ticketKey': 19269564, 'saleKey': 6450070, 'saleDetailKey': 13544390, 'itemKey': 55, 'itemDescription': 'Aquarium', 'itemShort': None, 'itemType': None, 'scheduleKey': 255449, 'scheduleDate': '2023-05-29T13:00:00', 'facilityKey': 0, 'facilityDescription': None, 'facilityShort': None, 'ticketText': None, 'rate': 'Public', 'category': 'Adult', 'cancelled': None, 'redeemed': None, 'refunded': None, 'isValid': False, 'validationText': None, 'redeemedCount': 0, 'ticketDetailKey': 19270425, 'scheduleDetailKey': 259855, 'seats': 0, 'seatsSold': 0, 'totalTicketsScanned': 0, 'scheduleEndDate': '2023-05-29T14:20:00', 'ticketStatus': '', 'ticketDisplay': 'TT19269564', 'ticketSection': None, 'ticketRow': None, 'ticketSeat': None, 'ticketPrefix': 'TT', 'active': False, 'cancelable': False, 'contactIndividualKey': 169321, 'individualKey': 175861, 'individualName': 'Cheung, David', 'contactOrganizationKey': None, 'organizationKey': None, 'organizationName': None, 'reschedulable': False, 'rescheduleLead': None, 'rescheduleGrace': None, 'rescheduleCount': None, 'rescheduleLimitHours': None, 'comment': None, 'transferRequestKey': 0, 'recipientEmail': None}, {'ticketKey': 19269565, 'saleKey': 6450070, 'saleDetailKey': 13544390, 'itemKey': 55, 'itemDescription': 'Aquarium', 'itemShort': None, 'itemType': None, 'scheduleKey': 255449, 'scheduleDate': '2023-05-29T13:00:00', 'facilityKey': 0, 'facilityDescription': None, 'facilityShort': None, 'ticketText': None, 'rate': 'Public', 'category': 'Adult', 'cancelled': None, 'redeemed': None, 'refunded': None, 'isValid': False, 'validationText': None, 'redeemedCount': 0, 'ticketDetailKey': 19270426, 'scheduleDetailKey': 259855, 'seats': 0, 'seatsSold': 0, 'totalTicketsScanned': 0, 'scheduleEndDate': '2023-05-29T14:20:00', 'ticketStatus': '', 'ticketDisplay': 'TT19269565', 'ticketSection': None, 'ticketRow': None, 'ticketSeat': None, 'ticketPrefix': 'TT', 'active': False, 'cancelable': False, 'contactIndividualKey': 169321, 'individualKey': 175861, 'individualName': 'Cheung, David', 'contactOrganizationKey': None, 'organizationKey': None, 'organizationName': None, 'reschedulable': False, 'rescheduleLead': None, 'rescheduleGrace': None, 'rescheduleCount': None, 'rescheduleLimitHours': None, 'comment': None, 'transferRequestKey': 0, 'recipientEmail': None}]}]\n",
      "ATMS.fetch_data_by_contactIds: 175861\n",
      "we have contact_id 175861 and obj is contacts\n",
      "we have contact_id and obj is contacts\n",
      "ATMS_api.get_telus_data :  http://crm-api-neaq.atmsplus.com/api/contacts/175861\n",
      "http://crm-api-neaq.atmsplus.com/api/contacts/175861\n",
      "ATMS.fetch_data_by_contactIds: response data \n",
      " {'contactId': 175861, 'contactType': 'Individual', 'username': 'dcheung', 'createdDate': '2011-05-16T21:08:43.723', 'updateDate': '2023-05-31T17:34:58.6', 'emailOptIn': 'N', 'mailOptIn': 'N', 'phoneOptIn': 'N', 'contactIndividualKey': 169321, 'firstName': 'David', 'lastName': 'Cheung', 'middleName': None, 'birthDate': '0001-01-01T00:00:00', 'contactOrganizationKey': 0, 'organizationName': None, 'addresses': [{'addressId': 161695, 'contactKey': 175861, 'addressType': 'Business', 'line1': '10119 97 Ave', 'line2': None, 'line3': None, 'country': 'Canada', 'province': 'AB', 'county': None, 'city': 'Edmonton', 'postalZipCode': 'T5K2T3'}], 'alerts': [], 'contactTypes': [], 'emails': [{'emailId': 97339, 'contactKey': 175861, 'emailType': 'E-Mail', 'address': 'david.cheung@vantixsystems.com'}], 'faxes': [], 'phones': [{'phoneId': 149425, 'contactKey': 175861, 'phoneType': 'Business', 'phoneNumber': '7804210499', 'extension': None}]}\n",
      "ATMS.fetch_data_by_contactIds: 175861\n",
      "we have contact_id 175861 and obj is memberships\n",
      "http://crm-api-neaq.atmsplus.com/api/memberships/contact/175861\n",
      "ATMS.fetch_data_by_contactIds: response data \n",
      " []\n",
      "File 'contacts.json' written successfully. to /Users/josephmann/Documents/Github/doubledot/atms_download/hzl9xvl9\n",
      "File 'sales.json' written successfully. to /Users/josephmann/Documents/Github/doubledot/atms_download/hzl9xvl9\n",
      "File 'memberships.json' written successfully. to /Users/josephmann/Documents/Github/doubledot/atms_download/hzl9xvl9\n"
     ]
    },
    {
     "ename": "AssertionError",
     "evalue": "wrong number of objects in dictionary dict_keys(['contacts', 'sales', 'memberships'])",
     "output_type": "error",
     "traceback": [
      "\u001b[0;31m---------------------------------------------------------------------------\u001b[0m",
      "\u001b[0;31mAssertionError\u001b[0m                            Traceback (most recent call last)",
      "Cell \u001b[0;32mIn[30], line 11\u001b[0m\n\u001b[1;32m      8\u001b[0m sf\u001b[39m.\u001b[39mretrieve_atms_records_by_contactId(pelton_ids)\n\u001b[1;32m     10\u001b[0m \u001b[39m# number of objects in dictionary\u001b[39;00m\n\u001b[0;32m---> 11\u001b[0m \u001b[39massert\u001b[39;00m \u001b[39mlen\u001b[39m(sf\u001b[39m.\u001b[39matms\u001b[39m.\u001b[39mobj_d) \u001b[39m==\u001b[39m \u001b[39mlen\u001b[39m([\u001b[39m'\u001b[39m\u001b[39msales\u001b[39m\u001b[39m'\u001b[39m, \u001b[39m'\u001b[39m\u001b[39mcontacts\u001b[39m\u001b[39m'\u001b[39m, \u001b[39m'\u001b[39m\u001b[39mmemberships\u001b[39m\u001b[39m'\u001b[39m,\u001b[39m'\u001b[39m\u001b[39mitems\u001b[39m\u001b[39m'\u001b[39m]), \u001b[39mf\u001b[39m\u001b[39m\"\u001b[39m\u001b[39mwrong number of objects in dictionary \u001b[39m\u001b[39m{\u001b[39;00msf\u001b[39m.\u001b[39matms\u001b[39m.\u001b[39mobj_d\u001b[39m.\u001b[39mkeys()\u001b[39m}\u001b[39;00m\u001b[39m\"\u001b[39m\n\u001b[1;32m     12\u001b[0m \u001b[39m# number of files in directory\u001b[39;00m\n\u001b[1;32m     13\u001b[0m \u001b[39massert\u001b[39;00m \u001b[39mlen\u001b[39m(os\u001b[39m.\u001b[39mlistdir(sf\u001b[39m.\u001b[39matms\u001b[39m.\u001b[39mdownload_dir)) \u001b[39m==\u001b[39m \u001b[39mlen\u001b[39m([\u001b[39m'\u001b[39m\u001b[39msales\u001b[39m\u001b[39m'\u001b[39m, \u001b[39m'\u001b[39m\u001b[39mcontacts\u001b[39m\u001b[39m'\u001b[39m, \u001b[39m'\u001b[39m\u001b[39mmemberships\u001b[39m\u001b[39m'\u001b[39m,\u001b[39m'\u001b[39m\u001b[39mitems\u001b[39m\u001b[39m'\u001b[39m]), \u001b[39mf\u001b[39m\u001b[39m\"\u001b[39m\u001b[39mwrong number of files in directory \u001b[39m\u001b[39m{\u001b[39;00msf\u001b[39m.\u001b[39matms\u001b[39m.\u001b[39mdownload_dir\u001b[39m}\u001b[39;00m\u001b[39m\"\u001b[39m\n",
      "\u001b[0;31mAssertionError\u001b[0m: wrong number of objects in dictionary dict_keys(['contacts', 'sales', 'memberships'])"
     ]
    }
   ],
   "source": [
    "#| eval: false\n",
    "\n",
    "\n",
    "# 415645 73012 105765 and 342765 are also good contacts to bring in when you are rea and organization 133156\n",
    "pelton_ids = [ 4708, 119430, 119431, 144164,144165, 144166, 144167, 415645, 73012, 105765, 342765 ]\n",
    "pelton_ids = [ 105, 867869, 774081, 380046, 793444, 868245, 785719, 543385 ]\n",
    "pelton_ids = [ 175861 ]\n",
    "sf.retrieve_atms_records_by_contactId(pelton_ids)\n",
    "\n",
    "# number of objects in dictionary\n",
    "assert len(sf.atms.obj_d) == len(['sales', 'contacts', 'memberships','items']), f\"wrong number of objects in dictionary {sf.atms.obj_d.keys()}\"\n",
    "# number of files in directory\n",
    "assert len(os.listdir(sf.atms.download_dir)) == len(['sales', 'contacts', 'memberships','items']), f\"wrong number of files in directory {sf.atms.download_dir}\"\n",
    "\n"
   ]
  },
  {
   "cell_type": "code",
   "execution_count": null,
   "metadata": {},
   "outputs": [
    {
     "data": {
      "text/html": [
       "<div>\n",
       "<style scoped>\n",
       "    .dataframe tbody tr th:only-of-type {\n",
       "        vertical-align: middle;\n",
       "    }\n",
       "\n",
       "    .dataframe tbody tr th {\n",
       "        vertical-align: top;\n",
       "    }\n",
       "\n",
       "    .dataframe thead th {\n",
       "        text-align: right;\n",
       "    }\n",
       "</style>\n",
       "<table border=\"1\" class=\"dataframe\">\n",
       "  <thead>\n",
       "    <tr style=\"text-align: right;\">\n",
       "      <th></th>\n",
       "      <th>LastName</th>\n",
       "      <th>FirstName</th>\n",
       "      <th>MailingPostalCode</th>\n",
       "      <th>MailingCity</th>\n",
       "      <th>MailingStreet</th>\n",
       "      <th>MailingCountry</th>\n",
       "      <th>Phone</th>\n",
       "      <th>Email</th>\n",
       "      <th>contactId__c</th>\n",
       "    </tr>\n",
       "  </thead>\n",
       "  <tbody>\n",
       "    <tr>\n",
       "      <th>0</th>\n",
       "      <td>Cheung</td>\n",
       "      <td>David</td>\n",
       "      <td>T5K2T3</td>\n",
       "      <td>Edmonton</td>\n",
       "      <td>10119 97 Ave</td>\n",
       "      <td>Canada</td>\n",
       "      <td>7804210499</td>\n",
       "      <td>david.cheung@vantixsystems.com</td>\n",
       "      <td>175861</td>\n",
       "    </tr>\n",
       "  </tbody>\n",
       "</table>\n",
       "</div>"
      ],
      "text/plain": [
       "  LastName FirstName MailingPostalCode MailingCity MailingStreet   \n",
       "0   Cheung     David            T5K2T3    Edmonton  10119 97 Ave  \\\n",
       "\n",
       "  MailingCountry       Phone                           Email  contactId__c  \n",
       "0         Canada  7804210499  david.cheung@vantixsystems.com        175861  "
      ]
     },
     "execution_count": null,
     "metadata": {},
     "output_type": "execute_result"
    }
   ],
   "source": [
    "search_s = \"[].{LastName: lastName,\\\n",
    "        FirstName: firstName,\\\n",
    "        MailingPostalCode: addresses[0].postalZipCode,\\\n",
    "        MailingCity: addresses[0].city,\\\n",
    "        MailingStreet: addresses[0].line1, \\\n",
    "        MailingCountry: addresses[0].country, \\\n",
    "        Phone: phones[?phoneType == 'Business'].phoneNumber | [0],\\\n",
    "        Email: emails[0].address,\\\n",
    "        contactId__c: contactId}\"\n",
    "\n",
    "dict_l = jp.search(search_s, sf.atms.obj_d['contacts'])\n",
    "df = pd.DataFrame(dict_l)\n",
    "df"
   ]
  },
  {
   "attachments": {},
   "cell_type": "markdown",
   "metadata": {},
   "source": [
    "## Primary Test Method"
   ]
  },
  {
   "cell_type": "code",
   "execution_count": null,
   "metadata": {},
   "outputs": [],
   "source": [
    "sf.atms.obj_d['sales'][0][0]['terminalKey'] = 66 "
   ]
  },
  {
   "cell_type": "code",
   "execution_count": null,
   "metadata": {},
   "outputs": [
    {
     "name": "stdout",
     "output_type": "stream",
     "text": [
      "Salesforce.process_objects: sf_object_s : Contact\n",
      "process_contacts\n",
      "write_jmespath_to_csv Contact\n",
      "write_jmespath_to_csv [{'LastName': 'Cheung', 'FirstName': 'David', 'MailingPostalCode': 'T5K2T3', 'MailingCity': 'Edmonton', 'MailingStreet': '10119 97 Ave', 'MailingCountry': 'Canada', 'Phone': '7804210499', 'Email': 'david.cheung@vantixsystems.com', 'contactId__c': 175861}]\n",
      "write_jmespath_to_csv for Contact dtypes LastName             object\n",
      "FirstName            object\n",
      "MailingPostalCode    object\n",
      "MailingCity          object\n",
      "MailingStreet        object\n",
      "MailingCountry       object\n",
      "Phone                object\n",
      "Email                object\n",
      "contactId__c         object\n",
      "dtype: object\n",
      "df2 in write_j : \n",
      "   LastName FirstName MailingPostalCode MailingCity MailingStreet   \n",
      "0   Cheung     David            T5K2T3    Edmonton  10119 97 Ave  \\\n",
      "\n",
      "  MailingCountry       Phone                           Email contactId__c  \n",
      "0         Canada  7804210499  david.cheung@vantixsystems.com       175861  \n",
      "Salesforce.process_objects: sf_object_s : Membership__c\n",
      "Salesforce.process_objects: sf_object_s : MembershipTerm__c\n",
      "Salesforce.process_objects: sf_object_s : MembershipMember__c\n",
      "Salesforce.process_objects: sf_object_s : Sale__c\n",
      "write_jmespath_to_csv Sale__c\n",
      "write_jmespath_to_csv [{'saleId__c': '6450070', 'saleAmount__c': '70.0000', 'paymentAmount__c': '70.0000', 'saleDate__c': '2023-05-29T12:55:40.85', 'active__c': True, 'terminalKey__c': 66, 'booking_bookingId__c': 1901565, 'booking_bookingContactKey__c': 2519260, 'booking_contactKey__r_1_contactId__c': 175861, 'booking_contactIndividualKey__c': 169321, 'booking_contactOrganizationKey__c': 0, 'booking_displayName__c': 'Cheung, David', 'booking_firstName__c': 'David', 'booking_lastName__c': 'Cheung', 'booking_email__c': 'david.cheung@vantixsystems.com', 'booking_phone__c': '7804210499'}]\n",
      "write_jmespath_to_csv for Sale__c dtypes saleId__c                               object\n",
      "saleAmount__c                           object\n",
      "paymentAmount__c                        object\n",
      "saleDate__c                             object\n",
      "active__c                               object\n",
      "terminalKey__c                          object\n",
      "booking_bookingId__c                    object\n",
      "booking_bookingContactKey__c            object\n",
      "booking_contactKey__r_1_contactId__c    object\n",
      "booking_contactIndividualKey__c         object\n",
      "booking_contactOrganizationKey__c       object\n",
      "booking_displayName__c                  object\n",
      "booking_firstName__c                    object\n",
      "booking_lastName__c                     object\n",
      "booking_email__c                        object\n",
      "booking_phone__c                        object\n",
      "dtype: object\n",
      "df2 in write_j : \n",
      "   saleId__c saleAmount__c paymentAmount__c             saleDate__c active__c   \n",
      "0   6450070       70.0000          70.0000  2023-05-29T12:55:40.85      True  \\\n",
      "\n",
      "  terminalKey__c booking_bookingId__c booking_bookingContactKey__c   \n",
      "0             66              1901565                      2519260  \\\n",
      "\n",
      "  booking_contactKey__r.contactId__c booking_contactIndividualKey__c   \n",
      "0                             175861                          169321  \\\n",
      "\n",
      "  booking_contactOrganizationKey__c booking_displayName__c   \n",
      "0                                            Cheung, David  \\\n",
      "\n",
      "  booking_firstName__c booking_lastName__c                booking_email__c   \n",
      "0                David              Cheung  david.cheung@vantixsystems.com  \\\n",
      "\n",
      "  booking_phone__c  \n",
      "0       7804210499  \n",
      "Salesforce.process_objects: sf_object_s : SaleDetail__c\n",
      "write_jmespath_to_csv SaleDetail__c\n",
      "write_jmespath_to_csv [{'saleDetailId__c': 13544390, 'itemKey__c': 55, 'scheduleKey__c': 255449, 'rateKey__c': 5, 'categoryKey__c': 4, 'itemCategory__c': None, 'pricingPriceKey__c': 10071, 'itemPrice__c': 34.0, 'itemTotal__c': 68.0, 'couponTotal__c': 0.0, 'discountTotal__c': 0.0, 'total__c': 68.0, 'revenueDate__c': '2023-05-29T13:00:00', 'refundReason__c': None, 'refundReasonKey__c': None, 'systemPriceOverride__c': 'N', 'membershipTermKey__r_1_membershipTermId__c': None, 'saleKey__r_1_saleId__c': 6450070}, {'saleDetailId__c': 13544391, 'itemKey__c': 604, 'scheduleKey__c': None, 'rateKey__c': 5, 'categoryKey__c': 48, 'itemCategory__c': None, 'pricingPriceKey__c': 9228, 'itemPrice__c': 2.0, 'itemTotal__c': 2.0, 'couponTotal__c': 0.0, 'discountTotal__c': 0.0, 'total__c': 2.0, 'revenueDate__c': '2023-05-29T12:56:33.353', 'refundReason__c': None, 'refundReasonKey__c': None, 'systemPriceOverride__c': 'Y', 'membershipTermKey__r_1_membershipTermId__c': None, 'saleKey__r_1_saleId__c': 6450070}]\n",
      "write_jmespath_to_csv for SaleDetail__c dtypes saleDetailId__c                               object\n",
      "itemKey__c                                    object\n",
      "scheduleKey__c                                object\n",
      "rateKey__c                                    object\n",
      "categoryKey__c                                object\n",
      "itemCategory__c                               object\n",
      "pricingPriceKey__c                            object\n",
      "itemPrice__c                                  object\n",
      "itemTotal__c                                  object\n",
      "couponTotal__c                                object\n",
      "discountTotal__c                              object\n",
      "total__c                                      object\n",
      "revenueDate__c                                object\n",
      "refundReason__c                               object\n",
      "refundReasonKey__c                            object\n",
      "systemPriceOverride__c                        object\n",
      "membershipTermKey__r_1_membershipTermId__c    object\n",
      "saleKey__r_1_saleId__c                        object\n",
      "dtype: object\n",
      "df2 in write_j : \n",
      "   saleDetailId__c itemKey__c scheduleKey__c rateKey__c categoryKey__c   \n",
      "0        13544390         55         255449          5              4  \\\n",
      "1        13544391        604                         5             48   \n",
      "\n",
      "  itemCategory__c pricingPriceKey__c itemPrice__c itemTotal__c couponTotal__c   \n",
      "0                              10071         34.0         68.0                 \\\n",
      "1                               9228          2.0          2.0                  \n",
      "\n",
      "  discountTotal__c total__c           revenueDate__c refundReason__c   \n",
      "0                      68.0      2023-05-29T13:00:00                  \\\n",
      "1                       2.0  2023-05-29T12:56:33.353                   \n",
      "\n",
      "  refundReasonKey__c systemPriceOverride__c   \n",
      "0                                         N  \\\n",
      "1                                         Y   \n",
      "\n",
      "  membershipTermKey__r.membershipTermId__c saleKey__r.saleId__c  \n",
      "0                                                       6450070  \n",
      "1                                                       6450070  \n",
      "Salesforce.process_objects: sf_object_s : Ticket__c\n",
      "write_jmespath_to_csv Ticket__c\n",
      "write_jmespath_to_csv [{'ticketId__c': 19269564, 'saleKey__r_1_saleId__c': 6450070, 'saleDetailKey__r_1_saleDetailId__c': 13544390, 'itemDescription__c': 'Aquarium', 'ticketDisplay__c': 'TT19269564'}, {'ticketId__c': 19269565, 'saleKey__r_1_saleId__c': 6450070, 'saleDetailKey__r_1_saleDetailId__c': 13544390, 'itemDescription__c': 'Aquarium', 'ticketDisplay__c': 'TT19269565'}]\n",
      "write_jmespath_to_csv for Ticket__c dtypes ticketId__c                           object\n",
      "saleKey__r_1_saleId__c                object\n",
      "saleDetailKey__r_1_saleDetailId__c    object\n",
      "itemDescription__c                    object\n",
      "ticketDisplay__c                      object\n",
      "dtype: object\n",
      "df2 in write_j : \n",
      "   ticketId__c saleKey__r.saleId__c saleDetailKey__r.saleDetailId__c   \n",
      "0    19269564              6450070                         13544390  \\\n",
      "1    19269565              6450070                         13544390   \n",
      "\n",
      "  itemDescription__c ticketDisplay__c  \n",
      "0           Aquarium       TT19269564  \n",
      "1           Aquarium       TT19269565  \n",
      "Salesforce.process_objects: sf_object_s : MembershipTermMemberRel__c\n",
      "Contact contactId__c\n",
      "upload_csv_to_sf: dropping duplicates for  Contact  on  contactId__c\n",
      "  LastName FirstName MailingPostalCode MailingCity MailingStreet   \n",
      "0   Cheung     David            T5K2T3    Edmonton  10119 97 Ave  \\\n",
      "\n",
      "  MailingCountry       Phone                           Email contactId__c  \n",
      "0         Canada  7804210499  david.cheung@vantixsystems.com       175861  \n",
      "Membership__c membershipId__c\n",
      "MembershipTerm__c membershipTermId__c\n",
      "MembershipMember__c membershipMemberId__c\n",
      "Sale__c saleId__c\n",
      "upload_csv_to_sf: dropping duplicates for  Sale__c  on  saleId__c\n",
      "  saleId__c saleAmount__c paymentAmount__c             saleDate__c active__c   \n",
      "0   6450070       70.0000          70.0000  2023-05-29T12:55:40.85      True  \\\n",
      "\n",
      "  terminalKey__c booking_bookingId__c booking_bookingContactKey__c   \n",
      "0             66              1901565                      2519260  \\\n",
      "\n",
      "  booking_contactKey__r.contactId__c booking_contactIndividualKey__c   \n",
      "0                             175861                          169321  \\\n",
      "\n",
      "  booking_contactOrganizationKey__c booking_displayName__c   \n",
      "0                               NaN          Cheung, David  \\\n",
      "\n",
      "  booking_firstName__c booking_lastName__c                booking_email__c   \n",
      "0                David              Cheung  david.cheung@vantixsystems.com  \\\n",
      "\n",
      "  booking_phone__c  \n",
      "0       7804210499  \n",
      "SaleDetail__c saleDetailId__c\n",
      "upload_csv_to_sf: dropping duplicates for  SaleDetail__c  on  saleDetailId__c\n",
      "  saleDetailId__c itemKey__c scheduleKey__c rateKey__c categoryKey__c   \n",
      "0        13544390         55         255449          5              4  \\\n",
      "1        13544391        604            NaN          5             48   \n",
      "\n",
      "  itemCategory__c pricingPriceKey__c itemPrice__c itemTotal__c couponTotal__c   \n",
      "0             NaN              10071         34.0         68.0            NaN  \\\n",
      "1             NaN               9228          2.0          2.0            NaN   \n",
      "\n",
      "  discountTotal__c total__c           revenueDate__c refundReason__c   \n",
      "0              NaN     68.0      2023-05-29T13:00:00             NaN  \\\n",
      "1              NaN      2.0  2023-05-29T12:56:33.353             NaN   \n",
      "\n",
      "  refundReasonKey__c systemPriceOverride__c   \n",
      "0                NaN                      N  \\\n",
      "1                NaN                      Y   \n",
      "\n",
      "  membershipTermKey__r.membershipTermId__c saleKey__r.saleId__c  \n",
      "0                                      NaN              6450070  \n",
      "1                                      NaN              6450070  \n",
      "Ticket__c ticketId__c\n",
      "upload_csv_to_sf: dropping duplicates for  Ticket__c  on  ticketId__c\n",
      "  ticketId__c saleKey__r.saleId__c saleDetailKey__r.saleDetailId__c   \n",
      "0    19269564              6450070                         13544390  \\\n",
      "1    19269565              6450070                         13544390   \n",
      "\n",
      "  itemDescription__c ticketDisplay__c  \n",
      "0           Aquarium       TT19269564  \n",
      "1           Aquarium       TT19269565  \n",
      "Contact contactId__c\n",
      "execute_job\n",
      "Created job 7508Y00000nJL8UQAW for Contact with operation upsert\n",
      "Uploading job 7508Y00000nJL8UQAW of object Contact\n",
      "Uploaded job 7508Y00000nJL8UQAW of object Contact with status 201\n",
      "response.text : \n",
      " : \n",
      "close_job response.text :\n",
      " {\"id\":\"7508Y00000nJL8UQAW\",\"operation\":\"upsert\",\"object\":\"Contact\",\"createdById\":\"0058Y00000CIEn9QAH\",\"createdDate\":\"2023-06-01T23:20:39.000+0000\",\"systemModstamp\":\"2023-06-01T23:20:39.000+0000\",\"state\":\"UploadComplete\",\"externalIdFieldName\":\"contactId__c\",\"concurrencyMode\":\"Parallel\",\"contentType\":\"CSV\",\"apiVersion\":57.0}\n",
      "pre loop job status: {'id': '7508Y00000nJL8UQAW', 'operation': 'upsert', 'object': 'Contact', 'createdById': '0058Y00000CIEn9QAH', 'createdDate': '2023-06-01T23:20:39.000+0000', 'systemModstamp': '2023-06-01T23:20:42.000+0000', 'state': 'JobComplete', 'externalIdFieldName': 'contactId__c', 'concurrencyMode': 'Parallel', 'contentType': 'CSV', 'apiVersion': 57.0, 'jobType': 'V2Ingest', 'lineEnding': 'LF', 'columnDelimiter': 'TAB', 'numberRecordsProcessed': 1, 'numberRecordsFailed': 0, 'retries': 0, 'totalProcessingTime': 148, 'apiActiveProcessingTime': 55, 'apexProcessingTime': 0}\n",
      "waiting for job to complete, try 0\n",
      "waiting status: {'id': '7508Y00000nJL8UQAW', 'operation': 'upsert', 'object': 'Contact', 'createdById': '0058Y00000CIEn9QAH', 'createdDate': '2023-06-01T23:20:39.000+0000', 'systemModstamp': '2023-06-01T23:20:42.000+0000', 'state': 'JobComplete', 'externalIdFieldName': 'contactId__c', 'concurrencyMode': 'Parallel', 'contentType': 'CSV', 'apiVersion': 57.0, 'jobType': 'V2Ingest', 'lineEnding': 'LF', 'columnDelimiter': 'TAB', 'numberRecordsProcessed': 1, 'numberRecordsFailed': 0, 'retries': 0, 'totalProcessingTime': 148, 'apiActiveProcessingTime': 55, 'apexProcessingTime': 0}\n",
      "post loop job status: {'id': '7508Y00000nJL8UQAW', 'operation': 'upsert', 'object': 'Contact', 'createdById': '0058Y00000CIEn9QAH', 'createdDate': '2023-06-01T23:20:39.000+0000', 'systemModstamp': '2023-06-01T23:20:42.000+0000', 'state': 'JobComplete', 'externalIdFieldName': 'contactId__c', 'concurrencyMode': 'Parallel', 'contentType': 'CSV', 'apiVersion': 57.0, 'jobType': 'V2Ingest', 'lineEnding': 'LF', 'columnDelimiter': 'TAB', 'numberRecordsProcessed': 1, 'numberRecordsFailed': 0, 'retries': 0, 'totalProcessingTime': 148, 'apiActiveProcessingTime': 55, 'apexProcessingTime': 0}\n",
      "Failed results (if any):\n",
      "\"sf__Id\"\t\"sf__Error\"\tLastName\tFirstName\tMailingPostalCode\tMailingCity\tMailingStreet\tMailingCountry\tPhone\tEmail\tcontactId__c\n",
      "\n",
      "\n",
      "\n",
      " Successful results (if any):\n",
      "\"sf__Id\"\t\"sf__Created\"\tLastName\tFirstName\tMailingPostalCode\tMailingCity\tMailingStreet\tMailingCountry\tPhone\tEmail\tcontactId__c\n",
      "\"0038Y00003g3JdsQAE\"\t\"false\"\t\"Cheung\"\t\"David\"\t\"T5K2T3\"\t\"Edmonton\"\t\"10119 97 Ave\"\t\"Canada\"\t\"7804210499\"\t\"david.cheung@vantixsystems.com\"\t\"175861\"\n",
      "\n"
     ]
    }
   ],
   "source": [
    "####### PRIMARY TEST METHOD ########\n",
    "sf.clean_upload_dir()\n",
    "# sf.upload_csv_to_sf(clean_all=False, obj_l=['MembershipTermMemberRel__c'], generate_upload_files=True)\n",
    "# sf.upload_csv_to_sf(clean_all=False, generate_upload_files=True)\n",
    "# sf.atms.obj_d= {}\n",
    "sf.upload_csv_to_sf(clean_all=False, generate_upload_files=True)"
   ]
  },
  {
   "cell_type": "code",
   "execution_count": null,
   "metadata": {},
   "outputs": [
    {
     "name": "stdout",
     "output_type": "stream",
     "text": [
      "Directory 'atms_download' already exists.\n",
      "Directory 'atms_upload' already exists.\n",
      "write_jmespath_to_csv Membership__c\n",
      "write_jmespath_to_csv [{'membershipId__c': 295573, 'memberSince__c': '2019-05-20T23:02:11.007', 'updateDate__c': '2023-01-04T15:09:22.887'}, {'membershipId__c': 295573, 'memberSince__c': '2019-05-20T23:02:11.007', 'updateDate__c': '2023-01-04T15:09:22.887'}, {'membershipId__c': 13, 'memberSince__c': '2009-09-25T00:00:00', 'updateDate__c': '2022-12-30T14:52:16.68'}, {'membershipId__c': 13, 'memberSince__c': '2009-09-25T00:00:00', 'updateDate__c': '2022-12-30T14:52:16.68'}, {'membershipId__c': 302188, 'memberSince__c': '2020-09-18T11:56:22.1', 'updateDate__c': '2022-12-09T16:04:34.39'}]\n",
      "write_jmespath_to_csv for Membership__c dtypes membershipId__c    object\n",
      "memberSince__c     object\n",
      "updateDate__c      object\n",
      "dtype: object\n",
      "write_jmespath_to_csv MembershipTerm__c\n",
      "write_jmespath_to_csv [{'membershipTermId__c': '416780', 'membershipKey__r_1_membershipId__c': 295573, 'effectiveDate__c': '2019-05-20T00:00:00', 'expiryDate__c': '2020-05-31T23:59:59', 'membershipType__c': 'Standard 6', 'upgradeFromTermKey__c': None, 'giftMembership__c': False, 'refunded__c': False, 'saleDetailKey__c': None, 'itemKey__c': 500}, {'membershipTermId__c': '430688', 'membershipKey__r_1_membershipId__c': 295573, 'effectiveDate__c': '2020-06-12T00:00:00', 'expiryDate__c': '2021-08-31T23:59:59', 'membershipType__c': 'Premium 6', 'upgradeFromTermKey__c': None, 'giftMembership__c': False, 'refunded__c': False, 'saleDetailKey__c': None, 'itemKey__c': 504}, {'membershipTermId__c': '452401', 'membershipKey__r_1_membershipId__c': 295573, 'effectiveDate__c': '2022-02-08T00:00:00', 'expiryDate__c': '2022-05-01T23:59:59', 'membershipType__c': 'Premium 4', 'upgradeFromTermKey__c': None, 'giftMembership__c': False, 'refunded__c': False, 'saleDetailKey__c': None, 'itemKey__c': 503}, {'membershipTermId__c': '455949', 'membershipKey__r_1_membershipId__c': 295573, 'effectiveDate__c': '2022-05-02T00:00:00', 'expiryDate__c': '2023-02-28T23:59:59', 'membershipType__c': 'Premium 6', 'upgradeFromTermKey__c': 452401, 'giftMembership__c': False, 'refunded__c': False, 'saleDetailKey__c': 12723922, 'itemKey__c': 504}, {'membershipTermId__c': '416780', 'membershipKey__r_1_membershipId__c': 295573, 'effectiveDate__c': '2019-05-20T00:00:00', 'expiryDate__c': '2020-05-31T23:59:59', 'membershipType__c': 'Standard 6', 'upgradeFromTermKey__c': None, 'giftMembership__c': False, 'refunded__c': False, 'saleDetailKey__c': None, 'itemKey__c': 500}]\n",
      "write_jmespath_to_csv for MembershipTerm__c dtypes membershipTermId__c                   object\n",
      "membershipKey__r_1_membershipId__c    object\n",
      "effectiveDate__c                      object\n",
      "expiryDate__c                         object\n",
      "membershipType__c                     object\n",
      "upgradeFromTermKey__c                 object\n",
      "giftMembership__c                     object\n",
      "refunded__c                           object\n",
      "saleDetailKey__c                      object\n",
      "itemKey__c                            object\n",
      "dtype: object\n",
      "write_jmespath_to_csv MembershipMember__c\n",
      "write_jmespath_to_csv [{'membershipMemberId__c': '295573_452030', 'membershipTermKey__r_1_membershipTermId__c': 416780, 'cardNumber__c': 1, 'membershipNumber__c': '29557301', 'cardStatus__c': 'Active', 'contactKey__r_1_contactId__c': 774081, 'displayName__c': 'Rodrigues, Sai'}, {'membershipMemberId__c': '295573_455076', 'membershipTermKey__r_1_membershipTermId__c': 416780, 'cardNumber__c': 2, 'membershipNumber__c': '29557302', 'cardStatus__c': 'Active', 'contactKey__r_1_contactId__c': 793444, 'displayName__c': 'Rodrigues, Sandeep'}, {'membershipMemberId__c': '295573_452030', 'membershipTermKey__r_1_membershipTermId__c': 430688, 'cardNumber__c': 1, 'membershipNumber__c': '29557301', 'cardStatus__c': 'Active', 'contactKey__r_1_contactId__c': 774081, 'displayName__c': 'Rodrigues, Sai'}, {'membershipMemberId__c': '295573_455076', 'membershipTermKey__r_1_membershipTermId__c': 430688, 'cardNumber__c': 2, 'membershipNumber__c': '29557302', 'cardStatus__c': 'Active', 'contactKey__r_1_contactId__c': 793444, 'displayName__c': 'Rodrigues, Sandeep'}, {'membershipMemberId__c': '295573_452030', 'membershipTermKey__r_1_membershipTermId__c': 452401, 'cardNumber__c': 1, 'membershipNumber__c': '29557301', 'cardStatus__c': 'Active', 'contactKey__r_1_contactId__c': 774081, 'displayName__c': 'Rodrigues, Sai'}]\n",
      "write_jmespath_to_csv for MembershipMember__c dtypes membershipMemberId__c                         object\n",
      "membershipTermKey__r_1_membershipTermId__c    object\n",
      "cardNumber__c                                 object\n",
      "membershipNumber__c                           object\n",
      "cardStatus__c                                 object\n",
      "contactKey__r_1_contactId__c                  object\n",
      "displayName__c                                object\n",
      "dtype: object\n",
      "write_jmespath_to_csv SaleDetail__c\n",
      "write_jmespath_to_csv [{'saleDetailId__c': 10661073, 'itemKey__c': 397, 'scheduleKey__c': 189069, 'rateKey__c': 6, 'categoryKey__c': 33, 'itemCategory__c': None, 'pricingPriceKey__c': 7178, 'itemPrice__c': 0.0, 'itemTotal__c': 0.0, 'couponTotal__c': 0.0, 'discountTotal__c': 0.0, 'total__c': 0.0, 'revenueDate__c': '2019-06-09T21:00:00', 'refundReason__c': None, 'refundReasonKey__c': None, 'systemPriceOverride__c': 'N', 'membershipTermKey__r_1_membershipTermId__c': 416780, 'saleKey__r_1_saleId__c': 5107178}, {'saleDetailId__c': 10760392, 'itemKey__c': 397, 'scheduleKey__c': 189096, 'rateKey__c': 6, 'categoryKey__c': 33, 'itemCategory__c': None, 'pricingPriceKey__c': 7178, 'itemPrice__c': 0.0, 'itemTotal__c': 0.0, 'couponTotal__c': 0.0, 'discountTotal__c': 0.0, 'total__c': 0.0, 'revenueDate__c': '2019-07-06T21:00:00', 'refundReason__c': None, 'refundReasonKey__c': None, 'systemPriceOverride__c': 'N', 'membershipTermKey__r_1_membershipTermId__c': 416780, 'saleKey__r_1_saleId__c': 5160203}, {'saleDetailId__c': 10828584, 'itemKey__c': 397, 'scheduleKey__c': 189112, 'rateKey__c': 6, 'categoryKey__c': 33, 'itemCategory__c': None, 'pricingPriceKey__c': 7178, 'itemPrice__c': 0.0, 'itemTotal__c': 0.0, 'couponTotal__c': 0.0, 'discountTotal__c': 0.0, 'total__c': 0.0, 'revenueDate__c': '2019-07-22T21:00:00', 'refundReason__c': None, 'refundReasonKey__c': None, 'systemPriceOverride__c': 'N', 'membershipTermKey__r_1_membershipTermId__c': 416780, 'saleKey__r_1_saleId__c': 5194675}, {'saleDetailId__c': 10828986, 'itemKey__c': 397, 'scheduleKey__c': 189112, 'rateKey__c': 6, 'categoryKey__c': 33, 'itemCategory__c': None, 'pricingPriceKey__c': 7178, 'itemPrice__c': 0.0, 'itemTotal__c': 0.0, 'couponTotal__c': 0.0, 'discountTotal__c': 0.0, 'total__c': 0.0, 'revenueDate__c': '2019-07-22T21:00:00', 'refundReason__c': None, 'refundReasonKey__c': None, 'systemPriceOverride__c': 'N', 'membershipTermKey__r_1_membershipTermId__c': 416780, 'saleKey__r_1_saleId__c': 5194847}, {'saleDetailId__c': 10849207, 'itemKey__c': 397, 'scheduleKey__c': 189117, 'rateKey__c': 6, 'categoryKey__c': 33, 'itemCategory__c': None, 'pricingPriceKey__c': 7178, 'itemPrice__c': 0.0, 'itemTotal__c': 0.0, 'couponTotal__c': 0.0, 'discountTotal__c': 0.0, 'total__c': 0.0, 'revenueDate__c': '2019-07-27T21:00:00', 'refundReason__c': None, 'refundReasonKey__c': None, 'systemPriceOverride__c': 'N', 'membershipTermKey__r_1_membershipTermId__c': 416780, 'saleKey__r_1_saleId__c': 5204608}]\n",
      "write_jmespath_to_csv for SaleDetail__c dtypes saleDetailId__c                               object\n",
      "itemKey__c                                    object\n",
      "scheduleKey__c                                object\n",
      "rateKey__c                                    object\n",
      "categoryKey__c                                object\n",
      "itemCategory__c                               object\n",
      "pricingPriceKey__c                            object\n",
      "itemPrice__c                                  object\n",
      "itemTotal__c                                  object\n",
      "couponTotal__c                                object\n",
      "discountTotal__c                              object\n",
      "total__c                                      object\n",
      "revenueDate__c                                object\n",
      "refundReason__c                               object\n",
      "refundReasonKey__c                            object\n",
      "systemPriceOverride__c                        object\n",
      "membershipTermKey__r_1_membershipTermId__c    object\n",
      "saleKey__r_1_saleId__c                        object\n",
      "dtype: object\n",
      "join_df Index(['membershipMemberId__c', 'membershipTermKey__r.membershipTermId__c',\n",
      "       'cardNumber__c', 'membershipNumber__c', 'cardStatus__c',\n",
      "       'contactKey__r.contactId__c', 'displayName__c', 'membershipTermId__c',\n",
      "       'membershipKey__r.membershipId__c', 'effectiveDate__c', 'expiryDate__c',\n",
      "       'membershipType__c', 'upgradeFromTermKey__c', 'giftMembership__c',\n",
      "       'refunded__c', 'saleDetailKey__c', 'itemKey__c'],\n",
      "      dtype='object')\n"
     ]
    }
   ],
   "source": [
    "sf.clean_upload_dir()\n",
    "sf.process_memberships()\n",
    "sf.process_saleDetails()\n",
    "sf.process_term_member_rel()"
   ]
  },
  {
   "cell_type": "code",
   "execution_count": null,
   "metadata": {},
   "outputs": [],
   "source": [
    "pd.DataFrame()"
   ]
  },
  {
   "cell_type": "code",
   "execution_count": null,
   "metadata": {},
   "outputs": [
    {
     "name": "stdout",
     "output_type": "stream",
     "text": [
      "execute_job\n",
      "Created job 7508Y00000nJ2oMQAS for MembershipTermMemberRel__c with operation insert\n",
      "Uploading job 7508Y00000nJ2oMQAS of object MembershipTermMemberRel__c\n",
      "Uploaded job 7508Y00000nJ2oMQAS of object MembershipTermMemberRel__c with status 201\n",
      "response.text : \n",
      " : \n",
      "close_job response.text :\n",
      " {\"id\":\"7508Y00000nJ2oMQAS\",\"operation\":\"insert\",\"object\":\"MembershipTermMemberRel__c\",\"createdById\":\"0058Y00000CIEn9QAH\",\"createdDate\":\"2023-05-31T03:12:06.000+0000\",\"systemModstamp\":\"2023-05-31T03:12:06.000+0000\",\"state\":\"UploadComplete\",\"concurrencyMode\":\"Parallel\",\"contentType\":\"CSV\",\"apiVersion\":57.0}\n",
      "pre loop job status: {'id': '7508Y00000nJ2oMQAS', 'operation': 'insert', 'object': 'MembershipTermMemberRel__c', 'createdById': '0058Y00000CIEn9QAH', 'createdDate': '2023-05-31T03:12:06.000+0000', 'systemModstamp': '2023-05-31T03:12:09.000+0000', 'state': 'InProgress', 'concurrencyMode': 'Parallel', 'contentType': 'CSV', 'apiVersion': 57.0, 'jobType': 'V2Ingest', 'lineEnding': 'LF', 'columnDelimiter': 'TAB', 'numberRecordsProcessed': 0, 'numberRecordsFailed': 0, 'retries': 0, 'totalProcessingTime': 0, 'apiActiveProcessingTime': 0, 'apexProcessingTime': 0}\n",
      "waiting for job to complete, try 0\n",
      "waiting status: {'id': '7508Y00000nJ2oMQAS', 'operation': 'insert', 'object': 'MembershipTermMemberRel__c', 'createdById': '0058Y00000CIEn9QAH', 'createdDate': '2023-05-31T03:12:06.000+0000', 'systemModstamp': '2023-05-31T03:12:09.000+0000', 'state': 'InProgress', 'concurrencyMode': 'Parallel', 'contentType': 'CSV', 'apiVersion': 57.0, 'jobType': 'V2Ingest', 'lineEnding': 'LF', 'columnDelimiter': 'TAB', 'numberRecordsProcessed': 0, 'numberRecordsFailed': 0, 'retries': 0, 'totalProcessingTime': 0, 'apiActiveProcessingTime': 0, 'apexProcessingTime': 0}\n",
      "post loop job status: {'id': '7508Y00000nJ2oMQAS', 'operation': 'insert', 'object': 'MembershipTermMemberRel__c', 'createdById': '0058Y00000CIEn9QAH', 'createdDate': '2023-05-31T03:12:06.000+0000', 'systemModstamp': '2023-05-31T03:12:12.000+0000', 'state': 'JobComplete', 'concurrencyMode': 'Parallel', 'contentType': 'CSV', 'apiVersion': 57.0, 'jobType': 'V2Ingest', 'lineEnding': 'LF', 'columnDelimiter': 'TAB', 'numberRecordsProcessed': 140, 'numberRecordsFailed': 0, 'retries': 0, 'totalProcessingTime': 354, 'apiActiveProcessingTime': 272, 'apexProcessingTime': 0}\n",
      "Failed results (if any):\n",
      "\"sf__Id\"\t\"sf__Error\"\tmembershipTermKey__r.membershipTermId__c\tmembershipMemberKey__r.membershipMemberId__c\n",
      "\n",
      "\"sf__Id\"\t\"sf__Error\"\tmembershipTermKey__r.membershipTermId__c\tmembershipMemberKey__r.membershipMemberId__c\n",
      "\n"
     ]
    }
   ],
   "source": [
    "# sf.delete_sf_objects('MembershipTermMemberRel__c')\n",
    "# assert os.path.exists(os.path.join(Salesforce.class_upload_dir,'MembershipTermMemberRel__c.csv')), 'upload file MembershipTermMemberRel__c does not exist'\n",
    "sf.execute_job('MembershipTermMemberRel__c', 'insert', use_ATMS_data=True) \n"
   ]
  },
  {
   "attachments": {},
   "cell_type": "markdown",
   "metadata": {},
   "source": [
    "## use pandas to create outer join of Members and Terms\n"
   ]
  },
  {
   "cell_type": "code",
   "execution_count": null,
   "metadata": {},
   "outputs": [],
   "source": [
    "\n",
    "members_df = pd.read_csv('sf_upload/MembershipMember__c.csv', sep='\\t')\n",
    "terms_df = pd.read_csv('sf_upload/MembershipTerm__c.csv', sep='\\t')\n",
    "join_df = members_df.merge(terms_df, left_on='membershipTermKey__r.membershipTermId__c', right_on='membershipTermId__c', how='outer')    \n",
    "# terms_df\\\n",
    "join_df[['membershipMemberId__c', 'membershipTermId__c']].to_csv('sf_upload/MembershipTermMemberRel__c.csv', sep='\\t', index=False, index_label='Name')\n"
   ]
  },
  {
   "cell_type": "code",
   "execution_count": null,
   "metadata": {},
   "outputs": [
    {
     "ename": "NameError",
     "evalue": "name 'sf' is not defined",
     "output_type": "error",
     "traceback": [
      "\u001b[0;31m---------------------------------------------------------------------------\u001b[0m",
      "\u001b[0;31mNameError\u001b[0m                                 Traceback (most recent call last)",
      "Cell \u001b[0;32mIn[1], line 1\u001b[0m\n\u001b[0;32m----> 1\u001b[0m d_l  \u001b[39m=\u001b[39m sf\u001b[39m.\u001b[39mprocess_saleDetails()\n",
      "\u001b[0;31mNameError\u001b[0m: name 'sf' is not defined"
     ]
    }
   ],
   "source": [
    "d_l  = sf.process_saleDetails()"
   ]
  },
  {
   "attachments": {},
   "cell_type": "markdown",
   "metadata": {},
   "source": [
    "## Problems ...\n"
   ]
  },
  {
   "cell_type": "code",
   "execution_count": null,
   "metadata": {},
   "outputs": [],
   "source": [
    "#|eval: false\n",
    "\n",
    "# why does saleId__c 889832 not have any tickets or saleDetail pointing at it? or me: 82192 323674 (I am 73012)\n",
    "# why does this point from saleId and not saleKey?\n",
    "from doubledot.crema_sf import fields_pointing_to_foreign_key, get_pointing_foreign_key_values,reduce_to_referenced_rows\n",
    "\n",
    "_df = df_d['Sale__c']\n",
    "print(_df.loc[_df['saleId__c'] == 323674, :])\n",
    "\n",
    "print(get_pointing_foreign_key_values('saleId__c', df_d))\n",
    "pointing = get_pointing_foreign_key_values('saleId__c', df_d)\n",
    "print(len(pointing))\n",
    "\n",
    "print(_df['saleId__c'].unique())\n",
    "externals = _df['saleId__c'].unique()\n",
    "\n",
    "pointing.intersection(externals)\n",
    "      "
   ]
  },
  {
   "cell_type": "code",
   "execution_count": null,
   "metadata": {},
   "outputs": [],
   "source": [
    "reduce_to_referenced_rows(df_d)\n"
   ]
  },
  {
   "cell_type": "code",
   "execution_count": null,
   "metadata": {},
   "outputs": [],
   "source": [
    "_d['Ticket__c']['saleKey__r.saleId__c']"
   ]
  },
  {
   "cell_type": "code",
   "execution_count": null,
   "metadata": {},
   "outputs": [
    {
     "ename": "ValueError",
     "evalue": "invalid literal for int() with base 10: '1344.'",
     "output_type": "error",
     "traceback": [
      "\u001b[0;31m---------------------------------------------------------------------------\u001b[0m",
      "\u001b[0;31mValueError\u001b[0m                                Traceback (most recent call last)",
      "Cell \u001b[0;32mIn[3], line 1\u001b[0m\n\u001b[0;32m----> 1\u001b[0m \u001b[39mint\u001b[39;49m(\u001b[39m\"\u001b[39;49m\u001b[39m1344.\u001b[39;49m\u001b[39m\"\u001b[39;49m)\n",
      "\u001b[0;31mValueError\u001b[0m: invalid literal for int() with base 10: '1344.'"
     ]
    }
   ],
   "source": [
    "int(\"1344.\")"
   ]
  },
  {
   "cell_type": "code",
   "execution_count": null,
   "metadata": {},
   "outputs": [],
   "source": []
  }
 ],
 "metadata": {
  "kernelspec": {
   "display_name": "python3",
   "language": "python",
   "name": "python3"
  }
 },
 "nbformat": 4,
 "nbformat_minor": 2
}
